{
 "cells": [
  {
   "cell_type": "code",
   "execution_count": 1,
   "metadata": {},
   "outputs": [],
   "source": [
    "data_explanation = {\"CHANNEL\": \"Channel used to send the packet\",\n",
    "\"CODR\" : \"Coding rate packet\",\n",
    "\"CREATED AT\": \"Timestamp indicating the time when the entry has been created inside the database\",\n",
    "\"DATR\" :\"SF and bandwidth of the packet\",\n",
    "\"DEV_ADDR\" :\"Unique identifier of the device inside the network\",\n",
    "\"DEV_EUI\" : \"Unique identifier of the physical device (None if the device is unknown)\",\n",
    "\"FREQUENCY\" : \"Frequency of the sent packet in MHz\",\n",
    "\"GATEWAY\" : \"GW MAC ADDRESS which received the packet\",\n",
    "\"LSNR\" : \"Received signal to noise ratio of the packet\",\n",
    "\"FCNT\" : \"Frame counter: counter increasing for each packet sent from ED;used evaluate error rate\",\n",
    "\"RSSI\" : \"Received packet signal strength\",\n",
    "\"SIZE\" : \"Packet size (bytes)\",\n",
    "\"CRC_STATUS\" : \"result: if 1 = passed if −1 = failed\",\n",
    "\"TMST\" : \"Internal clock timestamp from gateway: used for synchronizing the downlink\\\n",
    "        with the end transmission of the uplink to communicate response to end-device\",\n",
    "\"UID\" : \"Unique identifier of the entry inside the database}\"}"
   ]
  },
  {
   "cell_type": "code",
   "execution_count": 2,
   "metadata": {},
   "outputs": [],
   "source": [
    "import pandas as pd\n",
    "import math\n",
    "import numpy as np\n",
    "import csv\n",
    "import matplotlib.pyplot as plt"
   ]
  },
  {
   "cell_type": "code",
   "execution_count": 65,
   "metadata": {},
   "outputs": [],
   "source": [
    "# clustering methods and metrics\n",
    "from sklearn.cluster import KMeans\n",
    "from sklearn.cluster import MiniBatchKMeans\n",
    "\n",
    "from sklearn.metrics import davies_bouldin_score"
   ]
  },
  {
   "cell_type": "code",
   "execution_count": 3,
   "metadata": {},
   "outputs": [],
   "source": [
    "data = pd.read_csv(\"anonymized_spazio_radio_v2.csv\")"
   ]
  },
  {
   "cell_type": "code",
   "execution_count": 4,
   "metadata": {},
   "outputs": [],
   "source": [
    "def countna():\n",
    "    nasdict = {}\n",
    "    for i in data.columns:\n",
    "        nasdict[i] = [('not na', data[i].notna().sum()),('na', data[i].isna().sum())]\n",
    "    return nasdict"
   ]
  },
  {
   "cell_type": "code",
   "execution_count": 5,
   "metadata": {},
   "outputs": [
    {
     "data": {
      "text/plain": [
       "{'ant': [('not na', 186632), ('na', 0)],\n",
       " 'chan': [('not na', 186632), ('na', 0)],\n",
       " 'codr': [('not na', 186632), ('na', 0)],\n",
       " 'created_at': [('not na', 186632), ('na', 0)],\n",
       " 'datr': [('not na', 186632), ('na', 0)],\n",
       " 'dev_addr': [('not na', 186632), ('na', 0)],\n",
       " 'dev_eui': [('not na', 186632), ('na', 0)],\n",
       " 'dev_nonce': [('not na', 5106), ('na', 181526)],\n",
       " 'freq': [('not na', 186632), ('na', 0)],\n",
       " 'gateway': [('not na', 186632), ('na', 0)],\n",
       " 'lsnr': [('not na', 186632), ('na', 0)],\n",
       " 'ns_time': [('not na', 186632), ('na', 0)],\n",
       " 'rssi': [('not na', 181526), ('na', 5106)],\n",
       " 'rssic': [('not na', 186632), ('na', 0)],\n",
       " 'rssis': [('not na', 176025), ('na', 10607)],\n",
       " 'rssisd': [('not na', 176025), ('na', 10607)],\n",
       " 'size': [('not na', 186632), ('na', 0)],\n",
       " 'time': [('not na', 186622), ('na', 10)],\n",
       " 'tmms': [('not na', 186622), ('na', 10)],\n",
       " 'tmst': [('not na', 186632), ('na', 0)],\n",
       " 'FCnt': [('not na', 181526), ('na', 5106)],\n",
       " 'valueRaw': [('not na', 186632), ('na', 0)],\n",
       " 'value_minutes': [('not na', 186632), ('na', 0)]}"
      ]
     },
     "execution_count": 5,
     "metadata": {},
     "output_type": "execute_result"
    }
   ],
   "source": [
    "countna()"
   ]
  },
  {
   "cell_type": "markdown",
   "metadata": {},
   "source": [
    "# Analyzing Na's\n",
    "First observation is the variable dev_nonce has more than 90% Na's\n",
    "rssis and rssisd have similar number of Na's, and the same thing with time and tmms\n",
    "rssi and fcnt also have the same number of Nas"
   ]
  },
  {
   "cell_type": "markdown",
   "metadata": {},
   "source": [
    "## We compare the na values in the rows to make sure that the similar number of nas across variables refer to the same rows"
   ]
  },
  {
   "cell_type": "code",
   "execution_count": 6,
   "metadata": {},
   "outputs": [],
   "source": [
    "def nas():\n",
    "    col = data.columns.tolist()\n",
    "    matchingna = []\n",
    "    for i in col:\n",
    "        col.remove(i)\n",
    "        for j in col:\n",
    "            if (data.loc[pd.isna(data[i]) == True, :].index.tolist() == data.loc[pd.isna(data[j]) == True, :].index.tolist())\\\n",
    "            and len(data.loc[pd.isna(data[i]) == True, :].index.tolist()) != 0 :\n",
    "                matchingna.append((i,j))\n",
    "    return matchingna"
   ]
  },
  {
   "cell_type": "code",
   "execution_count": 7,
   "metadata": {},
   "outputs": [
    {
     "data": {
      "text/plain": [
       "[('rssi', 'FCnt'), ('rssis', 'rssisd'), ('tmms', 'time')]"
      ]
     },
     "execution_count": 7,
     "metadata": {},
     "output_type": "execute_result"
    }
   ],
   "source": [
    "nas()"
   ]
  },
  {
   "cell_type": "markdown",
   "metadata": {},
   "source": [
    "# After making sure of the number of Na's we can drop all the Na's knowing that it won't have a major effect on the population size"
   ]
  },
  {
   "cell_type": "code",
   "execution_count": 8,
   "metadata": {},
   "outputs": [],
   "source": [
    "data = data.drop(columns = ['dev_nonce'])"
   ]
  },
  {
   "cell_type": "code",
   "execution_count": 9,
   "metadata": {},
   "outputs": [],
   "source": [
    "data = data.dropna()"
   ]
  },
  {
   "cell_type": "code",
   "execution_count": 10,
   "metadata": {},
   "outputs": [],
   "source": [
    "data = data.drop(columns = ['ns_time']) #we drop ns_time because\n",
    "                                        #the time of inserting the data inside the database is not relavant to our analysis\n",
    "data = data.drop(columns = ['created_at','tmms','value_minutes','tmst',])    "
   ]
  },
  {
   "cell_type": "code",
   "execution_count": 11,
   "metadata": {},
   "outputs": [],
   "source": [
    "data['time'] = pd.to_datetime(data['time'])\n",
    "data['time'] = data['time'].dt.tz_convert(None)"
   ]
  },
  {
   "cell_type": "code",
   "execution_count": 12,
   "metadata": {},
   "outputs": [],
   "source": [
    "data.time = (data.time - pd.to_datetime('1970-01-01')).dt.total_seconds().astype(int)"
   ]
  },
  {
   "cell_type": "code",
   "execution_count": 13,
   "metadata": {},
   "outputs": [
    {
     "data": {
      "text/html": [
       "<div>\n",
       "<style scoped>\n",
       "    .dataframe tbody tr th:only-of-type {\n",
       "        vertical-align: middle;\n",
       "    }\n",
       "\n",
       "    .dataframe tbody tr th {\n",
       "        vertical-align: top;\n",
       "    }\n",
       "\n",
       "    .dataframe thead th {\n",
       "        text-align: right;\n",
       "    }\n",
       "</style>\n",
       "<table border=\"1\" class=\"dataframe\">\n",
       "  <thead>\n",
       "    <tr style=\"text-align: right;\">\n",
       "      <th></th>\n",
       "      <th>ant</th>\n",
       "      <th>chan</th>\n",
       "      <th>codr</th>\n",
       "      <th>datr</th>\n",
       "      <th>dev_addr</th>\n",
       "      <th>dev_eui</th>\n",
       "      <th>freq</th>\n",
       "      <th>gateway</th>\n",
       "      <th>lsnr</th>\n",
       "      <th>rssi</th>\n",
       "      <th>rssic</th>\n",
       "      <th>rssis</th>\n",
       "      <th>rssisd</th>\n",
       "      <th>size</th>\n",
       "      <th>time</th>\n",
       "      <th>FCnt</th>\n",
       "      <th>valueRaw</th>\n",
       "    </tr>\n",
       "  </thead>\n",
       "  <tbody>\n",
       "    <tr>\n",
       "      <td>0</td>\n",
       "      <td>1</td>\n",
       "      <td>23</td>\n",
       "      <td>4/5</td>\n",
       "      <td>SF12BW125</td>\n",
       "      <td>000000ff</td>\n",
       "      <td>00000000000000ff</td>\n",
       "      <td>868.5</td>\n",
       "      <td>7276FF002E061495</td>\n",
       "      <td>-18.0</td>\n",
       "      <td>-108.0</td>\n",
       "      <td>-108</td>\n",
       "      <td>-126.0</td>\n",
       "      <td>0.0</td>\n",
       "      <td>64</td>\n",
       "      <td>1547648565</td>\n",
       "      <td>190.0</td>\n",
       "      <td>1547648566</td>\n",
       "    </tr>\n",
       "    <tr>\n",
       "      <td>1</td>\n",
       "      <td>0</td>\n",
       "      <td>6</td>\n",
       "      <td>4/5</td>\n",
       "      <td>SF12BW125</td>\n",
       "      <td>00000043</td>\n",
       "      <td>0000000000000043</td>\n",
       "      <td>868.3</td>\n",
       "      <td>7276FF002E061495</td>\n",
       "      <td>12.0</td>\n",
       "      <td>-93.0</td>\n",
       "      <td>-93</td>\n",
       "      <td>-93.0</td>\n",
       "      <td>0.0</td>\n",
       "      <td>64</td>\n",
       "      <td>1547649172</td>\n",
       "      <td>149.0</td>\n",
       "      <td>1547649173</td>\n",
       "    </tr>\n",
       "    <tr>\n",
       "      <td>2</td>\n",
       "      <td>1</td>\n",
       "      <td>23</td>\n",
       "      <td>4/5</td>\n",
       "      <td>SF12BW125</td>\n",
       "      <td>00000013</td>\n",
       "      <td>0000000000000013</td>\n",
       "      <td>868.5</td>\n",
       "      <td>7276FF002E061495</td>\n",
       "      <td>14.0</td>\n",
       "      <td>-90.0</td>\n",
       "      <td>-90</td>\n",
       "      <td>-90.0</td>\n",
       "      <td>0.0</td>\n",
       "      <td>64</td>\n",
       "      <td>1547650148</td>\n",
       "      <td>207.0</td>\n",
       "      <td>1547650149</td>\n",
       "    </tr>\n",
       "    <tr>\n",
       "      <td>3</td>\n",
       "      <td>1</td>\n",
       "      <td>21</td>\n",
       "      <td>4/5</td>\n",
       "      <td>SF12BW125</td>\n",
       "      <td>00000117</td>\n",
       "      <td>0000000000000117</td>\n",
       "      <td>868.1</td>\n",
       "      <td>7276FF002E061495</td>\n",
       "      <td>-20.0</td>\n",
       "      <td>-108.0</td>\n",
       "      <td>-108</td>\n",
       "      <td>-129.0</td>\n",
       "      <td>0.0</td>\n",
       "      <td>64</td>\n",
       "      <td>1547656287</td>\n",
       "      <td>99.0</td>\n",
       "      <td>1547656289</td>\n",
       "    </tr>\n",
       "    <tr>\n",
       "      <td>4</td>\n",
       "      <td>1</td>\n",
       "      <td>21</td>\n",
       "      <td>4/5</td>\n",
       "      <td>SF12BW125</td>\n",
       "      <td>00000055</td>\n",
       "      <td>0000000000000055</td>\n",
       "      <td>868.1</td>\n",
       "      <td>7276FF002E061495</td>\n",
       "      <td>-6.0</td>\n",
       "      <td>-107.0</td>\n",
       "      <td>-107</td>\n",
       "      <td>-115.0</td>\n",
       "      <td>0.0</td>\n",
       "      <td>64</td>\n",
       "      <td>1547656731</td>\n",
       "      <td>161.0</td>\n",
       "      <td>1547656732</td>\n",
       "    </tr>\n",
       "  </tbody>\n",
       "</table>\n",
       "</div>"
      ],
      "text/plain": [
       "   ant  chan codr       datr  dev_addr           dev_eui   freq  \\\n",
       "0    1    23  4/5  SF12BW125  000000ff  00000000000000ff  868.5   \n",
       "1    0     6  4/5  SF12BW125  00000043  0000000000000043  868.3   \n",
       "2    1    23  4/5  SF12BW125  00000013  0000000000000013  868.5   \n",
       "3    1    21  4/5  SF12BW125  00000117  0000000000000117  868.1   \n",
       "4    1    21  4/5  SF12BW125  00000055  0000000000000055  868.1   \n",
       "\n",
       "            gateway  lsnr   rssi  rssic  rssis  rssisd  size        time  \\\n",
       "0  7276FF002E061495 -18.0 -108.0   -108 -126.0     0.0    64  1547648565   \n",
       "1  7276FF002E061495  12.0  -93.0    -93  -93.0     0.0    64  1547649172   \n",
       "2  7276FF002E061495  14.0  -90.0    -90  -90.0     0.0    64  1547650148   \n",
       "3  7276FF002E061495 -20.0 -108.0   -108 -129.0     0.0    64  1547656287   \n",
       "4  7276FF002E061495  -6.0 -107.0   -107 -115.0     0.0    64  1547656731   \n",
       "\n",
       "    FCnt    valueRaw  \n",
       "0  190.0  1547648566  \n",
       "1  149.0  1547649173  \n",
       "2  207.0  1547650149  \n",
       "3   99.0  1547656289  \n",
       "4  161.0  1547656732  "
      ]
     },
     "execution_count": 13,
     "metadata": {},
     "output_type": "execute_result"
    }
   ],
   "source": [
    "data.head()"
   ]
  },
  {
   "cell_type": "code",
   "execution_count": 14,
   "metadata": {},
   "outputs": [
    {
     "name": "stdout",
     "output_type": "stream",
     "text": [
      "<class 'pandas.core.frame.DataFrame'>\n",
      "Int64Index: 171198 entries, 0 to 186631\n",
      "Data columns (total 17 columns):\n",
      "ant         171198 non-null int64\n",
      "chan        171198 non-null int64\n",
      "codr        171198 non-null object\n",
      "datr        171198 non-null object\n",
      "dev_addr    171198 non-null object\n",
      "dev_eui     171198 non-null object\n",
      "freq        171198 non-null float64\n",
      "gateway     171198 non-null object\n",
      "lsnr        171198 non-null float64\n",
      "rssi        171198 non-null float64\n",
      "rssic       171198 non-null int64\n",
      "rssis       171198 non-null float64\n",
      "rssisd      171198 non-null float64\n",
      "size        171198 non-null int64\n",
      "time        171198 non-null int32\n",
      "FCnt        171198 non-null float64\n",
      "valueRaw    171198 non-null int64\n",
      "dtypes: float64(6), int32(1), int64(5), object(5)\n",
      "memory usage: 22.9+ MB\n"
     ]
    }
   ],
   "source": [
    "data.info()"
   ]
  },
  {
   "cell_type": "code",
   "execution_count": 15,
   "metadata": {
    "scrolled": true
   },
   "outputs": [
    {
     "name": "stdout",
     "output_type": "stream",
     "text": [
      "codr\n",
      "datr\n",
      "dev_addr\n",
      "dev_eui\n",
      "gateway\n"
     ]
    }
   ],
   "source": [
    "for col in data.columns:\n",
    "    if data[col].dtypes == ('O'):\n",
    "        print(col)"
   ]
  },
  {
   "cell_type": "code",
   "execution_count": 16,
   "metadata": {},
   "outputs": [],
   "source": [
    "data = pd.get_dummies(data)"
   ]
  },
  {
   "cell_type": "code",
   "execution_count": 17,
   "metadata": {},
   "outputs": [
    {
     "data": {
      "text/html": [
       "<div>\n",
       "<style scoped>\n",
       "    .dataframe tbody tr th:only-of-type {\n",
       "        vertical-align: middle;\n",
       "    }\n",
       "\n",
       "    .dataframe tbody tr th {\n",
       "        vertical-align: top;\n",
       "    }\n",
       "\n",
       "    .dataframe thead th {\n",
       "        text-align: right;\n",
       "    }\n",
       "</style>\n",
       "<table border=\"1\" class=\"dataframe\">\n",
       "  <thead>\n",
       "    <tr style=\"text-align: right;\">\n",
       "      <th></th>\n",
       "      <th>ant</th>\n",
       "      <th>chan</th>\n",
       "      <th>freq</th>\n",
       "      <th>lsnr</th>\n",
       "      <th>rssi</th>\n",
       "      <th>rssic</th>\n",
       "      <th>rssis</th>\n",
       "      <th>rssisd</th>\n",
       "      <th>size</th>\n",
       "      <th>time</th>\n",
       "      <th>...</th>\n",
       "      <th>dev_eui_000000000000011a</th>\n",
       "      <th>dev_eui_000000000000011b</th>\n",
       "      <th>dev_eui_000000000000011c</th>\n",
       "      <th>dev_eui_000000000000011d</th>\n",
       "      <th>dev_eui_000000000000011e</th>\n",
       "      <th>dev_eui_000000000000011f</th>\n",
       "      <th>dev_eui_0000000000000120</th>\n",
       "      <th>dev_eui_0000000000000121</th>\n",
       "      <th>gateway_7276FF002E050264</th>\n",
       "      <th>gateway_7276FF002E061495</th>\n",
       "    </tr>\n",
       "  </thead>\n",
       "  <tbody>\n",
       "    <tr>\n",
       "      <td>0</td>\n",
       "      <td>1</td>\n",
       "      <td>23</td>\n",
       "      <td>868.5</td>\n",
       "      <td>-18.0</td>\n",
       "      <td>-108.0</td>\n",
       "      <td>-108</td>\n",
       "      <td>-126.0</td>\n",
       "      <td>0.0</td>\n",
       "      <td>64</td>\n",
       "      <td>1547648565</td>\n",
       "      <td>...</td>\n",
       "      <td>0</td>\n",
       "      <td>0</td>\n",
       "      <td>0</td>\n",
       "      <td>0</td>\n",
       "      <td>0</td>\n",
       "      <td>0</td>\n",
       "      <td>0</td>\n",
       "      <td>0</td>\n",
       "      <td>0</td>\n",
       "      <td>1</td>\n",
       "    </tr>\n",
       "    <tr>\n",
       "      <td>1</td>\n",
       "      <td>0</td>\n",
       "      <td>6</td>\n",
       "      <td>868.3</td>\n",
       "      <td>12.0</td>\n",
       "      <td>-93.0</td>\n",
       "      <td>-93</td>\n",
       "      <td>-93.0</td>\n",
       "      <td>0.0</td>\n",
       "      <td>64</td>\n",
       "      <td>1547649172</td>\n",
       "      <td>...</td>\n",
       "      <td>0</td>\n",
       "      <td>0</td>\n",
       "      <td>0</td>\n",
       "      <td>0</td>\n",
       "      <td>0</td>\n",
       "      <td>0</td>\n",
       "      <td>0</td>\n",
       "      <td>0</td>\n",
       "      <td>0</td>\n",
       "      <td>1</td>\n",
       "    </tr>\n",
       "    <tr>\n",
       "      <td>2</td>\n",
       "      <td>1</td>\n",
       "      <td>23</td>\n",
       "      <td>868.5</td>\n",
       "      <td>14.0</td>\n",
       "      <td>-90.0</td>\n",
       "      <td>-90</td>\n",
       "      <td>-90.0</td>\n",
       "      <td>0.0</td>\n",
       "      <td>64</td>\n",
       "      <td>1547650148</td>\n",
       "      <td>...</td>\n",
       "      <td>0</td>\n",
       "      <td>0</td>\n",
       "      <td>0</td>\n",
       "      <td>0</td>\n",
       "      <td>0</td>\n",
       "      <td>0</td>\n",
       "      <td>0</td>\n",
       "      <td>0</td>\n",
       "      <td>0</td>\n",
       "      <td>1</td>\n",
       "    </tr>\n",
       "    <tr>\n",
       "      <td>3</td>\n",
       "      <td>1</td>\n",
       "      <td>21</td>\n",
       "      <td>868.1</td>\n",
       "      <td>-20.0</td>\n",
       "      <td>-108.0</td>\n",
       "      <td>-108</td>\n",
       "      <td>-129.0</td>\n",
       "      <td>0.0</td>\n",
       "      <td>64</td>\n",
       "      <td>1547656287</td>\n",
       "      <td>...</td>\n",
       "      <td>0</td>\n",
       "      <td>0</td>\n",
       "      <td>0</td>\n",
       "      <td>0</td>\n",
       "      <td>0</td>\n",
       "      <td>0</td>\n",
       "      <td>0</td>\n",
       "      <td>0</td>\n",
       "      <td>0</td>\n",
       "      <td>1</td>\n",
       "    </tr>\n",
       "    <tr>\n",
       "      <td>4</td>\n",
       "      <td>1</td>\n",
       "      <td>21</td>\n",
       "      <td>868.1</td>\n",
       "      <td>-6.0</td>\n",
       "      <td>-107.0</td>\n",
       "      <td>-107</td>\n",
       "      <td>-115.0</td>\n",
       "      <td>0.0</td>\n",
       "      <td>64</td>\n",
       "      <td>1547656731</td>\n",
       "      <td>...</td>\n",
       "      <td>0</td>\n",
       "      <td>0</td>\n",
       "      <td>0</td>\n",
       "      <td>0</td>\n",
       "      <td>0</td>\n",
       "      <td>0</td>\n",
       "      <td>0</td>\n",
       "      <td>0</td>\n",
       "      <td>0</td>\n",
       "      <td>1</td>\n",
       "    </tr>\n",
       "  </tbody>\n",
       "</table>\n",
       "<p>5 rows × 601 columns</p>\n",
       "</div>"
      ],
      "text/plain": [
       "   ant  chan   freq  lsnr   rssi  rssic  rssis  rssisd  size        time  ...  \\\n",
       "0    1    23  868.5 -18.0 -108.0   -108 -126.0     0.0    64  1547648565  ...   \n",
       "1    0     6  868.3  12.0  -93.0    -93  -93.0     0.0    64  1547649172  ...   \n",
       "2    1    23  868.5  14.0  -90.0    -90  -90.0     0.0    64  1547650148  ...   \n",
       "3    1    21  868.1 -20.0 -108.0   -108 -129.0     0.0    64  1547656287  ...   \n",
       "4    1    21  868.1  -6.0 -107.0   -107 -115.0     0.0    64  1547656731  ...   \n",
       "\n",
       "   dev_eui_000000000000011a  dev_eui_000000000000011b  \\\n",
       "0                         0                         0   \n",
       "1                         0                         0   \n",
       "2                         0                         0   \n",
       "3                         0                         0   \n",
       "4                         0                         0   \n",
       "\n",
       "   dev_eui_000000000000011c  dev_eui_000000000000011d  \\\n",
       "0                         0                         0   \n",
       "1                         0                         0   \n",
       "2                         0                         0   \n",
       "3                         0                         0   \n",
       "4                         0                         0   \n",
       "\n",
       "   dev_eui_000000000000011e  dev_eui_000000000000011f  \\\n",
       "0                         0                         0   \n",
       "1                         0                         0   \n",
       "2                         0                         0   \n",
       "3                         0                         0   \n",
       "4                         0                         0   \n",
       "\n",
       "   dev_eui_0000000000000120  dev_eui_0000000000000121  \\\n",
       "0                         0                         0   \n",
       "1                         0                         0   \n",
       "2                         0                         0   \n",
       "3                         0                         0   \n",
       "4                         0                         0   \n",
       "\n",
       "   gateway_7276FF002E050264  gateway_7276FF002E061495  \n",
       "0                         0                         1  \n",
       "1                         0                         1  \n",
       "2                         0                         1  \n",
       "3                         0                         1  \n",
       "4                         0                         1  \n",
       "\n",
       "[5 rows x 601 columns]"
      ]
     },
     "execution_count": 17,
     "metadata": {},
     "output_type": "execute_result"
    }
   ],
   "source": [
    "data.head()"
   ]
  },
  {
   "cell_type": "code",
   "execution_count": 18,
   "metadata": {},
   "outputs": [
    {
     "data": {
      "text/plain": [
       "array([[  1. ,  23. , 868.5, ...,   0. ,   0. ,   1. ],\n",
       "       [  0. ,   6. , 868.3, ...,   0. ,   0. ,   1. ],\n",
       "       [  1. ,  23. , 868.5, ...,   0. ,   0. ,   1. ],\n",
       "       ...,\n",
       "       [  0. ,   7. , 868.5, ...,   0. ,   0. ,   1. ],\n",
       "       [  1. ,  22. , 868.3, ...,   0. ,   0. ,   1. ],\n",
       "       [  0. ,   5. , 868.1, ...,   0. ,   1. ,   0. ]])"
      ]
     },
     "execution_count": 18,
     "metadata": {},
     "output_type": "execute_result"
    }
   ],
   "source": [
    "data_vals=data.iloc[:, :].values\n",
    "data_vals"
   ]
  },
  {
   "cell_type": "markdown",
   "metadata": {},
   "source": [
    "## Computes the Davies-Bouldin and Within-Cluster-Sum-of-Squares (WCSS) scores"
   ]
  },
  {
   "cell_type": "code",
   "execution_count": 69,
   "metadata": {},
   "outputs": [],
   "source": [
    "wcss=[]\n",
    "dbs=[]\n",
    "for i in range(2,11): \n",
    "    kmeans = KMeans(n_clusters=i, init ='k-means++', max_iter=300,  n_init=10,random_state=0 ).fit(data_vals)\n",
    "#inertia_ : Sum of squared distances of samples to their closest cluster center.\n",
    "    wcss.append(kmeans.inertia_)\n",
    "    labels = kmeans.labels_\n",
    "    dbs.append(davies_bouldin_score(data_vals, labels))\n",
    "    print('clustering with k = {} done!'.format(i))"
   ]
  },
  {
   "cell_type": "code",
   "execution_count": 70,
   "metadata": {},
   "outputs": [
    {
     "data": {
      "text/plain": [
       "[0.5023866983800407,\n",
       " 0.5200890502213479,\n",
       " 0.5049245776405188,\n",
       " 0.49052258140824634,\n",
       " 0.48431135667898784,\n",
       " 0.47432659536378263,\n",
       " 0.4791715966102152,\n",
       " 0.484216860820574,\n",
       " 0.495747215518829]"
      ]
     },
     "execution_count": 70,
     "metadata": {},
     "output_type": "execute_result"
    }
   ],
   "source": [
    "dbs"
   ]
  },
  {
   "cell_type": "code",
   "execution_count": 28,
   "metadata": {},
   "outputs": [
    {
     "data": {
      "text/plain": [
       "[2.665678553936232e+19,\n",
       " 6.756687348563645e+18,\n",
       " 3.078729058432763e+18,\n",
       " 1.7128467138792827e+18,\n",
       " 1.0582116038675674e+18,\n",
       " 6.996803073306802e+17,\n",
       " 4.9267677951677203e+17,\n",
       " 3.91948492074051e+17,\n",
       " 3.095452600170082e+17,\n",
       " 2.5176351165732736e+17]"
      ]
     },
     "execution_count": 28,
     "metadata": {},
     "output_type": "execute_result"
    }
   ],
   "source": [
    "wcss"
   ]
  },
  {
   "cell_type": "markdown",
   "metadata": {},
   "source": [
    "#### We can find the optimum value for K using an Elbow point and Davies-Bouldin graph."
   ]
  },
  {
   "cell_type": "code",
   "execution_count": 77,
   "metadata": {},
   "outputs": [
    {
     "data": {
      "image/png": "[encoded data removed]",
      "text/plain": [
       "<Figure size 432x288 with 1 Axes>"
      ]
     },
     "metadata": {
      "needs_background": "light"
     },
     "output_type": "display_data"
    }
   ],
   "source": [
    "#Plot the elbow graph\n",
    "plt.plot(range(2,11),wcss)\n",
    "plt.title('The Elbow Method Graph')\n",
    "plt.xlabel('Number of clusters (K)')\n",
    "plt.ylabel('WCSS')\n",
    "plt.show()"
   ]
  },
  {
   "cell_type": "code",
   "execution_count": 86,
   "metadata": {},
   "outputs": [
    {
     "data": {
      "image/png": "[encoded data removed]",
      "text/plain": [
       "<Figure size 432x288 with 1 Axes>"
      ]
     },
     "metadata": {
      "needs_background": "light"
     },
     "output_type": "display_data"
    }
   ],
   "source": [
    "#Plot the Davies-Bouldin graph\n",
    "plt.plot(range(2,11),dbs)\n",
    "plt.title('The Davies-Bouldin Method Graph')\n",
    "plt.xlabel('Number of clusters (K)')\n",
    "plt.ylabel('Davies-Bouldin Index')\n",
    "plt.show()"
   ]
  },
  {
   "cell_type": "code",
   "execution_count": 94,
   "metadata": {},
   "outputs": [],
   "source": [
    "kmeans = KMeans(n_clusters=7, init ='k-means++', max_iter=300, n_init=10, random_state=0, n_jobs= -1 )"
   ]
  },
  {
   "cell_type": "code",
   "execution_count": 95,
   "metadata": {},
   "outputs": [],
   "source": [
    "y_kmeans = kmeans.fit_predict(data_vals)"
   ]
  },
  {
   "cell_type": "code",
   "execution_count": 97,
   "metadata": {},
   "outputs": [
    {
     "data": {
      "text/plain": [
       "(171198, 601)"
      ]
     },
     "execution_count": 97,
     "metadata": {},
     "output_type": "execute_result"
    }
   ],
   "source": [
    "data_vals.shape"
   ]
  },
  {
   "cell_type": "code",
   "execution_count": 98,
   "metadata": {},
   "outputs": [
    {
     "data": {
      "text/plain": [
       "array([0, 0, 0, ..., 2, 2, 2])"
      ]
     },
     "execution_count": 98,
     "metadata": {},
     "output_type": "execute_result"
    }
   ],
   "source": [
    "y_kmeans"
   ]
  }
 ],
 "metadata": {
  "kernelspec": {
   "display_name": "Python 3",
   "language": "python",
   "name": "python3"
  },
  "language_info": {
   "codemirror_mode": {
    "name": "ipython",
    "version": 3
   },
   "file_extension": ".py",
   "mimetype": "text/x-python",
   "name": "python",
   "nbconvert_exporter": "python",
   "pygments_lexer": "ipython3",
   "version": "3.7.4"
  }
 },
 "nbformat": 4,
 "nbformat_minor": 2
}
