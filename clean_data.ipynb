{
 "cells": [
  {
   "cell_type": "code",
   "execution_count": 119,
   "metadata": {},
   "outputs": [],
   "source": [
    "import pandas as pd\n",
    "from matplotlib import pyplot as plt\n",
    "import seaborn as sns\n",
    "import math\n",
    "import numpy as np\n",
    "from scipy import optimize\n",
    "from sklearn.cluster import KMeans\n",
    "from sklearn.metrics import davies_bouldin_score\n",
    "from sklearn.preprocessing import normalize\n",
    "from scipy import stats\n",
    "import plotly.express as px\n",
    "import plotly.graph_objects as go"
   ]
  },
  {
   "cell_type": "markdown",
   "metadata": {},
   "source": [
    "**data_explanation**<br/> {\"CHANNEL\": \"Channel used to send the packet\",<br/>\n",
    "\"CODR\" : \"Coding rate packet\",<br/>\n",
    "\"CREATED AT\": \"Timestamp indicating the time when the entry has been created inside the database\",<br/>\n",
    "\"DATR\" :\"SF and bandwidth of the packet\",<br/>\n",
    "\"DEV_ADDR\" :\"Unique identifier of the device inside the network\",<br/>\n",
    "\"DEV_EUI\" : \"Unique identifier of the physical device (None if the device is unknown)\",<br/>\n",
    "\"FREQUENCY\" : \"Frequency of the sent packet in MHz\",<br/>\n",
    "\"GATEWAY\" : \"GW MAC ADDRESS which received the packet\",<br/>\n",
    "\"LSNR\" : \"Received signal to noise ratio of the packet\",<br/>\n",
    "\"FCNT\" : \"Frame counter: counter increasing for each packet sent from ED;used evaluate error rate\",<br/>\n",
    "\"RSSI\" : \"Received packet signal strength\",<br/>\n",
    "\"SIZE\" : \"Packet size (bytes)\",<br/>\n",
    "\"CRC_STATUS\" : \"result: if 1 = passed if −1 = failed\",<br/>\n",
    "\"TMST\" : \"Internal clock timestamp from gateway: used for synchronizing the downlink\\\n",
    "        with the end transmission of the uplink to communicate response to end-device\",<br/>\n",
    "\"UID\" : \"Unique identifier of the entry inside the database}\"}<br/>"
   ]
  },
  {
   "cell_type": "code",
   "execution_count": 2,
   "metadata": {},
   "outputs": [],
   "source": [
    "data = pd.read_csv(\"anonymized_spazio_radio_v2.csv\")"
   ]
  },
  {
   "cell_type": "code",
   "execution_count": 3,
   "metadata": {},
   "outputs": [],
   "source": [
    "def countna():\n",
    "    nasdict = {}\n",
    "    for i in data.columns:\n",
    "        nasdict[i] = [('not na', data[i].notna().sum()),('na', data[i].isna().sum())]\n",
    "    return nasdict"
   ]
  },
  {
   "cell_type": "code",
   "execution_count": 4,
   "metadata": {},
   "outputs": [
    {
     "data": {
      "text/plain": [
       "{'ant': [('not na', 186632), ('na', 0)],\n",
       " 'chan': [('not na', 186632), ('na', 0)],\n",
       " 'codr': [('not na', 186632), ('na', 0)],\n",
       " 'created_at': [('not na', 186632), ('na', 0)],\n",
       " 'datr': [('not na', 186632), ('na', 0)],\n",
       " 'dev_addr': [('not na', 186632), ('na', 0)],\n",
       " 'dev_eui': [('not na', 186632), ('na', 0)],\n",
       " 'dev_nonce': [('not na', 5106), ('na', 181526)],\n",
       " 'freq': [('not na', 186632), ('na', 0)],\n",
       " 'gateway': [('not na', 186632), ('na', 0)],\n",
       " 'lsnr': [('not na', 186632), ('na', 0)],\n",
       " 'ns_time': [('not na', 186632), ('na', 0)],\n",
       " 'rssi': [('not na', 181526), ('na', 5106)],\n",
       " 'rssic': [('not na', 186632), ('na', 0)],\n",
       " 'rssis': [('not na', 176025), ('na', 10607)],\n",
       " 'rssisd': [('not na', 176025), ('na', 10607)],\n",
       " 'size': [('not na', 186632), ('na', 0)],\n",
       " 'time': [('not na', 186622), ('na', 10)],\n",
       " 'tmms': [('not na', 186622), ('na', 10)],\n",
       " 'tmst': [('not na', 186632), ('na', 0)],\n",
       " 'FCnt': [('not na', 181526), ('na', 5106)],\n",
       " 'valueRaw': [('not na', 186632), ('na', 0)],\n",
       " 'value_minutes': [('not na', 186632), ('na', 0)]}"
      ]
     },
     "execution_count": 4,
     "metadata": {},
     "output_type": "execute_result"
    }
   ],
   "source": [
    "countna()"
   ]
  },
  {
   "cell_type": "markdown",
   "metadata": {},
   "source": [
    "### It is noticable that the number of rows where rssi and rssic are different is the same number of rows of rssi Na"
   ]
  },
  {
   "cell_type": "code",
   "execution_count": 5,
   "metadata": {},
   "outputs": [
    {
     "data": {
      "text/plain": [
       "array(['4/5'], dtype=object)"
      ]
     },
     "execution_count": 5,
     "metadata": {},
     "output_type": "execute_result"
    }
   ],
   "source": [
    "data.codr.unique() #codr has only one value across the data"
   ]
  },
  {
   "cell_type": "code",
   "execution_count": 6,
   "metadata": {},
   "outputs": [
    {
     "data": {
      "text/plain": [
       "True"
      ]
     },
     "execution_count": 6,
     "metadata": {},
     "output_type": "execute_result"
    }
   ],
   "source": [
    "((data.loc[data['rssi'].notna(),['rssi']]).values ==\\\n",
    " (data.loc[data['rssi'].notna(),['rssic']]).values).all()\n",
    "#validating that rssi and rssic have equal values but rssic has no Na's so we drop rssi"
   ]
  },
  {
   "cell_type": "code",
   "execution_count": 7,
   "metadata": {},
   "outputs": [
    {
     "data": {
      "text/plain": [
       "True"
      ]
     },
     "execution_count": 7,
     "metadata": {},
     "output_type": "execute_result"
    }
   ],
   "source": [
    "len(data.dev_eui.unique()) == len(data.dev_addr.unique())"
   ]
  },
  {
   "cell_type": "code",
   "execution_count": 8,
   "metadata": {},
   "outputs": [],
   "source": [
    "data = data.drop(columns = ['dev_nonce']) # has 181526 NA\n",
    "data = data.drop(columns = ['codr']) #has only one value \n",
    "data = data.drop(columns = ['dev_eui']) #mapping one to one with dev_addr\n",
    "data = data.drop(columns = ['ns_time']) #we drop ns_time because\n",
    "        #the time of inserting the data inside the database is not relavant to our analysis\n",
    "data = data.drop(columns = ['rssi']) #duplicated data from rssic\n",
    "data = data.drop(columns = ['created_at','tmms','value_minutes','tmst',]) \n",
    "#duplicated and irrelevant timestamps"
   ]
  },
  {
   "cell_type": "code",
   "execution_count": 9,
   "metadata": {},
   "outputs": [
    {
     "name": "stdout",
     "output_type": "stream",
     "text": [
      "<class 'pandas.core.frame.DataFrame'>\n",
      "RangeIndex: 186632 entries, 0 to 186631\n",
      "Data columns (total 14 columns):\n",
      "ant         186632 non-null int64\n",
      "chan        186632 non-null int64\n",
      "datr        186632 non-null object\n",
      "dev_addr    186632 non-null object\n",
      "freq        186632 non-null float64\n",
      "gateway     186632 non-null object\n",
      "lsnr        186632 non-null float64\n",
      "rssic       186632 non-null int64\n",
      "rssis       176025 non-null float64\n",
      "rssisd      176025 non-null float64\n",
      "size        186632 non-null int64\n",
      "time        186622 non-null object\n",
      "FCnt        181526 non-null float64\n",
      "valueRaw    186632 non-null int64\n",
      "dtypes: float64(5), int64(5), object(4)\n",
      "memory usage: 19.9+ MB\n"
     ]
    }
   ],
   "source": [
    "data.info()"
   ]
  },
  {
   "cell_type": "code",
   "execution_count": 10,
   "metadata": {},
   "outputs": [],
   "source": [
    "time = data['time']"
   ]
  },
  {
   "cell_type": "code",
   "execution_count": 11,
   "metadata": {},
   "outputs": [],
   "source": [
    "#data.time = data.time.values.astype(np.int64) // 10 ** 9   #convert time to unix timestamp"
   ]
  },
  {
   "cell_type": "code",
   "execution_count": 12,
   "metadata": {},
   "outputs": [],
   "source": [
    "data = data.dropna()"
   ]
  },
  {
   "cell_type": "code",
   "execution_count": 13,
   "metadata": {},
   "outputs": [
    {
     "data": {
      "text/plain": [
       "array([64], dtype=int64)"
      ]
     },
     "execution_count": 13,
     "metadata": {},
     "output_type": "execute_result"
    }
   ],
   "source": [
    "data['size'].unique()"
   ]
  },
  {
   "cell_type": "code",
   "execution_count": 14,
   "metadata": {},
   "outputs": [],
   "source": [
    "#after dropping Na, Size has only 64\n",
    "data = data.drop(columns=['size'])"
   ]
  },
  {
   "cell_type": "code",
   "execution_count": 15,
   "metadata": {},
   "outputs": [],
   "source": [
    "data = data.drop(columns=['time','valueRaw'])"
   ]
  },
  {
   "cell_type": "code",
   "execution_count": 16,
   "metadata": {},
   "outputs": [
    {
     "name": "stdout",
     "output_type": "stream",
     "text": [
      "<class 'pandas.core.frame.DataFrame'>\n",
      "Int64Index: 171198 entries, 0 to 186631\n",
      "Data columns (total 11 columns):\n",
      "ant         171198 non-null int64\n",
      "chan        171198 non-null int64\n",
      "datr        171198 non-null object\n",
      "dev_addr    171198 non-null object\n",
      "freq        171198 non-null float64\n",
      "gateway     171198 non-null object\n",
      "lsnr        171198 non-null float64\n",
      "rssic       171198 non-null int64\n",
      "rssis       171198 non-null float64\n",
      "rssisd      171198 non-null float64\n",
      "FCnt        171198 non-null float64\n",
      "dtypes: float64(5), int64(3), object(3)\n",
      "memory usage: 15.7+ MB\n"
     ]
    }
   ],
   "source": [
    "data.info()"
   ]
  },
  {
   "cell_type": "code",
   "execution_count": 17,
   "metadata": {},
   "outputs": [
    {
     "data": {
      "text/html": [
       "<div>\n",
       "<style scoped>\n",
       "    .dataframe tbody tr th:only-of-type {\n",
       "        vertical-align: middle;\n",
       "    }\n",
       "\n",
       "    .dataframe tbody tr th {\n",
       "        vertical-align: top;\n",
       "    }\n",
       "\n",
       "    .dataframe thead th {\n",
       "        text-align: right;\n",
       "    }\n",
       "</style>\n",
       "<table border=\"1\" class=\"dataframe\">\n",
       "  <thead>\n",
       "    <tr style=\"text-align: right;\">\n",
       "      <th></th>\n",
       "      <th>ant</th>\n",
       "      <th>chan</th>\n",
       "      <th>datr</th>\n",
       "      <th>dev_addr</th>\n",
       "      <th>freq</th>\n",
       "      <th>gateway</th>\n",
       "      <th>lsnr</th>\n",
       "      <th>rssic</th>\n",
       "      <th>rssis</th>\n",
       "      <th>rssisd</th>\n",
       "      <th>FCnt</th>\n",
       "    </tr>\n",
       "  </thead>\n",
       "  <tbody>\n",
       "    <tr>\n",
       "      <td>0</td>\n",
       "      <td>1</td>\n",
       "      <td>23</td>\n",
       "      <td>SF12BW125</td>\n",
       "      <td>000000ff</td>\n",
       "      <td>868.5</td>\n",
       "      <td>7276FF002E061495</td>\n",
       "      <td>-18.0</td>\n",
       "      <td>-108</td>\n",
       "      <td>-126.0</td>\n",
       "      <td>0.0</td>\n",
       "      <td>190.0</td>\n",
       "    </tr>\n",
       "    <tr>\n",
       "      <td>1</td>\n",
       "      <td>0</td>\n",
       "      <td>6</td>\n",
       "      <td>SF12BW125</td>\n",
       "      <td>00000043</td>\n",
       "      <td>868.3</td>\n",
       "      <td>7276FF002E061495</td>\n",
       "      <td>12.0</td>\n",
       "      <td>-93</td>\n",
       "      <td>-93.0</td>\n",
       "      <td>0.0</td>\n",
       "      <td>149.0</td>\n",
       "    </tr>\n",
       "    <tr>\n",
       "      <td>2</td>\n",
       "      <td>1</td>\n",
       "      <td>23</td>\n",
       "      <td>SF12BW125</td>\n",
       "      <td>00000013</td>\n",
       "      <td>868.5</td>\n",
       "      <td>7276FF002E061495</td>\n",
       "      <td>14.0</td>\n",
       "      <td>-90</td>\n",
       "      <td>-90.0</td>\n",
       "      <td>0.0</td>\n",
       "      <td>207.0</td>\n",
       "    </tr>\n",
       "    <tr>\n",
       "      <td>3</td>\n",
       "      <td>1</td>\n",
       "      <td>21</td>\n",
       "      <td>SF12BW125</td>\n",
       "      <td>00000117</td>\n",
       "      <td>868.1</td>\n",
       "      <td>7276FF002E061495</td>\n",
       "      <td>-20.0</td>\n",
       "      <td>-108</td>\n",
       "      <td>-129.0</td>\n",
       "      <td>0.0</td>\n",
       "      <td>99.0</td>\n",
       "    </tr>\n",
       "    <tr>\n",
       "      <td>4</td>\n",
       "      <td>1</td>\n",
       "      <td>21</td>\n",
       "      <td>SF12BW125</td>\n",
       "      <td>00000055</td>\n",
       "      <td>868.1</td>\n",
       "      <td>7276FF002E061495</td>\n",
       "      <td>-6.0</td>\n",
       "      <td>-107</td>\n",
       "      <td>-115.0</td>\n",
       "      <td>0.0</td>\n",
       "      <td>161.0</td>\n",
       "    </tr>\n",
       "  </tbody>\n",
       "</table>\n",
       "</div>"
      ],
      "text/plain": [
       "   ant  chan       datr  dev_addr   freq           gateway  lsnr  rssic  \\\n",
       "0    1    23  SF12BW125  000000ff  868.5  7276FF002E061495 -18.0   -108   \n",
       "1    0     6  SF12BW125  00000043  868.3  7276FF002E061495  12.0    -93   \n",
       "2    1    23  SF12BW125  00000013  868.5  7276FF002E061495  14.0    -90   \n",
       "3    1    21  SF12BW125  00000117  868.1  7276FF002E061495 -20.0   -108   \n",
       "4    1    21  SF12BW125  00000055  868.1  7276FF002E061495  -6.0   -107   \n",
       "\n",
       "   rssis  rssisd   FCnt  \n",
       "0 -126.0     0.0  190.0  \n",
       "1  -93.0     0.0  149.0  \n",
       "2  -90.0     0.0  207.0  \n",
       "3 -129.0     0.0   99.0  \n",
       "4 -115.0     0.0  161.0  "
      ]
     },
     "execution_count": 17,
     "metadata": {},
     "output_type": "execute_result"
    }
   ],
   "source": [
    "data.head()"
   ]
  },
  {
   "cell_type": "code",
   "execution_count": 18,
   "metadata": {},
   "outputs": [],
   "source": [
    "categorical = ['datr','dev_addr','gateway','chan','ant','freq']\n",
    "numeric= ['FCnt','lsnr','rssic','rssis','rssisd']"
   ]
  },
  {
   "cell_type": "code",
   "execution_count": 19,
   "metadata": {},
   "outputs": [],
   "source": [
    "x_cat = data.loc[:,categorical]\n",
    "x_num = data.loc[:,numeric]"
   ]
  },
  {
   "cell_type": "code",
   "execution_count": 20,
   "metadata": {},
   "outputs": [
    {
     "data": {
      "text/plain": [
       "(171198, 19)"
      ]
     },
     "execution_count": 20,
     "metadata": {},
     "output_type": "execute_result"
    }
   ],
   "source": [
    "from sklearn.preprocessing import LabelEncoder,OneHotEncoder\n",
    "from sklearn.preprocessing import StandardScaler\n",
    "\n",
    "#standardizing numeric data for scale\n",
    "scaler = StandardScaler()\n",
    "x_num = scaler.fit_transform(x_num)\n",
    "\n",
    "#label encoding for dev_addr\n",
    "enc_l = LabelEncoder()\n",
    "enc_l.fit(x_cat['dev_addr'])\n",
    "dev_labels = enc_l.transform(x_cat['dev_addr'])\n",
    "\n",
    "#one hot encoding for the rest\n",
    "enc_cat = OneHotEncoder()\n",
    "enc_cat.fit(x_cat.loc[:,x_cat.columns != 'dev_addr'])\n",
    "\n",
    "#Transform\n",
    "onehotlabels = enc_cat.transform(x_cat.loc[:,x_cat.columns != 'dev_addr']).toarray()\n",
    "onehotlabels.shape"
   ]
  },
  {
   "cell_type": "code",
   "execution_count": 21,
   "metadata": {},
   "outputs": [],
   "source": [
    "dev_labels = dev_labels.reshape((171198,1))"
   ]
  },
  {
   "cell_type": "code",
   "execution_count": 22,
   "metadata": {},
   "outputs": [],
   "source": [
    "X = np.append(dev_labels,values = onehotlabels,axis=1)"
   ]
  },
  {
   "cell_type": "code",
   "execution_count": 23,
   "metadata": {},
   "outputs": [
    {
     "data": {
      "text/plain": [
       "(171198, 20)"
      ]
     },
     "execution_count": 23,
     "metadata": {},
     "output_type": "execute_result"
    }
   ],
   "source": [
    "X.shape"
   ]
  },
  {
   "cell_type": "code",
   "execution_count": 24,
   "metadata": {},
   "outputs": [],
   "source": [
    "X = np.append(X,values = x_num,axis = 1)"
   ]
  },
  {
   "cell_type": "code",
   "execution_count": 25,
   "metadata": {
    "scrolled": true
   },
   "outputs": [
    {
     "data": {
      "text/plain": [
       "(171198, 25)"
      ]
     },
     "execution_count": 25,
     "metadata": {},
     "output_type": "execute_result"
    }
   ],
   "source": [
    "X.shape"
   ]
  },
  {
   "cell_type": "code",
   "execution_count": 27,
   "metadata": {},
   "outputs": [],
   "source": [
    "av = np.zeros((len(np.unique(dev_labels)),X.shape[1]-1))\n",
    "for i in range(len(np.unique(dev_labels))):\n",
    "    max_fcnt = [max(X[X[:,0]==i][:,20])]\n",
    "    average = np.mean(X[X[:,0]==i][:,21:25],axis=0)\n",
    "    mode_cat = stats.mode(X[X[:,0]==i][:,1:20])\n",
    "    appended1 = np.append(max_fcnt,values=average,axis=0)\n",
    "    appended2 = np.append(mode_cat.mode,values=appended1.reshape(1,appended1.shape[0]),axis=1)\n",
    "    av[i] = appended2"
   ]
  },
  {
   "cell_type": "code",
   "execution_count": 28,
   "metadata": {},
   "outputs": [
    {
     "data": {
      "text/plain": [
       "(290, 24)"
      ]
     },
     "execution_count": 28,
     "metadata": {},
     "output_type": "execute_result"
    }
   ],
   "source": [
    "av.shape"
   ]
  },
  {
   "cell_type": "code",
   "execution_count": 29,
   "metadata": {},
   "outputs": [
    {
     "name": "stdout",
     "output_type": "stream",
     "text": [
      "clustering with k = 2 done!\n",
      "clustering with k = 3 done!\n",
      "clustering with k = 4 done!\n",
      "clustering with k = 5 done!\n",
      "clustering with k = 6 done!\n",
      "clustering with k = 7 done!\n",
      "clustering with k = 8 done!\n",
      "clustering with k = 9 done!\n",
      "clustering with k = 10 done!\n",
      "clustering with k = 11 done!\n",
      "clustering with k = 12 done!\n",
      "clustering with k = 13 done!\n",
      "clustering with k = 14 done!\n",
      "clustering with k = 15 done!\n",
      "clustering with k = 16 done!\n",
      "clustering with k = 17 done!\n",
      "clustering with k = 18 done!\n",
      "clustering with k = 19 done!\n",
      "clustering with k = 20 done!\n",
      "clustering with k = 21 done!\n",
      "clustering with k = 22 done!\n",
      "clustering with k = 23 done!\n",
      "clustering with k = 24 done!\n",
      "clustering with k = 25 done!\n",
      "clustering with k = 26 done!\n",
      "clustering with k = 27 done!\n",
      "clustering with k = 28 done!\n",
      "clustering with k = 29 done!\n",
      "clustering with k = 30 done!\n"
     ]
    }
   ],
   "source": [
    "wcss=[]\n",
    "dbs=[]\n",
    "for i in range(2,31): \n",
    "    kmeans = KMeans(n_clusters=i,\\\n",
    "                    random_state=0,n_jobs=6 ).fit(av)\n",
    "#inertia_ : Sum of squared distances of samples to their closest cluster center.\n",
    "    wcss.append(kmeans.inertia_)\n",
    "    labels = kmeans.labels_\n",
    "    dbs.append(davies_bouldin_score(av, labels))\n",
    "    print('clustering with k = {} done!'.format(i))"
   ]
  },
  {
   "cell_type": "code",
   "execution_count": 30,
   "metadata": {},
   "outputs": [
    {
     "data": {
      "image/png": "[encoded data removed]",
      "text/plain": [
       "<Figure size 432x288 with 1 Axes>"
      ]
     },
     "metadata": {
      "needs_background": "light"
     },
     "output_type": "display_data"
    }
   ],
   "source": [
    "fig = plt.figure()\n",
    "ax = fig.add_axes([0,0,1,1])\n",
    "major_ticks = np.arange(0, 31, 5)\n",
    "minor_ticks = np.arange(0, 31, 1)\n",
    "ax.set_xticks(major_ticks)\n",
    "ax.set_xticks(minor_ticks, minor=True)\n",
    "ax.grid(which='both')\n",
    "ax.set_facecolor('xkcd:light blue')\n",
    "plt.plot(np.arange(2,31),wcss)\n",
    "ax.set_title(\"The Elbow Method Graph\")\n",
    "ax.set_xlabel('Number of clusters')\n",
    "ax.set_ylabel('WCSS')\n",
    "plt.show()"
   ]
  },
  {
   "cell_type": "code",
   "execution_count": 31,
   "metadata": {},
   "outputs": [
    {
     "data": {
      "text/plain": [
       "<function matplotlib.pyplot.show(*args, **kw)>"
      ]
     },
     "execution_count": 31,
     "metadata": {},
     "output_type": "execute_result"
    },
    {
     "data": {
      "image/png": "[encoded data removed]",
      "text/plain": [
       "<Figure size 432x288 with 1 Axes>"
      ]
     },
     "metadata": {
      "needs_background": "light"
     },
     "output_type": "display_data"
    }
   ],
   "source": [
    "#Plot the Davies-Bouldin graph\n",
    "fig = plt.figure()\n",
    "ax = fig.add_axes([0,0,1,1])\n",
    "major_ticks = np.arange(0, 31, 5)\n",
    "minor_ticks = np.arange(0, 31, 1)\n",
    "ax.set_xticks(major_ticks)\n",
    "ax.set_xticks(minor_ticks, minor=True)\n",
    "ax.grid(which='both')\n",
    "ax.set_facecolor('xkcd:light blue')\n",
    "plt.plot(range(2,31),dbs)\n",
    "plt.title('The Davies-Bouldin Method Graph')\n",
    "plt.xlabel('Number of clusters (K)')\n",
    "plt.ylabel('Davies-Bouldin Index')\n",
    "plt.show"
   ]
  },
  {
   "cell_type": "code",
   "execution_count": 32,
   "metadata": {},
   "outputs": [],
   "source": [
    "kmeans = KMeans(n_clusters=13)"
   ]
  },
  {
   "cell_type": "code",
   "execution_count": 33,
   "metadata": {},
   "outputs": [],
   "source": [
    "model = kmeans.fit(av)\n",
    "clusters = model.predict(av).reshape((len(av),1))"
   ]
  },
  {
   "cell_type": "code",
   "execution_count": 34,
   "metadata": {},
   "outputs": [],
   "source": [
    "labeled = np.append(av,clusters,axis=1)"
   ]
  },
  {
   "cell_type": "code",
   "execution_count": 35,
   "metadata": {},
   "outputs": [
    {
     "data": {
      "text/plain": [
       "(290, 25)"
      ]
     },
     "execution_count": 35,
     "metadata": {},
     "output_type": "execute_result"
    }
   ],
   "source": [
    "labeled.shape"
   ]
  },
  {
   "cell_type": "code",
   "execution_count": 36,
   "metadata": {},
   "outputs": [],
   "source": [
    "labeled = np.insert(labeled,obj=0,values=np.sort(np.unique(dev_labels)),axis = 1)"
   ]
  },
  {
   "cell_type": "code",
   "execution_count": 37,
   "metadata": {},
   "outputs": [
    {
     "data": {
      "text/plain": [
       "(290, 26)"
      ]
     },
     "execution_count": 37,
     "metadata": {},
     "output_type": "execute_result"
    }
   ],
   "source": [
    "labeled.shape"
   ]
  },
  {
   "cell_type": "code",
   "execution_count": 38,
   "metadata": {},
   "outputs": [],
   "source": [
    "cols = ['dev_addr']\n",
    "onehotcols = list(np.random.rand(onehotlabels.shape[1]))\n",
    "cols.extend(onehotcols)\n",
    "cols.extend(numeric)\n",
    "cols.append('label')"
   ]
  },
  {
   "cell_type": "code",
   "execution_count": 39,
   "metadata": {},
   "outputs": [],
   "source": [
    "labeled_df = pd.DataFrame(labeled,columns=cols)"
   ]
  },
  {
   "cell_type": "code",
   "execution_count": 40,
   "metadata": {},
   "outputs": [
    {
     "data": {
      "text/html": [
       "<div>\n",
       "<style scoped>\n",
       "    .dataframe tbody tr th:only-of-type {\n",
       "        vertical-align: middle;\n",
       "    }\n",
       "\n",
       "    .dataframe tbody tr th {\n",
       "        vertical-align: top;\n",
       "    }\n",
       "\n",
       "    .dataframe thead th {\n",
       "        text-align: right;\n",
       "    }\n",
       "</style>\n",
       "<table border=\"1\" class=\"dataframe\">\n",
       "  <thead>\n",
       "    <tr style=\"text-align: right;\">\n",
       "      <th></th>\n",
       "      <th>dev_addr</th>\n",
       "      <th>0.15394564867910687</th>\n",
       "      <th>0.05943354142393076</th>\n",
       "      <th>0.1511631412398915</th>\n",
       "      <th>0.18577857934004882</th>\n",
       "      <th>0.2792414253741268</th>\n",
       "      <th>0.6106646261731582</th>\n",
       "      <th>0.2404994145593271</th>\n",
       "      <th>0.5326223539936666</th>\n",
       "      <th>0.9656463960201249</th>\n",
       "      <th>...</th>\n",
       "      <th>0.34155381928856676</th>\n",
       "      <th>0.016708494059887058</th>\n",
       "      <th>0.0742351250846387</th>\n",
       "      <th>0.46367809777717106</th>\n",
       "      <th>FCnt</th>\n",
       "      <th>lsnr</th>\n",
       "      <th>rssic</th>\n",
       "      <th>rssis</th>\n",
       "      <th>rssisd</th>\n",
       "      <th>label</th>\n",
       "    </tr>\n",
       "  </thead>\n",
       "  <tbody>\n",
       "    <tr>\n",
       "      <td>0</td>\n",
       "      <td>0.0</td>\n",
       "      <td>0.0</td>\n",
       "      <td>0.0</td>\n",
       "      <td>0.0</td>\n",
       "      <td>0.0</td>\n",
       "      <td>0.0</td>\n",
       "      <td>0.0</td>\n",
       "      <td>0.0</td>\n",
       "      <td>1.0</td>\n",
       "      <td>0.0</td>\n",
       "      <td>...</td>\n",
       "      <td>0.0</td>\n",
       "      <td>0.0</td>\n",
       "      <td>0.0</td>\n",
       "      <td>0.0</td>\n",
       "      <td>0.433996</td>\n",
       "      <td>-0.862896</td>\n",
       "      <td>-0.547238</td>\n",
       "      <td>-0.784467</td>\n",
       "      <td>0.173129</td>\n",
       "      <td>10.0</td>\n",
       "    </tr>\n",
       "    <tr>\n",
       "      <td>1</td>\n",
       "      <td>1.0</td>\n",
       "      <td>0.0</td>\n",
       "      <td>0.0</td>\n",
       "      <td>0.0</td>\n",
       "      <td>1.0</td>\n",
       "      <td>0.0</td>\n",
       "      <td>0.0</td>\n",
       "      <td>0.0</td>\n",
       "      <td>1.0</td>\n",
       "      <td>0.0</td>\n",
       "      <td>...</td>\n",
       "      <td>1.0</td>\n",
       "      <td>0.0</td>\n",
       "      <td>0.0</td>\n",
       "      <td>0.0</td>\n",
       "      <td>2.436859</td>\n",
       "      <td>0.497344</td>\n",
       "      <td>0.228180</td>\n",
       "      <td>0.423612</td>\n",
       "      <td>-0.117777</td>\n",
       "      <td>6.0</td>\n",
       "    </tr>\n",
       "    <tr>\n",
       "      <td>2</td>\n",
       "      <td>2.0</td>\n",
       "      <td>0.0</td>\n",
       "      <td>0.0</td>\n",
       "      <td>0.0</td>\n",
       "      <td>1.0</td>\n",
       "      <td>0.0</td>\n",
       "      <td>0.0</td>\n",
       "      <td>0.0</td>\n",
       "      <td>1.0</td>\n",
       "      <td>0.0</td>\n",
       "      <td>...</td>\n",
       "      <td>1.0</td>\n",
       "      <td>0.0</td>\n",
       "      <td>0.0</td>\n",
       "      <td>0.0</td>\n",
       "      <td>1.871328</td>\n",
       "      <td>0.330226</td>\n",
       "      <td>0.036975</td>\n",
       "      <td>0.255438</td>\n",
       "      <td>-0.023791</td>\n",
       "      <td>6.0</td>\n",
       "    </tr>\n",
       "    <tr>\n",
       "      <td>3</td>\n",
       "      <td>3.0</td>\n",
       "      <td>0.0</td>\n",
       "      <td>0.0</td>\n",
       "      <td>0.0</td>\n",
       "      <td>0.0</td>\n",
       "      <td>1.0</td>\n",
       "      <td>0.0</td>\n",
       "      <td>0.0</td>\n",
       "      <td>1.0</td>\n",
       "      <td>0.0</td>\n",
       "      <td>...</td>\n",
       "      <td>1.0</td>\n",
       "      <td>0.0</td>\n",
       "      <td>0.0</td>\n",
       "      <td>0.0</td>\n",
       "      <td>-1.325275</td>\n",
       "      <td>-0.484304</td>\n",
       "      <td>-0.740058</td>\n",
       "      <td>-0.619246</td>\n",
       "      <td>0.270053</td>\n",
       "      <td>0.0</td>\n",
       "    </tr>\n",
       "    <tr>\n",
       "      <td>4</td>\n",
       "      <td>4.0</td>\n",
       "      <td>0.0</td>\n",
       "      <td>0.0</td>\n",
       "      <td>0.0</td>\n",
       "      <td>1.0</td>\n",
       "      <td>0.0</td>\n",
       "      <td>0.0</td>\n",
       "      <td>0.0</td>\n",
       "      <td>1.0</td>\n",
       "      <td>0.0</td>\n",
       "      <td>...</td>\n",
       "      <td>0.0</td>\n",
       "      <td>0.0</td>\n",
       "      <td>0.0</td>\n",
       "      <td>0.0</td>\n",
       "      <td>1.305797</td>\n",
       "      <td>0.822705</td>\n",
       "      <td>0.827236</td>\n",
       "      <td>0.803414</td>\n",
       "      <td>-0.088822</td>\n",
       "      <td>4.0</td>\n",
       "    </tr>\n",
       "    <tr>\n",
       "      <td>...</td>\n",
       "      <td>...</td>\n",
       "      <td>...</td>\n",
       "      <td>...</td>\n",
       "      <td>...</td>\n",
       "      <td>...</td>\n",
       "      <td>...</td>\n",
       "      <td>...</td>\n",
       "      <td>...</td>\n",
       "      <td>...</td>\n",
       "      <td>...</td>\n",
       "      <td>...</td>\n",
       "      <td>...</td>\n",
       "      <td>...</td>\n",
       "      <td>...</td>\n",
       "      <td>...</td>\n",
       "      <td>...</td>\n",
       "      <td>...</td>\n",
       "      <td>...</td>\n",
       "      <td>...</td>\n",
       "      <td>...</td>\n",
       "      <td>...</td>\n",
       "    </tr>\n",
       "    <tr>\n",
       "      <td>285</td>\n",
       "      <td>285.0</td>\n",
       "      <td>0.0</td>\n",
       "      <td>0.0</td>\n",
       "      <td>1.0</td>\n",
       "      <td>0.0</td>\n",
       "      <td>0.0</td>\n",
       "      <td>0.0</td>\n",
       "      <td>0.0</td>\n",
       "      <td>1.0</td>\n",
       "      <td>0.0</td>\n",
       "      <td>...</td>\n",
       "      <td>1.0</td>\n",
       "      <td>0.0</td>\n",
       "      <td>0.0</td>\n",
       "      <td>0.0</td>\n",
       "      <td>-1.356614</td>\n",
       "      <td>-1.859759</td>\n",
       "      <td>-0.722894</td>\n",
       "      <td>-1.689529</td>\n",
       "      <td>0.977562</td>\n",
       "      <td>9.0</td>\n",
       "    </tr>\n",
       "    <tr>\n",
       "      <td>286</td>\n",
       "      <td>286.0</td>\n",
       "      <td>0.0</td>\n",
       "      <td>0.0</td>\n",
       "      <td>1.0</td>\n",
       "      <td>0.0</td>\n",
       "      <td>0.0</td>\n",
       "      <td>0.0</td>\n",
       "      <td>0.0</td>\n",
       "      <td>1.0</td>\n",
       "      <td>0.0</td>\n",
       "      <td>...</td>\n",
       "      <td>1.0</td>\n",
       "      <td>0.0</td>\n",
       "      <td>0.0</td>\n",
       "      <td>0.0</td>\n",
       "      <td>-1.318152</td>\n",
       "      <td>-1.770899</td>\n",
       "      <td>-0.714907</td>\n",
       "      <td>-1.591516</td>\n",
       "      <td>0.754598</td>\n",
       "      <td>9.0</td>\n",
       "    </tr>\n",
       "    <tr>\n",
       "      <td>287</td>\n",
       "      <td>287.0</td>\n",
       "      <td>0.0</td>\n",
       "      <td>0.0</td>\n",
       "      <td>1.0</td>\n",
       "      <td>0.0</td>\n",
       "      <td>0.0</td>\n",
       "      <td>0.0</td>\n",
       "      <td>0.0</td>\n",
       "      <td>1.0</td>\n",
       "      <td>0.0</td>\n",
       "      <td>...</td>\n",
       "      <td>1.0</td>\n",
       "      <td>0.0</td>\n",
       "      <td>0.0</td>\n",
       "      <td>0.0</td>\n",
       "      <td>-0.396494</td>\n",
       "      <td>-1.512697</td>\n",
       "      <td>-0.520576</td>\n",
       "      <td>-1.282932</td>\n",
       "      <td>0.307848</td>\n",
       "      <td>9.0</td>\n",
       "    </tr>\n",
       "    <tr>\n",
       "      <td>288</td>\n",
       "      <td>288.0</td>\n",
       "      <td>0.0</td>\n",
       "      <td>0.0</td>\n",
       "      <td>0.0</td>\n",
       "      <td>0.0</td>\n",
       "      <td>0.0</td>\n",
       "      <td>0.0</td>\n",
       "      <td>0.0</td>\n",
       "      <td>1.0</td>\n",
       "      <td>0.0</td>\n",
       "      <td>...</td>\n",
       "      <td>1.0</td>\n",
       "      <td>0.0</td>\n",
       "      <td>0.0</td>\n",
       "      <td>0.0</td>\n",
       "      <td>0.790124</td>\n",
       "      <td>-0.589954</td>\n",
       "      <td>-0.453361</td>\n",
       "      <td>-0.537011</td>\n",
       "      <td>0.056161</td>\n",
       "      <td>5.0</td>\n",
       "    </tr>\n",
       "    <tr>\n",
       "      <td>289</td>\n",
       "      <td>289.0</td>\n",
       "      <td>0.0</td>\n",
       "      <td>0.0</td>\n",
       "      <td>1.0</td>\n",
       "      <td>0.0</td>\n",
       "      <td>0.0</td>\n",
       "      <td>0.0</td>\n",
       "      <td>0.0</td>\n",
       "      <td>1.0</td>\n",
       "      <td>0.0</td>\n",
       "      <td>...</td>\n",
       "      <td>1.0</td>\n",
       "      <td>0.0</td>\n",
       "      <td>0.0</td>\n",
       "      <td>0.0</td>\n",
       "      <td>-0.376550</td>\n",
       "      <td>-1.707427</td>\n",
       "      <td>-0.525042</td>\n",
       "      <td>-1.437766</td>\n",
       "      <td>0.539083</td>\n",
       "      <td>9.0</td>\n",
       "    </tr>\n",
       "  </tbody>\n",
       "</table>\n",
       "<p>290 rows × 26 columns</p>\n",
       "</div>"
      ],
      "text/plain": [
       "     dev_addr  0.15394564867910687  0.05943354142393076  0.1511631412398915  \\\n",
       "0         0.0                  0.0                  0.0                 0.0   \n",
       "1         1.0                  0.0                  0.0                 0.0   \n",
       "2         2.0                  0.0                  0.0                 0.0   \n",
       "3         3.0                  0.0                  0.0                 0.0   \n",
       "4         4.0                  0.0                  0.0                 0.0   \n",
       "..        ...                  ...                  ...                 ...   \n",
       "285     285.0                  0.0                  0.0                 1.0   \n",
       "286     286.0                  0.0                  0.0                 1.0   \n",
       "287     287.0                  0.0                  0.0                 1.0   \n",
       "288     288.0                  0.0                  0.0                 0.0   \n",
       "289     289.0                  0.0                  0.0                 1.0   \n",
       "\n",
       "     0.18577857934004882  0.2792414253741268  0.6106646261731582  \\\n",
       "0                    0.0                 0.0                 0.0   \n",
       "1                    1.0                 0.0                 0.0   \n",
       "2                    1.0                 0.0                 0.0   \n",
       "3                    0.0                 1.0                 0.0   \n",
       "4                    1.0                 0.0                 0.0   \n",
       "..                   ...                 ...                 ...   \n",
       "285                  0.0                 0.0                 0.0   \n",
       "286                  0.0                 0.0                 0.0   \n",
       "287                  0.0                 0.0                 0.0   \n",
       "288                  0.0                 0.0                 0.0   \n",
       "289                  0.0                 0.0                 0.0   \n",
       "\n",
       "     0.2404994145593271  0.5326223539936666  0.9656463960201249  ...  \\\n",
       "0                   0.0                 1.0                 0.0  ...   \n",
       "1                   0.0                 1.0                 0.0  ...   \n",
       "2                   0.0                 1.0                 0.0  ...   \n",
       "3                   0.0                 1.0                 0.0  ...   \n",
       "4                   0.0                 1.0                 0.0  ...   \n",
       "..                  ...                 ...                 ...  ...   \n",
       "285                 0.0                 1.0                 0.0  ...   \n",
       "286                 0.0                 1.0                 0.0  ...   \n",
       "287                 0.0                 1.0                 0.0  ...   \n",
       "288                 0.0                 1.0                 0.0  ...   \n",
       "289                 0.0                 1.0                 0.0  ...   \n",
       "\n",
       "     0.34155381928856676  0.016708494059887058  0.0742351250846387  \\\n",
       "0                    0.0                   0.0                 0.0   \n",
       "1                    1.0                   0.0                 0.0   \n",
       "2                    1.0                   0.0                 0.0   \n",
       "3                    1.0                   0.0                 0.0   \n",
       "4                    0.0                   0.0                 0.0   \n",
       "..                   ...                   ...                 ...   \n",
       "285                  1.0                   0.0                 0.0   \n",
       "286                  1.0                   0.0                 0.0   \n",
       "287                  1.0                   0.0                 0.0   \n",
       "288                  1.0                   0.0                 0.0   \n",
       "289                  1.0                   0.0                 0.0   \n",
       "\n",
       "     0.46367809777717106      FCnt      lsnr     rssic     rssis    rssisd  \\\n",
       "0                    0.0  0.433996 -0.862896 -0.547238 -0.784467  0.173129   \n",
       "1                    0.0  2.436859  0.497344  0.228180  0.423612 -0.117777   \n",
       "2                    0.0  1.871328  0.330226  0.036975  0.255438 -0.023791   \n",
       "3                    0.0 -1.325275 -0.484304 -0.740058 -0.619246  0.270053   \n",
       "4                    0.0  1.305797  0.822705  0.827236  0.803414 -0.088822   \n",
       "..                   ...       ...       ...       ...       ...       ...   \n",
       "285                  0.0 -1.356614 -1.859759 -0.722894 -1.689529  0.977562   \n",
       "286                  0.0 -1.318152 -1.770899 -0.714907 -1.591516  0.754598   \n",
       "287                  0.0 -0.396494 -1.512697 -0.520576 -1.282932  0.307848   \n",
       "288                  0.0  0.790124 -0.589954 -0.453361 -0.537011  0.056161   \n",
       "289                  0.0 -0.376550 -1.707427 -0.525042 -1.437766  0.539083   \n",
       "\n",
       "     label  \n",
       "0     10.0  \n",
       "1      6.0  \n",
       "2      6.0  \n",
       "3      0.0  \n",
       "4      4.0  \n",
       "..     ...  \n",
       "285    9.0  \n",
       "286    9.0  \n",
       "287    9.0  \n",
       "288    5.0  \n",
       "289    9.0  \n",
       "\n",
       "[290 rows x 26 columns]"
      ]
     },
     "execution_count": 40,
     "metadata": {},
     "output_type": "execute_result"
    }
   ],
   "source": [
    "labeled_df"
   ]
  },
  {
   "cell_type": "code",
   "execution_count": 41,
   "metadata": {},
   "outputs": [],
   "source": [
    "inversed = enc_cat.inverse_transform(labeled_df.iloc[:,1:20].values)\n",
    "categorical.remove('dev_addr')\n",
    "inversed = pd.DataFrame(inversed,columns=categorical)"
   ]
  },
  {
   "cell_type": "code",
   "execution_count": 42,
   "metadata": {},
   "outputs": [
    {
     "data": {
      "text/html": [
       "<div>\n",
       "<style scoped>\n",
       "    .dataframe tbody tr th:only-of-type {\n",
       "        vertical-align: middle;\n",
       "    }\n",
       "\n",
       "    .dataframe tbody tr th {\n",
       "        vertical-align: top;\n",
       "    }\n",
       "\n",
       "    .dataframe thead th {\n",
       "        text-align: right;\n",
       "    }\n",
       "</style>\n",
       "<table border=\"1\" class=\"dataframe\">\n",
       "  <thead>\n",
       "    <tr style=\"text-align: right;\">\n",
       "      <th></th>\n",
       "      <th>datr</th>\n",
       "      <th>gateway</th>\n",
       "      <th>chan</th>\n",
       "      <th>ant</th>\n",
       "      <th>freq</th>\n",
       "    </tr>\n",
       "  </thead>\n",
       "  <tbody>\n",
       "    <tr>\n",
       "      <td>0</td>\n",
       "      <td>SF10BW125</td>\n",
       "      <td>7276FF002E061495</td>\n",
       "      <td>5</td>\n",
       "      <td>0</td>\n",
       "      <td>868.1</td>\n",
       "    </tr>\n",
       "    <tr>\n",
       "      <td>1</td>\n",
       "      <td>SF7BW125</td>\n",
       "      <td>7276FF002E061495</td>\n",
       "      <td>5</td>\n",
       "      <td>1</td>\n",
       "      <td>868.1</td>\n",
       "    </tr>\n",
       "    <tr>\n",
       "      <td>2</td>\n",
       "      <td>SF7BW125</td>\n",
       "      <td>7276FF002E061495</td>\n",
       "      <td>5</td>\n",
       "      <td>1</td>\n",
       "      <td>868.1</td>\n",
       "    </tr>\n",
       "    <tr>\n",
       "      <td>3</td>\n",
       "      <td>SF8BW125</td>\n",
       "      <td>7276FF002E061495</td>\n",
       "      <td>5</td>\n",
       "      <td>1</td>\n",
       "      <td>868.1</td>\n",
       "    </tr>\n",
       "    <tr>\n",
       "      <td>4</td>\n",
       "      <td>SF7BW125</td>\n",
       "      <td>7276FF002E061495</td>\n",
       "      <td>5</td>\n",
       "      <td>0</td>\n",
       "      <td>868.1</td>\n",
       "    </tr>\n",
       "    <tr>\n",
       "      <td>...</td>\n",
       "      <td>...</td>\n",
       "      <td>...</td>\n",
       "      <td>...</td>\n",
       "      <td>...</td>\n",
       "      <td>...</td>\n",
       "    </tr>\n",
       "    <tr>\n",
       "      <td>285</td>\n",
       "      <td>SF12BW125</td>\n",
       "      <td>7276FF002E061495</td>\n",
       "      <td>5</td>\n",
       "      <td>1</td>\n",
       "      <td>868.1</td>\n",
       "    </tr>\n",
       "    <tr>\n",
       "      <td>286</td>\n",
       "      <td>SF12BW125</td>\n",
       "      <td>7276FF002E061495</td>\n",
       "      <td>5</td>\n",
       "      <td>1</td>\n",
       "      <td>868.1</td>\n",
       "    </tr>\n",
       "    <tr>\n",
       "      <td>287</td>\n",
       "      <td>SF12BW125</td>\n",
       "      <td>7276FF002E061495</td>\n",
       "      <td>5</td>\n",
       "      <td>1</td>\n",
       "      <td>868.1</td>\n",
       "    </tr>\n",
       "    <tr>\n",
       "      <td>288</td>\n",
       "      <td>SF10BW125</td>\n",
       "      <td>7276FF002E061495</td>\n",
       "      <td>5</td>\n",
       "      <td>1</td>\n",
       "      <td>868.1</td>\n",
       "    </tr>\n",
       "    <tr>\n",
       "      <td>289</td>\n",
       "      <td>SF12BW125</td>\n",
       "      <td>7276FF002E061495</td>\n",
       "      <td>5</td>\n",
       "      <td>1</td>\n",
       "      <td>868.1</td>\n",
       "    </tr>\n",
       "  </tbody>\n",
       "</table>\n",
       "<p>290 rows × 5 columns</p>\n",
       "</div>"
      ],
      "text/plain": [
       "          datr           gateway chan ant   freq\n",
       "0    SF10BW125  7276FF002E061495    5   0  868.1\n",
       "1     SF7BW125  7276FF002E061495    5   1  868.1\n",
       "2     SF7BW125  7276FF002E061495    5   1  868.1\n",
       "3     SF8BW125  7276FF002E061495    5   1  868.1\n",
       "4     SF7BW125  7276FF002E061495    5   0  868.1\n",
       "..         ...               ...  ...  ..    ...\n",
       "285  SF12BW125  7276FF002E061495    5   1  868.1\n",
       "286  SF12BW125  7276FF002E061495    5   1  868.1\n",
       "287  SF12BW125  7276FF002E061495    5   1  868.1\n",
       "288  SF10BW125  7276FF002E061495    5   1  868.1\n",
       "289  SF12BW125  7276FF002E061495    5   1  868.1\n",
       "\n",
       "[290 rows x 5 columns]"
      ]
     },
     "execution_count": 42,
     "metadata": {},
     "output_type": "execute_result"
    }
   ],
   "source": [
    "inversed"
   ]
  },
  {
   "cell_type": "code",
   "execution_count": 43,
   "metadata": {},
   "outputs": [],
   "source": [
    "todrop = list(labeled_df.columns)[1:20]\n",
    "labeled_df = labeled_df.drop(columns=todrop)\n",
    "labeled_df = labeled_df.join(inversed)\n",
    "labeled_df[numeric] = scaler.inverse_transform(labeled_df[numeric])\n",
    "labeled_df[numeric]= labeled_df[numeric].astype(int)\n",
    "labeled_df.dev_addr= labeled_df.dev_addr.astype(int)\n",
    "labeled_df.dev_addr = enc_l.inverse_transform(labeled_df.dev_addr)"
   ]
  },
  {
   "cell_type": "code",
   "execution_count": 44,
   "metadata": {},
   "outputs": [
    {
     "data": {
      "text/html": [
       "<div>\n",
       "<style scoped>\n",
       "    .dataframe tbody tr th:only-of-type {\n",
       "        vertical-align: middle;\n",
       "    }\n",
       "\n",
       "    .dataframe tbody tr th {\n",
       "        vertical-align: top;\n",
       "    }\n",
       "\n",
       "    .dataframe thead th {\n",
       "        text-align: right;\n",
       "    }\n",
       "</style>\n",
       "<table border=\"1\" class=\"dataframe\">\n",
       "  <thead>\n",
       "    <tr style=\"text-align: right;\">\n",
       "      <th></th>\n",
       "      <th>dev_addr</th>\n",
       "      <th>FCnt</th>\n",
       "      <th>lsnr</th>\n",
       "      <th>rssic</th>\n",
       "      <th>rssis</th>\n",
       "      <th>rssisd</th>\n",
       "      <th>label</th>\n",
       "      <th>datr</th>\n",
       "      <th>gateway</th>\n",
       "      <th>chan</th>\n",
       "      <th>ant</th>\n",
       "      <th>freq</th>\n",
       "    </tr>\n",
       "  </thead>\n",
       "  <tbody>\n",
       "    <tr>\n",
       "      <td>0</td>\n",
       "      <td>00000000</td>\n",
       "      <td>1446</td>\n",
       "      <td>-11</td>\n",
       "      <td>-106</td>\n",
       "      <td>-119</td>\n",
       "      <td>0</td>\n",
       "      <td>10.0</td>\n",
       "      <td>SF10BW125</td>\n",
       "      <td>7276FF002E061495</td>\n",
       "      <td>5</td>\n",
       "      <td>0</td>\n",
       "      <td>868.1</td>\n",
       "    </tr>\n",
       "    <tr>\n",
       "      <td>1</td>\n",
       "      <td>00000001</td>\n",
       "      <td>2852</td>\n",
       "      <td>1</td>\n",
       "      <td>-101</td>\n",
       "      <td>-105</td>\n",
       "      <td>0</td>\n",
       "      <td>6.0</td>\n",
       "      <td>SF7BW125</td>\n",
       "      <td>7276FF002E061495</td>\n",
       "      <td>5</td>\n",
       "      <td>1</td>\n",
       "      <td>868.1</td>\n",
       "    </tr>\n",
       "    <tr>\n",
       "      <td>2</td>\n",
       "      <td>00000002</td>\n",
       "      <td>2455</td>\n",
       "      <td>0</td>\n",
       "      <td>-103</td>\n",
       "      <td>-107</td>\n",
       "      <td>0</td>\n",
       "      <td>6.0</td>\n",
       "      <td>SF7BW125</td>\n",
       "      <td>7276FF002E061495</td>\n",
       "      <td>5</td>\n",
       "      <td>1</td>\n",
       "      <td>868.1</td>\n",
       "    </tr>\n",
       "    <tr>\n",
       "      <td>3</td>\n",
       "      <td>00000003</td>\n",
       "      <td>211</td>\n",
       "      <td>-7</td>\n",
       "      <td>-108</td>\n",
       "      <td>-117</td>\n",
       "      <td>0</td>\n",
       "      <td>0.0</td>\n",
       "      <td>SF8BW125</td>\n",
       "      <td>7276FF002E061495</td>\n",
       "      <td>5</td>\n",
       "      <td>1</td>\n",
       "      <td>868.1</td>\n",
       "    </tr>\n",
       "    <tr>\n",
       "      <td>4</td>\n",
       "      <td>00000004</td>\n",
       "      <td>2058</td>\n",
       "      <td>4</td>\n",
       "      <td>-97</td>\n",
       "      <td>-101</td>\n",
       "      <td>0</td>\n",
       "      <td>4.0</td>\n",
       "      <td>SF7BW125</td>\n",
       "      <td>7276FF002E061495</td>\n",
       "      <td>5</td>\n",
       "      <td>0</td>\n",
       "      <td>868.1</td>\n",
       "    </tr>\n",
       "    <tr>\n",
       "      <td>...</td>\n",
       "      <td>...</td>\n",
       "      <td>...</td>\n",
       "      <td>...</td>\n",
       "      <td>...</td>\n",
       "      <td>...</td>\n",
       "      <td>...</td>\n",
       "      <td>...</td>\n",
       "      <td>...</td>\n",
       "      <td>...</td>\n",
       "      <td>...</td>\n",
       "      <td>...</td>\n",
       "      <td>...</td>\n",
       "    </tr>\n",
       "    <tr>\n",
       "      <td>285</td>\n",
       "      <td>0000011d</td>\n",
       "      <td>189</td>\n",
       "      <td>-21</td>\n",
       "      <td>-107</td>\n",
       "      <td>-129</td>\n",
       "      <td>0</td>\n",
       "      <td>9.0</td>\n",
       "      <td>SF12BW125</td>\n",
       "      <td>7276FF002E061495</td>\n",
       "      <td>5</td>\n",
       "      <td>1</td>\n",
       "      <td>868.1</td>\n",
       "    </tr>\n",
       "    <tr>\n",
       "      <td>286</td>\n",
       "      <td>0000011e</td>\n",
       "      <td>216</td>\n",
       "      <td>-20</td>\n",
       "      <td>-107</td>\n",
       "      <td>-128</td>\n",
       "      <td>0</td>\n",
       "      <td>9.0</td>\n",
       "      <td>SF12BW125</td>\n",
       "      <td>7276FF002E061495</td>\n",
       "      <td>5</td>\n",
       "      <td>1</td>\n",
       "      <td>868.1</td>\n",
       "    </tr>\n",
       "    <tr>\n",
       "      <td>287</td>\n",
       "      <td>0000011f</td>\n",
       "      <td>863</td>\n",
       "      <td>-17</td>\n",
       "      <td>-106</td>\n",
       "      <td>-124</td>\n",
       "      <td>0</td>\n",
       "      <td>9.0</td>\n",
       "      <td>SF12BW125</td>\n",
       "      <td>7276FF002E061495</td>\n",
       "      <td>5</td>\n",
       "      <td>1</td>\n",
       "      <td>868.1</td>\n",
       "    </tr>\n",
       "    <tr>\n",
       "      <td>288</td>\n",
       "      <td>00000120</td>\n",
       "      <td>1696</td>\n",
       "      <td>-8</td>\n",
       "      <td>-106</td>\n",
       "      <td>-116</td>\n",
       "      <td>0</td>\n",
       "      <td>5.0</td>\n",
       "      <td>SF10BW125</td>\n",
       "      <td>7276FF002E061495</td>\n",
       "      <td>5</td>\n",
       "      <td>1</td>\n",
       "      <td>868.1</td>\n",
       "    </tr>\n",
       "    <tr>\n",
       "      <td>289</td>\n",
       "      <td>00000121</td>\n",
       "      <td>877</td>\n",
       "      <td>-19</td>\n",
       "      <td>-106</td>\n",
       "      <td>-126</td>\n",
       "      <td>0</td>\n",
       "      <td>9.0</td>\n",
       "      <td>SF12BW125</td>\n",
       "      <td>7276FF002E061495</td>\n",
       "      <td>5</td>\n",
       "      <td>1</td>\n",
       "      <td>868.1</td>\n",
       "    </tr>\n",
       "  </tbody>\n",
       "</table>\n",
       "<p>290 rows × 12 columns</p>\n",
       "</div>"
      ],
      "text/plain": [
       "     dev_addr  FCnt  lsnr  rssic  rssis  rssisd  label       datr  \\\n",
       "0    00000000  1446   -11   -106   -119       0   10.0  SF10BW125   \n",
       "1    00000001  2852     1   -101   -105       0    6.0   SF7BW125   \n",
       "2    00000002  2455     0   -103   -107       0    6.0   SF7BW125   \n",
       "3    00000003   211    -7   -108   -117       0    0.0   SF8BW125   \n",
       "4    00000004  2058     4    -97   -101       0    4.0   SF7BW125   \n",
       "..        ...   ...   ...    ...    ...     ...    ...        ...   \n",
       "285  0000011d   189   -21   -107   -129       0    9.0  SF12BW125   \n",
       "286  0000011e   216   -20   -107   -128       0    9.0  SF12BW125   \n",
       "287  0000011f   863   -17   -106   -124       0    9.0  SF12BW125   \n",
       "288  00000120  1696    -8   -106   -116       0    5.0  SF10BW125   \n",
       "289  00000121   877   -19   -106   -126       0    9.0  SF12BW125   \n",
       "\n",
       "              gateway chan ant   freq  \n",
       "0    7276FF002E061495    5   0  868.1  \n",
       "1    7276FF002E061495    5   1  868.1  \n",
       "2    7276FF002E061495    5   1  868.1  \n",
       "3    7276FF002E061495    5   1  868.1  \n",
       "4    7276FF002E061495    5   0  868.1  \n",
       "..                ...  ...  ..    ...  \n",
       "285  7276FF002E061495    5   1  868.1  \n",
       "286  7276FF002E061495    5   1  868.1  \n",
       "287  7276FF002E061495    5   1  868.1  \n",
       "288  7276FF002E061495    5   1  868.1  \n",
       "289  7276FF002E061495    5   1  868.1  \n",
       "\n",
       "[290 rows x 12 columns]"
      ]
     },
     "execution_count": 44,
     "metadata": {},
     "output_type": "execute_result"
    }
   ],
   "source": [
    "labeled_df"
   ]
  },
  {
   "cell_type": "code",
   "execution_count": 45,
   "metadata": {},
   "outputs": [
    {
     "name": "stdout",
     "output_type": "stream",
     "text": [
      "<class 'pandas.core.frame.DataFrame'>\n",
      "RangeIndex: 290 entries, 0 to 289\n",
      "Data columns (total 12 columns):\n",
      "dev_addr    290 non-null object\n",
      "FCnt        290 non-null int32\n",
      "lsnr        290 non-null int32\n",
      "rssic       290 non-null int32\n",
      "rssis       290 non-null int32\n",
      "rssisd      290 non-null int32\n",
      "label       290 non-null float64\n",
      "datr        290 non-null object\n",
      "gateway     290 non-null object\n",
      "chan        290 non-null object\n",
      "ant         290 non-null object\n",
      "freq        290 non-null object\n",
      "dtypes: float64(1), int32(5), object(6)\n",
      "memory usage: 21.6+ KB\n"
     ]
    }
   ],
   "source": [
    "labeled_df.info()"
   ]
  },
  {
   "cell_type": "code",
   "execution_count": 80,
   "metadata": {},
   "outputs": [
    {
     "data": {
      "image/png": "[encoded data removed]",
      "text/plain": [
       "<Figure size 432x288 with 1 Axes>"
      ]
     },
     "metadata": {},
     "output_type": "display_data"
    }
   ],
   "source": [
    "x = [\"dev_addr\", \"FCnt\", \"lsnr\", \"rssic\", \"rssis\", \"rssisd\", \"label\", \"datr\", \"gateway\", \"chan\", \"ant\", \"freq\"]\n",
    "y = [\n",
    "    len(labeled_df['dev_addr'].unique()),\n",
    "    len(labeled_df['FCnt'].unique()),\n",
    "    len(labeled_df['lsnr'].unique()),\n",
    "    len(labeled_df['rssic'].unique()),\n",
    "    len(labeled_df['rssis'].unique()),\n",
    "    len(labeled_df['rssisd'].unique()),\n",
    "    len(labeled_df['label'].unique()),\n",
    "    len(labeled_df['datr'].unique()),\n",
    "    len(labeled_df['gateway'].unique()),\n",
    "    len(labeled_df['chan'].unique()),\n",
    "    len(labeled_df['ant'].unique()),\n",
    "    len(labeled_df['freq'].unique()),\n",
    "    ]\n",
    "plt.barh(x, y)\n",
    "\n",
    "for index, value in enumerate(y):\n",
    "    plt.text(value, index, str(value))"
   ]
  },
  {
   "cell_type": "code",
   "execution_count": 60,
   "metadata": {},
   "outputs": [
    {
     "data": {
      "text/html": [
       "<div>\n",
       "<style scoped>\n",
       "    .dataframe tbody tr th:only-of-type {\n",
       "        vertical-align: middle;\n",
       "    }\n",
       "\n",
       "    .dataframe tbody tr th {\n",
       "        vertical-align: top;\n",
       "    }\n",
       "\n",
       "    .dataframe thead th {\n",
       "        text-align: right;\n",
       "    }\n",
       "</style>\n",
       "<table border=\"1\" class=\"dataframe\">\n",
       "  <thead>\n",
       "    <tr style=\"text-align: right;\">\n",
       "      <th></th>\n",
       "      <th>dev_addr</th>\n",
       "      <th>FCnt</th>\n",
       "      <th>lsnr</th>\n",
       "      <th>rssic</th>\n",
       "      <th>rssis</th>\n",
       "      <th>rssisd</th>\n",
       "      <th>label</th>\n",
       "      <th>datr</th>\n",
       "      <th>gateway</th>\n",
       "      <th>chan</th>\n",
       "      <th>ant</th>\n",
       "      <th>freq</th>\n",
       "    </tr>\n",
       "  </thead>\n",
       "  <tbody>\n",
       "    <tr>\n",
       "      <td>11</td>\n",
       "      <td>0000000b</td>\n",
       "      <td>2270</td>\n",
       "      <td>7</td>\n",
       "      <td>-87</td>\n",
       "      <td>-89</td>\n",
       "      <td>0</td>\n",
       "      <td>7.0</td>\n",
       "      <td>SF7BW125</td>\n",
       "      <td>7276FF002E061495</td>\n",
       "      <td>5</td>\n",
       "      <td>0</td>\n",
       "      <td>868.1</td>\n",
       "    </tr>\n",
       "    <tr>\n",
       "      <td>23</td>\n",
       "      <td>00000017</td>\n",
       "      <td>2620</td>\n",
       "      <td>8</td>\n",
       "      <td>-93</td>\n",
       "      <td>-95</td>\n",
       "      <td>0</td>\n",
       "      <td>7.0</td>\n",
       "      <td>SF7BW125</td>\n",
       "      <td>7276FF002E061495</td>\n",
       "      <td>5</td>\n",
       "      <td>0</td>\n",
       "      <td>868.1</td>\n",
       "    </tr>\n",
       "    <tr>\n",
       "      <td>27</td>\n",
       "      <td>0000001b</td>\n",
       "      <td>1990</td>\n",
       "      <td>8</td>\n",
       "      <td>-92</td>\n",
       "      <td>-94</td>\n",
       "      <td>0</td>\n",
       "      <td>7.0</td>\n",
       "      <td>SF7BW125</td>\n",
       "      <td>7276FF002E061495</td>\n",
       "      <td>5</td>\n",
       "      <td>0</td>\n",
       "      <td>868.1</td>\n",
       "    </tr>\n",
       "    <tr>\n",
       "      <td>30</td>\n",
       "      <td>0000001e</td>\n",
       "      <td>2440</td>\n",
       "      <td>7</td>\n",
       "      <td>-95</td>\n",
       "      <td>-97</td>\n",
       "      <td>0</td>\n",
       "      <td>7.0</td>\n",
       "      <td>SF7BW125</td>\n",
       "      <td>7276FF002E061495</td>\n",
       "      <td>5</td>\n",
       "      <td>0</td>\n",
       "      <td>868.1</td>\n",
       "    </tr>\n",
       "    <tr>\n",
       "      <td>41</td>\n",
       "      <td>00000029</td>\n",
       "      <td>2205</td>\n",
       "      <td>8</td>\n",
       "      <td>-93</td>\n",
       "      <td>-94</td>\n",
       "      <td>0</td>\n",
       "      <td>7.0</td>\n",
       "      <td>SF7BW125</td>\n",
       "      <td>7276FF002E061495</td>\n",
       "      <td>5</td>\n",
       "      <td>0</td>\n",
       "      <td>868.1</td>\n",
       "    </tr>\n",
       "    <tr>\n",
       "      <td>52</td>\n",
       "      <td>00000034</td>\n",
       "      <td>2947</td>\n",
       "      <td>8</td>\n",
       "      <td>-91</td>\n",
       "      <td>-93</td>\n",
       "      <td>0</td>\n",
       "      <td>7.0</td>\n",
       "      <td>SF7BW125</td>\n",
       "      <td>7276FF002E061495</td>\n",
       "      <td>5</td>\n",
       "      <td>0</td>\n",
       "      <td>868.1</td>\n",
       "    </tr>\n",
       "    <tr>\n",
       "      <td>74</td>\n",
       "      <td>0000004a</td>\n",
       "      <td>2431</td>\n",
       "      <td>11</td>\n",
       "      <td>-85</td>\n",
       "      <td>-86</td>\n",
       "      <td>0</td>\n",
       "      <td>7.0</td>\n",
       "      <td>SF7BW125</td>\n",
       "      <td>7276FF002E061495</td>\n",
       "      <td>5</td>\n",
       "      <td>0</td>\n",
       "      <td>868.1</td>\n",
       "    </tr>\n",
       "    <tr>\n",
       "      <td>82</td>\n",
       "      <td>00000052</td>\n",
       "      <td>3171</td>\n",
       "      <td>11</td>\n",
       "      <td>-91</td>\n",
       "      <td>-91</td>\n",
       "      <td>0</td>\n",
       "      <td>7.0</td>\n",
       "      <td>SF7BW125</td>\n",
       "      <td>7276FF002E061495</td>\n",
       "      <td>5</td>\n",
       "      <td>1</td>\n",
       "      <td>868.1</td>\n",
       "    </tr>\n",
       "    <tr>\n",
       "      <td>114</td>\n",
       "      <td>00000072</td>\n",
       "      <td>2982</td>\n",
       "      <td>11</td>\n",
       "      <td>-88</td>\n",
       "      <td>-89</td>\n",
       "      <td>0</td>\n",
       "      <td>7.0</td>\n",
       "      <td>SF7BW125</td>\n",
       "      <td>7276FF002E061495</td>\n",
       "      <td>5</td>\n",
       "      <td>0</td>\n",
       "      <td>868.1</td>\n",
       "    </tr>\n",
       "    <tr>\n",
       "      <td>143</td>\n",
       "      <td>0000008f</td>\n",
       "      <td>2982</td>\n",
       "      <td>7</td>\n",
       "      <td>-96</td>\n",
       "      <td>-98</td>\n",
       "      <td>0</td>\n",
       "      <td>7.0</td>\n",
       "      <td>SF7BW125</td>\n",
       "      <td>7276FF002E061495</td>\n",
       "      <td>5</td>\n",
       "      <td>0</td>\n",
       "      <td>868.1</td>\n",
       "    </tr>\n",
       "    <tr>\n",
       "      <td>211</td>\n",
       "      <td>000000d3</td>\n",
       "      <td>2006</td>\n",
       "      <td>9</td>\n",
       "      <td>-89</td>\n",
       "      <td>-91</td>\n",
       "      <td>0</td>\n",
       "      <td>7.0</td>\n",
       "      <td>SF7BW125</td>\n",
       "      <td>7276FF002E061495</td>\n",
       "      <td>5</td>\n",
       "      <td>0</td>\n",
       "      <td>868.1</td>\n",
       "    </tr>\n",
       "  </tbody>\n",
       "</table>\n",
       "</div>"
      ],
      "text/plain": [
       "     dev_addr  FCnt  lsnr  rssic  rssis  rssisd  label      datr  \\\n",
       "11   0000000b  2270     7    -87    -89       0    7.0  SF7BW125   \n",
       "23   00000017  2620     8    -93    -95       0    7.0  SF7BW125   \n",
       "27   0000001b  1990     8    -92    -94       0    7.0  SF7BW125   \n",
       "30   0000001e  2440     7    -95    -97       0    7.0  SF7BW125   \n",
       "41   00000029  2205     8    -93    -94       0    7.0  SF7BW125   \n",
       "52   00000034  2947     8    -91    -93       0    7.0  SF7BW125   \n",
       "74   0000004a  2431    11    -85    -86       0    7.0  SF7BW125   \n",
       "82   00000052  3171    11    -91    -91       0    7.0  SF7BW125   \n",
       "114  00000072  2982    11    -88    -89       0    7.0  SF7BW125   \n",
       "143  0000008f  2982     7    -96    -98       0    7.0  SF7BW125   \n",
       "211  000000d3  2006     9    -89    -91       0    7.0  SF7BW125   \n",
       "\n",
       "              gateway chan ant   freq  \n",
       "11   7276FF002E061495    5   0  868.1  \n",
       "23   7276FF002E061495    5   0  868.1  \n",
       "27   7276FF002E061495    5   0  868.1  \n",
       "30   7276FF002E061495    5   0  868.1  \n",
       "41   7276FF002E061495    5   0  868.1  \n",
       "52   7276FF002E061495    5   0  868.1  \n",
       "74   7276FF002E061495    5   0  868.1  \n",
       "82   7276FF002E061495    5   1  868.1  \n",
       "114  7276FF002E061495    5   0  868.1  \n",
       "143  7276FF002E061495    5   0  868.1  \n",
       "211  7276FF002E061495    5   0  868.1  "
      ]
     },
     "execution_count": 60,
     "metadata": {},
     "output_type": "execute_result"
    }
   ],
   "source": [
    "labeled_df[labeled_df['label'] == 7]"
   ]
  },
  {
   "cell_type": "code",
   "execution_count": 61,
   "metadata": {
    "scrolled": false
   },
   "outputs": [
    {
     "data": {
      "text/plain": [
       "array([0], dtype=int64)"
      ]
     },
     "execution_count": 61,
     "metadata": {},
     "output_type": "execute_result"
    }
   ],
   "source": [
    "labeled_df['rssisd'].unique()"
   ]
  },
  {
   "cell_type": "code",
   "execution_count": 255,
   "metadata": {},
   "outputs": [
    {
     "data": {
      "application/vnd.plotly.v1+json": {
       "config": {
        "plotlyServerURL": "https://plot.ly"
       },
       "data": [
        {
         "hovertemplate": "datr=SF10BW125<br>label=%{x}<br>dev_addr=%{y}<extra></extra>",
         "legendgroup": "SF10BW125",
         "marker": {
          "color": "#636efa",
          "opacity": 0.9,
          "symbol": "circle"
         },
         "mode": "markers",
         "name": "SF10BW125",
         "showlegend": true,
         "type": "scatter",
         "x": [
          10,
          11,
          5,
          5,
          5,
          12,
          5,
          11,
          10,
          11,
          11,
          11,
          5,
          11,
          11,
          5,
          5,
          5,
          12,
          5,
          12,
          5,
          11,
          11,
          5,
          5,
          5,
          12,
          12,
          11,
          5,
          11,
          11,
          11,
          5,
          11,
          12,
          10,
          5,
          5,
          11,
          12,
          5,
          12,
          5,
          0,
          11,
          5,
          5,
          5,
          5,
          0,
          11,
          5,
          5,
          5,
          11,
          11,
          5,
          5,
          11,
          5,
          5,
          5,
          11,
          5,
          12,
          5,
          11,
          5,
          5,
          11,
          5,
          5,
          5
         ],
         "xaxis": "x",
         "y": [
          "00000000",
          "0000000a",
          "0000000c",
          "00000014",
          "00000015",
          "00000022",
          "00000025",
          "0000002b",
          "0000002e",
          "00000033",
          "0000003d",
          "00000040",
          "00000044",
          "00000046",
          "00000053",
          "00000056",
          "0000005b",
          "00000061",
          "00000063",
          "00000068",
          "0000006e",
          "00000070",
          "00000074",
          "00000076",
          "0000007c",
          "0000007e",
          "00000085",
          "0000008d",
          "00000090",
          "00000092",
          "000000a3",
          "000000ab",
          "000000ac",
          "000000ad",
          "000000ae",
          "000000af",
          "000000b5",
          "000000b9",
          "000000ba",
          "000000c1",
          "000000c2",
          "000000c3",
          "000000c4",
          "000000c5",
          "000000c7",
          "000000c9",
          "000000ca",
          "000000cb",
          "000000cc",
          "000000d7",
          "000000d8",
          "000000da",
          "000000dc",
          "000000dd",
          "000000df",
          "000000e2",
          "000000e5",
          "000000e6",
          "000000eb",
          "000000ee",
          "000000ef",
          "000000f1",
          "000000f2",
          "000000f3",
          "000000f4",
          "000000f6",
          "000000f7",
          "000000f9",
          "000000fb",
          "00000100",
          "00000103",
          "00000109",
          "0000010f",
          "00000111",
          "00000120"
         ],
         "yaxis": "y"
        },
        {
         "hovertemplate": "datr=SF7BW125<br>label=%{x}<br>dev_addr=%{y}<extra></extra>",
         "legendgroup": "SF7BW125",
         "marker": {
          "color": "#EF553B",
          "opacity": 0.9,
          "symbol": "circle"
         },
         "mode": "markers",
         "name": "SF7BW125",
         "showlegend": true,
         "type": "scatter",
         "x": [
          6,
          6,
          4,
          0,
          1,
          4,
          12,
          7,
          4,
          1,
          1,
          12,
          4,
          6,
          0,
          7,
          1,
          2,
          6,
          7,
          1,
          1,
          7,
          1,
          6,
          4,
          1,
          2,
          4,
          6,
          2,
          7,
          4,
          6,
          2,
          4,
          6,
          7,
          6,
          1,
          4,
          4,
          1,
          6,
          4,
          6,
          1,
          1,
          6,
          4,
          8,
          1,
          4,
          7,
          4,
          6,
          1,
          8,
          6,
          4,
          7,
          6,
          12,
          0,
          12,
          1,
          2,
          2,
          4,
          2,
          6,
          1,
          4,
          1,
          8,
          4,
          2,
          2,
          2,
          2,
          1,
          2,
          7,
          6,
          1,
          12,
          6,
          12,
          6,
          6,
          12,
          2,
          6,
          1,
          1,
          6,
          4,
          4,
          4,
          6,
          7,
          12,
          6,
          6,
          4,
          1,
          12,
          1,
          2,
          4,
          4,
          1,
          6,
          12,
          1,
          2,
          2,
          8,
          1,
          4,
          4,
          4,
          6,
          4,
          6,
          12,
          4,
          4,
          6,
          1,
          2,
          6,
          0,
          12,
          12,
          1,
          7,
          1,
          4,
          1,
          6,
          1,
          6,
          1,
          6,
          12,
          1,
          1,
          12
         ],
         "xaxis": "x",
         "y": [
          "00000001",
          "00000002",
          "00000004",
          "00000005",
          "00000006",
          "00000007",
          "00000009",
          "0000000b",
          "0000000e",
          "0000000f",
          "00000010",
          "00000011",
          "00000012",
          "00000013",
          "00000016",
          "00000017",
          "00000018",
          "00000019",
          "0000001a",
          "0000001b",
          "0000001c",
          "0000001d",
          "0000001e",
          "0000001f",
          "00000020",
          "00000021",
          "00000023",
          "00000024",
          "00000026",
          "00000027",
          "00000028",
          "00000029",
          "0000002a",
          "0000002c",
          "0000002d",
          "00000031",
          "00000032",
          "00000034",
          "00000035",
          "00000036",
          "00000037",
          "00000038",
          "00000039",
          "0000003a",
          "0000003b",
          "0000003c",
          "0000003f",
          "00000041",
          "00000042",
          "00000043",
          "00000045",
          "00000048",
          "00000049",
          "0000004a",
          "0000004c",
          "0000004d",
          "0000004e",
          "0000004f",
          "00000050",
          "00000051",
          "00000052",
          "00000054",
          "00000057",
          "00000058",
          "00000059",
          "0000005a",
          "0000005c",
          "0000005d",
          "0000005e",
          "0000005f",
          "00000060",
          "00000062",
          "00000064",
          "00000065",
          "00000066",
          "00000067",
          "00000069",
          "0000006b",
          "0000006c",
          "0000006d",
          "0000006f",
          "00000071",
          "00000072",
          "00000075",
          "00000078",
          "00000079",
          "0000007a",
          "0000007b",
          "0000007d",
          "0000007f",
          "00000081",
          "00000082",
          "00000083",
          "00000087",
          "00000088",
          "00000089",
          "0000008a",
          "0000008b",
          "0000008c",
          "0000008e",
          "0000008f",
          "00000091",
          "00000093",
          "00000094",
          "00000095",
          "00000096",
          "00000097",
          "00000098",
          "00000099",
          "0000009a",
          "0000009b",
          "0000009c",
          "0000009d",
          "0000009f",
          "000000a0",
          "000000a1",
          "000000a2",
          "000000a4",
          "000000a5",
          "000000a6",
          "000000a7",
          "000000a8",
          "000000a9",
          "000000b0",
          "000000b3",
          "000000b4",
          "000000b6",
          "000000b7",
          "000000b8",
          "000000bd",
          "000000be",
          "000000c0",
          "000000c6",
          "000000c8",
          "000000cd",
          "000000ce",
          "000000d3",
          "000000d4",
          "000000d6",
          "000000d9",
          "000000db",
          "000000e4",
          "000000e8",
          "000000ea",
          "000000ec",
          "000000ed",
          "000000fa",
          "0000010e",
          "00000115"
         ],
         "yaxis": "y"
        },
        {
         "hovertemplate": "datr=SF8BW125<br>label=%{x}<br>dev_addr=%{y}<extra></extra>",
         "legendgroup": "SF8BW125",
         "marker": {
          "color": "#00cc96",
          "opacity": 0.9,
          "symbol": "circle"
         },
         "mode": "markers",
         "name": "SF8BW125",
         "showlegend": true,
         "type": "scatter",
         "x": [
          0
         ],
         "xaxis": "x",
         "y": [
          "00000003"
         ],
         "yaxis": "y"
        },
        {
         "hovertemplate": "datr=SF12BW125<br>label=%{x}<br>dev_addr=%{y}<extra></extra>",
         "legendgroup": "SF12BW125",
         "marker": {
          "color": "#ab63fa",
          "opacity": 0.9,
          "symbol": "circle"
         },
         "mode": "markers",
         "name": "SF12BW125",
         "showlegend": true,
         "type": "scatter",
         "x": [
          10,
          3,
          10,
          10,
          10,
          9,
          10,
          3,
          3,
          3,
          3,
          3,
          9,
          10,
          3,
          3,
          10,
          10,
          3,
          10,
          9,
          3,
          9,
          9,
          3,
          10,
          11,
          3,
          10,
          9,
          10,
          3,
          3,
          9,
          9,
          3,
          3,
          3,
          3,
          9,
          3,
          10,
          3,
          3,
          3,
          3,
          9,
          9,
          3,
          9,
          3,
          3,
          9,
          9,
          9,
          3,
          10,
          3,
          9,
          9,
          9,
          9,
          9,
          9
         ],
         "xaxis": "x",
         "y": [
          "00000008",
          "0000000d",
          "0000002f",
          "00000030",
          "0000003e",
          "00000047",
          "0000004b",
          "00000055",
          "0000006a",
          "00000073",
          "00000077",
          "00000080",
          "00000084",
          "00000086",
          "0000009e",
          "000000aa",
          "000000b1",
          "000000b2",
          "000000bb",
          "000000bc",
          "000000bf",
          "000000cf",
          "000000d0",
          "000000d1",
          "000000d2",
          "000000d5",
          "000000de",
          "000000e0",
          "000000e3",
          "000000e7",
          "000000e9",
          "000000f0",
          "000000f5",
          "000000f8",
          "000000fc",
          "000000fd",
          "000000fe",
          "000000ff",
          "00000101",
          "00000102",
          "00000104",
          "00000105",
          "00000106",
          "00000107",
          "00000108",
          "0000010a",
          "0000010b",
          "0000010c",
          "0000010d",
          "00000110",
          "00000112",
          "00000113",
          "00000114",
          "00000116",
          "00000117",
          "00000118",
          "00000119",
          "0000011a",
          "0000011b",
          "0000011c",
          "0000011d",
          "0000011e",
          "0000011f",
          "00000121"
         ],
         "yaxis": "y"
        },
        {
         "hovertemplate": "datr=SF9BW125<br>label=%{x}<br>dev_addr=%{y}<extra></extra>",
         "legendgroup": "SF9BW125",
         "marker": {
          "color": "#FFA15A",
          "opacity": 0.9,
          "symbol": "circle"
         },
         "mode": "markers",
         "name": "SF9BW125",
         "showlegend": true,
         "type": "scatter",
         "x": [
          0
         ],
         "xaxis": "x",
         "y": [
          "000000e1"
         ],
         "yaxis": "y"
        }
       ],
       "layout": {
        "legend": {
         "title": {
          "text": "datr"
         },
         "tracegroupgap": 0
        },
        "margin": {
         "t": 60
        },
        "template": {
         "data": {
          "bar": [
           {
            "error_x": {
             "color": "#2a3f5f"
            },
            "error_y": {
             "color": "#2a3f5f"
            },
            "marker": {
             "line": {
              "color": "#E5ECF6",
              "width": 0.5
             }
            },
            "type": "bar"
           }
          ],
          "barpolar": [
           {
            "marker": {
             "line": {
              "color": "#E5ECF6",
              "width": 0.5
             }
            },
            "type": "barpolar"
           }
          ],
          "carpet": [
           {
            "aaxis": {
             "endlinecolor": "#2a3f5f",
             "gridcolor": "white",
             "linecolor": "white",
             "minorgridcolor": "white",
             "startlinecolor": "#2a3f5f"
            },
            "baxis": {
             "endlinecolor": "#2a3f5f",
             "gridcolor": "white",
             "linecolor": "white",
             "minorgridcolor": "white",
             "startlinecolor": "#2a3f5f"
            },
            "type": "carpet"
           }
          ],
          "choropleth": [
           {
            "colorbar": {
             "outlinewidth": 0,
             "ticks": ""
            },
            "type": "choropleth"
           }
          ],
          "contour": [
           {
            "colorbar": {
             "outlinewidth": 0,
             "ticks": ""
            },
            "colorscale": [
             [
              0,
              "#0d0887"
             ],
             [
              0.1111111111111111,
              "#46039f"
             ],
             [
              0.2222222222222222,
              "#7201a8"
             ],
             [
              0.3333333333333333,
              "#9c179e"
             ],
             [
              0.4444444444444444,
              "#bd3786"
             ],
             [
              0.5555555555555556,
              "#d8576b"
             ],
             [
              0.6666666666666666,
              "#ed7953"
             ],
             [
              0.7777777777777778,
              "#fb9f3a"
             ],
             [
              0.8888888888888888,
              "#fdca26"
             ],
             [
              1,
              "#f0f921"
             ]
            ],
            "type": "contour"
           }
          ],
          "contourcarpet": [
           {
            "colorbar": {
             "outlinewidth": 0,
             "ticks": ""
            },
            "type": "contourcarpet"
           }
          ],
          "heatmap": [
           {
            "colorbar": {
             "outlinewidth": 0,
             "ticks": ""
            },
            "colorscale": [
             [
              0,
              "#0d0887"
             ],
             [
              0.1111111111111111,
              "#46039f"
             ],
             [
              0.2222222222222222,
              "#7201a8"
             ],
             [
              0.3333333333333333,
              "#9c179e"
             ],
             [
              0.4444444444444444,
              "#bd3786"
             ],
             [
              0.5555555555555556,
              "#d8576b"
             ],
             [
              0.6666666666666666,
              "#ed7953"
             ],
             [
              0.7777777777777778,
              "#fb9f3a"
             ],
             [
              0.8888888888888888,
              "#fdca26"
             ],
             [
              1,
              "#f0f921"
             ]
            ],
            "type": "heatmap"
           }
          ],
          "heatmapgl": [
           {
            "colorbar": {
             "outlinewidth": 0,
             "ticks": ""
            },
            "colorscale": [
             [
              0,
              "#0d0887"
             ],
             [
              0.1111111111111111,
              "#46039f"
             ],
             [
              0.2222222222222222,
              "#7201a8"
             ],
             [
              0.3333333333333333,
              "#9c179e"
             ],
             [
              0.4444444444444444,
              "#bd3786"
             ],
             [
              0.5555555555555556,
              "#d8576b"
             ],
             [
              0.6666666666666666,
              "#ed7953"
             ],
             [
              0.7777777777777778,
              "#fb9f3a"
             ],
             [
              0.8888888888888888,
              "#fdca26"
             ],
             [
              1,
              "#f0f921"
             ]
            ],
            "type": "heatmapgl"
           }
          ],
          "histogram": [
           {
            "marker": {
             "colorbar": {
              "outlinewidth": 0,
              "ticks": ""
             }
            },
            "type": "histogram"
           }
          ],
          "histogram2d": [
           {
            "colorbar": {
             "outlinewidth": 0,
             "ticks": ""
            },
            "colorscale": [
             [
              0,
              "#0d0887"
             ],
             [
              0.1111111111111111,
              "#46039f"
             ],
             [
              0.2222222222222222,
              "#7201a8"
             ],
             [
              0.3333333333333333,
              "#9c179e"
             ],
             [
              0.4444444444444444,
              "#bd3786"
             ],
             [
              0.5555555555555556,
              "#d8576b"
             ],
             [
              0.6666666666666666,
              "#ed7953"
             ],
             [
              0.7777777777777778,
              "#fb9f3a"
             ],
             [
              0.8888888888888888,
              "#fdca26"
             ],
             [
              1,
              "#f0f921"
             ]
            ],
            "type": "histogram2d"
           }
          ],
          "histogram2dcontour": [
           {
            "colorbar": {
             "outlinewidth": 0,
             "ticks": ""
            },
            "colorscale": [
             [
              0,
              "#0d0887"
             ],
             [
              0.1111111111111111,
              "#46039f"
             ],
             [
              0.2222222222222222,
              "#7201a8"
             ],
             [
              0.3333333333333333,
              "#9c179e"
             ],
             [
              0.4444444444444444,
              "#bd3786"
             ],
             [
              0.5555555555555556,
              "#d8576b"
             ],
             [
              0.6666666666666666,
              "#ed7953"
             ],
             [
              0.7777777777777778,
              "#fb9f3a"
             ],
             [
              0.8888888888888888,
              "#fdca26"
             ],
             [
              1,
              "#f0f921"
             ]
            ],
            "type": "histogram2dcontour"
           }
          ],
          "mesh3d": [
           {
            "colorbar": {
             "outlinewidth": 0,
             "ticks": ""
            },
            "type": "mesh3d"
           }
          ],
          "parcoords": [
           {
            "line": {
             "colorbar": {
              "outlinewidth": 0,
              "ticks": ""
             }
            },
            "type": "parcoords"
           }
          ],
          "pie": [
           {
            "automargin": true,
            "type": "pie"
           }
          ],
          "scatter": [
           {
            "marker": {
             "colorbar": {
              "outlinewidth": 0,
              "ticks": ""
             }
            },
            "type": "scatter"
           }
          ],
          "scatter3d": [
           {
            "line": {
             "colorbar": {
              "outlinewidth": 0,
              "ticks": ""
             }
            },
            "marker": {
             "colorbar": {
              "outlinewidth": 0,
              "ticks": ""
             }
            },
            "type": "scatter3d"
           }
          ],
          "scattercarpet": [
           {
            "marker": {
             "colorbar": {
              "outlinewidth": 0,
              "ticks": ""
             }
            },
            "type": "scattercarpet"
           }
          ],
          "scattergeo": [
           {
            "marker": {
             "colorbar": {
              "outlinewidth": 0,
              "ticks": ""
             }
            },
            "type": "scattergeo"
           }
          ],
          "scattergl": [
           {
            "marker": {
             "colorbar": {
              "outlinewidth": 0,
              "ticks": ""
             }
            },
            "type": "scattergl"
           }
          ],
          "scattermapbox": [
           {
            "marker": {
             "colorbar": {
              "outlinewidth": 0,
              "ticks": ""
             }
            },
            "type": "scattermapbox"
           }
          ],
          "scatterpolar": [
           {
            "marker": {
             "colorbar": {
              "outlinewidth": 0,
              "ticks": ""
             }
            },
            "type": "scatterpolar"
           }
          ],
          "scatterpolargl": [
           {
            "marker": {
             "colorbar": {
              "outlinewidth": 0,
              "ticks": ""
             }
            },
            "type": "scatterpolargl"
           }
          ],
          "scatterternary": [
           {
            "marker": {
             "colorbar": {
              "outlinewidth": 0,
              "ticks": ""
             }
            },
            "type": "scatterternary"
           }
          ],
          "surface": [
           {
            "colorbar": {
             "outlinewidth": 0,
             "ticks": ""
            },
            "colorscale": [
             [
              0,
              "#0d0887"
             ],
             [
              0.1111111111111111,
              "#46039f"
             ],
             [
              0.2222222222222222,
              "#7201a8"
             ],
             [
              0.3333333333333333,
              "#9c179e"
             ],
             [
              0.4444444444444444,
              "#bd3786"
             ],
             [
              0.5555555555555556,
              "#d8576b"
             ],
             [
              0.6666666666666666,
              "#ed7953"
             ],
             [
              0.7777777777777778,
              "#fb9f3a"
             ],
             [
              0.8888888888888888,
              "#fdca26"
             ],
             [
              1,
              "#f0f921"
             ]
            ],
            "type": "surface"
           }
          ],
          "table": [
           {
            "cells": {
             "fill": {
              "color": "#EBF0F8"
             },
             "line": {
              "color": "white"
             }
            },
            "header": {
             "fill": {
              "color": "#C8D4E3"
             },
             "line": {
              "color": "white"
             }
            },
            "type": "table"
           }
          ]
         },
         "layout": {
          "annotationdefaults": {
           "arrowcolor": "#2a3f5f",
           "arrowhead": 0,
           "arrowwidth": 1
          },
          "coloraxis": {
           "colorbar": {
            "outlinewidth": 0,
            "ticks": ""
           }
          },
          "colorscale": {
           "diverging": [
            [
             0,
             "#8e0152"
            ],
            [
             0.1,
             "#c51b7d"
            ],
            [
             0.2,
             "#de77ae"
            ],
            [
             0.3,
             "#f1b6da"
            ],
            [
             0.4,
             "#fde0ef"
            ],
            [
             0.5,
             "#f7f7f7"
            ],
            [
             0.6,
             "#e6f5d0"
            ],
            [
             0.7,
             "#b8e186"
            ],
            [
             0.8,
             "#7fbc41"
            ],
            [
             0.9,
             "#4d9221"
            ],
            [
             1,
             "#276419"
            ]
           ],
           "sequential": [
            [
             0,
             "#0d0887"
            ],
            [
             0.1111111111111111,
             "#46039f"
            ],
            [
             0.2222222222222222,
             "#7201a8"
            ],
            [
             0.3333333333333333,
             "#9c179e"
            ],
            [
             0.4444444444444444,
             "#bd3786"
            ],
            [
             0.5555555555555556,
             "#d8576b"
            ],
            [
             0.6666666666666666,
             "#ed7953"
            ],
            [
             0.7777777777777778,
             "#fb9f3a"
            ],
            [
             0.8888888888888888,
             "#fdca26"
            ],
            [
             1,
             "#f0f921"
            ]
           ],
           "sequentialminus": [
            [
             0,
             "#0d0887"
            ],
            [
             0.1111111111111111,
             "#46039f"
            ],
            [
             0.2222222222222222,
             "#7201a8"
            ],
            [
             0.3333333333333333,
             "#9c179e"
            ],
            [
             0.4444444444444444,
             "#bd3786"
            ],
            [
             0.5555555555555556,
             "#d8576b"
            ],
            [
             0.6666666666666666,
             "#ed7953"
            ],
            [
             0.7777777777777778,
             "#fb9f3a"
            ],
            [
             0.8888888888888888,
             "#fdca26"
            ],
            [
             1,
             "#f0f921"
            ]
           ]
          },
          "colorway": [
           "#636efa",
           "#EF553B",
           "#00cc96",
           "#ab63fa",
           "#FFA15A",
           "#19d3f3",
           "#FF6692",
           "#B6E880",
           "#FF97FF",
           "#FECB52"
          ],
          "font": {
           "color": "#2a3f5f"
          },
          "geo": {
           "bgcolor": "white",
           "lakecolor": "white",
           "landcolor": "#E5ECF6",
           "showlakes": true,
           "showland": true,
           "subunitcolor": "white"
          },
          "hoverlabel": {
           "align": "left"
          },
          "hovermode": "closest",
          "mapbox": {
           "style": "light"
          },
          "paper_bgcolor": "white",
          "plot_bgcolor": "#E5ECF6",
          "polar": {
           "angularaxis": {
            "gridcolor": "white",
            "linecolor": "white",
            "ticks": ""
           },
           "bgcolor": "#E5ECF6",
           "radialaxis": {
            "gridcolor": "white",
            "linecolor": "white",
            "ticks": ""
           }
          },
          "scene": {
           "xaxis": {
            "backgroundcolor": "#E5ECF6",
            "gridcolor": "white",
            "gridwidth": 2,
            "linecolor": "white",
            "showbackground": true,
            "ticks": "",
            "zerolinecolor": "white"
           },
           "yaxis": {
            "backgroundcolor": "#E5ECF6",
            "gridcolor": "white",
            "gridwidth": 2,
            "linecolor": "white",
            "showbackground": true,
            "ticks": "",
            "zerolinecolor": "white"
           },
           "zaxis": {
            "backgroundcolor": "#E5ECF6",
            "gridcolor": "white",
            "gridwidth": 2,
            "linecolor": "white",
            "showbackground": true,
            "ticks": "",
            "zerolinecolor": "white"
           }
          },
          "shapedefaults": {
           "line": {
            "color": "#2a3f5f"
           }
          },
          "ternary": {
           "aaxis": {
            "gridcolor": "white",
            "linecolor": "white",
            "ticks": ""
           },
           "baxis": {
            "gridcolor": "white",
            "linecolor": "white",
            "ticks": ""
           },
           "bgcolor": "#E5ECF6",
           "caxis": {
            "gridcolor": "white",
            "linecolor": "white",
            "ticks": ""
           }
          },
          "title": {
           "x": 0.05
          },
          "xaxis": {
           "automargin": true,
           "gridcolor": "white",
           "linecolor": "white",
           "ticks": "",
           "title": {
            "standoff": 15
           },
           "zerolinecolor": "white",
           "zerolinewidth": 2
          },
          "yaxis": {
           "automargin": true,
           "gridcolor": "white",
           "linecolor": "white",
           "ticks": "",
           "title": {
            "standoff": 15
           },
           "zerolinecolor": "white",
           "zerolinewidth": 2
          }
         }
        },
        "xaxis": {
         "anchor": "y",
         "domain": [
          0,
          1
         ],
         "title": {
          "text": "label"
         }
        },
        "yaxis": {
         "anchor": "x",
         "domain": [
          0,
          1
         ],
         "title": {
          "text": "dev_addr"
         }
        }
       }
      },
      "text/html": [
       "<div>\n",
       "        \n",
       "        \n",
       "            <div id=\"11ad5586-8fe0-4dfb-9104-e2330cd91d2d\" class=\"plotly-graph-div\" style=\"height:525px; width:100%;\"></div>\n",
       "            <script type=\"text/javascript\">\n",
       "                require([\"plotly\"], function(Plotly) {\n",
       "                    window.PLOTLYENV=window.PLOTLYENV || {};\n",
       "                    \n",
       "                if (document.getElementById(\"11ad5586-8fe0-4dfb-9104-e2330cd91d2d\")) {\n",
       "                    Plotly.newPlot(\n",
       "                        '11ad5586-8fe0-4dfb-9104-e2330cd91d2d',\n",
       "                        [{\"hovertemplate\": \"datr=SF10BW125<br>label=%{x}<br>dev_addr=%{y}<extra></extra>\", \"legendgroup\": \"SF10BW125\", \"marker\": {\"color\": \"#636efa\", \"opacity\": 0.9, \"symbol\": \"circle\"}, \"mode\": \"markers\", \"name\": \"SF10BW125\", \"showlegend\": true, \"type\": \"scatter\", \"x\": [10.0, 11.0, 5.0, 5.0, 5.0, 12.0, 5.0, 11.0, 10.0, 11.0, 11.0, 11.0, 5.0, 11.0, 11.0, 5.0, 5.0, 5.0, 12.0, 5.0, 12.0, 5.0, 11.0, 11.0, 5.0, 5.0, 5.0, 12.0, 12.0, 11.0, 5.0, 11.0, 11.0, 11.0, 5.0, 11.0, 12.0, 10.0, 5.0, 5.0, 11.0, 12.0, 5.0, 12.0, 5.0, 0.0, 11.0, 5.0, 5.0, 5.0, 5.0, 0.0, 11.0, 5.0, 5.0, 5.0, 11.0, 11.0, 5.0, 5.0, 11.0, 5.0, 5.0, 5.0, 11.0, 5.0, 12.0, 5.0, 11.0, 5.0, 5.0, 11.0, 5.0, 5.0, 5.0], \"xaxis\": \"x\", \"y\": [\"00000000\", \"0000000a\", \"0000000c\", \"00000014\", \"00000015\", \"00000022\", \"00000025\", \"0000002b\", \"0000002e\", \"00000033\", \"0000003d\", \"00000040\", \"00000044\", \"00000046\", \"00000053\", \"00000056\", \"0000005b\", \"00000061\", \"00000063\", \"00000068\", \"0000006e\", \"00000070\", \"00000074\", \"00000076\", \"0000007c\", \"0000007e\", \"00000085\", \"0000008d\", \"00000090\", \"00000092\", \"000000a3\", \"000000ab\", \"000000ac\", \"000000ad\", \"000000ae\", \"000000af\", \"000000b5\", \"000000b9\", \"000000ba\", \"000000c1\", \"000000c2\", \"000000c3\", \"000000c4\", \"000000c5\", \"000000c7\", \"000000c9\", \"000000ca\", \"000000cb\", \"000000cc\", \"000000d7\", \"000000d8\", \"000000da\", \"000000dc\", \"000000dd\", \"000000df\", \"000000e2\", \"000000e5\", \"000000e6\", \"000000eb\", \"000000ee\", \"000000ef\", \"000000f1\", \"000000f2\", \"000000f3\", \"000000f4\", \"000000f6\", \"000000f7\", \"000000f9\", \"000000fb\", \"00000100\", \"00000103\", \"00000109\", \"0000010f\", \"00000111\", \"00000120\"], \"yaxis\": \"y\"}, {\"hovertemplate\": \"datr=SF7BW125<br>label=%{x}<br>dev_addr=%{y}<extra></extra>\", \"legendgroup\": \"SF7BW125\", \"marker\": {\"color\": \"#EF553B\", \"opacity\": 0.9, \"symbol\": \"circle\"}, \"mode\": \"markers\", \"name\": \"SF7BW125\", \"showlegend\": true, \"type\": \"scatter\", \"x\": [6.0, 6.0, 4.0, 0.0, 1.0, 4.0, 12.0, 7.0, 4.0, 1.0, 1.0, 12.0, 4.0, 6.0, 0.0, 7.0, 1.0, 2.0, 6.0, 7.0, 1.0, 1.0, 7.0, 1.0, 6.0, 4.0, 1.0, 2.0, 4.0, 6.0, 2.0, 7.0, 4.0, 6.0, 2.0, 4.0, 6.0, 7.0, 6.0, 1.0, 4.0, 4.0, 1.0, 6.0, 4.0, 6.0, 1.0, 1.0, 6.0, 4.0, 8.0, 1.0, 4.0, 7.0, 4.0, 6.0, 1.0, 8.0, 6.0, 4.0, 7.0, 6.0, 12.0, 0.0, 12.0, 1.0, 2.0, 2.0, 4.0, 2.0, 6.0, 1.0, 4.0, 1.0, 8.0, 4.0, 2.0, 2.0, 2.0, 2.0, 1.0, 2.0, 7.0, 6.0, 1.0, 12.0, 6.0, 12.0, 6.0, 6.0, 12.0, 2.0, 6.0, 1.0, 1.0, 6.0, 4.0, 4.0, 4.0, 6.0, 7.0, 12.0, 6.0, 6.0, 4.0, 1.0, 12.0, 1.0, 2.0, 4.0, 4.0, 1.0, 6.0, 12.0, 1.0, 2.0, 2.0, 8.0, 1.0, 4.0, 4.0, 4.0, 6.0, 4.0, 6.0, 12.0, 4.0, 4.0, 6.0, 1.0, 2.0, 6.0, 0.0, 12.0, 12.0, 1.0, 7.0, 1.0, 4.0, 1.0, 6.0, 1.0, 6.0, 1.0, 6.0, 12.0, 1.0, 1.0, 12.0], \"xaxis\": \"x\", \"y\": [\"00000001\", \"00000002\", \"00000004\", \"00000005\", \"00000006\", \"00000007\", \"00000009\", \"0000000b\", \"0000000e\", \"0000000f\", \"00000010\", \"00000011\", \"00000012\", \"00000013\", \"00000016\", \"00000017\", \"00000018\", \"00000019\", \"0000001a\", \"0000001b\", \"0000001c\", \"0000001d\", \"0000001e\", \"0000001f\", \"00000020\", \"00000021\", \"00000023\", \"00000024\", \"00000026\", \"00000027\", \"00000028\", \"00000029\", \"0000002a\", \"0000002c\", \"0000002d\", \"00000031\", \"00000032\", \"00000034\", \"00000035\", \"00000036\", \"00000037\", \"00000038\", \"00000039\", \"0000003a\", \"0000003b\", \"0000003c\", \"0000003f\", \"00000041\", \"00000042\", \"00000043\", \"00000045\", \"00000048\", \"00000049\", \"0000004a\", \"0000004c\", \"0000004d\", \"0000004e\", \"0000004f\", \"00000050\", \"00000051\", \"00000052\", \"00000054\", \"00000057\", \"00000058\", \"00000059\", \"0000005a\", \"0000005c\", \"0000005d\", \"0000005e\", \"0000005f\", \"00000060\", \"00000062\", \"00000064\", \"00000065\", \"00000066\", \"00000067\", \"00000069\", \"0000006b\", \"0000006c\", \"0000006d\", \"0000006f\", \"00000071\", \"00000072\", \"00000075\", \"00000078\", \"00000079\", \"0000007a\", \"0000007b\", \"0000007d\", \"0000007f\", \"00000081\", \"00000082\", \"00000083\", \"00000087\", \"00000088\", \"00000089\", \"0000008a\", \"0000008b\", \"0000008c\", \"0000008e\", \"0000008f\", \"00000091\", \"00000093\", \"00000094\", \"00000095\", \"00000096\", \"00000097\", \"00000098\", \"00000099\", \"0000009a\", \"0000009b\", \"0000009c\", \"0000009d\", \"0000009f\", \"000000a0\", \"000000a1\", \"000000a2\", \"000000a4\", \"000000a5\", \"000000a6\", \"000000a7\", \"000000a8\", \"000000a9\", \"000000b0\", \"000000b3\", \"000000b4\", \"000000b6\", \"000000b7\", \"000000b8\", \"000000bd\", \"000000be\", \"000000c0\", \"000000c6\", \"000000c8\", \"000000cd\", \"000000ce\", \"000000d3\", \"000000d4\", \"000000d6\", \"000000d9\", \"000000db\", \"000000e4\", \"000000e8\", \"000000ea\", \"000000ec\", \"000000ed\", \"000000fa\", \"0000010e\", \"00000115\"], \"yaxis\": \"y\"}, {\"hovertemplate\": \"datr=SF8BW125<br>label=%{x}<br>dev_addr=%{y}<extra></extra>\", \"legendgroup\": \"SF8BW125\", \"marker\": {\"color\": \"#00cc96\", \"opacity\": 0.9, \"symbol\": \"circle\"}, \"mode\": \"markers\", \"name\": \"SF8BW125\", \"showlegend\": true, \"type\": \"scatter\", \"x\": [0.0], \"xaxis\": \"x\", \"y\": [\"00000003\"], \"yaxis\": \"y\"}, {\"hovertemplate\": \"datr=SF12BW125<br>label=%{x}<br>dev_addr=%{y}<extra></extra>\", \"legendgroup\": \"SF12BW125\", \"marker\": {\"color\": \"#ab63fa\", \"opacity\": 0.9, \"symbol\": \"circle\"}, \"mode\": \"markers\", \"name\": \"SF12BW125\", \"showlegend\": true, \"type\": \"scatter\", \"x\": [10.0, 3.0, 10.0, 10.0, 10.0, 9.0, 10.0, 3.0, 3.0, 3.0, 3.0, 3.0, 9.0, 10.0, 3.0, 3.0, 10.0, 10.0, 3.0, 10.0, 9.0, 3.0, 9.0, 9.0, 3.0, 10.0, 11.0, 3.0, 10.0, 9.0, 10.0, 3.0, 3.0, 9.0, 9.0, 3.0, 3.0, 3.0, 3.0, 9.0, 3.0, 10.0, 3.0, 3.0, 3.0, 3.0, 9.0, 9.0, 3.0, 9.0, 3.0, 3.0, 9.0, 9.0, 9.0, 3.0, 10.0, 3.0, 9.0, 9.0, 9.0, 9.0, 9.0, 9.0], \"xaxis\": \"x\", \"y\": [\"00000008\", \"0000000d\", \"0000002f\", \"00000030\", \"0000003e\", \"00000047\", \"0000004b\", \"00000055\", \"0000006a\", \"00000073\", \"00000077\", \"00000080\", \"00000084\", \"00000086\", \"0000009e\", \"000000aa\", \"000000b1\", \"000000b2\", \"000000bb\", \"000000bc\", \"000000bf\", \"000000cf\", \"000000d0\", \"000000d1\", \"000000d2\", \"000000d5\", \"000000de\", \"000000e0\", \"000000e3\", \"000000e7\", \"000000e9\", \"000000f0\", \"000000f5\", \"000000f8\", \"000000fc\", \"000000fd\", \"000000fe\", \"000000ff\", \"00000101\", \"00000102\", \"00000104\", \"00000105\", \"00000106\", \"00000107\", \"00000108\", \"0000010a\", \"0000010b\", \"0000010c\", \"0000010d\", \"00000110\", \"00000112\", \"00000113\", \"00000114\", \"00000116\", \"00000117\", \"00000118\", \"00000119\", \"0000011a\", \"0000011b\", \"0000011c\", \"0000011d\", \"0000011e\", \"0000011f\", \"00000121\"], \"yaxis\": \"y\"}, {\"hovertemplate\": \"datr=SF9BW125<br>label=%{x}<br>dev_addr=%{y}<extra></extra>\", \"legendgroup\": \"SF9BW125\", \"marker\": {\"color\": \"#FFA15A\", \"opacity\": 0.9, \"symbol\": \"circle\"}, \"mode\": \"markers\", \"name\": \"SF9BW125\", \"showlegend\": true, \"type\": \"scatter\", \"x\": [0.0], \"xaxis\": \"x\", \"y\": [\"000000e1\"], \"yaxis\": \"y\"}],\n",
       "                        {\"legend\": {\"title\": {\"text\": \"datr\"}, \"tracegroupgap\": 0}, \"margin\": {\"t\": 60}, \"template\": {\"data\": {\"bar\": [{\"error_x\": {\"color\": \"#2a3f5f\"}, \"error_y\": {\"color\": \"#2a3f5f\"}, \"marker\": {\"line\": {\"color\": \"#E5ECF6\", \"width\": 0.5}}, \"type\": \"bar\"}], \"barpolar\": [{\"marker\": {\"line\": {\"color\": \"#E5ECF6\", \"width\": 0.5}}, \"type\": \"barpolar\"}], \"carpet\": [{\"aaxis\": {\"endlinecolor\": \"#2a3f5f\", \"gridcolor\": \"white\", \"linecolor\": \"white\", \"minorgridcolor\": \"white\", \"startlinecolor\": \"#2a3f5f\"}, \"baxis\": {\"endlinecolor\": \"#2a3f5f\", \"gridcolor\": \"white\", \"linecolor\": \"white\", \"minorgridcolor\": \"white\", \"startlinecolor\": \"#2a3f5f\"}, \"type\": \"carpet\"}], \"choropleth\": [{\"colorbar\": {\"outlinewidth\": 0, \"ticks\": \"\"}, \"type\": \"choropleth\"}], \"contour\": [{\"colorbar\": {\"outlinewidth\": 0, \"ticks\": \"\"}, \"colorscale\": [[0.0, \"#0d0887\"], [0.1111111111111111, \"#46039f\"], [0.2222222222222222, \"#7201a8\"], [0.3333333333333333, \"#9c179e\"], [0.4444444444444444, \"#bd3786\"], [0.5555555555555556, \"#d8576b\"], [0.6666666666666666, \"#ed7953\"], [0.7777777777777778, \"#fb9f3a\"], [0.8888888888888888, \"#fdca26\"], [1.0, \"#f0f921\"]], \"type\": \"contour\"}], \"contourcarpet\": [{\"colorbar\": {\"outlinewidth\": 0, \"ticks\": \"\"}, \"type\": \"contourcarpet\"}], \"heatmap\": [{\"colorbar\": {\"outlinewidth\": 0, \"ticks\": \"\"}, \"colorscale\": [[0.0, \"#0d0887\"], [0.1111111111111111, \"#46039f\"], [0.2222222222222222, \"#7201a8\"], [0.3333333333333333, \"#9c179e\"], [0.4444444444444444, \"#bd3786\"], [0.5555555555555556, \"#d8576b\"], [0.6666666666666666, \"#ed7953\"], [0.7777777777777778, \"#fb9f3a\"], [0.8888888888888888, \"#fdca26\"], [1.0, \"#f0f921\"]], \"type\": \"heatmap\"}], \"heatmapgl\": [{\"colorbar\": {\"outlinewidth\": 0, \"ticks\": \"\"}, \"colorscale\": [[0.0, \"#0d0887\"], [0.1111111111111111, \"#46039f\"], [0.2222222222222222, \"#7201a8\"], [0.3333333333333333, \"#9c179e\"], [0.4444444444444444, \"#bd3786\"], [0.5555555555555556, \"#d8576b\"], [0.6666666666666666, \"#ed7953\"], [0.7777777777777778, \"#fb9f3a\"], [0.8888888888888888, \"#fdca26\"], [1.0, \"#f0f921\"]], \"type\": \"heatmapgl\"}], \"histogram\": [{\"marker\": {\"colorbar\": {\"outlinewidth\": 0, \"ticks\": \"\"}}, \"type\": \"histogram\"}], \"histogram2d\": [{\"colorbar\": {\"outlinewidth\": 0, \"ticks\": \"\"}, \"colorscale\": [[0.0, \"#0d0887\"], [0.1111111111111111, \"#46039f\"], [0.2222222222222222, \"#7201a8\"], [0.3333333333333333, \"#9c179e\"], [0.4444444444444444, \"#bd3786\"], [0.5555555555555556, \"#d8576b\"], [0.6666666666666666, \"#ed7953\"], [0.7777777777777778, \"#fb9f3a\"], [0.8888888888888888, \"#fdca26\"], [1.0, \"#f0f921\"]], \"type\": \"histogram2d\"}], \"histogram2dcontour\": [{\"colorbar\": {\"outlinewidth\": 0, \"ticks\": \"\"}, \"colorscale\": [[0.0, \"#0d0887\"], [0.1111111111111111, \"#46039f\"], [0.2222222222222222, \"#7201a8\"], [0.3333333333333333, \"#9c179e\"], [0.4444444444444444, \"#bd3786\"], [0.5555555555555556, \"#d8576b\"], [0.6666666666666666, \"#ed7953\"], [0.7777777777777778, \"#fb9f3a\"], [0.8888888888888888, \"#fdca26\"], [1.0, \"#f0f921\"]], \"type\": \"histogram2dcontour\"}], \"mesh3d\": [{\"colorbar\": {\"outlinewidth\": 0, \"ticks\": \"\"}, \"type\": \"mesh3d\"}], \"parcoords\": [{\"line\": {\"colorbar\": {\"outlinewidth\": 0, \"ticks\": \"\"}}, \"type\": \"parcoords\"}], \"pie\": [{\"automargin\": true, \"type\": \"pie\"}], \"scatter\": [{\"marker\": {\"colorbar\": {\"outlinewidth\": 0, \"ticks\": \"\"}}, \"type\": \"scatter\"}], \"scatter3d\": [{\"line\": {\"colorbar\": {\"outlinewidth\": 0, \"ticks\": \"\"}}, \"marker\": {\"colorbar\": {\"outlinewidth\": 0, \"ticks\": \"\"}}, \"type\": \"scatter3d\"}], \"scattercarpet\": [{\"marker\": {\"colorbar\": {\"outlinewidth\": 0, \"ticks\": \"\"}}, \"type\": \"scattercarpet\"}], \"scattergeo\": [{\"marker\": {\"colorbar\": {\"outlinewidth\": 0, \"ticks\": \"\"}}, \"type\": \"scattergeo\"}], \"scattergl\": [{\"marker\": {\"colorbar\": {\"outlinewidth\": 0, \"ticks\": \"\"}}, \"type\": \"scattergl\"}], \"scattermapbox\": [{\"marker\": {\"colorbar\": {\"outlinewidth\": 0, \"ticks\": \"\"}}, \"type\": \"scattermapbox\"}], \"scatterpolar\": [{\"marker\": {\"colorbar\": {\"outlinewidth\": 0, \"ticks\": \"\"}}, \"type\": \"scatterpolar\"}], \"scatterpolargl\": [{\"marker\": {\"colorbar\": {\"outlinewidth\": 0, \"ticks\": \"\"}}, \"type\": \"scatterpolargl\"}], \"scatterternary\": [{\"marker\": {\"colorbar\": {\"outlinewidth\": 0, \"ticks\": \"\"}}, \"type\": \"scatterternary\"}], \"surface\": [{\"colorbar\": {\"outlinewidth\": 0, \"ticks\": \"\"}, \"colorscale\": [[0.0, \"#0d0887\"], [0.1111111111111111, \"#46039f\"], [0.2222222222222222, \"#7201a8\"], [0.3333333333333333, \"#9c179e\"], [0.4444444444444444, \"#bd3786\"], [0.5555555555555556, \"#d8576b\"], [0.6666666666666666, \"#ed7953\"], [0.7777777777777778, \"#fb9f3a\"], [0.8888888888888888, \"#fdca26\"], [1.0, \"#f0f921\"]], \"type\": \"surface\"}], \"table\": [{\"cells\": {\"fill\": {\"color\": \"#EBF0F8\"}, \"line\": {\"color\": \"white\"}}, \"header\": {\"fill\": {\"color\": \"#C8D4E3\"}, \"line\": {\"color\": \"white\"}}, \"type\": \"table\"}]}, \"layout\": {\"annotationdefaults\": {\"arrowcolor\": \"#2a3f5f\", \"arrowhead\": 0, \"arrowwidth\": 1}, \"coloraxis\": {\"colorbar\": {\"outlinewidth\": 0, \"ticks\": \"\"}}, \"colorscale\": {\"diverging\": [[0, \"#8e0152\"], [0.1, \"#c51b7d\"], [0.2, \"#de77ae\"], [0.3, \"#f1b6da\"], [0.4, \"#fde0ef\"], [0.5, \"#f7f7f7\"], [0.6, \"#e6f5d0\"], [0.7, \"#b8e186\"], [0.8, \"#7fbc41\"], [0.9, \"#4d9221\"], [1, \"#276419\"]], \"sequential\": [[0.0, \"#0d0887\"], [0.1111111111111111, \"#46039f\"], [0.2222222222222222, \"#7201a8\"], [0.3333333333333333, \"#9c179e\"], [0.4444444444444444, \"#bd3786\"], [0.5555555555555556, \"#d8576b\"], [0.6666666666666666, \"#ed7953\"], [0.7777777777777778, \"#fb9f3a\"], [0.8888888888888888, \"#fdca26\"], [1.0, \"#f0f921\"]], \"sequentialminus\": [[0.0, \"#0d0887\"], [0.1111111111111111, \"#46039f\"], [0.2222222222222222, \"#7201a8\"], [0.3333333333333333, \"#9c179e\"], [0.4444444444444444, \"#bd3786\"], [0.5555555555555556, \"#d8576b\"], [0.6666666666666666, \"#ed7953\"], [0.7777777777777778, \"#fb9f3a\"], [0.8888888888888888, \"#fdca26\"], [1.0, \"#f0f921\"]]}, \"colorway\": [\"#636efa\", \"#EF553B\", \"#00cc96\", \"#ab63fa\", \"#FFA15A\", \"#19d3f3\", \"#FF6692\", \"#B6E880\", \"#FF97FF\", \"#FECB52\"], \"font\": {\"color\": \"#2a3f5f\"}, \"geo\": {\"bgcolor\": \"white\", \"lakecolor\": \"white\", \"landcolor\": \"#E5ECF6\", \"showlakes\": true, \"showland\": true, \"subunitcolor\": \"white\"}, \"hoverlabel\": {\"align\": \"left\"}, \"hovermode\": \"closest\", \"mapbox\": {\"style\": \"light\"}, \"paper_bgcolor\": \"white\", \"plot_bgcolor\": \"#E5ECF6\", \"polar\": {\"angularaxis\": {\"gridcolor\": \"white\", \"linecolor\": \"white\", \"ticks\": \"\"}, \"bgcolor\": \"#E5ECF6\", \"radialaxis\": {\"gridcolor\": \"white\", \"linecolor\": \"white\", \"ticks\": \"\"}}, \"scene\": {\"xaxis\": {\"backgroundcolor\": \"#E5ECF6\", \"gridcolor\": \"white\", \"gridwidth\": 2, \"linecolor\": \"white\", \"showbackground\": true, \"ticks\": \"\", \"zerolinecolor\": \"white\"}, \"yaxis\": {\"backgroundcolor\": \"#E5ECF6\", \"gridcolor\": \"white\", \"gridwidth\": 2, \"linecolor\": \"white\", \"showbackground\": true, \"ticks\": \"\", \"zerolinecolor\": \"white\"}, \"zaxis\": {\"backgroundcolor\": \"#E5ECF6\", \"gridcolor\": \"white\", \"gridwidth\": 2, \"linecolor\": \"white\", \"showbackground\": true, \"ticks\": \"\", \"zerolinecolor\": \"white\"}}, \"shapedefaults\": {\"line\": {\"color\": \"#2a3f5f\"}}, \"ternary\": {\"aaxis\": {\"gridcolor\": \"white\", \"linecolor\": \"white\", \"ticks\": \"\"}, \"baxis\": {\"gridcolor\": \"white\", \"linecolor\": \"white\", \"ticks\": \"\"}, \"bgcolor\": \"#E5ECF6\", \"caxis\": {\"gridcolor\": \"white\", \"linecolor\": \"white\", \"ticks\": \"\"}}, \"title\": {\"x\": 0.05}, \"xaxis\": {\"automargin\": true, \"gridcolor\": \"white\", \"linecolor\": \"white\", \"ticks\": \"\", \"title\": {\"standoff\": 15}, \"zerolinecolor\": \"white\", \"zerolinewidth\": 2}, \"yaxis\": {\"automargin\": true, \"gridcolor\": \"white\", \"linecolor\": \"white\", \"ticks\": \"\", \"title\": {\"standoff\": 15}, \"zerolinecolor\": \"white\", \"zerolinewidth\": 2}}}, \"xaxis\": {\"anchor\": \"y\", \"domain\": [0.0, 1.0], \"title\": {\"text\": \"label\"}}, \"yaxis\": {\"anchor\": \"x\", \"domain\": [0.0, 1.0], \"title\": {\"text\": \"dev_addr\"}}},\n",
       "                        {\"responsive\": true}\n",
       "                    ).then(function(){\n",
       "                            \n",
       "var gd = document.getElementById('11ad5586-8fe0-4dfb-9104-e2330cd91d2d');\n",
       "var x = new MutationObserver(function (mutations, observer) {{\n",
       "        var display = window.getComputedStyle(gd).display;\n",
       "        if (!display || display === 'none') {{\n",
       "            console.log([gd, 'removed!']);\n",
       "            Plotly.purge(gd);\n",
       "            observer.disconnect();\n",
       "        }}\n",
       "}});\n",
       "\n",
       "// Listen for the removal of the full notebook cells\n",
       "var notebookContainer = gd.closest('#notebook-container');\n",
       "if (notebookContainer) {{\n",
       "    x.observe(notebookContainer, {childList: true});\n",
       "}}\n",
       "\n",
       "// Listen for the clearing of the current output cell\n",
       "var outputEl = gd.closest('.output');\n",
       "if (outputEl) {{\n",
       "    x.observe(outputEl, {childList: true});\n",
       "}}\n",
       "\n",
       "                        })\n",
       "                };\n",
       "                });\n",
       "            </script>\n",
       "        </div>"
      ]
     },
     "metadata": {},
     "output_type": "display_data"
    }
   ],
   "source": [
    "fig = px.scatter(labeled_df, x='label',y='dev_addr',\n",
    "                color='datr', size_max=100,\n",
    "                opacity=0.9)\n",
    "fig.show()"
   ]
  },
  {
   "cell_type": "code",
   "execution_count": 63,
   "metadata": {},
   "outputs": [
    {
     "data": {
      "text/plain": [
       "array(['7276FF002E061495', '7276FF002E050264'], dtype=object)"
      ]
     },
     "execution_count": 63,
     "metadata": {},
     "output_type": "execute_result"
    }
   ],
   "source": [
    "labeled_df['gateway'].unique()"
   ]
  },
  {
   "cell_type": "code",
   "execution_count": 89,
   "metadata": {},
   "outputs": [],
   "source": [
    "count_series = labeled_df.groupby(['gateway']).size()"
   ]
  },
  {
   "cell_type": "code",
   "execution_count": 90,
   "metadata": {
    "scrolled": true
   },
   "outputs": [
    {
     "data": {
      "text/plain": [
       "gateway\n",
       "7276FF002E050264     14\n",
       "7276FF002E061495    276\n",
       "dtype: int64"
      ]
     },
     "execution_count": 90,
     "metadata": {},
     "output_type": "execute_result"
    }
   ],
   "source": [
    "count_series"
   ]
  },
  {
   "cell_type": "code",
   "execution_count": 105,
   "metadata": {
    "scrolled": false
   },
   "outputs": [
    {
     "data": {
      "application/vnd.plotly.v1+json": {
       "config": {
        "plotlyServerURL": "https://plot.ly"
       },
       "data": [
        {
         "hovertemplate": "gateway=%{x}<br>dev_addr=%{y}<br>label=%{marker.color}<extra></extra>",
         "legendgroup": "",
         "marker": {
          "color": [
           10,
           6,
           6,
           0,
           4,
           0,
           1,
           4,
           10,
           12,
           11,
           7,
           5,
           3,
           4,
           1,
           1,
           12,
           4,
           6,
           5,
           5,
           0,
           7,
           1,
           2,
           6,
           7,
           1,
           1,
           7,
           1,
           6,
           4,
           12,
           1,
           2,
           5,
           4,
           6,
           2,
           7,
           4,
           11,
           6,
           2,
           10,
           10,
           10,
           4,
           6,
           11,
           7,
           6,
           1,
           4,
           4,
           1,
           6,
           4,
           6,
           11,
           10,
           1,
           11,
           1,
           6,
           4,
           5,
           8,
           11,
           9,
           1,
           4,
           7,
           10,
           4,
           6,
           1,
           8,
           6,
           4,
           7,
           11,
           6,
           3,
           5,
           12,
           0,
           12,
           1,
           5,
           2,
           2,
           4,
           2,
           6,
           5,
           1,
           12,
           4,
           1,
           8,
           4,
           5,
           2,
           3,
           2,
           2,
           2,
           12,
           1,
           5,
           2,
           7,
           3,
           11,
           6,
           11,
           3,
           1,
           12,
           6,
           12,
           5,
           6,
           5,
           6,
           3,
           12,
           2,
           6,
           9,
           5,
           10,
           1,
           1,
           6,
           4,
           4,
           4,
           12,
           6,
           7,
           12,
           12,
           11,
           6,
           6,
           4,
           1,
           12,
           1,
           2,
           4,
           4,
           1,
           6,
           3,
           12,
           1,
           2,
           2,
           5,
           8,
           1,
           4,
           4,
           4,
           6,
           3,
           11,
           11,
           11,
           5,
           11,
           4,
           10,
           10,
           6,
           12,
           12,
           4,
           4,
           6,
           10,
           5,
           3,
           10,
           1,
           2,
           9,
           6,
           5,
           11,
           12,
           5,
           12,
           0,
           5,
           12,
           0,
           11,
           5,
           5,
           12,
           1,
           3,
           9,
           9,
           3,
           7,
           1,
           10,
           4,
           5,
           5,
           1,
           0,
           6,
           11,
           5,
           11,
           5,
           3,
           0,
           5,
           10,
           1,
           11,
           11,
           9,
           6,
           10,
           1,
           5,
           6,
           12,
           5,
           11,
           3,
           5,
           5,
           5,
           11,
           3,
           5,
           12,
           9,
           5,
           1,
           11,
           9,
           3,
           3,
           3,
           5,
           3,
           9,
           5,
           3,
           10,
           3,
           3,
           3,
           11,
           3,
           9,
           9,
           3,
           1,
           5,
           9,
           5,
           3,
           3,
           9,
           12,
           9,
           9,
           3,
           10,
           3,
           9,
           9,
           9,
           9,
           9,
           5,
           9
          ],
          "coloraxis": "coloraxis",
          "opacity": 0.9,
          "symbol": "circle"
         },
         "mode": "markers",
         "name": "",
         "showlegend": false,
         "type": "scatter",
         "x": [
          "7276FF002E061495",
          "7276FF002E061495",
          "7276FF002E061495",
          "7276FF002E061495",
          "7276FF002E061495",
          "7276FF002E061495",
          "7276FF002E061495",
          "7276FF002E061495",
          "7276FF002E061495",
          "7276FF002E061495",
          "7276FF002E061495",
          "7276FF002E061495",
          "7276FF002E061495",
          "7276FF002E061495",
          "7276FF002E061495",
          "7276FF002E061495",
          "7276FF002E061495",
          "7276FF002E061495",
          "7276FF002E061495",
          "7276FF002E061495",
          "7276FF002E061495",
          "7276FF002E061495",
          "7276FF002E061495",
          "7276FF002E061495",
          "7276FF002E061495",
          "7276FF002E061495",
          "7276FF002E061495",
          "7276FF002E061495",
          "7276FF002E061495",
          "7276FF002E061495",
          "7276FF002E061495",
          "7276FF002E061495",
          "7276FF002E061495",
          "7276FF002E061495",
          "7276FF002E061495",
          "7276FF002E061495",
          "7276FF002E061495",
          "7276FF002E061495",
          "7276FF002E061495",
          "7276FF002E061495",
          "7276FF002E061495",
          "7276FF002E061495",
          "7276FF002E061495",
          "7276FF002E061495",
          "7276FF002E061495",
          "7276FF002E061495",
          "7276FF002E061495",
          "7276FF002E050264",
          "7276FF002E061495",
          "7276FF002E061495",
          "7276FF002E061495",
          "7276FF002E061495",
          "7276FF002E061495",
          "7276FF002E061495",
          "7276FF002E061495",
          "7276FF002E061495",
          "7276FF002E061495",
          "7276FF002E061495",
          "7276FF002E061495",
          "7276FF002E061495",
          "7276FF002E061495",
          "7276FF002E061495",
          "7276FF002E061495",
          "7276FF002E061495",
          "7276FF002E061495",
          "7276FF002E061495",
          "7276FF002E061495",
          "7276FF002E061495",
          "7276FF002E061495",
          "7276FF002E061495",
          "7276FF002E061495",
          "7276FF002E061495",
          "7276FF002E061495",
          "7276FF002E061495",
          "7276FF002E061495",
          "7276FF002E061495",
          "7276FF002E061495",
          "7276FF002E061495",
          "7276FF002E061495",
          "7276FF002E061495",
          "7276FF002E061495",
          "7276FF002E061495",
          "7276FF002E061495",
          "7276FF002E061495",
          "7276FF002E061495",
          "7276FF002E061495",
          "7276FF002E061495",
          "7276FF002E061495",
          "7276FF002E050264",
          "7276FF002E061495",
          "7276FF002E061495",
          "7276FF002E061495",
          "7276FF002E061495",
          "7276FF002E061495",
          "7276FF002E061495",
          "7276FF002E061495",
          "7276FF002E061495",
          "7276FF002E061495",
          "7276FF002E061495",
          "7276FF002E061495",
          "7276FF002E061495",
          "7276FF002E061495",
          "7276FF002E061495",
          "7276FF002E061495",
          "7276FF002E061495",
          "7276FF002E061495",
          "7276FF002E061495",
          "7276FF002E061495",
          "7276FF002E061495",
          "7276FF002E061495",
          "7276FF002E061495",
          "7276FF002E061495",
          "7276FF002E061495",
          "7276FF002E061495",
          "7276FF002E061495",
          "7276FF002E050264",
          "7276FF002E061495",
          "7276FF002E061495",
          "7276FF002E061495",
          "7276FF002E061495",
          "7276FF002E061495",
          "7276FF002E061495",
          "7276FF002E061495",
          "7276FF002E050264",
          "7276FF002E061495",
          "7276FF002E061495",
          "7276FF002E061495",
          "7276FF002E061495",
          "7276FF002E061495",
          "7276FF002E050264",
          "7276FF002E061495",
          "7276FF002E061495",
          "7276FF002E050264",
          "7276FF002E061495",
          "7276FF002E061495",
          "7276FF002E061495",
          "7276FF002E061495",
          "7276FF002E061495",
          "7276FF002E061495",
          "7276FF002E061495",
          "7276FF002E061495",
          "7276FF002E061495",
          "7276FF002E061495",
          "7276FF002E061495",
          "7276FF002E061495",
          "7276FF002E061495",
          "7276FF002E061495",
          "7276FF002E061495",
          "7276FF002E061495",
          "7276FF002E061495",
          "7276FF002E061495",
          "7276FF002E061495",
          "7276FF002E061495",
          "7276FF002E061495",
          "7276FF002E061495",
          "7276FF002E061495",
          "7276FF002E061495",
          "7276FF002E061495",
          "7276FF002E061495",
          "7276FF002E061495",
          "7276FF002E061495",
          "7276FF002E061495",
          "7276FF002E061495",
          "7276FF002E061495",
          "7276FF002E061495",
          "7276FF002E061495",
          "7276FF002E061495",
          "7276FF002E061495",
          "7276FF002E061495",
          "7276FF002E061495",
          "7276FF002E061495",
          "7276FF002E061495",
          "7276FF002E061495",
          "7276FF002E061495",
          "7276FF002E061495",
          "7276FF002E061495",
          "7276FF002E061495",
          "7276FF002E061495",
          "7276FF002E061495",
          "7276FF002E061495",
          "7276FF002E061495",
          "7276FF002E061495",
          "7276FF002E061495",
          "7276FF002E061495",
          "7276FF002E061495",
          "7276FF002E061495",
          "7276FF002E061495",
          "7276FF002E061495",
          "7276FF002E061495",
          "7276FF002E061495",
          "7276FF002E061495",
          "7276FF002E050264",
          "7276FF002E061495",
          "7276FF002E061495",
          "7276FF002E061495",
          "7276FF002E061495",
          "7276FF002E061495",
          "7276FF002E061495",
          "7276FF002E061495",
          "7276FF002E061495",
          "7276FF002E061495",
          "7276FF002E061495",
          "7276FF002E061495",
          "7276FF002E061495",
          "7276FF002E061495",
          "7276FF002E061495",
          "7276FF002E061495",
          "7276FF002E061495",
          "7276FF002E061495",
          "7276FF002E061495",
          "7276FF002E061495",
          "7276FF002E061495",
          "7276FF002E061495",
          "7276FF002E061495",
          "7276FF002E061495",
          "7276FF002E061495",
          "7276FF002E061495",
          "7276FF002E061495",
          "7276FF002E061495",
          "7276FF002E061495",
          "7276FF002E061495",
          "7276FF002E061495",
          "7276FF002E061495",
          "7276FF002E061495",
          "7276FF002E061495",
          "7276FF002E061495",
          "7276FF002E061495",
          "7276FF002E061495",
          "7276FF002E061495",
          "7276FF002E061495",
          "7276FF002E061495",
          "7276FF002E050264",
          "7276FF002E061495",
          "7276FF002E061495",
          "7276FF002E061495",
          "7276FF002E061495",
          "7276FF002E061495",
          "7276FF002E050264",
          "7276FF002E061495",
          "7276FF002E061495",
          "7276FF002E061495",
          "7276FF002E061495",
          "7276FF002E061495",
          "7276FF002E050264",
          "7276FF002E061495",
          "7276FF002E061495",
          "7276FF002E061495",
          "7276FF002E050264",
          "7276FF002E061495",
          "7276FF002E061495",
          "7276FF002E061495",
          "7276FF002E061495",
          "7276FF002E050264",
          "7276FF002E061495",
          "7276FF002E061495",
          "7276FF002E061495",
          "7276FF002E061495",
          "7276FF002E061495",
          "7276FF002E061495",
          "7276FF002E061495",
          "7276FF002E061495",
          "7276FF002E061495",
          "7276FF002E061495",
          "7276FF002E061495",
          "7276FF002E061495",
          "7276FF002E061495",
          "7276FF002E061495",
          "7276FF002E050264",
          "7276FF002E050264",
          "7276FF002E061495",
          "7276FF002E061495",
          "7276FF002E061495",
          "7276FF002E061495",
          "7276FF002E061495",
          "7276FF002E061495",
          "7276FF002E061495",
          "7276FF002E061495",
          "7276FF002E061495",
          "7276FF002E061495",
          "7276FF002E061495",
          "7276FF002E061495",
          "7276FF002E061495",
          "7276FF002E061495",
          "7276FF002E061495",
          "7276FF002E061495",
          "7276FF002E061495",
          "7276FF002E061495",
          "7276FF002E061495",
          "7276FF002E061495",
          "7276FF002E061495"
         ],
         "xaxis": "x",
         "y": [
          "00000000",
          "00000001",
          "00000002",
          "00000003",
          "00000004",
          "00000005",
          "00000006",
          "00000007",
          "00000008",
          "00000009",
          "0000000a",
          "0000000b",
          "0000000c",
          "0000000d",
          "0000000e",
          "0000000f",
          "00000010",
          "00000011",
          "00000012",
          "00000013",
          "00000014",
          "00000015",
          "00000016",
          "00000017",
          "00000018",
          "00000019",
          "0000001a",
          "0000001b",
          "0000001c",
          "0000001d",
          "0000001e",
          "0000001f",
          "00000020",
          "00000021",
          "00000022",
          "00000023",
          "00000024",
          "00000025",
          "00000026",
          "00000027",
          "00000028",
          "00000029",
          "0000002a",
          "0000002b",
          "0000002c",
          "0000002d",
          "0000002e",
          "0000002f",
          "00000030",
          "00000031",
          "00000032",
          "00000033",
          "00000034",
          "00000035",
          "00000036",
          "00000037",
          "00000038",
          "00000039",
          "0000003a",
          "0000003b",
          "0000003c",
          "0000003d",
          "0000003e",
          "0000003f",
          "00000040",
          "00000041",
          "00000042",
          "00000043",
          "00000044",
          "00000045",
          "00000046",
          "00000047",
          "00000048",
          "00000049",
          "0000004a",
          "0000004b",
          "0000004c",
          "0000004d",
          "0000004e",
          "0000004f",
          "00000050",
          "00000051",
          "00000052",
          "00000053",
          "00000054",
          "00000055",
          "00000056",
          "00000057",
          "00000058",
          "00000059",
          "0000005a",
          "0000005b",
          "0000005c",
          "0000005d",
          "0000005e",
          "0000005f",
          "00000060",
          "00000061",
          "00000062",
          "00000063",
          "00000064",
          "00000065",
          "00000066",
          "00000067",
          "00000068",
          "00000069",
          "0000006a",
          "0000006b",
          "0000006c",
          "0000006d",
          "0000006e",
          "0000006f",
          "00000070",
          "00000071",
          "00000072",
          "00000073",
          "00000074",
          "00000075",
          "00000076",
          "00000077",
          "00000078",
          "00000079",
          "0000007a",
          "0000007b",
          "0000007c",
          "0000007d",
          "0000007e",
          "0000007f",
          "00000080",
          "00000081",
          "00000082",
          "00000083",
          "00000084",
          "00000085",
          "00000086",
          "00000087",
          "00000088",
          "00000089",
          "0000008a",
          "0000008b",
          "0000008c",
          "0000008d",
          "0000008e",
          "0000008f",
          "00000090",
          "00000091",
          "00000092",
          "00000093",
          "00000094",
          "00000095",
          "00000096",
          "00000097",
          "00000098",
          "00000099",
          "0000009a",
          "0000009b",
          "0000009c",
          "0000009d",
          "0000009e",
          "0000009f",
          "000000a0",
          "000000a1",
          "000000a2",
          "000000a3",
          "000000a4",
          "000000a5",
          "000000a6",
          "000000a7",
          "000000a8",
          "000000a9",
          "000000aa",
          "000000ab",
          "000000ac",
          "000000ad",
          "000000ae",
          "000000af",
          "000000b0",
          "000000b1",
          "000000b2",
          "000000b3",
          "000000b4",
          "000000b5",
          "000000b6",
          "000000b7",
          "000000b8",
          "000000b9",
          "000000ba",
          "000000bb",
          "000000bc",
          "000000bd",
          "000000be",
          "000000bf",
          "000000c0",
          "000000c1",
          "000000c2",
          "000000c3",
          "000000c4",
          "000000c5",
          "000000c6",
          "000000c7",
          "000000c8",
          "000000c9",
          "000000ca",
          "000000cb",
          "000000cc",
          "000000cd",
          "000000ce",
          "000000cf",
          "000000d0",
          "000000d1",
          "000000d2",
          "000000d3",
          "000000d4",
          "000000d5",
          "000000d6",
          "000000d7",
          "000000d8",
          "000000d9",
          "000000da",
          "000000db",
          "000000dc",
          "000000dd",
          "000000de",
          "000000df",
          "000000e0",
          "000000e1",
          "000000e2",
          "000000e3",
          "000000e4",
          "000000e5",
          "000000e6",
          "000000e7",
          "000000e8",
          "000000e9",
          "000000ea",
          "000000eb",
          "000000ec",
          "000000ed",
          "000000ee",
          "000000ef",
          "000000f0",
          "000000f1",
          "000000f2",
          "000000f3",
          "000000f4",
          "000000f5",
          "000000f6",
          "000000f7",
          "000000f8",
          "000000f9",
          "000000fa",
          "000000fb",
          "000000fc",
          "000000fd",
          "000000fe",
          "000000ff",
          "00000100",
          "00000101",
          "00000102",
          "00000103",
          "00000104",
          "00000105",
          "00000106",
          "00000107",
          "00000108",
          "00000109",
          "0000010a",
          "0000010b",
          "0000010c",
          "0000010d",
          "0000010e",
          "0000010f",
          "00000110",
          "00000111",
          "00000112",
          "00000113",
          "00000114",
          "00000115",
          "00000116",
          "00000117",
          "00000118",
          "00000119",
          "0000011a",
          "0000011b",
          "0000011c",
          "0000011d",
          "0000011e",
          "0000011f",
          "00000120",
          "00000121"
         ],
         "yaxis": "y"
        }
       ],
       "layout": {
        "coloraxis": {
         "colorbar": {
          "title": {
           "text": "label"
          }
         },
         "colorscale": [
          [
           0,
           "#0d0887"
          ],
          [
           0.1111111111111111,
           "#46039f"
          ],
          [
           0.2222222222222222,
           "#7201a8"
          ],
          [
           0.3333333333333333,
           "#9c179e"
          ],
          [
           0.4444444444444444,
           "#bd3786"
          ],
          [
           0.5555555555555556,
           "#d8576b"
          ],
          [
           0.6666666666666666,
           "#ed7953"
          ],
          [
           0.7777777777777778,
           "#fb9f3a"
          ],
          [
           0.8888888888888888,
           "#fdca26"
          ],
          [
           1,
           "#f0f921"
          ]
         ]
        },
        "legend": {
         "tracegroupgap": 0
        },
        "margin": {
         "t": 60
        },
        "template": {
         "data": {
          "bar": [
           {
            "error_x": {
             "color": "#2a3f5f"
            },
            "error_y": {
             "color": "#2a3f5f"
            },
            "marker": {
             "line": {
              "color": "#E5ECF6",
              "width": 0.5
             }
            },
            "type": "bar"
           }
          ],
          "barpolar": [
           {
            "marker": {
             "line": {
              "color": "#E5ECF6",
              "width": 0.5
             }
            },
            "type": "barpolar"
           }
          ],
          "carpet": [
           {
            "aaxis": {
             "endlinecolor": "#2a3f5f",
             "gridcolor": "white",
             "linecolor": "white",
             "minorgridcolor": "white",
             "startlinecolor": "#2a3f5f"
            },
            "baxis": {
             "endlinecolor": "#2a3f5f",
             "gridcolor": "white",
             "linecolor": "white",
             "minorgridcolor": "white",
             "startlinecolor": "#2a3f5f"
            },
            "type": "carpet"
           }
          ],
          "choropleth": [
           {
            "colorbar": {
             "outlinewidth": 0,
             "ticks": ""
            },
            "type": "choropleth"
           }
          ],
          "contour": [
           {
            "colorbar": {
             "outlinewidth": 0,
             "ticks": ""
            },
            "colorscale": [
             [
              0,
              "#0d0887"
             ],
             [
              0.1111111111111111,
              "#46039f"
             ],
             [
              0.2222222222222222,
              "#7201a8"
             ],
             [
              0.3333333333333333,
              "#9c179e"
             ],
             [
              0.4444444444444444,
              "#bd3786"
             ],
             [
              0.5555555555555556,
              "#d8576b"
             ],
             [
              0.6666666666666666,
              "#ed7953"
             ],
             [
              0.7777777777777778,
              "#fb9f3a"
             ],
             [
              0.8888888888888888,
              "#fdca26"
             ],
             [
              1,
              "#f0f921"
             ]
            ],
            "type": "contour"
           }
          ],
          "contourcarpet": [
           {
            "colorbar": {
             "outlinewidth": 0,
             "ticks": ""
            },
            "type": "contourcarpet"
           }
          ],
          "heatmap": [
           {
            "colorbar": {
             "outlinewidth": 0,
             "ticks": ""
            },
            "colorscale": [
             [
              0,
              "#0d0887"
             ],
             [
              0.1111111111111111,
              "#46039f"
             ],
             [
              0.2222222222222222,
              "#7201a8"
             ],
             [
              0.3333333333333333,
              "#9c179e"
             ],
             [
              0.4444444444444444,
              "#bd3786"
             ],
             [
              0.5555555555555556,
              "#d8576b"
             ],
             [
              0.6666666666666666,
              "#ed7953"
             ],
             [
              0.7777777777777778,
              "#fb9f3a"
             ],
             [
              0.8888888888888888,
              "#fdca26"
             ],
             [
              1,
              "#f0f921"
             ]
            ],
            "type": "heatmap"
           }
          ],
          "heatmapgl": [
           {
            "colorbar": {
             "outlinewidth": 0,
             "ticks": ""
            },
            "colorscale": [
             [
              0,
              "#0d0887"
             ],
             [
              0.1111111111111111,
              "#46039f"
             ],
             [
              0.2222222222222222,
              "#7201a8"
             ],
             [
              0.3333333333333333,
              "#9c179e"
             ],
             [
              0.4444444444444444,
              "#bd3786"
             ],
             [
              0.5555555555555556,
              "#d8576b"
             ],
             [
              0.6666666666666666,
              "#ed7953"
             ],
             [
              0.7777777777777778,
              "#fb9f3a"
             ],
             [
              0.8888888888888888,
              "#fdca26"
             ],
             [
              1,
              "#f0f921"
             ]
            ],
            "type": "heatmapgl"
           }
          ],
          "histogram": [
           {
            "marker": {
             "colorbar": {
              "outlinewidth": 0,
              "ticks": ""
             }
            },
            "type": "histogram"
           }
          ],
          "histogram2d": [
           {
            "colorbar": {
             "outlinewidth": 0,
             "ticks": ""
            },
            "colorscale": [
             [
              0,
              "#0d0887"
             ],
             [
              0.1111111111111111,
              "#46039f"
             ],
             [
              0.2222222222222222,
              "#7201a8"
             ],
             [
              0.3333333333333333,
              "#9c179e"
             ],
             [
              0.4444444444444444,
              "#bd3786"
             ],
             [
              0.5555555555555556,
              "#d8576b"
             ],
             [
              0.6666666666666666,
              "#ed7953"
             ],
             [
              0.7777777777777778,
              "#fb9f3a"
             ],
             [
              0.8888888888888888,
              "#fdca26"
             ],
             [
              1,
              "#f0f921"
             ]
            ],
            "type": "histogram2d"
           }
          ],
          "histogram2dcontour": [
           {
            "colorbar": {
             "outlinewidth": 0,
             "ticks": ""
            },
            "colorscale": [
             [
              0,
              "#0d0887"
             ],
             [
              0.1111111111111111,
              "#46039f"
             ],
             [
              0.2222222222222222,
              "#7201a8"
             ],
             [
              0.3333333333333333,
              "#9c179e"
             ],
             [
              0.4444444444444444,
              "#bd3786"
             ],
             [
              0.5555555555555556,
              "#d8576b"
             ],
             [
              0.6666666666666666,
              "#ed7953"
             ],
             [
              0.7777777777777778,
              "#fb9f3a"
             ],
             [
              0.8888888888888888,
              "#fdca26"
             ],
             [
              1,
              "#f0f921"
             ]
            ],
            "type": "histogram2dcontour"
           }
          ],
          "mesh3d": [
           {
            "colorbar": {
             "outlinewidth": 0,
             "ticks": ""
            },
            "type": "mesh3d"
           }
          ],
          "parcoords": [
           {
            "line": {
             "colorbar": {
              "outlinewidth": 0,
              "ticks": ""
             }
            },
            "type": "parcoords"
           }
          ],
          "pie": [
           {
            "automargin": true,
            "type": "pie"
           }
          ],
          "scatter": [
           {
            "marker": {
             "colorbar": {
              "outlinewidth": 0,
              "ticks": ""
             }
            },
            "type": "scatter"
           }
          ],
          "scatter3d": [
           {
            "line": {
             "colorbar": {
              "outlinewidth": 0,
              "ticks": ""
             }
            },
            "marker": {
             "colorbar": {
              "outlinewidth": 0,
              "ticks": ""
             }
            },
            "type": "scatter3d"
           }
          ],
          "scattercarpet": [
           {
            "marker": {
             "colorbar": {
              "outlinewidth": 0,
              "ticks": ""
             }
            },
            "type": "scattercarpet"
           }
          ],
          "scattergeo": [
           {
            "marker": {
             "colorbar": {
              "outlinewidth": 0,
              "ticks": ""
             }
            },
            "type": "scattergeo"
           }
          ],
          "scattergl": [
           {
            "marker": {
             "colorbar": {
              "outlinewidth": 0,
              "ticks": ""
             }
            },
            "type": "scattergl"
           }
          ],
          "scattermapbox": [
           {
            "marker": {
             "colorbar": {
              "outlinewidth": 0,
              "ticks": ""
             }
            },
            "type": "scattermapbox"
           }
          ],
          "scatterpolar": [
           {
            "marker": {
             "colorbar": {
              "outlinewidth": 0,
              "ticks": ""
             }
            },
            "type": "scatterpolar"
           }
          ],
          "scatterpolargl": [
           {
            "marker": {
             "colorbar": {
              "outlinewidth": 0,
              "ticks": ""
             }
            },
            "type": "scatterpolargl"
           }
          ],
          "scatterternary": [
           {
            "marker": {
             "colorbar": {
              "outlinewidth": 0,
              "ticks": ""
             }
            },
            "type": "scatterternary"
           }
          ],
          "surface": [
           {
            "colorbar": {
             "outlinewidth": 0,
             "ticks": ""
            },
            "colorscale": [
             [
              0,
              "#0d0887"
             ],
             [
              0.1111111111111111,
              "#46039f"
             ],
             [
              0.2222222222222222,
              "#7201a8"
             ],
             [
              0.3333333333333333,
              "#9c179e"
             ],
             [
              0.4444444444444444,
              "#bd3786"
             ],
             [
              0.5555555555555556,
              "#d8576b"
             ],
             [
              0.6666666666666666,
              "#ed7953"
             ],
             [
              0.7777777777777778,
              "#fb9f3a"
             ],
             [
              0.8888888888888888,
              "#fdca26"
             ],
             [
              1,
              "#f0f921"
             ]
            ],
            "type": "surface"
           }
          ],
          "table": [
           {
            "cells": {
             "fill": {
              "color": "#EBF0F8"
             },
             "line": {
              "color": "white"
             }
            },
            "header": {
             "fill": {
              "color": "#C8D4E3"
             },
             "line": {
              "color": "white"
             }
            },
            "type": "table"
           }
          ]
         },
         "layout": {
          "annotationdefaults": {
           "arrowcolor": "#2a3f5f",
           "arrowhead": 0,
           "arrowwidth": 1
          },
          "coloraxis": {
           "colorbar": {
            "outlinewidth": 0,
            "ticks": ""
           }
          },
          "colorscale": {
           "diverging": [
            [
             0,
             "#8e0152"
            ],
            [
             0.1,
             "#c51b7d"
            ],
            [
             0.2,
             "#de77ae"
            ],
            [
             0.3,
             "#f1b6da"
            ],
            [
             0.4,
             "#fde0ef"
            ],
            [
             0.5,
             "#f7f7f7"
            ],
            [
             0.6,
             "#e6f5d0"
            ],
            [
             0.7,
             "#b8e186"
            ],
            [
             0.8,
             "#7fbc41"
            ],
            [
             0.9,
             "#4d9221"
            ],
            [
             1,
             "#276419"
            ]
           ],
           "sequential": [
            [
             0,
             "#0d0887"
            ],
            [
             0.1111111111111111,
             "#46039f"
            ],
            [
             0.2222222222222222,
             "#7201a8"
            ],
            [
             0.3333333333333333,
             "#9c179e"
            ],
            [
             0.4444444444444444,
             "#bd3786"
            ],
            [
             0.5555555555555556,
             "#d8576b"
            ],
            [
             0.6666666666666666,
             "#ed7953"
            ],
            [
             0.7777777777777778,
             "#fb9f3a"
            ],
            [
             0.8888888888888888,
             "#fdca26"
            ],
            [
             1,
             "#f0f921"
            ]
           ],
           "sequentialminus": [
            [
             0,
             "#0d0887"
            ],
            [
             0.1111111111111111,
             "#46039f"
            ],
            [
             0.2222222222222222,
             "#7201a8"
            ],
            [
             0.3333333333333333,
             "#9c179e"
            ],
            [
             0.4444444444444444,
             "#bd3786"
            ],
            [
             0.5555555555555556,
             "#d8576b"
            ],
            [
             0.6666666666666666,
             "#ed7953"
            ],
            [
             0.7777777777777778,
             "#fb9f3a"
            ],
            [
             0.8888888888888888,
             "#fdca26"
            ],
            [
             1,
             "#f0f921"
            ]
           ]
          },
          "colorway": [
           "#636efa",
           "#EF553B",
           "#00cc96",
           "#ab63fa",
           "#FFA15A",
           "#19d3f3",
           "#FF6692",
           "#B6E880",
           "#FF97FF",
           "#FECB52"
          ],
          "font": {
           "color": "#2a3f5f"
          },
          "geo": {
           "bgcolor": "white",
           "lakecolor": "white",
           "landcolor": "#E5ECF6",
           "showlakes": true,
           "showland": true,
           "subunitcolor": "white"
          },
          "hoverlabel": {
           "align": "left"
          },
          "hovermode": "closest",
          "mapbox": {
           "style": "light"
          },
          "paper_bgcolor": "white",
          "plot_bgcolor": "#E5ECF6",
          "polar": {
           "angularaxis": {
            "gridcolor": "white",
            "linecolor": "white",
            "ticks": ""
           },
           "bgcolor": "#E5ECF6",
           "radialaxis": {
            "gridcolor": "white",
            "linecolor": "white",
            "ticks": ""
           }
          },
          "scene": {
           "xaxis": {
            "backgroundcolor": "#E5ECF6",
            "gridcolor": "white",
            "gridwidth": 2,
            "linecolor": "white",
            "showbackground": true,
            "ticks": "",
            "zerolinecolor": "white"
           },
           "yaxis": {
            "backgroundcolor": "#E5ECF6",
            "gridcolor": "white",
            "gridwidth": 2,
            "linecolor": "white",
            "showbackground": true,
            "ticks": "",
            "zerolinecolor": "white"
           },
           "zaxis": {
            "backgroundcolor": "#E5ECF6",
            "gridcolor": "white",
            "gridwidth": 2,
            "linecolor": "white",
            "showbackground": true,
            "ticks": "",
            "zerolinecolor": "white"
           }
          },
          "shapedefaults": {
           "line": {
            "color": "#2a3f5f"
           }
          },
          "ternary": {
           "aaxis": {
            "gridcolor": "white",
            "linecolor": "white",
            "ticks": ""
           },
           "baxis": {
            "gridcolor": "white",
            "linecolor": "white",
            "ticks": ""
           },
           "bgcolor": "#E5ECF6",
           "caxis": {
            "gridcolor": "white",
            "linecolor": "white",
            "ticks": ""
           }
          },
          "title": {
           "x": 0.05
          },
          "xaxis": {
           "automargin": true,
           "gridcolor": "white",
           "linecolor": "white",
           "ticks": "",
           "title": {
            "standoff": 15
           },
           "zerolinecolor": "white",
           "zerolinewidth": 2
          },
          "yaxis": {
           "automargin": true,
           "gridcolor": "white",
           "linecolor": "white",
           "ticks": "",
           "title": {
            "standoff": 15
           },
           "zerolinecolor": "white",
           "zerolinewidth": 2
          }
         }
        },
        "xaxis": {
         "anchor": "y",
         "domain": [
          0,
          1
         ],
         "title": {
          "text": "gateway"
         }
        },
        "yaxis": {
         "anchor": "x",
         "domain": [
          0,
          1
         ],
         "title": {
          "text": "dev_addr"
         }
        }
       }
      },
      "text/html": [
       "<div>\n",
       "        \n",
       "        \n",
       "            <div id=\"27ac12f3-bb94-4c16-b592-3857e74df1ff\" class=\"plotly-graph-div\" style=\"height:525px; width:100%;\"></div>\n",
       "            <script type=\"text/javascript\">\n",
       "                require([\"plotly\"], function(Plotly) {\n",
       "                    window.PLOTLYENV=window.PLOTLYENV || {};\n",
       "                    \n",
       "                if (document.getElementById(\"27ac12f3-bb94-4c16-b592-3857e74df1ff\")) {\n",
       "                    Plotly.newPlot(\n",
       "                        '27ac12f3-bb94-4c16-b592-3857e74df1ff',\n",
       "                        [{\"hovertemplate\": \"gateway=%{x}<br>dev_addr=%{y}<br>label=%{marker.color}<extra></extra>\", \"legendgroup\": \"\", \"marker\": {\"color\": [10.0, 6.0, 6.0, 0.0, 4.0, 0.0, 1.0, 4.0, 10.0, 12.0, 11.0, 7.0, 5.0, 3.0, 4.0, 1.0, 1.0, 12.0, 4.0, 6.0, 5.0, 5.0, 0.0, 7.0, 1.0, 2.0, 6.0, 7.0, 1.0, 1.0, 7.0, 1.0, 6.0, 4.0, 12.0, 1.0, 2.0, 5.0, 4.0, 6.0, 2.0, 7.0, 4.0, 11.0, 6.0, 2.0, 10.0, 10.0, 10.0, 4.0, 6.0, 11.0, 7.0, 6.0, 1.0, 4.0, 4.0, 1.0, 6.0, 4.0, 6.0, 11.0, 10.0, 1.0, 11.0, 1.0, 6.0, 4.0, 5.0, 8.0, 11.0, 9.0, 1.0, 4.0, 7.0, 10.0, 4.0, 6.0, 1.0, 8.0, 6.0, 4.0, 7.0, 11.0, 6.0, 3.0, 5.0, 12.0, 0.0, 12.0, 1.0, 5.0, 2.0, 2.0, 4.0, 2.0, 6.0, 5.0, 1.0, 12.0, 4.0, 1.0, 8.0, 4.0, 5.0, 2.0, 3.0, 2.0, 2.0, 2.0, 12.0, 1.0, 5.0, 2.0, 7.0, 3.0, 11.0, 6.0, 11.0, 3.0, 1.0, 12.0, 6.0, 12.0, 5.0, 6.0, 5.0, 6.0, 3.0, 12.0, 2.0, 6.0, 9.0, 5.0, 10.0, 1.0, 1.0, 6.0, 4.0, 4.0, 4.0, 12.0, 6.0, 7.0, 12.0, 12.0, 11.0, 6.0, 6.0, 4.0, 1.0, 12.0, 1.0, 2.0, 4.0, 4.0, 1.0, 6.0, 3.0, 12.0, 1.0, 2.0, 2.0, 5.0, 8.0, 1.0, 4.0, 4.0, 4.0, 6.0, 3.0, 11.0, 11.0, 11.0, 5.0, 11.0, 4.0, 10.0, 10.0, 6.0, 12.0, 12.0, 4.0, 4.0, 6.0, 10.0, 5.0, 3.0, 10.0, 1.0, 2.0, 9.0, 6.0, 5.0, 11.0, 12.0, 5.0, 12.0, 0.0, 5.0, 12.0, 0.0, 11.0, 5.0, 5.0, 12.0, 1.0, 3.0, 9.0, 9.0, 3.0, 7.0, 1.0, 10.0, 4.0, 5.0, 5.0, 1.0, 0.0, 6.0, 11.0, 5.0, 11.0, 5.0, 3.0, 0.0, 5.0, 10.0, 1.0, 11.0, 11.0, 9.0, 6.0, 10.0, 1.0, 5.0, 6.0, 12.0, 5.0, 11.0, 3.0, 5.0, 5.0, 5.0, 11.0, 3.0, 5.0, 12.0, 9.0, 5.0, 1.0, 11.0, 9.0, 3.0, 3.0, 3.0, 5.0, 3.0, 9.0, 5.0, 3.0, 10.0, 3.0, 3.0, 3.0, 11.0, 3.0, 9.0, 9.0, 3.0, 1.0, 5.0, 9.0, 5.0, 3.0, 3.0, 9.0, 12.0, 9.0, 9.0, 3.0, 10.0, 3.0, 9.0, 9.0, 9.0, 9.0, 9.0, 5.0, 9.0], \"coloraxis\": \"coloraxis\", \"opacity\": 0.9, \"symbol\": \"circle\"}, \"mode\": \"markers\", \"name\": \"\", \"showlegend\": false, \"type\": \"scatter\", \"x\": [\"7276FF002E061495\", \"7276FF002E061495\", \"7276FF002E061495\", \"7276FF002E061495\", \"7276FF002E061495\", \"7276FF002E061495\", \"7276FF002E061495\", \"7276FF002E061495\", \"7276FF002E061495\", \"7276FF002E061495\", \"7276FF002E061495\", \"7276FF002E061495\", \"7276FF002E061495\", \"7276FF002E061495\", \"7276FF002E061495\", \"7276FF002E061495\", \"7276FF002E061495\", \"7276FF002E061495\", \"7276FF002E061495\", \"7276FF002E061495\", \"7276FF002E061495\", \"7276FF002E061495\", \"7276FF002E061495\", \"7276FF002E061495\", \"7276FF002E061495\", \"7276FF002E061495\", \"7276FF002E061495\", \"7276FF002E061495\", \"7276FF002E061495\", \"7276FF002E061495\", \"7276FF002E061495\", \"7276FF002E061495\", \"7276FF002E061495\", \"7276FF002E061495\", \"7276FF002E061495\", \"7276FF002E061495\", \"7276FF002E061495\", \"7276FF002E061495\", \"7276FF002E061495\", \"7276FF002E061495\", \"7276FF002E061495\", \"7276FF002E061495\", \"7276FF002E061495\", \"7276FF002E061495\", \"7276FF002E061495\", \"7276FF002E061495\", \"7276FF002E061495\", \"7276FF002E050264\", \"7276FF002E061495\", \"7276FF002E061495\", \"7276FF002E061495\", \"7276FF002E061495\", \"7276FF002E061495\", \"7276FF002E061495\", \"7276FF002E061495\", \"7276FF002E061495\", \"7276FF002E061495\", \"7276FF002E061495\", \"7276FF002E061495\", \"7276FF002E061495\", \"7276FF002E061495\", \"7276FF002E061495\", \"7276FF002E061495\", \"7276FF002E061495\", \"7276FF002E061495\", \"7276FF002E061495\", \"7276FF002E061495\", \"7276FF002E061495\", \"7276FF002E061495\", \"7276FF002E061495\", \"7276FF002E061495\", \"7276FF002E061495\", \"7276FF002E061495\", \"7276FF002E061495\", \"7276FF002E061495\", \"7276FF002E061495\", \"7276FF002E061495\", \"7276FF002E061495\", \"7276FF002E061495\", \"7276FF002E061495\", \"7276FF002E061495\", \"7276FF002E061495\", \"7276FF002E061495\", \"7276FF002E061495\", \"7276FF002E061495\", \"7276FF002E061495\", \"7276FF002E061495\", \"7276FF002E061495\", \"7276FF002E050264\", \"7276FF002E061495\", \"7276FF002E061495\", \"7276FF002E061495\", \"7276FF002E061495\", \"7276FF002E061495\", \"7276FF002E061495\", \"7276FF002E061495\", \"7276FF002E061495\", \"7276FF002E061495\", \"7276FF002E061495\", \"7276FF002E061495\", \"7276FF002E061495\", \"7276FF002E061495\", \"7276FF002E061495\", \"7276FF002E061495\", \"7276FF002E061495\", \"7276FF002E061495\", \"7276FF002E061495\", \"7276FF002E061495\", \"7276FF002E061495\", \"7276FF002E061495\", \"7276FF002E061495\", \"7276FF002E061495\", \"7276FF002E061495\", \"7276FF002E061495\", \"7276FF002E061495\", \"7276FF002E050264\", \"7276FF002E061495\", \"7276FF002E061495\", \"7276FF002E061495\", \"7276FF002E061495\", \"7276FF002E061495\", \"7276FF002E061495\", \"7276FF002E061495\", \"7276FF002E050264\", \"7276FF002E061495\", \"7276FF002E061495\", \"7276FF002E061495\", \"7276FF002E061495\", \"7276FF002E061495\", \"7276FF002E050264\", \"7276FF002E061495\", \"7276FF002E061495\", \"7276FF002E050264\", \"7276FF002E061495\", \"7276FF002E061495\", \"7276FF002E061495\", \"7276FF002E061495\", \"7276FF002E061495\", \"7276FF002E061495\", \"7276FF002E061495\", \"7276FF002E061495\", \"7276FF002E061495\", \"7276FF002E061495\", \"7276FF002E061495\", \"7276FF002E061495\", \"7276FF002E061495\", \"7276FF002E061495\", \"7276FF002E061495\", \"7276FF002E061495\", \"7276FF002E061495\", \"7276FF002E061495\", \"7276FF002E061495\", \"7276FF002E061495\", \"7276FF002E061495\", \"7276FF002E061495\", \"7276FF002E061495\", \"7276FF002E061495\", \"7276FF002E061495\", \"7276FF002E061495\", \"7276FF002E061495\", \"7276FF002E061495\", \"7276FF002E061495\", \"7276FF002E061495\", \"7276FF002E061495\", \"7276FF002E061495\", \"7276FF002E061495\", \"7276FF002E061495\", \"7276FF002E061495\", \"7276FF002E061495\", \"7276FF002E061495\", \"7276FF002E061495\", \"7276FF002E061495\", \"7276FF002E061495\", \"7276FF002E061495\", \"7276FF002E061495\", \"7276FF002E061495\", \"7276FF002E061495\", \"7276FF002E061495\", \"7276FF002E061495\", \"7276FF002E061495\", \"7276FF002E061495\", \"7276FF002E061495\", \"7276FF002E061495\", \"7276FF002E061495\", \"7276FF002E061495\", \"7276FF002E061495\", \"7276FF002E061495\", \"7276FF002E061495\", \"7276FF002E061495\", \"7276FF002E061495\", \"7276FF002E061495\", \"7276FF002E050264\", \"7276FF002E061495\", \"7276FF002E061495\", \"7276FF002E061495\", \"7276FF002E061495\", \"7276FF002E061495\", \"7276FF002E061495\", \"7276FF002E061495\", \"7276FF002E061495\", \"7276FF002E061495\", \"7276FF002E061495\", \"7276FF002E061495\", \"7276FF002E061495\", \"7276FF002E061495\", \"7276FF002E061495\", \"7276FF002E061495\", \"7276FF002E061495\", \"7276FF002E061495\", \"7276FF002E061495\", \"7276FF002E061495\", \"7276FF002E061495\", \"7276FF002E061495\", \"7276FF002E061495\", \"7276FF002E061495\", \"7276FF002E061495\", \"7276FF002E061495\", \"7276FF002E061495\", \"7276FF002E061495\", \"7276FF002E061495\", \"7276FF002E061495\", \"7276FF002E061495\", \"7276FF002E061495\", \"7276FF002E061495\", \"7276FF002E061495\", \"7276FF002E061495\", \"7276FF002E061495\", \"7276FF002E061495\", \"7276FF002E061495\", \"7276FF002E061495\", \"7276FF002E061495\", \"7276FF002E050264\", \"7276FF002E061495\", \"7276FF002E061495\", \"7276FF002E061495\", \"7276FF002E061495\", \"7276FF002E061495\", \"7276FF002E050264\", \"7276FF002E061495\", \"7276FF002E061495\", \"7276FF002E061495\", \"7276FF002E061495\", \"7276FF002E061495\", \"7276FF002E050264\", \"7276FF002E061495\", \"7276FF002E061495\", \"7276FF002E061495\", \"7276FF002E050264\", \"7276FF002E061495\", \"7276FF002E061495\", \"7276FF002E061495\", \"7276FF002E061495\", \"7276FF002E050264\", \"7276FF002E061495\", \"7276FF002E061495\", \"7276FF002E061495\", \"7276FF002E061495\", \"7276FF002E061495\", \"7276FF002E061495\", \"7276FF002E061495\", \"7276FF002E061495\", \"7276FF002E061495\", \"7276FF002E061495\", \"7276FF002E061495\", \"7276FF002E061495\", \"7276FF002E061495\", \"7276FF002E061495\", \"7276FF002E050264\", \"7276FF002E050264\", \"7276FF002E061495\", \"7276FF002E061495\", \"7276FF002E061495\", \"7276FF002E061495\", \"7276FF002E061495\", \"7276FF002E061495\", \"7276FF002E061495\", \"7276FF002E061495\", \"7276FF002E061495\", \"7276FF002E061495\", \"7276FF002E061495\", \"7276FF002E061495\", \"7276FF002E061495\", \"7276FF002E061495\", \"7276FF002E061495\", \"7276FF002E061495\", \"7276FF002E061495\", \"7276FF002E061495\", \"7276FF002E061495\", \"7276FF002E061495\", \"7276FF002E061495\"], \"xaxis\": \"x\", \"y\": [\"00000000\", \"00000001\", \"00000002\", \"00000003\", \"00000004\", \"00000005\", \"00000006\", \"00000007\", \"00000008\", \"00000009\", \"0000000a\", \"0000000b\", \"0000000c\", \"0000000d\", \"0000000e\", \"0000000f\", \"00000010\", \"00000011\", \"00000012\", \"00000013\", \"00000014\", \"00000015\", \"00000016\", \"00000017\", \"00000018\", \"00000019\", \"0000001a\", \"0000001b\", \"0000001c\", \"0000001d\", \"0000001e\", \"0000001f\", \"00000020\", \"00000021\", \"00000022\", \"00000023\", \"00000024\", \"00000025\", \"00000026\", \"00000027\", \"00000028\", \"00000029\", \"0000002a\", \"0000002b\", \"0000002c\", \"0000002d\", \"0000002e\", \"0000002f\", \"00000030\", \"00000031\", \"00000032\", \"00000033\", \"00000034\", \"00000035\", \"00000036\", \"00000037\", \"00000038\", \"00000039\", \"0000003a\", \"0000003b\", \"0000003c\", \"0000003d\", \"0000003e\", \"0000003f\", \"00000040\", \"00000041\", \"00000042\", \"00000043\", \"00000044\", \"00000045\", \"00000046\", \"00000047\", \"00000048\", \"00000049\", \"0000004a\", \"0000004b\", \"0000004c\", \"0000004d\", \"0000004e\", \"0000004f\", \"00000050\", \"00000051\", \"00000052\", \"00000053\", \"00000054\", \"00000055\", \"00000056\", \"00000057\", \"00000058\", \"00000059\", \"0000005a\", \"0000005b\", \"0000005c\", \"0000005d\", \"0000005e\", \"0000005f\", \"00000060\", \"00000061\", \"00000062\", \"00000063\", \"00000064\", \"00000065\", \"00000066\", \"00000067\", \"00000068\", \"00000069\", \"0000006a\", \"0000006b\", \"0000006c\", \"0000006d\", \"0000006e\", \"0000006f\", \"00000070\", \"00000071\", \"00000072\", \"00000073\", \"00000074\", \"00000075\", \"00000076\", \"00000077\", \"00000078\", \"00000079\", \"0000007a\", \"0000007b\", \"0000007c\", \"0000007d\", \"0000007e\", \"0000007f\", \"00000080\", \"00000081\", \"00000082\", \"00000083\", \"00000084\", \"00000085\", \"00000086\", \"00000087\", \"00000088\", \"00000089\", \"0000008a\", \"0000008b\", \"0000008c\", \"0000008d\", \"0000008e\", \"0000008f\", \"00000090\", \"00000091\", \"00000092\", \"00000093\", \"00000094\", \"00000095\", \"00000096\", \"00000097\", \"00000098\", \"00000099\", \"0000009a\", \"0000009b\", \"0000009c\", \"0000009d\", \"0000009e\", \"0000009f\", \"000000a0\", \"000000a1\", \"000000a2\", \"000000a3\", \"000000a4\", \"000000a5\", \"000000a6\", \"000000a7\", \"000000a8\", \"000000a9\", \"000000aa\", \"000000ab\", \"000000ac\", \"000000ad\", \"000000ae\", \"000000af\", \"000000b0\", \"000000b1\", \"000000b2\", \"000000b3\", \"000000b4\", \"000000b5\", \"000000b6\", \"000000b7\", \"000000b8\", \"000000b9\", \"000000ba\", \"000000bb\", \"000000bc\", \"000000bd\", \"000000be\", \"000000bf\", \"000000c0\", \"000000c1\", \"000000c2\", \"000000c3\", \"000000c4\", \"000000c5\", \"000000c6\", \"000000c7\", \"000000c8\", \"000000c9\", \"000000ca\", \"000000cb\", \"000000cc\", \"000000cd\", \"000000ce\", \"000000cf\", \"000000d0\", \"000000d1\", \"000000d2\", \"000000d3\", \"000000d4\", \"000000d5\", \"000000d6\", \"000000d7\", \"000000d8\", \"000000d9\", \"000000da\", \"000000db\", \"000000dc\", \"000000dd\", \"000000de\", \"000000df\", \"000000e0\", \"000000e1\", \"000000e2\", \"000000e3\", \"000000e4\", \"000000e5\", \"000000e6\", \"000000e7\", \"000000e8\", \"000000e9\", \"000000ea\", \"000000eb\", \"000000ec\", \"000000ed\", \"000000ee\", \"000000ef\", \"000000f0\", \"000000f1\", \"000000f2\", \"000000f3\", \"000000f4\", \"000000f5\", \"000000f6\", \"000000f7\", \"000000f8\", \"000000f9\", \"000000fa\", \"000000fb\", \"000000fc\", \"000000fd\", \"000000fe\", \"000000ff\", \"00000100\", \"00000101\", \"00000102\", \"00000103\", \"00000104\", \"00000105\", \"00000106\", \"00000107\", \"00000108\", \"00000109\", \"0000010a\", \"0000010b\", \"0000010c\", \"0000010d\", \"0000010e\", \"0000010f\", \"00000110\", \"00000111\", \"00000112\", \"00000113\", \"00000114\", \"00000115\", \"00000116\", \"00000117\", \"00000118\", \"00000119\", \"0000011a\", \"0000011b\", \"0000011c\", \"0000011d\", \"0000011e\", \"0000011f\", \"00000120\", \"00000121\"], \"yaxis\": \"y\"}],\n",
       "                        {\"coloraxis\": {\"colorbar\": {\"title\": {\"text\": \"label\"}}, \"colorscale\": [[0.0, \"#0d0887\"], [0.1111111111111111, \"#46039f\"], [0.2222222222222222, \"#7201a8\"], [0.3333333333333333, \"#9c179e\"], [0.4444444444444444, \"#bd3786\"], [0.5555555555555556, \"#d8576b\"], [0.6666666666666666, \"#ed7953\"], [0.7777777777777778, \"#fb9f3a\"], [0.8888888888888888, \"#fdca26\"], [1.0, \"#f0f921\"]]}, \"legend\": {\"tracegroupgap\": 0}, \"margin\": {\"t\": 60}, \"template\": {\"data\": {\"bar\": [{\"error_x\": {\"color\": \"#2a3f5f\"}, \"error_y\": {\"color\": \"#2a3f5f\"}, \"marker\": {\"line\": {\"color\": \"#E5ECF6\", \"width\": 0.5}}, \"type\": \"bar\"}], \"barpolar\": [{\"marker\": {\"line\": {\"color\": \"#E5ECF6\", \"width\": 0.5}}, \"type\": \"barpolar\"}], \"carpet\": [{\"aaxis\": {\"endlinecolor\": \"#2a3f5f\", \"gridcolor\": \"white\", \"linecolor\": \"white\", \"minorgridcolor\": \"white\", \"startlinecolor\": \"#2a3f5f\"}, \"baxis\": {\"endlinecolor\": \"#2a3f5f\", \"gridcolor\": \"white\", \"linecolor\": \"white\", \"minorgridcolor\": \"white\", \"startlinecolor\": \"#2a3f5f\"}, \"type\": \"carpet\"}], \"choropleth\": [{\"colorbar\": {\"outlinewidth\": 0, \"ticks\": \"\"}, \"type\": \"choropleth\"}], \"contour\": [{\"colorbar\": {\"outlinewidth\": 0, \"ticks\": \"\"}, \"colorscale\": [[0.0, \"#0d0887\"], [0.1111111111111111, \"#46039f\"], [0.2222222222222222, \"#7201a8\"], [0.3333333333333333, \"#9c179e\"], [0.4444444444444444, \"#bd3786\"], [0.5555555555555556, \"#d8576b\"], [0.6666666666666666, \"#ed7953\"], [0.7777777777777778, \"#fb9f3a\"], [0.8888888888888888, \"#fdca26\"], [1.0, \"#f0f921\"]], \"type\": \"contour\"}], \"contourcarpet\": [{\"colorbar\": {\"outlinewidth\": 0, \"ticks\": \"\"}, \"type\": \"contourcarpet\"}], \"heatmap\": [{\"colorbar\": {\"outlinewidth\": 0, \"ticks\": \"\"}, \"colorscale\": [[0.0, \"#0d0887\"], [0.1111111111111111, \"#46039f\"], [0.2222222222222222, \"#7201a8\"], [0.3333333333333333, \"#9c179e\"], [0.4444444444444444, \"#bd3786\"], [0.5555555555555556, \"#d8576b\"], [0.6666666666666666, \"#ed7953\"], [0.7777777777777778, \"#fb9f3a\"], [0.8888888888888888, \"#fdca26\"], [1.0, \"#f0f921\"]], \"type\": \"heatmap\"}], \"heatmapgl\": [{\"colorbar\": {\"outlinewidth\": 0, \"ticks\": \"\"}, \"colorscale\": [[0.0, \"#0d0887\"], [0.1111111111111111, \"#46039f\"], [0.2222222222222222, \"#7201a8\"], [0.3333333333333333, \"#9c179e\"], [0.4444444444444444, \"#bd3786\"], [0.5555555555555556, \"#d8576b\"], [0.6666666666666666, \"#ed7953\"], [0.7777777777777778, \"#fb9f3a\"], [0.8888888888888888, \"#fdca26\"], [1.0, \"#f0f921\"]], \"type\": \"heatmapgl\"}], \"histogram\": [{\"marker\": {\"colorbar\": {\"outlinewidth\": 0, \"ticks\": \"\"}}, \"type\": \"histogram\"}], \"histogram2d\": [{\"colorbar\": {\"outlinewidth\": 0, \"ticks\": \"\"}, \"colorscale\": [[0.0, \"#0d0887\"], [0.1111111111111111, \"#46039f\"], [0.2222222222222222, \"#7201a8\"], [0.3333333333333333, \"#9c179e\"], [0.4444444444444444, \"#bd3786\"], [0.5555555555555556, \"#d8576b\"], [0.6666666666666666, \"#ed7953\"], [0.7777777777777778, \"#fb9f3a\"], [0.8888888888888888, \"#fdca26\"], [1.0, \"#f0f921\"]], \"type\": \"histogram2d\"}], \"histogram2dcontour\": [{\"colorbar\": {\"outlinewidth\": 0, \"ticks\": \"\"}, \"colorscale\": [[0.0, \"#0d0887\"], [0.1111111111111111, \"#46039f\"], [0.2222222222222222, \"#7201a8\"], [0.3333333333333333, \"#9c179e\"], [0.4444444444444444, \"#bd3786\"], [0.5555555555555556, \"#d8576b\"], [0.6666666666666666, \"#ed7953\"], [0.7777777777777778, \"#fb9f3a\"], [0.8888888888888888, \"#fdca26\"], [1.0, \"#f0f921\"]], \"type\": \"histogram2dcontour\"}], \"mesh3d\": [{\"colorbar\": {\"outlinewidth\": 0, \"ticks\": \"\"}, \"type\": \"mesh3d\"}], \"parcoords\": [{\"line\": {\"colorbar\": {\"outlinewidth\": 0, \"ticks\": \"\"}}, \"type\": \"parcoords\"}], \"pie\": [{\"automargin\": true, \"type\": \"pie\"}], \"scatter\": [{\"marker\": {\"colorbar\": {\"outlinewidth\": 0, \"ticks\": \"\"}}, \"type\": \"scatter\"}], \"scatter3d\": [{\"line\": {\"colorbar\": {\"outlinewidth\": 0, \"ticks\": \"\"}}, \"marker\": {\"colorbar\": {\"outlinewidth\": 0, \"ticks\": \"\"}}, \"type\": \"scatter3d\"}], \"scattercarpet\": [{\"marker\": {\"colorbar\": {\"outlinewidth\": 0, \"ticks\": \"\"}}, \"type\": \"scattercarpet\"}], \"scattergeo\": [{\"marker\": {\"colorbar\": {\"outlinewidth\": 0, \"ticks\": \"\"}}, \"type\": \"scattergeo\"}], \"scattergl\": [{\"marker\": {\"colorbar\": {\"outlinewidth\": 0, \"ticks\": \"\"}}, \"type\": \"scattergl\"}], \"scattermapbox\": [{\"marker\": {\"colorbar\": {\"outlinewidth\": 0, \"ticks\": \"\"}}, \"type\": \"scattermapbox\"}], \"scatterpolar\": [{\"marker\": {\"colorbar\": {\"outlinewidth\": 0, \"ticks\": \"\"}}, \"type\": \"scatterpolar\"}], \"scatterpolargl\": [{\"marker\": {\"colorbar\": {\"outlinewidth\": 0, \"ticks\": \"\"}}, \"type\": \"scatterpolargl\"}], \"scatterternary\": [{\"marker\": {\"colorbar\": {\"outlinewidth\": 0, \"ticks\": \"\"}}, \"type\": \"scatterternary\"}], \"surface\": [{\"colorbar\": {\"outlinewidth\": 0, \"ticks\": \"\"}, \"colorscale\": [[0.0, \"#0d0887\"], [0.1111111111111111, \"#46039f\"], [0.2222222222222222, \"#7201a8\"], [0.3333333333333333, \"#9c179e\"], [0.4444444444444444, \"#bd3786\"], [0.5555555555555556, \"#d8576b\"], [0.6666666666666666, \"#ed7953\"], [0.7777777777777778, \"#fb9f3a\"], [0.8888888888888888, \"#fdca26\"], [1.0, \"#f0f921\"]], \"type\": \"surface\"}], \"table\": [{\"cells\": {\"fill\": {\"color\": \"#EBF0F8\"}, \"line\": {\"color\": \"white\"}}, \"header\": {\"fill\": {\"color\": \"#C8D4E3\"}, \"line\": {\"color\": \"white\"}}, \"type\": \"table\"}]}, \"layout\": {\"annotationdefaults\": {\"arrowcolor\": \"#2a3f5f\", \"arrowhead\": 0, \"arrowwidth\": 1}, \"coloraxis\": {\"colorbar\": {\"outlinewidth\": 0, \"ticks\": \"\"}}, \"colorscale\": {\"diverging\": [[0, \"#8e0152\"], [0.1, \"#c51b7d\"], [0.2, \"#de77ae\"], [0.3, \"#f1b6da\"], [0.4, \"#fde0ef\"], [0.5, \"#f7f7f7\"], [0.6, \"#e6f5d0\"], [0.7, \"#b8e186\"], [0.8, \"#7fbc41\"], [0.9, \"#4d9221\"], [1, \"#276419\"]], \"sequential\": [[0.0, \"#0d0887\"], [0.1111111111111111, \"#46039f\"], [0.2222222222222222, \"#7201a8\"], [0.3333333333333333, \"#9c179e\"], [0.4444444444444444, \"#bd3786\"], [0.5555555555555556, \"#d8576b\"], [0.6666666666666666, \"#ed7953\"], [0.7777777777777778, \"#fb9f3a\"], [0.8888888888888888, \"#fdca26\"], [1.0, \"#f0f921\"]], \"sequentialminus\": [[0.0, \"#0d0887\"], [0.1111111111111111, \"#46039f\"], [0.2222222222222222, \"#7201a8\"], [0.3333333333333333, \"#9c179e\"], [0.4444444444444444, \"#bd3786\"], [0.5555555555555556, \"#d8576b\"], [0.6666666666666666, \"#ed7953\"], [0.7777777777777778, \"#fb9f3a\"], [0.8888888888888888, \"#fdca26\"], [1.0, \"#f0f921\"]]}, \"colorway\": [\"#636efa\", \"#EF553B\", \"#00cc96\", \"#ab63fa\", \"#FFA15A\", \"#19d3f3\", \"#FF6692\", \"#B6E880\", \"#FF97FF\", \"#FECB52\"], \"font\": {\"color\": \"#2a3f5f\"}, \"geo\": {\"bgcolor\": \"white\", \"lakecolor\": \"white\", \"landcolor\": \"#E5ECF6\", \"showlakes\": true, \"showland\": true, \"subunitcolor\": \"white\"}, \"hoverlabel\": {\"align\": \"left\"}, \"hovermode\": \"closest\", \"mapbox\": {\"style\": \"light\"}, \"paper_bgcolor\": \"white\", \"plot_bgcolor\": \"#E5ECF6\", \"polar\": {\"angularaxis\": {\"gridcolor\": \"white\", \"linecolor\": \"white\", \"ticks\": \"\"}, \"bgcolor\": \"#E5ECF6\", \"radialaxis\": {\"gridcolor\": \"white\", \"linecolor\": \"white\", \"ticks\": \"\"}}, \"scene\": {\"xaxis\": {\"backgroundcolor\": \"#E5ECF6\", \"gridcolor\": \"white\", \"gridwidth\": 2, \"linecolor\": \"white\", \"showbackground\": true, \"ticks\": \"\", \"zerolinecolor\": \"white\"}, \"yaxis\": {\"backgroundcolor\": \"#E5ECF6\", \"gridcolor\": \"white\", \"gridwidth\": 2, \"linecolor\": \"white\", \"showbackground\": true, \"ticks\": \"\", \"zerolinecolor\": \"white\"}, \"zaxis\": {\"backgroundcolor\": \"#E5ECF6\", \"gridcolor\": \"white\", \"gridwidth\": 2, \"linecolor\": \"white\", \"showbackground\": true, \"ticks\": \"\", \"zerolinecolor\": \"white\"}}, \"shapedefaults\": {\"line\": {\"color\": \"#2a3f5f\"}}, \"ternary\": {\"aaxis\": {\"gridcolor\": \"white\", \"linecolor\": \"white\", \"ticks\": \"\"}, \"baxis\": {\"gridcolor\": \"white\", \"linecolor\": \"white\", \"ticks\": \"\"}, \"bgcolor\": \"#E5ECF6\", \"caxis\": {\"gridcolor\": \"white\", \"linecolor\": \"white\", \"ticks\": \"\"}}, \"title\": {\"x\": 0.05}, \"xaxis\": {\"automargin\": true, \"gridcolor\": \"white\", \"linecolor\": \"white\", \"ticks\": \"\", \"title\": {\"standoff\": 15}, \"zerolinecolor\": \"white\", \"zerolinewidth\": 2}, \"yaxis\": {\"automargin\": true, \"gridcolor\": \"white\", \"linecolor\": \"white\", \"ticks\": \"\", \"title\": {\"standoff\": 15}, \"zerolinecolor\": \"white\", \"zerolinewidth\": 2}}}, \"xaxis\": {\"anchor\": \"y\", \"domain\": [0.0, 1.0], \"title\": {\"text\": \"gateway\"}}, \"yaxis\": {\"anchor\": \"x\", \"domain\": [0.0, 1.0], \"title\": {\"text\": \"dev_addr\"}}},\n",
       "                        {\"responsive\": true}\n",
       "                    ).then(function(){\n",
       "                            \n",
       "var gd = document.getElementById('27ac12f3-bb94-4c16-b592-3857e74df1ff');\n",
       "var x = new MutationObserver(function (mutations, observer) {{\n",
       "        var display = window.getComputedStyle(gd).display;\n",
       "        if (!display || display === 'none') {{\n",
       "            console.log([gd, 'removed!']);\n",
       "            Plotly.purge(gd);\n",
       "            observer.disconnect();\n",
       "        }}\n",
       "}});\n",
       "\n",
       "// Listen for the removal of the full notebook cells\n",
       "var notebookContainer = gd.closest('#notebook-container');\n",
       "if (notebookContainer) {{\n",
       "    x.observe(notebookContainer, {childList: true});\n",
       "}}\n",
       "\n",
       "// Listen for the clearing of the current output cell\n",
       "var outputEl = gd.closest('.output');\n",
       "if (outputEl) {{\n",
       "    x.observe(outputEl, {childList: true});\n",
       "}}\n",
       "\n",
       "                        })\n",
       "                };\n",
       "                });\n",
       "            </script>\n",
       "        </div>"
      ]
     },
     "metadata": {},
     "output_type": "display_data"
    }
   ],
   "source": [
    "fig = px.scatter(labeled_df, x='gateway',y='dev_addr',\n",
    "                color='label', size_max=100,\n",
    "                opacity=0.9)\n",
    "fig.show()"
   ]
  },
  {
   "cell_type": "code",
   "execution_count": 104,
   "metadata": {},
   "outputs": [
    {
     "data": {
      "application/vnd.plotly.v1+json": {
       "config": {
        "plotlyServerURL": "https://plot.ly"
       },
       "data": [
        {
         "hovertemplate": "dev_addr=%{x}<br>gateway=%{y}<br>rssic=%{z}<br>label=%{marker.color}<extra></extra>",
         "legendgroup": "",
         "marker": {
          "color": [
           10,
           6,
           6,
           0,
           4,
           0,
           1,
           4,
           10,
           12,
           11,
           7,
           5,
           3,
           4,
           1,
           1,
           12,
           4,
           6,
           5,
           5,
           0,
           7,
           1,
           2,
           6,
           7,
           1,
           1,
           7,
           1,
           6,
           4,
           12,
           1,
           2,
           5,
           4,
           6,
           2,
           7,
           4,
           11,
           6,
           2,
           10,
           10,
           10,
           4,
           6,
           11,
           7,
           6,
           1,
           4,
           4,
           1,
           6,
           4,
           6,
           11,
           10,
           1,
           11,
           1,
           6,
           4,
           5,
           8,
           11,
           9,
           1,
           4,
           7,
           10,
           4,
           6,
           1,
           8,
           6,
           4,
           7,
           11,
           6,
           3,
           5,
           12,
           0,
           12,
           1,
           5,
           2,
           2,
           4,
           2,
           6,
           5,
           1,
           12,
           4,
           1,
           8,
           4,
           5,
           2,
           3,
           2,
           2,
           2,
           12,
           1,
           5,
           2,
           7,
           3,
           11,
           6,
           11,
           3,
           1,
           12,
           6,
           12,
           5,
           6,
           5,
           6,
           3,
           12,
           2,
           6,
           9,
           5,
           10,
           1,
           1,
           6,
           4,
           4,
           4,
           12,
           6,
           7,
           12,
           12,
           11,
           6,
           6,
           4,
           1,
           12,
           1,
           2,
           4,
           4,
           1,
           6,
           3,
           12,
           1,
           2,
           2,
           5,
           8,
           1,
           4,
           4,
           4,
           6,
           3,
           11,
           11,
           11,
           5,
           11,
           4,
           10,
           10,
           6,
           12,
           12,
           4,
           4,
           6,
           10,
           5,
           3,
           10,
           1,
           2,
           9,
           6,
           5,
           11,
           12,
           5,
           12,
           0,
           5,
           12,
           0,
           11,
           5,
           5,
           12,
           1,
           3,
           9,
           9,
           3,
           7,
           1,
           10,
           4,
           5,
           5,
           1,
           0,
           6,
           11,
           5,
           11,
           5,
           3,
           0,
           5,
           10,
           1,
           11,
           11,
           9,
           6,
           10,
           1,
           5,
           6,
           12,
           5,
           11,
           3,
           5,
           5,
           5,
           11,
           3,
           5,
           12,
           9,
           5,
           1,
           11,
           9,
           3,
           3,
           3,
           5,
           3,
           9,
           5,
           3,
           10,
           3,
           3,
           3,
           11,
           3,
           9,
           9,
           3,
           1,
           5,
           9,
           5,
           3,
           3,
           9,
           12,
           9,
           9,
           3,
           10,
           3,
           9,
           9,
           9,
           9,
           9,
           5,
           9
          ],
          "coloraxis": "coloraxis",
          "opacity": 0.9,
          "symbol": "circle"
         },
         "mode": "markers",
         "name": "",
         "scene": "scene",
         "showlegend": false,
         "type": "scatter3d",
         "x": [
          "00000000",
          "00000001",
          "00000002",
          "00000003",
          "00000004",
          "00000005",
          "00000006",
          "00000007",
          "00000008",
          "00000009",
          "0000000a",
          "0000000b",
          "0000000c",
          "0000000d",
          "0000000e",
          "0000000f",
          "00000010",
          "00000011",
          "00000012",
          "00000013",
          "00000014",
          "00000015",
          "00000016",
          "00000017",
          "00000018",
          "00000019",
          "0000001a",
          "0000001b",
          "0000001c",
          "0000001d",
          "0000001e",
          "0000001f",
          "00000020",
          "00000021",
          "00000022",
          "00000023",
          "00000024",
          "00000025",
          "00000026",
          "00000027",
          "00000028",
          "00000029",
          "0000002a",
          "0000002b",
          "0000002c",
          "0000002d",
          "0000002e",
          "0000002f",
          "00000030",
          "00000031",
          "00000032",
          "00000033",
          "00000034",
          "00000035",
          "00000036",
          "00000037",
          "00000038",
          "00000039",
          "0000003a",
          "0000003b",
          "0000003c",
          "0000003d",
          "0000003e",
          "0000003f",
          "00000040",
          "00000041",
          "00000042",
          "00000043",
          "00000044",
          "00000045",
          "00000046",
          "00000047",
          "00000048",
          "00000049",
          "0000004a",
          "0000004b",
          "0000004c",
          "0000004d",
          "0000004e",
          "0000004f",
          "00000050",
          "00000051",
          "00000052",
          "00000053",
          "00000054",
          "00000055",
          "00000056",
          "00000057",
          "00000058",
          "00000059",
          "0000005a",
          "0000005b",
          "0000005c",
          "0000005d",
          "0000005e",
          "0000005f",
          "00000060",
          "00000061",
          "00000062",
          "00000063",
          "00000064",
          "00000065",
          "00000066",
          "00000067",
          "00000068",
          "00000069",
          "0000006a",
          "0000006b",
          "0000006c",
          "0000006d",
          "0000006e",
          "0000006f",
          "00000070",
          "00000071",
          "00000072",
          "00000073",
          "00000074",
          "00000075",
          "00000076",
          "00000077",
          "00000078",
          "00000079",
          "0000007a",
          "0000007b",
          "0000007c",
          "0000007d",
          "0000007e",
          "0000007f",
          "00000080",
          "00000081",
          "00000082",
          "00000083",
          "00000084",
          "00000085",
          "00000086",
          "00000087",
          "00000088",
          "00000089",
          "0000008a",
          "0000008b",
          "0000008c",
          "0000008d",
          "0000008e",
          "0000008f",
          "00000090",
          "00000091",
          "00000092",
          "00000093",
          "00000094",
          "00000095",
          "00000096",
          "00000097",
          "00000098",
          "00000099",
          "0000009a",
          "0000009b",
          "0000009c",
          "0000009d",
          "0000009e",
          "0000009f",
          "000000a0",
          "000000a1",
          "000000a2",
          "000000a3",
          "000000a4",
          "000000a5",
          "000000a6",
          "000000a7",
          "000000a8",
          "000000a9",
          "000000aa",
          "000000ab",
          "000000ac",
          "000000ad",
          "000000ae",
          "000000af",
          "000000b0",
          "000000b1",
          "000000b2",
          "000000b3",
          "000000b4",
          "000000b5",
          "000000b6",
          "000000b7",
          "000000b8",
          "000000b9",
          "000000ba",
          "000000bb",
          "000000bc",
          "000000bd",
          "000000be",
          "000000bf",
          "000000c0",
          "000000c1",
          "000000c2",
          "000000c3",
          "000000c4",
          "000000c5",
          "000000c6",
          "000000c7",
          "000000c8",
          "000000c9",
          "000000ca",
          "000000cb",
          "000000cc",
          "000000cd",
          "000000ce",
          "000000cf",
          "000000d0",
          "000000d1",
          "000000d2",
          "000000d3",
          "000000d4",
          "000000d5",
          "000000d6",
          "000000d7",
          "000000d8",
          "000000d9",
          "000000da",
          "000000db",
          "000000dc",
          "000000dd",
          "000000de",
          "000000df",
          "000000e0",
          "000000e1",
          "000000e2",
          "000000e3",
          "000000e4",
          "000000e5",
          "000000e6",
          "000000e7",
          "000000e8",
          "000000e9",
          "000000ea",
          "000000eb",
          "000000ec",
          "000000ed",
          "000000ee",
          "000000ef",
          "000000f0",
          "000000f1",
          "000000f2",
          "000000f3",
          "000000f4",
          "000000f5",
          "000000f6",
          "000000f7",
          "000000f8",
          "000000f9",
          "000000fa",
          "000000fb",
          "000000fc",
          "000000fd",
          "000000fe",
          "000000ff",
          "00000100",
          "00000101",
          "00000102",
          "00000103",
          "00000104",
          "00000105",
          "00000106",
          "00000107",
          "00000108",
          "00000109",
          "0000010a",
          "0000010b",
          "0000010c",
          "0000010d",
          "0000010e",
          "0000010f",
          "00000110",
          "00000111",
          "00000112",
          "00000113",
          "00000114",
          "00000115",
          "00000116",
          "00000117",
          "00000118",
          "00000119",
          "0000011a",
          "0000011b",
          "0000011c",
          "0000011d",
          "0000011e",
          "0000011f",
          "00000120",
          "00000121"
         ],
         "y": [
          "7276FF002E061495",
          "7276FF002E061495",
          "7276FF002E061495",
          "7276FF002E061495",
          "7276FF002E061495",
          "7276FF002E061495",
          "7276FF002E061495",
          "7276FF002E061495",
          "7276FF002E061495",
          "7276FF002E061495",
          "7276FF002E061495",
          "7276FF002E061495",
          "7276FF002E061495",
          "7276FF002E061495",
          "7276FF002E061495",
          "7276FF002E061495",
          "7276FF002E061495",
          "7276FF002E061495",
          "7276FF002E061495",
          "7276FF002E061495",
          "7276FF002E061495",
          "7276FF002E061495",
          "7276FF002E061495",
          "7276FF002E061495",
          "7276FF002E061495",
          "7276FF002E061495",
          "7276FF002E061495",
          "7276FF002E061495",
          "7276FF002E061495",
          "7276FF002E061495",
          "7276FF002E061495",
          "7276FF002E061495",
          "7276FF002E061495",
          "7276FF002E061495",
          "7276FF002E061495",
          "7276FF002E061495",
          "7276FF002E061495",
          "7276FF002E061495",
          "7276FF002E061495",
          "7276FF002E061495",
          "7276FF002E061495",
          "7276FF002E061495",
          "7276FF002E061495",
          "7276FF002E061495",
          "7276FF002E061495",
          "7276FF002E061495",
          "7276FF002E061495",
          "7276FF002E050264",
          "7276FF002E061495",
          "7276FF002E061495",
          "7276FF002E061495",
          "7276FF002E061495",
          "7276FF002E061495",
          "7276FF002E061495",
          "7276FF002E061495",
          "7276FF002E061495",
          "7276FF002E061495",
          "7276FF002E061495",
          "7276FF002E061495",
          "7276FF002E061495",
          "7276FF002E061495",
          "7276FF002E061495",
          "7276FF002E061495",
          "7276FF002E061495",
          "7276FF002E061495",
          "7276FF002E061495",
          "7276FF002E061495",
          "7276FF002E061495",
          "7276FF002E061495",
          "7276FF002E061495",
          "7276FF002E061495",
          "7276FF002E061495",
          "7276FF002E061495",
          "7276FF002E061495",
          "7276FF002E061495",
          "7276FF002E061495",
          "7276FF002E061495",
          "7276FF002E061495",
          "7276FF002E061495",
          "7276FF002E061495",
          "7276FF002E061495",
          "7276FF002E061495",
          "7276FF002E061495",
          "7276FF002E061495",
          "7276FF002E061495",
          "7276FF002E061495",
          "7276FF002E061495",
          "7276FF002E061495",
          "7276FF002E050264",
          "7276FF002E061495",
          "7276FF002E061495",
          "7276FF002E061495",
          "7276FF002E061495",
          "7276FF002E061495",
          "7276FF002E061495",
          "7276FF002E061495",
          "7276FF002E061495",
          "7276FF002E061495",
          "7276FF002E061495",
          "7276FF002E061495",
          "7276FF002E061495",
          "7276FF002E061495",
          "7276FF002E061495",
          "7276FF002E061495",
          "7276FF002E061495",
          "7276FF002E061495",
          "7276FF002E061495",
          "7276FF002E061495",
          "7276FF002E061495",
          "7276FF002E061495",
          "7276FF002E061495",
          "7276FF002E061495",
          "7276FF002E061495",
          "7276FF002E061495",
          "7276FF002E061495",
          "7276FF002E050264",
          "7276FF002E061495",
          "7276FF002E061495",
          "7276FF002E061495",
          "7276FF002E061495",
          "7276FF002E061495",
          "7276FF002E061495",
          "7276FF002E061495",
          "7276FF002E050264",
          "7276FF002E061495",
          "7276FF002E061495",
          "7276FF002E061495",
          "7276FF002E061495",
          "7276FF002E061495",
          "7276FF002E050264",
          "7276FF002E061495",
          "7276FF002E061495",
          "7276FF002E050264",
          "7276FF002E061495",
          "7276FF002E061495",
          "7276FF002E061495",
          "7276FF002E061495",
          "7276FF002E061495",
          "7276FF002E061495",
          "7276FF002E061495",
          "7276FF002E061495",
          "7276FF002E061495",
          "7276FF002E061495",
          "7276FF002E061495",
          "7276FF002E061495",
          "7276FF002E061495",
          "7276FF002E061495",
          "7276FF002E061495",
          "7276FF002E061495",
          "7276FF002E061495",
          "7276FF002E061495",
          "7276FF002E061495",
          "7276FF002E061495",
          "7276FF002E061495",
          "7276FF002E061495",
          "7276FF002E061495",
          "7276FF002E061495",
          "7276FF002E061495",
          "7276FF002E061495",
          "7276FF002E061495",
          "7276FF002E061495",
          "7276FF002E061495",
          "7276FF002E061495",
          "7276FF002E061495",
          "7276FF002E061495",
          "7276FF002E061495",
          "7276FF002E061495",
          "7276FF002E061495",
          "7276FF002E061495",
          "7276FF002E061495",
          "7276FF002E061495",
          "7276FF002E061495",
          "7276FF002E061495",
          "7276FF002E061495",
          "7276FF002E061495",
          "7276FF002E061495",
          "7276FF002E061495",
          "7276FF002E061495",
          "7276FF002E061495",
          "7276FF002E061495",
          "7276FF002E061495",
          "7276FF002E061495",
          "7276FF002E061495",
          "7276FF002E061495",
          "7276FF002E061495",
          "7276FF002E061495",
          "7276FF002E061495",
          "7276FF002E061495",
          "7276FF002E061495",
          "7276FF002E061495",
          "7276FF002E061495",
          "7276FF002E050264",
          "7276FF002E061495",
          "7276FF002E061495",
          "7276FF002E061495",
          "7276FF002E061495",
          "7276FF002E061495",
          "7276FF002E061495",
          "7276FF002E061495",
          "7276FF002E061495",
          "7276FF002E061495",
          "7276FF002E061495",
          "7276FF002E061495",
          "7276FF002E061495",
          "7276FF002E061495",
          "7276FF002E061495",
          "7276FF002E061495",
          "7276FF002E061495",
          "7276FF002E061495",
          "7276FF002E061495",
          "7276FF002E061495",
          "7276FF002E061495",
          "7276FF002E061495",
          "7276FF002E061495",
          "7276FF002E061495",
          "7276FF002E061495",
          "7276FF002E061495",
          "7276FF002E061495",
          "7276FF002E061495",
          "7276FF002E061495",
          "7276FF002E061495",
          "7276FF002E061495",
          "7276FF002E061495",
          "7276FF002E061495",
          "7276FF002E061495",
          "7276FF002E061495",
          "7276FF002E061495",
          "7276FF002E061495",
          "7276FF002E061495",
          "7276FF002E061495",
          "7276FF002E061495",
          "7276FF002E050264",
          "7276FF002E061495",
          "7276FF002E061495",
          "7276FF002E061495",
          "7276FF002E061495",
          "7276FF002E061495",
          "7276FF002E050264",
          "7276FF002E061495",
          "7276FF002E061495",
          "7276FF002E061495",
          "7276FF002E061495",
          "7276FF002E061495",
          "7276FF002E050264",
          "7276FF002E061495",
          "7276FF002E061495",
          "7276FF002E061495",
          "7276FF002E050264",
          "7276FF002E061495",
          "7276FF002E061495",
          "7276FF002E061495",
          "7276FF002E061495",
          "7276FF002E050264",
          "7276FF002E061495",
          "7276FF002E061495",
          "7276FF002E061495",
          "7276FF002E061495",
          "7276FF002E061495",
          "7276FF002E061495",
          "7276FF002E061495",
          "7276FF002E061495",
          "7276FF002E061495",
          "7276FF002E061495",
          "7276FF002E061495",
          "7276FF002E061495",
          "7276FF002E061495",
          "7276FF002E061495",
          "7276FF002E050264",
          "7276FF002E050264",
          "7276FF002E061495",
          "7276FF002E061495",
          "7276FF002E061495",
          "7276FF002E061495",
          "7276FF002E061495",
          "7276FF002E061495",
          "7276FF002E061495",
          "7276FF002E061495",
          "7276FF002E061495",
          "7276FF002E061495",
          "7276FF002E061495",
          "7276FF002E061495",
          "7276FF002E061495",
          "7276FF002E061495",
          "7276FF002E061495",
          "7276FF002E061495",
          "7276FF002E061495",
          "7276FF002E061495",
          "7276FF002E061495",
          "7276FF002E061495",
          "7276FF002E061495"
         ],
         "z": [
          -106,
          -101,
          -103,
          -108,
          -97,
          -105,
          -103,
          -103,
          -107,
          -104,
          -105,
          -87,
          -105,
          -107,
          -102,
          -106,
          -103,
          -104,
          -102,
          -100,
          -107,
          -105,
          -106,
          -93,
          -104,
          -98,
          -102,
          -92,
          -102,
          -103,
          -95,
          -102,
          -101,
          -101,
          -107,
          -101,
          -92,
          -105,
          -98,
          -102,
          -96,
          -93,
          -99,
          -106,
          -100,
          -96,
          -107,
          -108,
          -107,
          -100,
          -103,
          -105,
          -91,
          -102,
          -102,
          -101,
          -98,
          -105,
          -101,
          -98,
          -102,
          -104,
          -106,
          -103,
          -105,
          -104,
          -99,
          -100,
          -106,
          -98,
          -105,
          -107,
          -104,
          -99,
          -85,
          -107,
          -98,
          -100,
          -105,
          -91,
          -103,
          -100,
          -91,
          -104,
          -103,
          -106,
          -104,
          -104,
          -108,
          -105,
          -102,
          -104,
          -97,
          -90,
          -101,
          -99,
          -101,
          -105,
          -103,
          -106,
          -99,
          -101,
          -99,
          -102,
          -106,
          -96,
          -106,
          -99,
          -97,
          -98,
          -105,
          -106,
          -104,
          -99,
          -88,
          -108,
          -106,
          -103,
          -106,
          -107,
          -103,
          -104,
          -101,
          -104,
          -104,
          -101,
          -104,
          -102,
          -106,
          -103,
          -96,
          -100,
          -109,
          -106,
          -107,
          -103,
          -104,
          -102,
          -99,
          -99,
          -97,
          -106,
          -102,
          -96,
          -104,
          -103,
          -105,
          -103,
          -101,
          -97,
          -104,
          -103,
          -102,
          -99,
          -102,
          -104,
          -104,
          -102,
          -106,
          -104,
          -104,
          -93,
          -98,
          -106,
          -88,
          -105,
          -102,
          -100,
          -101,
          -100,
          -106,
          -106,
          -105,
          -105,
          -104,
          -106,
          -101,
          -106,
          -105,
          -100,
          -104,
          -105,
          -103,
          -99,
          -103,
          -108,
          -105,
          -106,
          -108,
          -105,
          -95,
          -109,
          -101,
          -105,
          -106,
          -104,
          -105,
          -105,
          -104,
          -105,
          -104,
          -107,
          -106,
          -105,
          -106,
          -105,
          -104,
          -105,
          -107,
          -108,
          -106,
          -89,
          -103,
          -107,
          -101,
          -105,
          -105,
          -105,
          -105,
          -102,
          -105,
          -105,
          -106,
          -106,
          -106,
          -107,
          -105,
          -107,
          -104,
          -105,
          -105,
          -109,
          -104,
          -107,
          -104,
          -105,
          -102,
          -106,
          -105,
          -105,
          -107,
          -106,
          -106,
          -108,
          -104,
          -106,
          -104,
          -108,
          -109,
          -106,
          -105,
          -105,
          -109,
          -107,
          -107,
          -106,
          -104,
          -106,
          -108,
          -108,
          -106,
          -106,
          -106,
          -106,
          -106,
          -105,
          -107,
          -109,
          -109,
          -106,
          -106,
          -106,
          -107,
          -104,
          -106,
          -106,
          -107,
          -105,
          -107,
          -107,
          -106,
          -107,
          -106,
          -106,
          -109,
          -107,
          -107,
          -106,
          -106,
          -106
         ]
        }
       ],
       "layout": {
        "coloraxis": {
         "colorbar": {
          "title": {
           "text": "label"
          }
         },
         "colorscale": [
          [
           0,
           "#0d0887"
          ],
          [
           0.1111111111111111,
           "#46039f"
          ],
          [
           0.2222222222222222,
           "#7201a8"
          ],
          [
           0.3333333333333333,
           "#9c179e"
          ],
          [
           0.4444444444444444,
           "#bd3786"
          ],
          [
           0.5555555555555556,
           "#d8576b"
          ],
          [
           0.6666666666666666,
           "#ed7953"
          ],
          [
           0.7777777777777778,
           "#fb9f3a"
          ],
          [
           0.8888888888888888,
           "#fdca26"
          ],
          [
           1,
           "#f0f921"
          ]
         ]
        },
        "legend": {
         "tracegroupgap": 0
        },
        "margin": {
         "t": 60
        },
        "scene": {
         "domain": {
          "x": [
           0,
           1
          ],
          "y": [
           0,
           1
          ]
         },
         "xaxis": {
          "title": {
           "text": "dev_addr"
          }
         },
         "yaxis": {
          "title": {
           "text": "gateway"
          }
         },
         "zaxis": {
          "title": {
           "text": "rssic"
          }
         }
        },
        "template": {
         "data": {
          "bar": [
           {
            "error_x": {
             "color": "#2a3f5f"
            },
            "error_y": {
             "color": "#2a3f5f"
            },
            "marker": {
             "line": {
              "color": "#E5ECF6",
              "width": 0.5
             }
            },
            "type": "bar"
           }
          ],
          "barpolar": [
           {
            "marker": {
             "line": {
              "color": "#E5ECF6",
              "width": 0.5
             }
            },
            "type": "barpolar"
           }
          ],
          "carpet": [
           {
            "aaxis": {
             "endlinecolor": "#2a3f5f",
             "gridcolor": "white",
             "linecolor": "white",
             "minorgridcolor": "white",
             "startlinecolor": "#2a3f5f"
            },
            "baxis": {
             "endlinecolor": "#2a3f5f",
             "gridcolor": "white",
             "linecolor": "white",
             "minorgridcolor": "white",
             "startlinecolor": "#2a3f5f"
            },
            "type": "carpet"
           }
          ],
          "choropleth": [
           {
            "colorbar": {
             "outlinewidth": 0,
             "ticks": ""
            },
            "type": "choropleth"
           }
          ],
          "contour": [
           {
            "colorbar": {
             "outlinewidth": 0,
             "ticks": ""
            },
            "colorscale": [
             [
              0,
              "#0d0887"
             ],
             [
              0.1111111111111111,
              "#46039f"
             ],
             [
              0.2222222222222222,
              "#7201a8"
             ],
             [
              0.3333333333333333,
              "#9c179e"
             ],
             [
              0.4444444444444444,
              "#bd3786"
             ],
             [
              0.5555555555555556,
              "#d8576b"
             ],
             [
              0.6666666666666666,
              "#ed7953"
             ],
             [
              0.7777777777777778,
              "#fb9f3a"
             ],
             [
              0.8888888888888888,
              "#fdca26"
             ],
             [
              1,
              "#f0f921"
             ]
            ],
            "type": "contour"
           }
          ],
          "contourcarpet": [
           {
            "colorbar": {
             "outlinewidth": 0,
             "ticks": ""
            },
            "type": "contourcarpet"
           }
          ],
          "heatmap": [
           {
            "colorbar": {
             "outlinewidth": 0,
             "ticks": ""
            },
            "colorscale": [
             [
              0,
              "#0d0887"
             ],
             [
              0.1111111111111111,
              "#46039f"
             ],
             [
              0.2222222222222222,
              "#7201a8"
             ],
             [
              0.3333333333333333,
              "#9c179e"
             ],
             [
              0.4444444444444444,
              "#bd3786"
             ],
             [
              0.5555555555555556,
              "#d8576b"
             ],
             [
              0.6666666666666666,
              "#ed7953"
             ],
             [
              0.7777777777777778,
              "#fb9f3a"
             ],
             [
              0.8888888888888888,
              "#fdca26"
             ],
             [
              1,
              "#f0f921"
             ]
            ],
            "type": "heatmap"
           }
          ],
          "heatmapgl": [
           {
            "colorbar": {
             "outlinewidth": 0,
             "ticks": ""
            },
            "colorscale": [
             [
              0,
              "#0d0887"
             ],
             [
              0.1111111111111111,
              "#46039f"
             ],
             [
              0.2222222222222222,
              "#7201a8"
             ],
             [
              0.3333333333333333,
              "#9c179e"
             ],
             [
              0.4444444444444444,
              "#bd3786"
             ],
             [
              0.5555555555555556,
              "#d8576b"
             ],
             [
              0.6666666666666666,
              "#ed7953"
             ],
             [
              0.7777777777777778,
              "#fb9f3a"
             ],
             [
              0.8888888888888888,
              "#fdca26"
             ],
             [
              1,
              "#f0f921"
             ]
            ],
            "type": "heatmapgl"
           }
          ],
          "histogram": [
           {
            "marker": {
             "colorbar": {
              "outlinewidth": 0,
              "ticks": ""
             }
            },
            "type": "histogram"
           }
          ],
          "histogram2d": [
           {
            "colorbar": {
             "outlinewidth": 0,
             "ticks": ""
            },
            "colorscale": [
             [
              0,
              "#0d0887"
             ],
             [
              0.1111111111111111,
              "#46039f"
             ],
             [
              0.2222222222222222,
              "#7201a8"
             ],
             [
              0.3333333333333333,
              "#9c179e"
             ],
             [
              0.4444444444444444,
              "#bd3786"
             ],
             [
              0.5555555555555556,
              "#d8576b"
             ],
             [
              0.6666666666666666,
              "#ed7953"
             ],
             [
              0.7777777777777778,
              "#fb9f3a"
             ],
             [
              0.8888888888888888,
              "#fdca26"
             ],
             [
              1,
              "#f0f921"
             ]
            ],
            "type": "histogram2d"
           }
          ],
          "histogram2dcontour": [
           {
            "colorbar": {
             "outlinewidth": 0,
             "ticks": ""
            },
            "colorscale": [
             [
              0,
              "#0d0887"
             ],
             [
              0.1111111111111111,
              "#46039f"
             ],
             [
              0.2222222222222222,
              "#7201a8"
             ],
             [
              0.3333333333333333,
              "#9c179e"
             ],
             [
              0.4444444444444444,
              "#bd3786"
             ],
             [
              0.5555555555555556,
              "#d8576b"
             ],
             [
              0.6666666666666666,
              "#ed7953"
             ],
             [
              0.7777777777777778,
              "#fb9f3a"
             ],
             [
              0.8888888888888888,
              "#fdca26"
             ],
             [
              1,
              "#f0f921"
             ]
            ],
            "type": "histogram2dcontour"
           }
          ],
          "mesh3d": [
           {
            "colorbar": {
             "outlinewidth": 0,
             "ticks": ""
            },
            "type": "mesh3d"
           }
          ],
          "parcoords": [
           {
            "line": {
             "colorbar": {
              "outlinewidth": 0,
              "ticks": ""
             }
            },
            "type": "parcoords"
           }
          ],
          "pie": [
           {
            "automargin": true,
            "type": "pie"
           }
          ],
          "scatter": [
           {
            "marker": {
             "colorbar": {
              "outlinewidth": 0,
              "ticks": ""
             }
            },
            "type": "scatter"
           }
          ],
          "scatter3d": [
           {
            "line": {
             "colorbar": {
              "outlinewidth": 0,
              "ticks": ""
             }
            },
            "marker": {
             "colorbar": {
              "outlinewidth": 0,
              "ticks": ""
             }
            },
            "type": "scatter3d"
           }
          ],
          "scattercarpet": [
           {
            "marker": {
             "colorbar": {
              "outlinewidth": 0,
              "ticks": ""
             }
            },
            "type": "scattercarpet"
           }
          ],
          "scattergeo": [
           {
            "marker": {
             "colorbar": {
              "outlinewidth": 0,
              "ticks": ""
             }
            },
            "type": "scattergeo"
           }
          ],
          "scattergl": [
           {
            "marker": {
             "colorbar": {
              "outlinewidth": 0,
              "ticks": ""
             }
            },
            "type": "scattergl"
           }
          ],
          "scattermapbox": [
           {
            "marker": {
             "colorbar": {
              "outlinewidth": 0,
              "ticks": ""
             }
            },
            "type": "scattermapbox"
           }
          ],
          "scatterpolar": [
           {
            "marker": {
             "colorbar": {
              "outlinewidth": 0,
              "ticks": ""
             }
            },
            "type": "scatterpolar"
           }
          ],
          "scatterpolargl": [
           {
            "marker": {
             "colorbar": {
              "outlinewidth": 0,
              "ticks": ""
             }
            },
            "type": "scatterpolargl"
           }
          ],
          "scatterternary": [
           {
            "marker": {
             "colorbar": {
              "outlinewidth": 0,
              "ticks": ""
             }
            },
            "type": "scatterternary"
           }
          ],
          "surface": [
           {
            "colorbar": {
             "outlinewidth": 0,
             "ticks": ""
            },
            "colorscale": [
             [
              0,
              "#0d0887"
             ],
             [
              0.1111111111111111,
              "#46039f"
             ],
             [
              0.2222222222222222,
              "#7201a8"
             ],
             [
              0.3333333333333333,
              "#9c179e"
             ],
             [
              0.4444444444444444,
              "#bd3786"
             ],
             [
              0.5555555555555556,
              "#d8576b"
             ],
             [
              0.6666666666666666,
              "#ed7953"
             ],
             [
              0.7777777777777778,
              "#fb9f3a"
             ],
             [
              0.8888888888888888,
              "#fdca26"
             ],
             [
              1,
              "#f0f921"
             ]
            ],
            "type": "surface"
           }
          ],
          "table": [
           {
            "cells": {
             "fill": {
              "color": "#EBF0F8"
             },
             "line": {
              "color": "white"
             }
            },
            "header": {
             "fill": {
              "color": "#C8D4E3"
             },
             "line": {
              "color": "white"
             }
            },
            "type": "table"
           }
          ]
         },
         "layout": {
          "annotationdefaults": {
           "arrowcolor": "#2a3f5f",
           "arrowhead": 0,
           "arrowwidth": 1
          },
          "coloraxis": {
           "colorbar": {
            "outlinewidth": 0,
            "ticks": ""
           }
          },
          "colorscale": {
           "diverging": [
            [
             0,
             "#8e0152"
            ],
            [
             0.1,
             "#c51b7d"
            ],
            [
             0.2,
             "#de77ae"
            ],
            [
             0.3,
             "#f1b6da"
            ],
            [
             0.4,
             "#fde0ef"
            ],
            [
             0.5,
             "#f7f7f7"
            ],
            [
             0.6,
             "#e6f5d0"
            ],
            [
             0.7,
             "#b8e186"
            ],
            [
             0.8,
             "#7fbc41"
            ],
            [
             0.9,
             "#4d9221"
            ],
            [
             1,
             "#276419"
            ]
           ],
           "sequential": [
            [
             0,
             "#0d0887"
            ],
            [
             0.1111111111111111,
             "#46039f"
            ],
            [
             0.2222222222222222,
             "#7201a8"
            ],
            [
             0.3333333333333333,
             "#9c179e"
            ],
            [
             0.4444444444444444,
             "#bd3786"
            ],
            [
             0.5555555555555556,
             "#d8576b"
            ],
            [
             0.6666666666666666,
             "#ed7953"
            ],
            [
             0.7777777777777778,
             "#fb9f3a"
            ],
            [
             0.8888888888888888,
             "#fdca26"
            ],
            [
             1,
             "#f0f921"
            ]
           ],
           "sequentialminus": [
            [
             0,
             "#0d0887"
            ],
            [
             0.1111111111111111,
             "#46039f"
            ],
            [
             0.2222222222222222,
             "#7201a8"
            ],
            [
             0.3333333333333333,
             "#9c179e"
            ],
            [
             0.4444444444444444,
             "#bd3786"
            ],
            [
             0.5555555555555556,
             "#d8576b"
            ],
            [
             0.6666666666666666,
             "#ed7953"
            ],
            [
             0.7777777777777778,
             "#fb9f3a"
            ],
            [
             0.8888888888888888,
             "#fdca26"
            ],
            [
             1,
             "#f0f921"
            ]
           ]
          },
          "colorway": [
           "#636efa",
           "#EF553B",
           "#00cc96",
           "#ab63fa",
           "#FFA15A",
           "#19d3f3",
           "#FF6692",
           "#B6E880",
           "#FF97FF",
           "#FECB52"
          ],
          "font": {
           "color": "#2a3f5f"
          },
          "geo": {
           "bgcolor": "white",
           "lakecolor": "white",
           "landcolor": "#E5ECF6",
           "showlakes": true,
           "showland": true,
           "subunitcolor": "white"
          },
          "hoverlabel": {
           "align": "left"
          },
          "hovermode": "closest",
          "mapbox": {
           "style": "light"
          },
          "paper_bgcolor": "white",
          "plot_bgcolor": "#E5ECF6",
          "polar": {
           "angularaxis": {
            "gridcolor": "white",
            "linecolor": "white",
            "ticks": ""
           },
           "bgcolor": "#E5ECF6",
           "radialaxis": {
            "gridcolor": "white",
            "linecolor": "white",
            "ticks": ""
           }
          },
          "scene": {
           "xaxis": {
            "backgroundcolor": "#E5ECF6",
            "gridcolor": "white",
            "gridwidth": 2,
            "linecolor": "white",
            "showbackground": true,
            "ticks": "",
            "zerolinecolor": "white"
           },
           "yaxis": {
            "backgroundcolor": "#E5ECF6",
            "gridcolor": "white",
            "gridwidth": 2,
            "linecolor": "white",
            "showbackground": true,
            "ticks": "",
            "zerolinecolor": "white"
           },
           "zaxis": {
            "backgroundcolor": "#E5ECF6",
            "gridcolor": "white",
            "gridwidth": 2,
            "linecolor": "white",
            "showbackground": true,
            "ticks": "",
            "zerolinecolor": "white"
           }
          },
          "shapedefaults": {
           "line": {
            "color": "#2a3f5f"
           }
          },
          "ternary": {
           "aaxis": {
            "gridcolor": "white",
            "linecolor": "white",
            "ticks": ""
           },
           "baxis": {
            "gridcolor": "white",
            "linecolor": "white",
            "ticks": ""
           },
           "bgcolor": "#E5ECF6",
           "caxis": {
            "gridcolor": "white",
            "linecolor": "white",
            "ticks": ""
           }
          },
          "title": {
           "x": 0.05
          },
          "xaxis": {
           "automargin": true,
           "gridcolor": "white",
           "linecolor": "white",
           "ticks": "",
           "title": {
            "standoff": 15
           },
           "zerolinecolor": "white",
           "zerolinewidth": 2
          },
          "yaxis": {
           "automargin": true,
           "gridcolor": "white",
           "linecolor": "white",
           "ticks": "",
           "title": {
            "standoff": 15
           },
           "zerolinecolor": "white",
           "zerolinewidth": 2
          }
         }
        }
       }
      },
      "text/html": [
       "<div>\n",
       "        \n",
       "        \n",
       "            <div id=\"8d3d6548-fa9e-4cfe-a80d-a89aef50a020\" class=\"plotly-graph-div\" style=\"height:525px; width:100%;\"></div>\n",
       "            <script type=\"text/javascript\">\n",
       "                require([\"plotly\"], function(Plotly) {\n",
       "                    window.PLOTLYENV=window.PLOTLYENV || {};\n",
       "                    \n",
       "                if (document.getElementById(\"8d3d6548-fa9e-4cfe-a80d-a89aef50a020\")) {\n",
       "                    Plotly.newPlot(\n",
       "                        '8d3d6548-fa9e-4cfe-a80d-a89aef50a020',\n",
       "                        [{\"hovertemplate\": \"dev_addr=%{x}<br>gateway=%{y}<br>rssic=%{z}<br>label=%{marker.color}<extra></extra>\", \"legendgroup\": \"\", \"marker\": {\"color\": [10.0, 6.0, 6.0, 0.0, 4.0, 0.0, 1.0, 4.0, 10.0, 12.0, 11.0, 7.0, 5.0, 3.0, 4.0, 1.0, 1.0, 12.0, 4.0, 6.0, 5.0, 5.0, 0.0, 7.0, 1.0, 2.0, 6.0, 7.0, 1.0, 1.0, 7.0, 1.0, 6.0, 4.0, 12.0, 1.0, 2.0, 5.0, 4.0, 6.0, 2.0, 7.0, 4.0, 11.0, 6.0, 2.0, 10.0, 10.0, 10.0, 4.0, 6.0, 11.0, 7.0, 6.0, 1.0, 4.0, 4.0, 1.0, 6.0, 4.0, 6.0, 11.0, 10.0, 1.0, 11.0, 1.0, 6.0, 4.0, 5.0, 8.0, 11.0, 9.0, 1.0, 4.0, 7.0, 10.0, 4.0, 6.0, 1.0, 8.0, 6.0, 4.0, 7.0, 11.0, 6.0, 3.0, 5.0, 12.0, 0.0, 12.0, 1.0, 5.0, 2.0, 2.0, 4.0, 2.0, 6.0, 5.0, 1.0, 12.0, 4.0, 1.0, 8.0, 4.0, 5.0, 2.0, 3.0, 2.0, 2.0, 2.0, 12.0, 1.0, 5.0, 2.0, 7.0, 3.0, 11.0, 6.0, 11.0, 3.0, 1.0, 12.0, 6.0, 12.0, 5.0, 6.0, 5.0, 6.0, 3.0, 12.0, 2.0, 6.0, 9.0, 5.0, 10.0, 1.0, 1.0, 6.0, 4.0, 4.0, 4.0, 12.0, 6.0, 7.0, 12.0, 12.0, 11.0, 6.0, 6.0, 4.0, 1.0, 12.0, 1.0, 2.0, 4.0, 4.0, 1.0, 6.0, 3.0, 12.0, 1.0, 2.0, 2.0, 5.0, 8.0, 1.0, 4.0, 4.0, 4.0, 6.0, 3.0, 11.0, 11.0, 11.0, 5.0, 11.0, 4.0, 10.0, 10.0, 6.0, 12.0, 12.0, 4.0, 4.0, 6.0, 10.0, 5.0, 3.0, 10.0, 1.0, 2.0, 9.0, 6.0, 5.0, 11.0, 12.0, 5.0, 12.0, 0.0, 5.0, 12.0, 0.0, 11.0, 5.0, 5.0, 12.0, 1.0, 3.0, 9.0, 9.0, 3.0, 7.0, 1.0, 10.0, 4.0, 5.0, 5.0, 1.0, 0.0, 6.0, 11.0, 5.0, 11.0, 5.0, 3.0, 0.0, 5.0, 10.0, 1.0, 11.0, 11.0, 9.0, 6.0, 10.0, 1.0, 5.0, 6.0, 12.0, 5.0, 11.0, 3.0, 5.0, 5.0, 5.0, 11.0, 3.0, 5.0, 12.0, 9.0, 5.0, 1.0, 11.0, 9.0, 3.0, 3.0, 3.0, 5.0, 3.0, 9.0, 5.0, 3.0, 10.0, 3.0, 3.0, 3.0, 11.0, 3.0, 9.0, 9.0, 3.0, 1.0, 5.0, 9.0, 5.0, 3.0, 3.0, 9.0, 12.0, 9.0, 9.0, 3.0, 10.0, 3.0, 9.0, 9.0, 9.0, 9.0, 9.0, 5.0, 9.0], \"coloraxis\": \"coloraxis\", \"opacity\": 0.9, \"symbol\": \"circle\"}, \"mode\": \"markers\", \"name\": \"\", \"scene\": \"scene\", \"showlegend\": false, \"type\": \"scatter3d\", \"x\": [\"00000000\", \"00000001\", \"00000002\", \"00000003\", \"00000004\", \"00000005\", \"00000006\", \"00000007\", \"00000008\", \"00000009\", \"0000000a\", \"0000000b\", \"0000000c\", \"0000000d\", \"0000000e\", \"0000000f\", \"00000010\", \"00000011\", \"00000012\", \"00000013\", \"00000014\", \"00000015\", \"00000016\", \"00000017\", \"00000018\", \"00000019\", \"0000001a\", \"0000001b\", \"0000001c\", \"0000001d\", \"0000001e\", \"0000001f\", \"00000020\", \"00000021\", \"00000022\", \"00000023\", \"00000024\", \"00000025\", \"00000026\", \"00000027\", \"00000028\", \"00000029\", \"0000002a\", \"0000002b\", \"0000002c\", \"0000002d\", \"0000002e\", \"0000002f\", \"00000030\", \"00000031\", \"00000032\", \"00000033\", \"00000034\", \"00000035\", \"00000036\", \"00000037\", \"00000038\", \"00000039\", \"0000003a\", \"0000003b\", \"0000003c\", \"0000003d\", \"0000003e\", \"0000003f\", \"00000040\", \"00000041\", \"00000042\", \"00000043\", \"00000044\", \"00000045\", \"00000046\", \"00000047\", \"00000048\", \"00000049\", \"0000004a\", \"0000004b\", \"0000004c\", \"0000004d\", \"0000004e\", \"0000004f\", \"00000050\", \"00000051\", \"00000052\", \"00000053\", \"00000054\", \"00000055\", \"00000056\", \"00000057\", \"00000058\", \"00000059\", \"0000005a\", \"0000005b\", \"0000005c\", \"0000005d\", \"0000005e\", \"0000005f\", \"00000060\", \"00000061\", \"00000062\", \"00000063\", \"00000064\", \"00000065\", \"00000066\", \"00000067\", \"00000068\", \"00000069\", \"0000006a\", \"0000006b\", \"0000006c\", \"0000006d\", \"0000006e\", \"0000006f\", \"00000070\", \"00000071\", \"00000072\", \"00000073\", \"00000074\", \"00000075\", \"00000076\", \"00000077\", \"00000078\", \"00000079\", \"0000007a\", \"0000007b\", \"0000007c\", \"0000007d\", \"0000007e\", \"0000007f\", \"00000080\", \"00000081\", \"00000082\", \"00000083\", \"00000084\", \"00000085\", \"00000086\", \"00000087\", \"00000088\", \"00000089\", \"0000008a\", \"0000008b\", \"0000008c\", \"0000008d\", \"0000008e\", \"0000008f\", \"00000090\", \"00000091\", \"00000092\", \"00000093\", \"00000094\", \"00000095\", \"00000096\", \"00000097\", \"00000098\", \"00000099\", \"0000009a\", \"0000009b\", \"0000009c\", \"0000009d\", \"0000009e\", \"0000009f\", \"000000a0\", \"000000a1\", \"000000a2\", \"000000a3\", \"000000a4\", \"000000a5\", \"000000a6\", \"000000a7\", \"000000a8\", \"000000a9\", \"000000aa\", \"000000ab\", \"000000ac\", \"000000ad\", \"000000ae\", \"000000af\", \"000000b0\", \"000000b1\", \"000000b2\", \"000000b3\", \"000000b4\", \"000000b5\", \"000000b6\", \"000000b7\", \"000000b8\", \"000000b9\", \"000000ba\", \"000000bb\", \"000000bc\", \"000000bd\", \"000000be\", \"000000bf\", \"000000c0\", \"000000c1\", \"000000c2\", \"000000c3\", \"000000c4\", \"000000c5\", \"000000c6\", \"000000c7\", \"000000c8\", \"000000c9\", \"000000ca\", \"000000cb\", \"000000cc\", \"000000cd\", \"000000ce\", \"000000cf\", \"000000d0\", \"000000d1\", \"000000d2\", \"000000d3\", \"000000d4\", \"000000d5\", \"000000d6\", \"000000d7\", \"000000d8\", \"000000d9\", \"000000da\", \"000000db\", \"000000dc\", \"000000dd\", \"000000de\", \"000000df\", \"000000e0\", \"000000e1\", \"000000e2\", \"000000e3\", \"000000e4\", \"000000e5\", \"000000e6\", \"000000e7\", \"000000e8\", \"000000e9\", \"000000ea\", \"000000eb\", \"000000ec\", \"000000ed\", \"000000ee\", \"000000ef\", \"000000f0\", \"000000f1\", \"000000f2\", \"000000f3\", \"000000f4\", \"000000f5\", \"000000f6\", \"000000f7\", \"000000f8\", \"000000f9\", \"000000fa\", \"000000fb\", \"000000fc\", \"000000fd\", \"000000fe\", \"000000ff\", \"00000100\", \"00000101\", \"00000102\", \"00000103\", \"00000104\", \"00000105\", \"00000106\", \"00000107\", \"00000108\", \"00000109\", \"0000010a\", \"0000010b\", \"0000010c\", \"0000010d\", \"0000010e\", \"0000010f\", \"00000110\", \"00000111\", \"00000112\", \"00000113\", \"00000114\", \"00000115\", \"00000116\", \"00000117\", \"00000118\", \"00000119\", \"0000011a\", \"0000011b\", \"0000011c\", \"0000011d\", \"0000011e\", \"0000011f\", \"00000120\", \"00000121\"], \"y\": [\"7276FF002E061495\", \"7276FF002E061495\", \"7276FF002E061495\", \"7276FF002E061495\", \"7276FF002E061495\", \"7276FF002E061495\", \"7276FF002E061495\", \"7276FF002E061495\", \"7276FF002E061495\", \"7276FF002E061495\", \"7276FF002E061495\", \"7276FF002E061495\", \"7276FF002E061495\", \"7276FF002E061495\", \"7276FF002E061495\", \"7276FF002E061495\", \"7276FF002E061495\", \"7276FF002E061495\", \"7276FF002E061495\", \"7276FF002E061495\", \"7276FF002E061495\", \"7276FF002E061495\", \"7276FF002E061495\", \"7276FF002E061495\", \"7276FF002E061495\", \"7276FF002E061495\", \"7276FF002E061495\", \"7276FF002E061495\", \"7276FF002E061495\", \"7276FF002E061495\", \"7276FF002E061495\", \"7276FF002E061495\", \"7276FF002E061495\", \"7276FF002E061495\", \"7276FF002E061495\", \"7276FF002E061495\", \"7276FF002E061495\", \"7276FF002E061495\", \"7276FF002E061495\", \"7276FF002E061495\", \"7276FF002E061495\", \"7276FF002E061495\", \"7276FF002E061495\", \"7276FF002E061495\", \"7276FF002E061495\", \"7276FF002E061495\", \"7276FF002E061495\", \"7276FF002E050264\", \"7276FF002E061495\", \"7276FF002E061495\", \"7276FF002E061495\", \"7276FF002E061495\", \"7276FF002E061495\", \"7276FF002E061495\", \"7276FF002E061495\", \"7276FF002E061495\", \"7276FF002E061495\", \"7276FF002E061495\", \"7276FF002E061495\", \"7276FF002E061495\", \"7276FF002E061495\", \"7276FF002E061495\", \"7276FF002E061495\", \"7276FF002E061495\", \"7276FF002E061495\", \"7276FF002E061495\", \"7276FF002E061495\", \"7276FF002E061495\", \"7276FF002E061495\", \"7276FF002E061495\", \"7276FF002E061495\", \"7276FF002E061495\", \"7276FF002E061495\", \"7276FF002E061495\", \"7276FF002E061495\", \"7276FF002E061495\", \"7276FF002E061495\", \"7276FF002E061495\", \"7276FF002E061495\", \"7276FF002E061495\", \"7276FF002E061495\", \"7276FF002E061495\", \"7276FF002E061495\", \"7276FF002E061495\", \"7276FF002E061495\", \"7276FF002E061495\", \"7276FF002E061495\", \"7276FF002E061495\", \"7276FF002E050264\", \"7276FF002E061495\", \"7276FF002E061495\", \"7276FF002E061495\", \"7276FF002E061495\", \"7276FF002E061495\", \"7276FF002E061495\", \"7276FF002E061495\", \"7276FF002E061495\", \"7276FF002E061495\", \"7276FF002E061495\", \"7276FF002E061495\", \"7276FF002E061495\", \"7276FF002E061495\", \"7276FF002E061495\", \"7276FF002E061495\", \"7276FF002E061495\", \"7276FF002E061495\", \"7276FF002E061495\", \"7276FF002E061495\", \"7276FF002E061495\", \"7276FF002E061495\", \"7276FF002E061495\", \"7276FF002E061495\", \"7276FF002E061495\", \"7276FF002E061495\", \"7276FF002E061495\", \"7276FF002E050264\", \"7276FF002E061495\", \"7276FF002E061495\", \"7276FF002E061495\", \"7276FF002E061495\", \"7276FF002E061495\", \"7276FF002E061495\", \"7276FF002E061495\", \"7276FF002E050264\", \"7276FF002E061495\", \"7276FF002E061495\", \"7276FF002E061495\", \"7276FF002E061495\", \"7276FF002E061495\", \"7276FF002E050264\", \"7276FF002E061495\", \"7276FF002E061495\", \"7276FF002E050264\", \"7276FF002E061495\", \"7276FF002E061495\", \"7276FF002E061495\", \"7276FF002E061495\", \"7276FF002E061495\", \"7276FF002E061495\", \"7276FF002E061495\", \"7276FF002E061495\", \"7276FF002E061495\", \"7276FF002E061495\", \"7276FF002E061495\", \"7276FF002E061495\", \"7276FF002E061495\", \"7276FF002E061495\", \"7276FF002E061495\", \"7276FF002E061495\", \"7276FF002E061495\", \"7276FF002E061495\", \"7276FF002E061495\", \"7276FF002E061495\", \"7276FF002E061495\", \"7276FF002E061495\", \"7276FF002E061495\", \"7276FF002E061495\", \"7276FF002E061495\", \"7276FF002E061495\", \"7276FF002E061495\", \"7276FF002E061495\", \"7276FF002E061495\", \"7276FF002E061495\", \"7276FF002E061495\", \"7276FF002E061495\", \"7276FF002E061495\", \"7276FF002E061495\", \"7276FF002E061495\", \"7276FF002E061495\", \"7276FF002E061495\", \"7276FF002E061495\", \"7276FF002E061495\", \"7276FF002E061495\", \"7276FF002E061495\", \"7276FF002E061495\", \"7276FF002E061495\", \"7276FF002E061495\", \"7276FF002E061495\", \"7276FF002E061495\", \"7276FF002E061495\", \"7276FF002E061495\", \"7276FF002E061495\", \"7276FF002E061495\", \"7276FF002E061495\", \"7276FF002E061495\", \"7276FF002E061495\", \"7276FF002E061495\", \"7276FF002E061495\", \"7276FF002E061495\", \"7276FF002E061495\", \"7276FF002E061495\", \"7276FF002E050264\", \"7276FF002E061495\", \"7276FF002E061495\", \"7276FF002E061495\", \"7276FF002E061495\", \"7276FF002E061495\", \"7276FF002E061495\", \"7276FF002E061495\", \"7276FF002E061495\", \"7276FF002E061495\", \"7276FF002E061495\", \"7276FF002E061495\", \"7276FF002E061495\", \"7276FF002E061495\", \"7276FF002E061495\", \"7276FF002E061495\", \"7276FF002E061495\", \"7276FF002E061495\", \"7276FF002E061495\", \"7276FF002E061495\", \"7276FF002E061495\", \"7276FF002E061495\", \"7276FF002E061495\", \"7276FF002E061495\", \"7276FF002E061495\", \"7276FF002E061495\", \"7276FF002E061495\", \"7276FF002E061495\", \"7276FF002E061495\", \"7276FF002E061495\", \"7276FF002E061495\", \"7276FF002E061495\", \"7276FF002E061495\", \"7276FF002E061495\", \"7276FF002E061495\", \"7276FF002E061495\", \"7276FF002E061495\", \"7276FF002E061495\", \"7276FF002E061495\", \"7276FF002E061495\", \"7276FF002E050264\", \"7276FF002E061495\", \"7276FF002E061495\", \"7276FF002E061495\", \"7276FF002E061495\", \"7276FF002E061495\", \"7276FF002E050264\", \"7276FF002E061495\", \"7276FF002E061495\", \"7276FF002E061495\", \"7276FF002E061495\", \"7276FF002E061495\", \"7276FF002E050264\", \"7276FF002E061495\", \"7276FF002E061495\", \"7276FF002E061495\", \"7276FF002E050264\", \"7276FF002E061495\", \"7276FF002E061495\", \"7276FF002E061495\", \"7276FF002E061495\", \"7276FF002E050264\", \"7276FF002E061495\", \"7276FF002E061495\", \"7276FF002E061495\", \"7276FF002E061495\", \"7276FF002E061495\", \"7276FF002E061495\", \"7276FF002E061495\", \"7276FF002E061495\", \"7276FF002E061495\", \"7276FF002E061495\", \"7276FF002E061495\", \"7276FF002E061495\", \"7276FF002E061495\", \"7276FF002E061495\", \"7276FF002E050264\", \"7276FF002E050264\", \"7276FF002E061495\", \"7276FF002E061495\", \"7276FF002E061495\", \"7276FF002E061495\", \"7276FF002E061495\", \"7276FF002E061495\", \"7276FF002E061495\", \"7276FF002E061495\", \"7276FF002E061495\", \"7276FF002E061495\", \"7276FF002E061495\", \"7276FF002E061495\", \"7276FF002E061495\", \"7276FF002E061495\", \"7276FF002E061495\", \"7276FF002E061495\", \"7276FF002E061495\", \"7276FF002E061495\", \"7276FF002E061495\", \"7276FF002E061495\", \"7276FF002E061495\"], \"z\": [-106, -101, -103, -108, -97, -105, -103, -103, -107, -104, -105, -87, -105, -107, -102, -106, -103, -104, -102, -100, -107, -105, -106, -93, -104, -98, -102, -92, -102, -103, -95, -102, -101, -101, -107, -101, -92, -105, -98, -102, -96, -93, -99, -106, -100, -96, -107, -108, -107, -100, -103, -105, -91, -102, -102, -101, -98, -105, -101, -98, -102, -104, -106, -103, -105, -104, -99, -100, -106, -98, -105, -107, -104, -99, -85, -107, -98, -100, -105, -91, -103, -100, -91, -104, -103, -106, -104, -104, -108, -105, -102, -104, -97, -90, -101, -99, -101, -105, -103, -106, -99, -101, -99, -102, -106, -96, -106, -99, -97, -98, -105, -106, -104, -99, -88, -108, -106, -103, -106, -107, -103, -104, -101, -104, -104, -101, -104, -102, -106, -103, -96, -100, -109, -106, -107, -103, -104, -102, -99, -99, -97, -106, -102, -96, -104, -103, -105, -103, -101, -97, -104, -103, -102, -99, -102, -104, -104, -102, -106, -104, -104, -93, -98, -106, -88, -105, -102, -100, -101, -100, -106, -106, -105, -105, -104, -106, -101, -106, -105, -100, -104, -105, -103, -99, -103, -108, -105, -106, -108, -105, -95, -109, -101, -105, -106, -104, -105, -105, -104, -105, -104, -107, -106, -105, -106, -105, -104, -105, -107, -108, -106, -89, -103, -107, -101, -105, -105, -105, -105, -102, -105, -105, -106, -106, -106, -107, -105, -107, -104, -105, -105, -109, -104, -107, -104, -105, -102, -106, -105, -105, -107, -106, -106, -108, -104, -106, -104, -108, -109, -106, -105, -105, -109, -107, -107, -106, -104, -106, -108, -108, -106, -106, -106, -106, -106, -105, -107, -109, -109, -106, -106, -106, -107, -104, -106, -106, -107, -105, -107, -107, -106, -107, -106, -106, -109, -107, -107, -106, -106, -106]}],\n",
       "                        {\"coloraxis\": {\"colorbar\": {\"title\": {\"text\": \"label\"}}, \"colorscale\": [[0.0, \"#0d0887\"], [0.1111111111111111, \"#46039f\"], [0.2222222222222222, \"#7201a8\"], [0.3333333333333333, \"#9c179e\"], [0.4444444444444444, \"#bd3786\"], [0.5555555555555556, \"#d8576b\"], [0.6666666666666666, \"#ed7953\"], [0.7777777777777778, \"#fb9f3a\"], [0.8888888888888888, \"#fdca26\"], [1.0, \"#f0f921\"]]}, \"legend\": {\"tracegroupgap\": 0}, \"margin\": {\"t\": 60}, \"scene\": {\"domain\": {\"x\": [0.0, 1.0], \"y\": [0.0, 1.0]}, \"xaxis\": {\"title\": {\"text\": \"dev_addr\"}}, \"yaxis\": {\"title\": {\"text\": \"gateway\"}}, \"zaxis\": {\"title\": {\"text\": \"rssic\"}}}, \"template\": {\"data\": {\"bar\": [{\"error_x\": {\"color\": \"#2a3f5f\"}, \"error_y\": {\"color\": \"#2a3f5f\"}, \"marker\": {\"line\": {\"color\": \"#E5ECF6\", \"width\": 0.5}}, \"type\": \"bar\"}], \"barpolar\": [{\"marker\": {\"line\": {\"color\": \"#E5ECF6\", \"width\": 0.5}}, \"type\": \"barpolar\"}], \"carpet\": [{\"aaxis\": {\"endlinecolor\": \"#2a3f5f\", \"gridcolor\": \"white\", \"linecolor\": \"white\", \"minorgridcolor\": \"white\", \"startlinecolor\": \"#2a3f5f\"}, \"baxis\": {\"endlinecolor\": \"#2a3f5f\", \"gridcolor\": \"white\", \"linecolor\": \"white\", \"minorgridcolor\": \"white\", \"startlinecolor\": \"#2a3f5f\"}, \"type\": \"carpet\"}], \"choropleth\": [{\"colorbar\": {\"outlinewidth\": 0, \"ticks\": \"\"}, \"type\": \"choropleth\"}], \"contour\": [{\"colorbar\": {\"outlinewidth\": 0, \"ticks\": \"\"}, \"colorscale\": [[0.0, \"#0d0887\"], [0.1111111111111111, \"#46039f\"], [0.2222222222222222, \"#7201a8\"], [0.3333333333333333, \"#9c179e\"], [0.4444444444444444, \"#bd3786\"], [0.5555555555555556, \"#d8576b\"], [0.6666666666666666, \"#ed7953\"], [0.7777777777777778, \"#fb9f3a\"], [0.8888888888888888, \"#fdca26\"], [1.0, \"#f0f921\"]], \"type\": \"contour\"}], \"contourcarpet\": [{\"colorbar\": {\"outlinewidth\": 0, \"ticks\": \"\"}, \"type\": \"contourcarpet\"}], \"heatmap\": [{\"colorbar\": {\"outlinewidth\": 0, \"ticks\": \"\"}, \"colorscale\": [[0.0, \"#0d0887\"], [0.1111111111111111, \"#46039f\"], [0.2222222222222222, \"#7201a8\"], [0.3333333333333333, \"#9c179e\"], [0.4444444444444444, \"#bd3786\"], [0.5555555555555556, \"#d8576b\"], [0.6666666666666666, \"#ed7953\"], [0.7777777777777778, \"#fb9f3a\"], [0.8888888888888888, \"#fdca26\"], [1.0, \"#f0f921\"]], \"type\": \"heatmap\"}], \"heatmapgl\": [{\"colorbar\": {\"outlinewidth\": 0, \"ticks\": \"\"}, \"colorscale\": [[0.0, \"#0d0887\"], [0.1111111111111111, \"#46039f\"], [0.2222222222222222, \"#7201a8\"], [0.3333333333333333, \"#9c179e\"], [0.4444444444444444, \"#bd3786\"], [0.5555555555555556, \"#d8576b\"], [0.6666666666666666, \"#ed7953\"], [0.7777777777777778, \"#fb9f3a\"], [0.8888888888888888, \"#fdca26\"], [1.0, \"#f0f921\"]], \"type\": \"heatmapgl\"}], \"histogram\": [{\"marker\": {\"colorbar\": {\"outlinewidth\": 0, \"ticks\": \"\"}}, \"type\": \"histogram\"}], \"histogram2d\": [{\"colorbar\": {\"outlinewidth\": 0, \"ticks\": \"\"}, \"colorscale\": [[0.0, \"#0d0887\"], [0.1111111111111111, \"#46039f\"], [0.2222222222222222, \"#7201a8\"], [0.3333333333333333, \"#9c179e\"], [0.4444444444444444, \"#bd3786\"], [0.5555555555555556, \"#d8576b\"], [0.6666666666666666, \"#ed7953\"], [0.7777777777777778, \"#fb9f3a\"], [0.8888888888888888, \"#fdca26\"], [1.0, \"#f0f921\"]], \"type\": \"histogram2d\"}], \"histogram2dcontour\": [{\"colorbar\": {\"outlinewidth\": 0, \"ticks\": \"\"}, \"colorscale\": [[0.0, \"#0d0887\"], [0.1111111111111111, \"#46039f\"], [0.2222222222222222, \"#7201a8\"], [0.3333333333333333, \"#9c179e\"], [0.4444444444444444, \"#bd3786\"], [0.5555555555555556, \"#d8576b\"], [0.6666666666666666, \"#ed7953\"], [0.7777777777777778, \"#fb9f3a\"], [0.8888888888888888, \"#fdca26\"], [1.0, \"#f0f921\"]], \"type\": \"histogram2dcontour\"}], \"mesh3d\": [{\"colorbar\": {\"outlinewidth\": 0, \"ticks\": \"\"}, \"type\": \"mesh3d\"}], \"parcoords\": [{\"line\": {\"colorbar\": {\"outlinewidth\": 0, \"ticks\": \"\"}}, \"type\": \"parcoords\"}], \"pie\": [{\"automargin\": true, \"type\": \"pie\"}], \"scatter\": [{\"marker\": {\"colorbar\": {\"outlinewidth\": 0, \"ticks\": \"\"}}, \"type\": \"scatter\"}], \"scatter3d\": [{\"line\": {\"colorbar\": {\"outlinewidth\": 0, \"ticks\": \"\"}}, \"marker\": {\"colorbar\": {\"outlinewidth\": 0, \"ticks\": \"\"}}, \"type\": \"scatter3d\"}], \"scattercarpet\": [{\"marker\": {\"colorbar\": {\"outlinewidth\": 0, \"ticks\": \"\"}}, \"type\": \"scattercarpet\"}], \"scattergeo\": [{\"marker\": {\"colorbar\": {\"outlinewidth\": 0, \"ticks\": \"\"}}, \"type\": \"scattergeo\"}], \"scattergl\": [{\"marker\": {\"colorbar\": {\"outlinewidth\": 0, \"ticks\": \"\"}}, \"type\": \"scattergl\"}], \"scattermapbox\": [{\"marker\": {\"colorbar\": {\"outlinewidth\": 0, \"ticks\": \"\"}}, \"type\": \"scattermapbox\"}], \"scatterpolar\": [{\"marker\": {\"colorbar\": {\"outlinewidth\": 0, \"ticks\": \"\"}}, \"type\": \"scatterpolar\"}], \"scatterpolargl\": [{\"marker\": {\"colorbar\": {\"outlinewidth\": 0, \"ticks\": \"\"}}, \"type\": \"scatterpolargl\"}], \"scatterternary\": [{\"marker\": {\"colorbar\": {\"outlinewidth\": 0, \"ticks\": \"\"}}, \"type\": \"scatterternary\"}], \"surface\": [{\"colorbar\": {\"outlinewidth\": 0, \"ticks\": \"\"}, \"colorscale\": [[0.0, \"#0d0887\"], [0.1111111111111111, \"#46039f\"], [0.2222222222222222, \"#7201a8\"], [0.3333333333333333, \"#9c179e\"], [0.4444444444444444, \"#bd3786\"], [0.5555555555555556, \"#d8576b\"], [0.6666666666666666, \"#ed7953\"], [0.7777777777777778, \"#fb9f3a\"], [0.8888888888888888, \"#fdca26\"], [1.0, \"#f0f921\"]], \"type\": \"surface\"}], \"table\": [{\"cells\": {\"fill\": {\"color\": \"#EBF0F8\"}, \"line\": {\"color\": \"white\"}}, \"header\": {\"fill\": {\"color\": \"#C8D4E3\"}, \"line\": {\"color\": \"white\"}}, \"type\": \"table\"}]}, \"layout\": {\"annotationdefaults\": {\"arrowcolor\": \"#2a3f5f\", \"arrowhead\": 0, \"arrowwidth\": 1}, \"coloraxis\": {\"colorbar\": {\"outlinewidth\": 0, \"ticks\": \"\"}}, \"colorscale\": {\"diverging\": [[0, \"#8e0152\"], [0.1, \"#c51b7d\"], [0.2, \"#de77ae\"], [0.3, \"#f1b6da\"], [0.4, \"#fde0ef\"], [0.5, \"#f7f7f7\"], [0.6, \"#e6f5d0\"], [0.7, \"#b8e186\"], [0.8, \"#7fbc41\"], [0.9, \"#4d9221\"], [1, \"#276419\"]], \"sequential\": [[0.0, \"#0d0887\"], [0.1111111111111111, \"#46039f\"], [0.2222222222222222, \"#7201a8\"], [0.3333333333333333, \"#9c179e\"], [0.4444444444444444, \"#bd3786\"], [0.5555555555555556, \"#d8576b\"], [0.6666666666666666, \"#ed7953\"], [0.7777777777777778, \"#fb9f3a\"], [0.8888888888888888, \"#fdca26\"], [1.0, \"#f0f921\"]], \"sequentialminus\": [[0.0, \"#0d0887\"], [0.1111111111111111, \"#46039f\"], [0.2222222222222222, \"#7201a8\"], [0.3333333333333333, \"#9c179e\"], [0.4444444444444444, \"#bd3786\"], [0.5555555555555556, \"#d8576b\"], [0.6666666666666666, \"#ed7953\"], [0.7777777777777778, \"#fb9f3a\"], [0.8888888888888888, \"#fdca26\"], [1.0, \"#f0f921\"]]}, \"colorway\": [\"#636efa\", \"#EF553B\", \"#00cc96\", \"#ab63fa\", \"#FFA15A\", \"#19d3f3\", \"#FF6692\", \"#B6E880\", \"#FF97FF\", \"#FECB52\"], \"font\": {\"color\": \"#2a3f5f\"}, \"geo\": {\"bgcolor\": \"white\", \"lakecolor\": \"white\", \"landcolor\": \"#E5ECF6\", \"showlakes\": true, \"showland\": true, \"subunitcolor\": \"white\"}, \"hoverlabel\": {\"align\": \"left\"}, \"hovermode\": \"closest\", \"mapbox\": {\"style\": \"light\"}, \"paper_bgcolor\": \"white\", \"plot_bgcolor\": \"#E5ECF6\", \"polar\": {\"angularaxis\": {\"gridcolor\": \"white\", \"linecolor\": \"white\", \"ticks\": \"\"}, \"bgcolor\": \"#E5ECF6\", \"radialaxis\": {\"gridcolor\": \"white\", \"linecolor\": \"white\", \"ticks\": \"\"}}, \"scene\": {\"xaxis\": {\"backgroundcolor\": \"#E5ECF6\", \"gridcolor\": \"white\", \"gridwidth\": 2, \"linecolor\": \"white\", \"showbackground\": true, \"ticks\": \"\", \"zerolinecolor\": \"white\"}, \"yaxis\": {\"backgroundcolor\": \"#E5ECF6\", \"gridcolor\": \"white\", \"gridwidth\": 2, \"linecolor\": \"white\", \"showbackground\": true, \"ticks\": \"\", \"zerolinecolor\": \"white\"}, \"zaxis\": {\"backgroundcolor\": \"#E5ECF6\", \"gridcolor\": \"white\", \"gridwidth\": 2, \"linecolor\": \"white\", \"showbackground\": true, \"ticks\": \"\", \"zerolinecolor\": \"white\"}}, \"shapedefaults\": {\"line\": {\"color\": \"#2a3f5f\"}}, \"ternary\": {\"aaxis\": {\"gridcolor\": \"white\", \"linecolor\": \"white\", \"ticks\": \"\"}, \"baxis\": {\"gridcolor\": \"white\", \"linecolor\": \"white\", \"ticks\": \"\"}, \"bgcolor\": \"#E5ECF6\", \"caxis\": {\"gridcolor\": \"white\", \"linecolor\": \"white\", \"ticks\": \"\"}}, \"title\": {\"x\": 0.05}, \"xaxis\": {\"automargin\": true, \"gridcolor\": \"white\", \"linecolor\": \"white\", \"ticks\": \"\", \"title\": {\"standoff\": 15}, \"zerolinecolor\": \"white\", \"zerolinewidth\": 2}, \"yaxis\": {\"automargin\": true, \"gridcolor\": \"white\", \"linecolor\": \"white\", \"ticks\": \"\", \"title\": {\"standoff\": 15}, \"zerolinecolor\": \"white\", \"zerolinewidth\": 2}}}},\n",
       "                        {\"responsive\": true}\n",
       "                    ).then(function(){\n",
       "                            \n",
       "var gd = document.getElementById('8d3d6548-fa9e-4cfe-a80d-a89aef50a020');\n",
       "var x = new MutationObserver(function (mutations, observer) {{\n",
       "        var display = window.getComputedStyle(gd).display;\n",
       "        if (!display || display === 'none') {{\n",
       "            console.log([gd, 'removed!']);\n",
       "            Plotly.purge(gd);\n",
       "            observer.disconnect();\n",
       "        }}\n",
       "}});\n",
       "\n",
       "// Listen for the removal of the full notebook cells\n",
       "var notebookContainer = gd.closest('#notebook-container');\n",
       "if (notebookContainer) {{\n",
       "    x.observe(notebookContainer, {childList: true});\n",
       "}}\n",
       "\n",
       "// Listen for the clearing of the current output cell\n",
       "var outputEl = gd.closest('.output');\n",
       "if (outputEl) {{\n",
       "    x.observe(outputEl, {childList: true});\n",
       "}}\n",
       "\n",
       "                        })\n",
       "                };\n",
       "                });\n",
       "            </script>\n",
       "        </div>"
      ]
     },
     "metadata": {},
     "output_type": "display_data"
    }
   ],
   "source": [
    "fig = px.scatter_3d(labeled_df, x='dev_addr', y='gateway', z='rssic',\n",
    "                color='label', size_max=100,\n",
    "                opacity=0.9)\n",
    "fig.show()"
   ]
  },
  {
   "cell_type": "code",
   "execution_count": 106,
   "metadata": {},
   "outputs": [
    {
     "data": {
      "application/vnd.plotly.v1+json": {
       "config": {
        "plotlyServerURL": "https://plot.ly"
       },
       "data": [
        {
         "hovertemplate": "label=%{x}<br>rssic=%{y}<extra></extra>",
         "legendgroup": "",
         "marker": {
          "color": "#636efa",
          "opacity": 0.9,
          "symbol": "circle"
         },
         "mode": "markers",
         "name": "",
         "showlegend": false,
         "type": "scatter",
         "x": [
          10,
          6,
          6,
          0,
          4,
          0,
          1,
          4,
          10,
          12,
          11,
          7,
          5,
          3,
          4,
          1,
          1,
          12,
          4,
          6,
          5,
          5,
          0,
          7,
          1,
          2,
          6,
          7,
          1,
          1,
          7,
          1,
          6,
          4,
          12,
          1,
          2,
          5,
          4,
          6,
          2,
          7,
          4,
          11,
          6,
          2,
          10,
          10,
          10,
          4,
          6,
          11,
          7,
          6,
          1,
          4,
          4,
          1,
          6,
          4,
          6,
          11,
          10,
          1,
          11,
          1,
          6,
          4,
          5,
          8,
          11,
          9,
          1,
          4,
          7,
          10,
          4,
          6,
          1,
          8,
          6,
          4,
          7,
          11,
          6,
          3,
          5,
          12,
          0,
          12,
          1,
          5,
          2,
          2,
          4,
          2,
          6,
          5,
          1,
          12,
          4,
          1,
          8,
          4,
          5,
          2,
          3,
          2,
          2,
          2,
          12,
          1,
          5,
          2,
          7,
          3,
          11,
          6,
          11,
          3,
          1,
          12,
          6,
          12,
          5,
          6,
          5,
          6,
          3,
          12,
          2,
          6,
          9,
          5,
          10,
          1,
          1,
          6,
          4,
          4,
          4,
          12,
          6,
          7,
          12,
          12,
          11,
          6,
          6,
          4,
          1,
          12,
          1,
          2,
          4,
          4,
          1,
          6,
          3,
          12,
          1,
          2,
          2,
          5,
          8,
          1,
          4,
          4,
          4,
          6,
          3,
          11,
          11,
          11,
          5,
          11,
          4,
          10,
          10,
          6,
          12,
          12,
          4,
          4,
          6,
          10,
          5,
          3,
          10,
          1,
          2,
          9,
          6,
          5,
          11,
          12,
          5,
          12,
          0,
          5,
          12,
          0,
          11,
          5,
          5,
          12,
          1,
          3,
          9,
          9,
          3,
          7,
          1,
          10,
          4,
          5,
          5,
          1,
          0,
          6,
          11,
          5,
          11,
          5,
          3,
          0,
          5,
          10,
          1,
          11,
          11,
          9,
          6,
          10,
          1,
          5,
          6,
          12,
          5,
          11,
          3,
          5,
          5,
          5,
          11,
          3,
          5,
          12,
          9,
          5,
          1,
          11,
          9,
          3,
          3,
          3,
          5,
          3,
          9,
          5,
          3,
          10,
          3,
          3,
          3,
          11,
          3,
          9,
          9,
          3,
          1,
          5,
          9,
          5,
          3,
          3,
          9,
          12,
          9,
          9,
          3,
          10,
          3,
          9,
          9,
          9,
          9,
          9,
          5,
          9
         ],
         "xaxis": "x",
         "y": [
          -106,
          -101,
          -103,
          -108,
          -97,
          -105,
          -103,
          -103,
          -107,
          -104,
          -105,
          -87,
          -105,
          -107,
          -102,
          -106,
          -103,
          -104,
          -102,
          -100,
          -107,
          -105,
          -106,
          -93,
          -104,
          -98,
          -102,
          -92,
          -102,
          -103,
          -95,
          -102,
          -101,
          -101,
          -107,
          -101,
          -92,
          -105,
          -98,
          -102,
          -96,
          -93,
          -99,
          -106,
          -100,
          -96,
          -107,
          -108,
          -107,
          -100,
          -103,
          -105,
          -91,
          -102,
          -102,
          -101,
          -98,
          -105,
          -101,
          -98,
          -102,
          -104,
          -106,
          -103,
          -105,
          -104,
          -99,
          -100,
          -106,
          -98,
          -105,
          -107,
          -104,
          -99,
          -85,
          -107,
          -98,
          -100,
          -105,
          -91,
          -103,
          -100,
          -91,
          -104,
          -103,
          -106,
          -104,
          -104,
          -108,
          -105,
          -102,
          -104,
          -97,
          -90,
          -101,
          -99,
          -101,
          -105,
          -103,
          -106,
          -99,
          -101,
          -99,
          -102,
          -106,
          -96,
          -106,
          -99,
          -97,
          -98,
          -105,
          -106,
          -104,
          -99,
          -88,
          -108,
          -106,
          -103,
          -106,
          -107,
          -103,
          -104,
          -101,
          -104,
          -104,
          -101,
          -104,
          -102,
          -106,
          -103,
          -96,
          -100,
          -109,
          -106,
          -107,
          -103,
          -104,
          -102,
          -99,
          -99,
          -97,
          -106,
          -102,
          -96,
          -104,
          -103,
          -105,
          -103,
          -101,
          -97,
          -104,
          -103,
          -102,
          -99,
          -102,
          -104,
          -104,
          -102,
          -106,
          -104,
          -104,
          -93,
          -98,
          -106,
          -88,
          -105,
          -102,
          -100,
          -101,
          -100,
          -106,
          -106,
          -105,
          -105,
          -104,
          -106,
          -101,
          -106,
          -105,
          -100,
          -104,
          -105,
          -103,
          -99,
          -103,
          -108,
          -105,
          -106,
          -108,
          -105,
          -95,
          -109,
          -101,
          -105,
          -106,
          -104,
          -105,
          -105,
          -104,
          -105,
          -104,
          -107,
          -106,
          -105,
          -106,
          -105,
          -104,
          -105,
          -107,
          -108,
          -106,
          -89,
          -103,
          -107,
          -101,
          -105,
          -105,
          -105,
          -105,
          -102,
          -105,
          -105,
          -106,
          -106,
          -106,
          -107,
          -105,
          -107,
          -104,
          -105,
          -105,
          -109,
          -104,
          -107,
          -104,
          -105,
          -102,
          -106,
          -105,
          -105,
          -107,
          -106,
          -106,
          -108,
          -104,
          -106,
          -104,
          -108,
          -109,
          -106,
          -105,
          -105,
          -109,
          -107,
          -107,
          -106,
          -104,
          -106,
          -108,
          -108,
          -106,
          -106,
          -106,
          -106,
          -106,
          -105,
          -107,
          -109,
          -109,
          -106,
          -106,
          -106,
          -107,
          -104,
          -106,
          -106,
          -107,
          -105,
          -107,
          -107,
          -106,
          -107,
          -106,
          -106,
          -109,
          -107,
          -107,
          -106,
          -106,
          -106
         ],
         "yaxis": "y"
        }
       ],
       "layout": {
        "legend": {
         "tracegroupgap": 0
        },
        "margin": {
         "t": 60
        },
        "template": {
         "data": {
          "bar": [
           {
            "error_x": {
             "color": "#2a3f5f"
            },
            "error_y": {
             "color": "#2a3f5f"
            },
            "marker": {
             "line": {
              "color": "#E5ECF6",
              "width": 0.5
             }
            },
            "type": "bar"
           }
          ],
          "barpolar": [
           {
            "marker": {
             "line": {
              "color": "#E5ECF6",
              "width": 0.5
             }
            },
            "type": "barpolar"
           }
          ],
          "carpet": [
           {
            "aaxis": {
             "endlinecolor": "#2a3f5f",
             "gridcolor": "white",
             "linecolor": "white",
             "minorgridcolor": "white",
             "startlinecolor": "#2a3f5f"
            },
            "baxis": {
             "endlinecolor": "#2a3f5f",
             "gridcolor": "white",
             "linecolor": "white",
             "minorgridcolor": "white",
             "startlinecolor": "#2a3f5f"
            },
            "type": "carpet"
           }
          ],
          "choropleth": [
           {
            "colorbar": {
             "outlinewidth": 0,
             "ticks": ""
            },
            "type": "choropleth"
           }
          ],
          "contour": [
           {
            "colorbar": {
             "outlinewidth": 0,
             "ticks": ""
            },
            "colorscale": [
             [
              0,
              "#0d0887"
             ],
             [
              0.1111111111111111,
              "#46039f"
             ],
             [
              0.2222222222222222,
              "#7201a8"
             ],
             [
              0.3333333333333333,
              "#9c179e"
             ],
             [
              0.4444444444444444,
              "#bd3786"
             ],
             [
              0.5555555555555556,
              "#d8576b"
             ],
             [
              0.6666666666666666,
              "#ed7953"
             ],
             [
              0.7777777777777778,
              "#fb9f3a"
             ],
             [
              0.8888888888888888,
              "#fdca26"
             ],
             [
              1,
              "#f0f921"
             ]
            ],
            "type": "contour"
           }
          ],
          "contourcarpet": [
           {
            "colorbar": {
             "outlinewidth": 0,
             "ticks": ""
            },
            "type": "contourcarpet"
           }
          ],
          "heatmap": [
           {
            "colorbar": {
             "outlinewidth": 0,
             "ticks": ""
            },
            "colorscale": [
             [
              0,
              "#0d0887"
             ],
             [
              0.1111111111111111,
              "#46039f"
             ],
             [
              0.2222222222222222,
              "#7201a8"
             ],
             [
              0.3333333333333333,
              "#9c179e"
             ],
             [
              0.4444444444444444,
              "#bd3786"
             ],
             [
              0.5555555555555556,
              "#d8576b"
             ],
             [
              0.6666666666666666,
              "#ed7953"
             ],
             [
              0.7777777777777778,
              "#fb9f3a"
             ],
             [
              0.8888888888888888,
              "#fdca26"
             ],
             [
              1,
              "#f0f921"
             ]
            ],
            "type": "heatmap"
           }
          ],
          "heatmapgl": [
           {
            "colorbar": {
             "outlinewidth": 0,
             "ticks": ""
            },
            "colorscale": [
             [
              0,
              "#0d0887"
             ],
             [
              0.1111111111111111,
              "#46039f"
             ],
             [
              0.2222222222222222,
              "#7201a8"
             ],
             [
              0.3333333333333333,
              "#9c179e"
             ],
             [
              0.4444444444444444,
              "#bd3786"
             ],
             [
              0.5555555555555556,
              "#d8576b"
             ],
             [
              0.6666666666666666,
              "#ed7953"
             ],
             [
              0.7777777777777778,
              "#fb9f3a"
             ],
             [
              0.8888888888888888,
              "#fdca26"
             ],
             [
              1,
              "#f0f921"
             ]
            ],
            "type": "heatmapgl"
           }
          ],
          "histogram": [
           {
            "marker": {
             "colorbar": {
              "outlinewidth": 0,
              "ticks": ""
             }
            },
            "type": "histogram"
           }
          ],
          "histogram2d": [
           {
            "colorbar": {
             "outlinewidth": 0,
             "ticks": ""
            },
            "colorscale": [
             [
              0,
              "#0d0887"
             ],
             [
              0.1111111111111111,
              "#46039f"
             ],
             [
              0.2222222222222222,
              "#7201a8"
             ],
             [
              0.3333333333333333,
              "#9c179e"
             ],
             [
              0.4444444444444444,
              "#bd3786"
             ],
             [
              0.5555555555555556,
              "#d8576b"
             ],
             [
              0.6666666666666666,
              "#ed7953"
             ],
             [
              0.7777777777777778,
              "#fb9f3a"
             ],
             [
              0.8888888888888888,
              "#fdca26"
             ],
             [
              1,
              "#f0f921"
             ]
            ],
            "type": "histogram2d"
           }
          ],
          "histogram2dcontour": [
           {
            "colorbar": {
             "outlinewidth": 0,
             "ticks": ""
            },
            "colorscale": [
             [
              0,
              "#0d0887"
             ],
             [
              0.1111111111111111,
              "#46039f"
             ],
             [
              0.2222222222222222,
              "#7201a8"
             ],
             [
              0.3333333333333333,
              "#9c179e"
             ],
             [
              0.4444444444444444,
              "#bd3786"
             ],
             [
              0.5555555555555556,
              "#d8576b"
             ],
             [
              0.6666666666666666,
              "#ed7953"
             ],
             [
              0.7777777777777778,
              "#fb9f3a"
             ],
             [
              0.8888888888888888,
              "#fdca26"
             ],
             [
              1,
              "#f0f921"
             ]
            ],
            "type": "histogram2dcontour"
           }
          ],
          "mesh3d": [
           {
            "colorbar": {
             "outlinewidth": 0,
             "ticks": ""
            },
            "type": "mesh3d"
           }
          ],
          "parcoords": [
           {
            "line": {
             "colorbar": {
              "outlinewidth": 0,
              "ticks": ""
             }
            },
            "type": "parcoords"
           }
          ],
          "pie": [
           {
            "automargin": true,
            "type": "pie"
           }
          ],
          "scatter": [
           {
            "marker": {
             "colorbar": {
              "outlinewidth": 0,
              "ticks": ""
             }
            },
            "type": "scatter"
           }
          ],
          "scatter3d": [
           {
            "line": {
             "colorbar": {
              "outlinewidth": 0,
              "ticks": ""
             }
            },
            "marker": {
             "colorbar": {
              "outlinewidth": 0,
              "ticks": ""
             }
            },
            "type": "scatter3d"
           }
          ],
          "scattercarpet": [
           {
            "marker": {
             "colorbar": {
              "outlinewidth": 0,
              "ticks": ""
             }
            },
            "type": "scattercarpet"
           }
          ],
          "scattergeo": [
           {
            "marker": {
             "colorbar": {
              "outlinewidth": 0,
              "ticks": ""
             }
            },
            "type": "scattergeo"
           }
          ],
          "scattergl": [
           {
            "marker": {
             "colorbar": {
              "outlinewidth": 0,
              "ticks": ""
             }
            },
            "type": "scattergl"
           }
          ],
          "scattermapbox": [
           {
            "marker": {
             "colorbar": {
              "outlinewidth": 0,
              "ticks": ""
             }
            },
            "type": "scattermapbox"
           }
          ],
          "scatterpolar": [
           {
            "marker": {
             "colorbar": {
              "outlinewidth": 0,
              "ticks": ""
             }
            },
            "type": "scatterpolar"
           }
          ],
          "scatterpolargl": [
           {
            "marker": {
             "colorbar": {
              "outlinewidth": 0,
              "ticks": ""
             }
            },
            "type": "scatterpolargl"
           }
          ],
          "scatterternary": [
           {
            "marker": {
             "colorbar": {
              "outlinewidth": 0,
              "ticks": ""
             }
            },
            "type": "scatterternary"
           }
          ],
          "surface": [
           {
            "colorbar": {
             "outlinewidth": 0,
             "ticks": ""
            },
            "colorscale": [
             [
              0,
              "#0d0887"
             ],
             [
              0.1111111111111111,
              "#46039f"
             ],
             [
              0.2222222222222222,
              "#7201a8"
             ],
             [
              0.3333333333333333,
              "#9c179e"
             ],
             [
              0.4444444444444444,
              "#bd3786"
             ],
             [
              0.5555555555555556,
              "#d8576b"
             ],
             [
              0.6666666666666666,
              "#ed7953"
             ],
             [
              0.7777777777777778,
              "#fb9f3a"
             ],
             [
              0.8888888888888888,
              "#fdca26"
             ],
             [
              1,
              "#f0f921"
             ]
            ],
            "type": "surface"
           }
          ],
          "table": [
           {
            "cells": {
             "fill": {
              "color": "#EBF0F8"
             },
             "line": {
              "color": "white"
             }
            },
            "header": {
             "fill": {
              "color": "#C8D4E3"
             },
             "line": {
              "color": "white"
             }
            },
            "type": "table"
           }
          ]
         },
         "layout": {
          "annotationdefaults": {
           "arrowcolor": "#2a3f5f",
           "arrowhead": 0,
           "arrowwidth": 1
          },
          "coloraxis": {
           "colorbar": {
            "outlinewidth": 0,
            "ticks": ""
           }
          },
          "colorscale": {
           "diverging": [
            [
             0,
             "#8e0152"
            ],
            [
             0.1,
             "#c51b7d"
            ],
            [
             0.2,
             "#de77ae"
            ],
            [
             0.3,
             "#f1b6da"
            ],
            [
             0.4,
             "#fde0ef"
            ],
            [
             0.5,
             "#f7f7f7"
            ],
            [
             0.6,
             "#e6f5d0"
            ],
            [
             0.7,
             "#b8e186"
            ],
            [
             0.8,
             "#7fbc41"
            ],
            [
             0.9,
             "#4d9221"
            ],
            [
             1,
             "#276419"
            ]
           ],
           "sequential": [
            [
             0,
             "#0d0887"
            ],
            [
             0.1111111111111111,
             "#46039f"
            ],
            [
             0.2222222222222222,
             "#7201a8"
            ],
            [
             0.3333333333333333,
             "#9c179e"
            ],
            [
             0.4444444444444444,
             "#bd3786"
            ],
            [
             0.5555555555555556,
             "#d8576b"
            ],
            [
             0.6666666666666666,
             "#ed7953"
            ],
            [
             0.7777777777777778,
             "#fb9f3a"
            ],
            [
             0.8888888888888888,
             "#fdca26"
            ],
            [
             1,
             "#f0f921"
            ]
           ],
           "sequentialminus": [
            [
             0,
             "#0d0887"
            ],
            [
             0.1111111111111111,
             "#46039f"
            ],
            [
             0.2222222222222222,
             "#7201a8"
            ],
            [
             0.3333333333333333,
             "#9c179e"
            ],
            [
             0.4444444444444444,
             "#bd3786"
            ],
            [
             0.5555555555555556,
             "#d8576b"
            ],
            [
             0.6666666666666666,
             "#ed7953"
            ],
            [
             0.7777777777777778,
             "#fb9f3a"
            ],
            [
             0.8888888888888888,
             "#fdca26"
            ],
            [
             1,
             "#f0f921"
            ]
           ]
          },
          "colorway": [
           "#636efa",
           "#EF553B",
           "#00cc96",
           "#ab63fa",
           "#FFA15A",
           "#19d3f3",
           "#FF6692",
           "#B6E880",
           "#FF97FF",
           "#FECB52"
          ],
          "font": {
           "color": "#2a3f5f"
          },
          "geo": {
           "bgcolor": "white",
           "lakecolor": "white",
           "landcolor": "#E5ECF6",
           "showlakes": true,
           "showland": true,
           "subunitcolor": "white"
          },
          "hoverlabel": {
           "align": "left"
          },
          "hovermode": "closest",
          "mapbox": {
           "style": "light"
          },
          "paper_bgcolor": "white",
          "plot_bgcolor": "#E5ECF6",
          "polar": {
           "angularaxis": {
            "gridcolor": "white",
            "linecolor": "white",
            "ticks": ""
           },
           "bgcolor": "#E5ECF6",
           "radialaxis": {
            "gridcolor": "white",
            "linecolor": "white",
            "ticks": ""
           }
          },
          "scene": {
           "xaxis": {
            "backgroundcolor": "#E5ECF6",
            "gridcolor": "white",
            "gridwidth": 2,
            "linecolor": "white",
            "showbackground": true,
            "ticks": "",
            "zerolinecolor": "white"
           },
           "yaxis": {
            "backgroundcolor": "#E5ECF6",
            "gridcolor": "white",
            "gridwidth": 2,
            "linecolor": "white",
            "showbackground": true,
            "ticks": "",
            "zerolinecolor": "white"
           },
           "zaxis": {
            "backgroundcolor": "#E5ECF6",
            "gridcolor": "white",
            "gridwidth": 2,
            "linecolor": "white",
            "showbackground": true,
            "ticks": "",
            "zerolinecolor": "white"
           }
          },
          "shapedefaults": {
           "line": {
            "color": "#2a3f5f"
           }
          },
          "ternary": {
           "aaxis": {
            "gridcolor": "white",
            "linecolor": "white",
            "ticks": ""
           },
           "baxis": {
            "gridcolor": "white",
            "linecolor": "white",
            "ticks": ""
           },
           "bgcolor": "#E5ECF6",
           "caxis": {
            "gridcolor": "white",
            "linecolor": "white",
            "ticks": ""
           }
          },
          "title": {
           "x": 0.05
          },
          "xaxis": {
           "automargin": true,
           "gridcolor": "white",
           "linecolor": "white",
           "ticks": "",
           "title": {
            "standoff": 15
           },
           "zerolinecolor": "white",
           "zerolinewidth": 2
          },
          "yaxis": {
           "automargin": true,
           "gridcolor": "white",
           "linecolor": "white",
           "ticks": "",
           "title": {
            "standoff": 15
           },
           "zerolinecolor": "white",
           "zerolinewidth": 2
          }
         }
        },
        "xaxis": {
         "anchor": "y",
         "domain": [
          0,
          1
         ],
         "title": {
          "text": "label"
         }
        },
        "yaxis": {
         "anchor": "x",
         "domain": [
          0,
          1
         ],
         "title": {
          "text": "rssic"
         }
        }
       }
      },
      "text/html": [
       "<div>\n",
       "        \n",
       "        \n",
       "            <div id=\"9931a58f-b96a-42b8-a9ff-3a7ef5c5d970\" class=\"plotly-graph-div\" style=\"height:525px; width:100%;\"></div>\n",
       "            <script type=\"text/javascript\">\n",
       "                require([\"plotly\"], function(Plotly) {\n",
       "                    window.PLOTLYENV=window.PLOTLYENV || {};\n",
       "                    \n",
       "                if (document.getElementById(\"9931a58f-b96a-42b8-a9ff-3a7ef5c5d970\")) {\n",
       "                    Plotly.newPlot(\n",
       "                        '9931a58f-b96a-42b8-a9ff-3a7ef5c5d970',\n",
       "                        [{\"hovertemplate\": \"label=%{x}<br>rssic=%{y}<extra></extra>\", \"legendgroup\": \"\", \"marker\": {\"color\": \"#636efa\", \"opacity\": 0.9, \"symbol\": \"circle\"}, \"mode\": \"markers\", \"name\": \"\", \"showlegend\": false, \"type\": \"scatter\", \"x\": [10.0, 6.0, 6.0, 0.0, 4.0, 0.0, 1.0, 4.0, 10.0, 12.0, 11.0, 7.0, 5.0, 3.0, 4.0, 1.0, 1.0, 12.0, 4.0, 6.0, 5.0, 5.0, 0.0, 7.0, 1.0, 2.0, 6.0, 7.0, 1.0, 1.0, 7.0, 1.0, 6.0, 4.0, 12.0, 1.0, 2.0, 5.0, 4.0, 6.0, 2.0, 7.0, 4.0, 11.0, 6.0, 2.0, 10.0, 10.0, 10.0, 4.0, 6.0, 11.0, 7.0, 6.0, 1.0, 4.0, 4.0, 1.0, 6.0, 4.0, 6.0, 11.0, 10.0, 1.0, 11.0, 1.0, 6.0, 4.0, 5.0, 8.0, 11.0, 9.0, 1.0, 4.0, 7.0, 10.0, 4.0, 6.0, 1.0, 8.0, 6.0, 4.0, 7.0, 11.0, 6.0, 3.0, 5.0, 12.0, 0.0, 12.0, 1.0, 5.0, 2.0, 2.0, 4.0, 2.0, 6.0, 5.0, 1.0, 12.0, 4.0, 1.0, 8.0, 4.0, 5.0, 2.0, 3.0, 2.0, 2.0, 2.0, 12.0, 1.0, 5.0, 2.0, 7.0, 3.0, 11.0, 6.0, 11.0, 3.0, 1.0, 12.0, 6.0, 12.0, 5.0, 6.0, 5.0, 6.0, 3.0, 12.0, 2.0, 6.0, 9.0, 5.0, 10.0, 1.0, 1.0, 6.0, 4.0, 4.0, 4.0, 12.0, 6.0, 7.0, 12.0, 12.0, 11.0, 6.0, 6.0, 4.0, 1.0, 12.0, 1.0, 2.0, 4.0, 4.0, 1.0, 6.0, 3.0, 12.0, 1.0, 2.0, 2.0, 5.0, 8.0, 1.0, 4.0, 4.0, 4.0, 6.0, 3.0, 11.0, 11.0, 11.0, 5.0, 11.0, 4.0, 10.0, 10.0, 6.0, 12.0, 12.0, 4.0, 4.0, 6.0, 10.0, 5.0, 3.0, 10.0, 1.0, 2.0, 9.0, 6.0, 5.0, 11.0, 12.0, 5.0, 12.0, 0.0, 5.0, 12.0, 0.0, 11.0, 5.0, 5.0, 12.0, 1.0, 3.0, 9.0, 9.0, 3.0, 7.0, 1.0, 10.0, 4.0, 5.0, 5.0, 1.0, 0.0, 6.0, 11.0, 5.0, 11.0, 5.0, 3.0, 0.0, 5.0, 10.0, 1.0, 11.0, 11.0, 9.0, 6.0, 10.0, 1.0, 5.0, 6.0, 12.0, 5.0, 11.0, 3.0, 5.0, 5.0, 5.0, 11.0, 3.0, 5.0, 12.0, 9.0, 5.0, 1.0, 11.0, 9.0, 3.0, 3.0, 3.0, 5.0, 3.0, 9.0, 5.0, 3.0, 10.0, 3.0, 3.0, 3.0, 11.0, 3.0, 9.0, 9.0, 3.0, 1.0, 5.0, 9.0, 5.0, 3.0, 3.0, 9.0, 12.0, 9.0, 9.0, 3.0, 10.0, 3.0, 9.0, 9.0, 9.0, 9.0, 9.0, 5.0, 9.0], \"xaxis\": \"x\", \"y\": [-106, -101, -103, -108, -97, -105, -103, -103, -107, -104, -105, -87, -105, -107, -102, -106, -103, -104, -102, -100, -107, -105, -106, -93, -104, -98, -102, -92, -102, -103, -95, -102, -101, -101, -107, -101, -92, -105, -98, -102, -96, -93, -99, -106, -100, -96, -107, -108, -107, -100, -103, -105, -91, -102, -102, -101, -98, -105, -101, -98, -102, -104, -106, -103, -105, -104, -99, -100, -106, -98, -105, -107, -104, -99, -85, -107, -98, -100, -105, -91, -103, -100, -91, -104, -103, -106, -104, -104, -108, -105, -102, -104, -97, -90, -101, -99, -101, -105, -103, -106, -99, -101, -99, -102, -106, -96, -106, -99, -97, -98, -105, -106, -104, -99, -88, -108, -106, -103, -106, -107, -103, -104, -101, -104, -104, -101, -104, -102, -106, -103, -96, -100, -109, -106, -107, -103, -104, -102, -99, -99, -97, -106, -102, -96, -104, -103, -105, -103, -101, -97, -104, -103, -102, -99, -102, -104, -104, -102, -106, -104, -104, -93, -98, -106, -88, -105, -102, -100, -101, -100, -106, -106, -105, -105, -104, -106, -101, -106, -105, -100, -104, -105, -103, -99, -103, -108, -105, -106, -108, -105, -95, -109, -101, -105, -106, -104, -105, -105, -104, -105, -104, -107, -106, -105, -106, -105, -104, -105, -107, -108, -106, -89, -103, -107, -101, -105, -105, -105, -105, -102, -105, -105, -106, -106, -106, -107, -105, -107, -104, -105, -105, -109, -104, -107, -104, -105, -102, -106, -105, -105, -107, -106, -106, -108, -104, -106, -104, -108, -109, -106, -105, -105, -109, -107, -107, -106, -104, -106, -108, -108, -106, -106, -106, -106, -106, -105, -107, -109, -109, -106, -106, -106, -107, -104, -106, -106, -107, -105, -107, -107, -106, -107, -106, -106, -109, -107, -107, -106, -106, -106], \"yaxis\": \"y\"}],\n",
       "                        {\"legend\": {\"tracegroupgap\": 0}, \"margin\": {\"t\": 60}, \"template\": {\"data\": {\"bar\": [{\"error_x\": {\"color\": \"#2a3f5f\"}, \"error_y\": {\"color\": \"#2a3f5f\"}, \"marker\": {\"line\": {\"color\": \"#E5ECF6\", \"width\": 0.5}}, \"type\": \"bar\"}], \"barpolar\": [{\"marker\": {\"line\": {\"color\": \"#E5ECF6\", \"width\": 0.5}}, \"type\": \"barpolar\"}], \"carpet\": [{\"aaxis\": {\"endlinecolor\": \"#2a3f5f\", \"gridcolor\": \"white\", \"linecolor\": \"white\", \"minorgridcolor\": \"white\", \"startlinecolor\": \"#2a3f5f\"}, \"baxis\": {\"endlinecolor\": \"#2a3f5f\", \"gridcolor\": \"white\", \"linecolor\": \"white\", \"minorgridcolor\": \"white\", \"startlinecolor\": \"#2a3f5f\"}, \"type\": \"carpet\"}], \"choropleth\": [{\"colorbar\": {\"outlinewidth\": 0, \"ticks\": \"\"}, \"type\": \"choropleth\"}], \"contour\": [{\"colorbar\": {\"outlinewidth\": 0, \"ticks\": \"\"}, \"colorscale\": [[0.0, \"#0d0887\"], [0.1111111111111111, \"#46039f\"], [0.2222222222222222, \"#7201a8\"], [0.3333333333333333, \"#9c179e\"], [0.4444444444444444, \"#bd3786\"], [0.5555555555555556, \"#d8576b\"], [0.6666666666666666, \"#ed7953\"], [0.7777777777777778, \"#fb9f3a\"], [0.8888888888888888, \"#fdca26\"], [1.0, \"#f0f921\"]], \"type\": \"contour\"}], \"contourcarpet\": [{\"colorbar\": {\"outlinewidth\": 0, \"ticks\": \"\"}, \"type\": \"contourcarpet\"}], \"heatmap\": [{\"colorbar\": {\"outlinewidth\": 0, \"ticks\": \"\"}, \"colorscale\": [[0.0, \"#0d0887\"], [0.1111111111111111, \"#46039f\"], [0.2222222222222222, \"#7201a8\"], [0.3333333333333333, \"#9c179e\"], [0.4444444444444444, \"#bd3786\"], [0.5555555555555556, \"#d8576b\"], [0.6666666666666666, \"#ed7953\"], [0.7777777777777778, \"#fb9f3a\"], [0.8888888888888888, \"#fdca26\"], [1.0, \"#f0f921\"]], \"type\": \"heatmap\"}], \"heatmapgl\": [{\"colorbar\": {\"outlinewidth\": 0, \"ticks\": \"\"}, \"colorscale\": [[0.0, \"#0d0887\"], [0.1111111111111111, \"#46039f\"], [0.2222222222222222, \"#7201a8\"], [0.3333333333333333, \"#9c179e\"], [0.4444444444444444, \"#bd3786\"], [0.5555555555555556, \"#d8576b\"], [0.6666666666666666, \"#ed7953\"], [0.7777777777777778, \"#fb9f3a\"], [0.8888888888888888, \"#fdca26\"], [1.0, \"#f0f921\"]], \"type\": \"heatmapgl\"}], \"histogram\": [{\"marker\": {\"colorbar\": {\"outlinewidth\": 0, \"ticks\": \"\"}}, \"type\": \"histogram\"}], \"histogram2d\": [{\"colorbar\": {\"outlinewidth\": 0, \"ticks\": \"\"}, \"colorscale\": [[0.0, \"#0d0887\"], [0.1111111111111111, \"#46039f\"], [0.2222222222222222, \"#7201a8\"], [0.3333333333333333, \"#9c179e\"], [0.4444444444444444, \"#bd3786\"], [0.5555555555555556, \"#d8576b\"], [0.6666666666666666, \"#ed7953\"], [0.7777777777777778, \"#fb9f3a\"], [0.8888888888888888, \"#fdca26\"], [1.0, \"#f0f921\"]], \"type\": \"histogram2d\"}], \"histogram2dcontour\": [{\"colorbar\": {\"outlinewidth\": 0, \"ticks\": \"\"}, \"colorscale\": [[0.0, \"#0d0887\"], [0.1111111111111111, \"#46039f\"], [0.2222222222222222, \"#7201a8\"], [0.3333333333333333, \"#9c179e\"], [0.4444444444444444, \"#bd3786\"], [0.5555555555555556, \"#d8576b\"], [0.6666666666666666, \"#ed7953\"], [0.7777777777777778, \"#fb9f3a\"], [0.8888888888888888, \"#fdca26\"], [1.0, \"#f0f921\"]], \"type\": \"histogram2dcontour\"}], \"mesh3d\": [{\"colorbar\": {\"outlinewidth\": 0, \"ticks\": \"\"}, \"type\": \"mesh3d\"}], \"parcoords\": [{\"line\": {\"colorbar\": {\"outlinewidth\": 0, \"ticks\": \"\"}}, \"type\": \"parcoords\"}], \"pie\": [{\"automargin\": true, \"type\": \"pie\"}], \"scatter\": [{\"marker\": {\"colorbar\": {\"outlinewidth\": 0, \"ticks\": \"\"}}, \"type\": \"scatter\"}], \"scatter3d\": [{\"line\": {\"colorbar\": {\"outlinewidth\": 0, \"ticks\": \"\"}}, \"marker\": {\"colorbar\": {\"outlinewidth\": 0, \"ticks\": \"\"}}, \"type\": \"scatter3d\"}], \"scattercarpet\": [{\"marker\": {\"colorbar\": {\"outlinewidth\": 0, \"ticks\": \"\"}}, \"type\": \"scattercarpet\"}], \"scattergeo\": [{\"marker\": {\"colorbar\": {\"outlinewidth\": 0, \"ticks\": \"\"}}, \"type\": \"scattergeo\"}], \"scattergl\": [{\"marker\": {\"colorbar\": {\"outlinewidth\": 0, \"ticks\": \"\"}}, \"type\": \"scattergl\"}], \"scattermapbox\": [{\"marker\": {\"colorbar\": {\"outlinewidth\": 0, \"ticks\": \"\"}}, \"type\": \"scattermapbox\"}], \"scatterpolar\": [{\"marker\": {\"colorbar\": {\"outlinewidth\": 0, \"ticks\": \"\"}}, \"type\": \"scatterpolar\"}], \"scatterpolargl\": [{\"marker\": {\"colorbar\": {\"outlinewidth\": 0, \"ticks\": \"\"}}, \"type\": \"scatterpolargl\"}], \"scatterternary\": [{\"marker\": {\"colorbar\": {\"outlinewidth\": 0, \"ticks\": \"\"}}, \"type\": \"scatterternary\"}], \"surface\": [{\"colorbar\": {\"outlinewidth\": 0, \"ticks\": \"\"}, \"colorscale\": [[0.0, \"#0d0887\"], [0.1111111111111111, \"#46039f\"], [0.2222222222222222, \"#7201a8\"], [0.3333333333333333, \"#9c179e\"], [0.4444444444444444, \"#bd3786\"], [0.5555555555555556, \"#d8576b\"], [0.6666666666666666, \"#ed7953\"], [0.7777777777777778, \"#fb9f3a\"], [0.8888888888888888, \"#fdca26\"], [1.0, \"#f0f921\"]], \"type\": \"surface\"}], \"table\": [{\"cells\": {\"fill\": {\"color\": \"#EBF0F8\"}, \"line\": {\"color\": \"white\"}}, \"header\": {\"fill\": {\"color\": \"#C8D4E3\"}, \"line\": {\"color\": \"white\"}}, \"type\": \"table\"}]}, \"layout\": {\"annotationdefaults\": {\"arrowcolor\": \"#2a3f5f\", \"arrowhead\": 0, \"arrowwidth\": 1}, \"coloraxis\": {\"colorbar\": {\"outlinewidth\": 0, \"ticks\": \"\"}}, \"colorscale\": {\"diverging\": [[0, \"#8e0152\"], [0.1, \"#c51b7d\"], [0.2, \"#de77ae\"], [0.3, \"#f1b6da\"], [0.4, \"#fde0ef\"], [0.5, \"#f7f7f7\"], [0.6, \"#e6f5d0\"], [0.7, \"#b8e186\"], [0.8, \"#7fbc41\"], [0.9, \"#4d9221\"], [1, \"#276419\"]], \"sequential\": [[0.0, \"#0d0887\"], [0.1111111111111111, \"#46039f\"], [0.2222222222222222, \"#7201a8\"], [0.3333333333333333, \"#9c179e\"], [0.4444444444444444, \"#bd3786\"], [0.5555555555555556, \"#d8576b\"], [0.6666666666666666, \"#ed7953\"], [0.7777777777777778, \"#fb9f3a\"], [0.8888888888888888, \"#fdca26\"], [1.0, \"#f0f921\"]], \"sequentialminus\": [[0.0, \"#0d0887\"], [0.1111111111111111, \"#46039f\"], [0.2222222222222222, \"#7201a8\"], [0.3333333333333333, \"#9c179e\"], [0.4444444444444444, \"#bd3786\"], [0.5555555555555556, \"#d8576b\"], [0.6666666666666666, \"#ed7953\"], [0.7777777777777778, \"#fb9f3a\"], [0.8888888888888888, \"#fdca26\"], [1.0, \"#f0f921\"]]}, \"colorway\": [\"#636efa\", \"#EF553B\", \"#00cc96\", \"#ab63fa\", \"#FFA15A\", \"#19d3f3\", \"#FF6692\", \"#B6E880\", \"#FF97FF\", \"#FECB52\"], \"font\": {\"color\": \"#2a3f5f\"}, \"geo\": {\"bgcolor\": \"white\", \"lakecolor\": \"white\", \"landcolor\": \"#E5ECF6\", \"showlakes\": true, \"showland\": true, \"subunitcolor\": \"white\"}, \"hoverlabel\": {\"align\": \"left\"}, \"hovermode\": \"closest\", \"mapbox\": {\"style\": \"light\"}, \"paper_bgcolor\": \"white\", \"plot_bgcolor\": \"#E5ECF6\", \"polar\": {\"angularaxis\": {\"gridcolor\": \"white\", \"linecolor\": \"white\", \"ticks\": \"\"}, \"bgcolor\": \"#E5ECF6\", \"radialaxis\": {\"gridcolor\": \"white\", \"linecolor\": \"white\", \"ticks\": \"\"}}, \"scene\": {\"xaxis\": {\"backgroundcolor\": \"#E5ECF6\", \"gridcolor\": \"white\", \"gridwidth\": 2, \"linecolor\": \"white\", \"showbackground\": true, \"ticks\": \"\", \"zerolinecolor\": \"white\"}, \"yaxis\": {\"backgroundcolor\": \"#E5ECF6\", \"gridcolor\": \"white\", \"gridwidth\": 2, \"linecolor\": \"white\", \"showbackground\": true, \"ticks\": \"\", \"zerolinecolor\": \"white\"}, \"zaxis\": {\"backgroundcolor\": \"#E5ECF6\", \"gridcolor\": \"white\", \"gridwidth\": 2, \"linecolor\": \"white\", \"showbackground\": true, \"ticks\": \"\", \"zerolinecolor\": \"white\"}}, \"shapedefaults\": {\"line\": {\"color\": \"#2a3f5f\"}}, \"ternary\": {\"aaxis\": {\"gridcolor\": \"white\", \"linecolor\": \"white\", \"ticks\": \"\"}, \"baxis\": {\"gridcolor\": \"white\", \"linecolor\": \"white\", \"ticks\": \"\"}, \"bgcolor\": \"#E5ECF6\", \"caxis\": {\"gridcolor\": \"white\", \"linecolor\": \"white\", \"ticks\": \"\"}}, \"title\": {\"x\": 0.05}, \"xaxis\": {\"automargin\": true, \"gridcolor\": \"white\", \"linecolor\": \"white\", \"ticks\": \"\", \"title\": {\"standoff\": 15}, \"zerolinecolor\": \"white\", \"zerolinewidth\": 2}, \"yaxis\": {\"automargin\": true, \"gridcolor\": \"white\", \"linecolor\": \"white\", \"ticks\": \"\", \"title\": {\"standoff\": 15}, \"zerolinecolor\": \"white\", \"zerolinewidth\": 2}}}, \"xaxis\": {\"anchor\": \"y\", \"domain\": [0.0, 1.0], \"title\": {\"text\": \"label\"}}, \"yaxis\": {\"anchor\": \"x\", \"domain\": [0.0, 1.0], \"title\": {\"text\": \"rssic\"}}},\n",
       "                        {\"responsive\": true}\n",
       "                    ).then(function(){\n",
       "                            \n",
       "var gd = document.getElementById('9931a58f-b96a-42b8-a9ff-3a7ef5c5d970');\n",
       "var x = new MutationObserver(function (mutations, observer) {{\n",
       "        var display = window.getComputedStyle(gd).display;\n",
       "        if (!display || display === 'none') {{\n",
       "            console.log([gd, 'removed!']);\n",
       "            Plotly.purge(gd);\n",
       "            observer.disconnect();\n",
       "        }}\n",
       "}});\n",
       "\n",
       "// Listen for the removal of the full notebook cells\n",
       "var notebookContainer = gd.closest('#notebook-container');\n",
       "if (notebookContainer) {{\n",
       "    x.observe(notebookContainer, {childList: true});\n",
       "}}\n",
       "\n",
       "// Listen for the clearing of the current output cell\n",
       "var outputEl = gd.closest('.output');\n",
       "if (outputEl) {{\n",
       "    x.observe(outputEl, {childList: true});\n",
       "}}\n",
       "\n",
       "                        })\n",
       "                };\n",
       "                });\n",
       "            </script>\n",
       "        </div>"
      ]
     },
     "metadata": {},
     "output_type": "display_data"
    }
   ],
   "source": [
    "fig = px.scatter(labeled_df, x='label', y='rssic',\n",
    "                size_max=100,\n",
    "                opacity=0.9)\n",
    "fig.show()"
   ]
  },
  {
   "cell_type": "code",
   "execution_count": 103,
   "metadata": {},
   "outputs": [
    {
     "data": {
      "application/vnd.plotly.v1+json": {
       "config": {
        "plotlyServerURL": "https://plot.ly"
       },
       "data": [
        {
         "hovertemplate": "label=%{x}<br>lsnr=%{y}<extra></extra>",
         "legendgroup": "",
         "marker": {
          "color": "#636efa",
          "opacity": 0.9,
          "symbol": "circle"
         },
         "mode": "markers",
         "name": "",
         "showlegend": false,
         "type": "scatter",
         "x": [
          10,
          6,
          6,
          0,
          4,
          0,
          1,
          4,
          10,
          12,
          11,
          7,
          5,
          3,
          4,
          1,
          1,
          12,
          4,
          6,
          5,
          5,
          0,
          7,
          1,
          2,
          6,
          7,
          1,
          1,
          7,
          1,
          6,
          4,
          12,
          1,
          2,
          5,
          4,
          6,
          2,
          7,
          4,
          11,
          6,
          2,
          10,
          10,
          10,
          4,
          6,
          11,
          7,
          6,
          1,
          4,
          4,
          1,
          6,
          4,
          6,
          11,
          10,
          1,
          11,
          1,
          6,
          4,
          5,
          8,
          11,
          9,
          1,
          4,
          7,
          10,
          4,
          6,
          1,
          8,
          6,
          4,
          7,
          11,
          6,
          3,
          5,
          12,
          0,
          12,
          1,
          5,
          2,
          2,
          4,
          2,
          6,
          5,
          1,
          12,
          4,
          1,
          8,
          4,
          5,
          2,
          3,
          2,
          2,
          2,
          12,
          1,
          5,
          2,
          7,
          3,
          11,
          6,
          11,
          3,
          1,
          12,
          6,
          12,
          5,
          6,
          5,
          6,
          3,
          12,
          2,
          6,
          9,
          5,
          10,
          1,
          1,
          6,
          4,
          4,
          4,
          12,
          6,
          7,
          12,
          12,
          11,
          6,
          6,
          4,
          1,
          12,
          1,
          2,
          4,
          4,
          1,
          6,
          3,
          12,
          1,
          2,
          2,
          5,
          8,
          1,
          4,
          4,
          4,
          6,
          3,
          11,
          11,
          11,
          5,
          11,
          4,
          10,
          10,
          6,
          12,
          12,
          4,
          4,
          6,
          10,
          5,
          3,
          10,
          1,
          2,
          9,
          6,
          5,
          11,
          12,
          5,
          12,
          0,
          5,
          12,
          0,
          11,
          5,
          5,
          12,
          1,
          3,
          9,
          9,
          3,
          7,
          1,
          10,
          4,
          5,
          5,
          1,
          0,
          6,
          11,
          5,
          11,
          5,
          3,
          0,
          5,
          10,
          1,
          11,
          11,
          9,
          6,
          10,
          1,
          5,
          6,
          12,
          5,
          11,
          3,
          5,
          5,
          5,
          11,
          3,
          5,
          12,
          9,
          5,
          1,
          11,
          9,
          3,
          3,
          3,
          5,
          3,
          9,
          5,
          3,
          10,
          3,
          3,
          3,
          11,
          3,
          9,
          9,
          3,
          1,
          5,
          9,
          5,
          3,
          3,
          9,
          12,
          9,
          9,
          3,
          10,
          3,
          9,
          9,
          9,
          9,
          9,
          5,
          9
         ],
         "xaxis": "x",
         "y": [
          -11,
          1,
          0,
          -7,
          4,
          -1,
          0,
          0,
          -17,
          -1,
          -6,
          7,
          -7,
          -16,
          0,
          -4,
          -1,
          -2,
          0,
          2,
          -10,
          -5,
          -3,
          8,
          -1,
          5,
          0,
          8,
          0,
          0,
          7,
          0,
          2,
          2,
          -5,
          2,
          9,
          -8,
          5,
          0,
          6,
          8,
          4,
          -8,
          2,
          6,
          -8,
          -17,
          -11,
          2,
          0,
          -7,
          8,
          0,
          0,
          1,
          4,
          -4,
          1,
          5,
          0,
          -3,
          -12,
          0,
          -8,
          -1,
          2,
          3,
          -10,
          6,
          -5,
          -16,
          -3,
          3,
          11,
          -13,
          3,
          2,
          -2,
          7,
          -1,
          3,
          11,
          -4,
          0,
          -9,
          -4,
          -1,
          -6,
          -2,
          0,
          -5,
          5,
          9,
          2,
          3,
          2,
          -6,
          -1,
          -7,
          4,
          2,
          5,
          0,
          -8,
          5,
          -13,
          2,
          4,
          3,
          -3,
          -4,
          -3,
          5,
          11,
          -12,
          -7,
          0,
          -6,
          -11,
          0,
          -1,
          1,
          0,
          -4,
          1,
          -3,
          0,
          -7,
          1,
          5,
          3,
          -16,
          -8,
          -13,
          0,
          -2,
          0,
          4,
          3,
          5,
          -3,
          0,
          7,
          -4,
          0,
          -6,
          -1,
          0,
          5,
          -3,
          0,
          1,
          2,
          0,
          0,
          0,
          0,
          -8,
          0,
          -2,
          9,
          3,
          -8,
          10,
          -4,
          0,
          2,
          2,
          2,
          -12,
          -7,
          -8,
          -6,
          -6,
          -9,
          1,
          -11,
          -6,
          2,
          -3,
          -5,
          0,
          3,
          0,
          -11,
          -8,
          -16,
          -15,
          -2,
          7,
          -16,
          2,
          -5,
          -8,
          -2,
          -4,
          -5,
          0,
          -8,
          -3,
          -8,
          -7,
          -4,
          -9,
          -4,
          -4,
          -7,
          -18,
          -17,
          -14,
          9,
          -1,
          -18,
          2,
          -6,
          -7,
          -4,
          -3,
          0,
          -6,
          -3,
          -9,
          -8,
          -12,
          -8,
          -6,
          -17,
          -2,
          -4,
          -7,
          -19,
          -2,
          -16,
          -2,
          -5,
          0,
          -3,
          -7,
          -7,
          -18,
          -7,
          -9,
          -10,
          -3,
          -14,
          -4,
          -7,
          -18,
          -8,
          -5,
          -5,
          -18,
          -15,
          -14,
          -18,
          -3,
          -12,
          -19,
          -12,
          -14,
          -11,
          -8,
          -8,
          -13,
          -5,
          -14,
          -19,
          -18,
          -13,
          -3,
          -8,
          -18,
          -4,
          -16,
          -10,
          -19,
          -4,
          -19,
          -21,
          -10,
          -16,
          -8,
          -19,
          -21,
          -21,
          -20,
          -17,
          -8,
          -19
         ],
         "yaxis": "y"
        }
       ],
       "layout": {
        "legend": {
         "tracegroupgap": 0
        },
        "margin": {
         "t": 60
        },
        "template": {
         "data": {
          "bar": [
           {
            "error_x": {
             "color": "#2a3f5f"
            },
            "error_y": {
             "color": "#2a3f5f"
            },
            "marker": {
             "line": {
              "color": "#E5ECF6",
              "width": 0.5
             }
            },
            "type": "bar"
           }
          ],
          "barpolar": [
           {
            "marker": {
             "line": {
              "color": "#E5ECF6",
              "width": 0.5
             }
            },
            "type": "barpolar"
           }
          ],
          "carpet": [
           {
            "aaxis": {
             "endlinecolor": "#2a3f5f",
             "gridcolor": "white",
             "linecolor": "white",
             "minorgridcolor": "white",
             "startlinecolor": "#2a3f5f"
            },
            "baxis": {
             "endlinecolor": "#2a3f5f",
             "gridcolor": "white",
             "linecolor": "white",
             "minorgridcolor": "white",
             "startlinecolor": "#2a3f5f"
            },
            "type": "carpet"
           }
          ],
          "choropleth": [
           {
            "colorbar": {
             "outlinewidth": 0,
             "ticks": ""
            },
            "type": "choropleth"
           }
          ],
          "contour": [
           {
            "colorbar": {
             "outlinewidth": 0,
             "ticks": ""
            },
            "colorscale": [
             [
              0,
              "#0d0887"
             ],
             [
              0.1111111111111111,
              "#46039f"
             ],
             [
              0.2222222222222222,
              "#7201a8"
             ],
             [
              0.3333333333333333,
              "#9c179e"
             ],
             [
              0.4444444444444444,
              "#bd3786"
             ],
             [
              0.5555555555555556,
              "#d8576b"
             ],
             [
              0.6666666666666666,
              "#ed7953"
             ],
             [
              0.7777777777777778,
              "#fb9f3a"
             ],
             [
              0.8888888888888888,
              "#fdca26"
             ],
             [
              1,
              "#f0f921"
             ]
            ],
            "type": "contour"
           }
          ],
          "contourcarpet": [
           {
            "colorbar": {
             "outlinewidth": 0,
             "ticks": ""
            },
            "type": "contourcarpet"
           }
          ],
          "heatmap": [
           {
            "colorbar": {
             "outlinewidth": 0,
             "ticks": ""
            },
            "colorscale": [
             [
              0,
              "#0d0887"
             ],
             [
              0.1111111111111111,
              "#46039f"
             ],
             [
              0.2222222222222222,
              "#7201a8"
             ],
             [
              0.3333333333333333,
              "#9c179e"
             ],
             [
              0.4444444444444444,
              "#bd3786"
             ],
             [
              0.5555555555555556,
              "#d8576b"
             ],
             [
              0.6666666666666666,
              "#ed7953"
             ],
             [
              0.7777777777777778,
              "#fb9f3a"
             ],
             [
              0.8888888888888888,
              "#fdca26"
             ],
             [
              1,
              "#f0f921"
             ]
            ],
            "type": "heatmap"
           }
          ],
          "heatmapgl": [
           {
            "colorbar": {
             "outlinewidth": 0,
             "ticks": ""
            },
            "colorscale": [
             [
              0,
              "#0d0887"
             ],
             [
              0.1111111111111111,
              "#46039f"
             ],
             [
              0.2222222222222222,
              "#7201a8"
             ],
             [
              0.3333333333333333,
              "#9c179e"
             ],
             [
              0.4444444444444444,
              "#bd3786"
             ],
             [
              0.5555555555555556,
              "#d8576b"
             ],
             [
              0.6666666666666666,
              "#ed7953"
             ],
             [
              0.7777777777777778,
              "#fb9f3a"
             ],
             [
              0.8888888888888888,
              "#fdca26"
             ],
             [
              1,
              "#f0f921"
             ]
            ],
            "type": "heatmapgl"
           }
          ],
          "histogram": [
           {
            "marker": {
             "colorbar": {
              "outlinewidth": 0,
              "ticks": ""
             }
            },
            "type": "histogram"
           }
          ],
          "histogram2d": [
           {
            "colorbar": {
             "outlinewidth": 0,
             "ticks": ""
            },
            "colorscale": [
             [
              0,
              "#0d0887"
             ],
             [
              0.1111111111111111,
              "#46039f"
             ],
             [
              0.2222222222222222,
              "#7201a8"
             ],
             [
              0.3333333333333333,
              "#9c179e"
             ],
             [
              0.4444444444444444,
              "#bd3786"
             ],
             [
              0.5555555555555556,
              "#d8576b"
             ],
             [
              0.6666666666666666,
              "#ed7953"
             ],
             [
              0.7777777777777778,
              "#fb9f3a"
             ],
             [
              0.8888888888888888,
              "#fdca26"
             ],
             [
              1,
              "#f0f921"
             ]
            ],
            "type": "histogram2d"
           }
          ],
          "histogram2dcontour": [
           {
            "colorbar": {
             "outlinewidth": 0,
             "ticks": ""
            },
            "colorscale": [
             [
              0,
              "#0d0887"
             ],
             [
              0.1111111111111111,
              "#46039f"
             ],
             [
              0.2222222222222222,
              "#7201a8"
             ],
             [
              0.3333333333333333,
              "#9c179e"
             ],
             [
              0.4444444444444444,
              "#bd3786"
             ],
             [
              0.5555555555555556,
              "#d8576b"
             ],
             [
              0.6666666666666666,
              "#ed7953"
             ],
             [
              0.7777777777777778,
              "#fb9f3a"
             ],
             [
              0.8888888888888888,
              "#fdca26"
             ],
             [
              1,
              "#f0f921"
             ]
            ],
            "type": "histogram2dcontour"
           }
          ],
          "mesh3d": [
           {
            "colorbar": {
             "outlinewidth": 0,
             "ticks": ""
            },
            "type": "mesh3d"
           }
          ],
          "parcoords": [
           {
            "line": {
             "colorbar": {
              "outlinewidth": 0,
              "ticks": ""
             }
            },
            "type": "parcoords"
           }
          ],
          "pie": [
           {
            "automargin": true,
            "type": "pie"
           }
          ],
          "scatter": [
           {
            "marker": {
             "colorbar": {
              "outlinewidth": 0,
              "ticks": ""
             }
            },
            "type": "scatter"
           }
          ],
          "scatter3d": [
           {
            "line": {
             "colorbar": {
              "outlinewidth": 0,
              "ticks": ""
             }
            },
            "marker": {
             "colorbar": {
              "outlinewidth": 0,
              "ticks": ""
             }
            },
            "type": "scatter3d"
           }
          ],
          "scattercarpet": [
           {
            "marker": {
             "colorbar": {
              "outlinewidth": 0,
              "ticks": ""
             }
            },
            "type": "scattercarpet"
           }
          ],
          "scattergeo": [
           {
            "marker": {
             "colorbar": {
              "outlinewidth": 0,
              "ticks": ""
             }
            },
            "type": "scattergeo"
           }
          ],
          "scattergl": [
           {
            "marker": {
             "colorbar": {
              "outlinewidth": 0,
              "ticks": ""
             }
            },
            "type": "scattergl"
           }
          ],
          "scattermapbox": [
           {
            "marker": {
             "colorbar": {
              "outlinewidth": 0,
              "ticks": ""
             }
            },
            "type": "scattermapbox"
           }
          ],
          "scatterpolar": [
           {
            "marker": {
             "colorbar": {
              "outlinewidth": 0,
              "ticks": ""
             }
            },
            "type": "scatterpolar"
           }
          ],
          "scatterpolargl": [
           {
            "marker": {
             "colorbar": {
              "outlinewidth": 0,
              "ticks": ""
             }
            },
            "type": "scatterpolargl"
           }
          ],
          "scatterternary": [
           {
            "marker": {
             "colorbar": {
              "outlinewidth": 0,
              "ticks": ""
             }
            },
            "type": "scatterternary"
           }
          ],
          "surface": [
           {
            "colorbar": {
             "outlinewidth": 0,
             "ticks": ""
            },
            "colorscale": [
             [
              0,
              "#0d0887"
             ],
             [
              0.1111111111111111,
              "#46039f"
             ],
             [
              0.2222222222222222,
              "#7201a8"
             ],
             [
              0.3333333333333333,
              "#9c179e"
             ],
             [
              0.4444444444444444,
              "#bd3786"
             ],
             [
              0.5555555555555556,
              "#d8576b"
             ],
             [
              0.6666666666666666,
              "#ed7953"
             ],
             [
              0.7777777777777778,
              "#fb9f3a"
             ],
             [
              0.8888888888888888,
              "#fdca26"
             ],
             [
              1,
              "#f0f921"
             ]
            ],
            "type": "surface"
           }
          ],
          "table": [
           {
            "cells": {
             "fill": {
              "color": "#EBF0F8"
             },
             "line": {
              "color": "white"
             }
            },
            "header": {
             "fill": {
              "color": "#C8D4E3"
             },
             "line": {
              "color": "white"
             }
            },
            "type": "table"
           }
          ]
         },
         "layout": {
          "annotationdefaults": {
           "arrowcolor": "#2a3f5f",
           "arrowhead": 0,
           "arrowwidth": 1
          },
          "coloraxis": {
           "colorbar": {
            "outlinewidth": 0,
            "ticks": ""
           }
          },
          "colorscale": {
           "diverging": [
            [
             0,
             "#8e0152"
            ],
            [
             0.1,
             "#c51b7d"
            ],
            [
             0.2,
             "#de77ae"
            ],
            [
             0.3,
             "#f1b6da"
            ],
            [
             0.4,
             "#fde0ef"
            ],
            [
             0.5,
             "#f7f7f7"
            ],
            [
             0.6,
             "#e6f5d0"
            ],
            [
             0.7,
             "#b8e186"
            ],
            [
             0.8,
             "#7fbc41"
            ],
            [
             0.9,
             "#4d9221"
            ],
            [
             1,
             "#276419"
            ]
           ],
           "sequential": [
            [
             0,
             "#0d0887"
            ],
            [
             0.1111111111111111,
             "#46039f"
            ],
            [
             0.2222222222222222,
             "#7201a8"
            ],
            [
             0.3333333333333333,
             "#9c179e"
            ],
            [
             0.4444444444444444,
             "#bd3786"
            ],
            [
             0.5555555555555556,
             "#d8576b"
            ],
            [
             0.6666666666666666,
             "#ed7953"
            ],
            [
             0.7777777777777778,
             "#fb9f3a"
            ],
            [
             0.8888888888888888,
             "#fdca26"
            ],
            [
             1,
             "#f0f921"
            ]
           ],
           "sequentialminus": [
            [
             0,
             "#0d0887"
            ],
            [
             0.1111111111111111,
             "#46039f"
            ],
            [
             0.2222222222222222,
             "#7201a8"
            ],
            [
             0.3333333333333333,
             "#9c179e"
            ],
            [
             0.4444444444444444,
             "#bd3786"
            ],
            [
             0.5555555555555556,
             "#d8576b"
            ],
            [
             0.6666666666666666,
             "#ed7953"
            ],
            [
             0.7777777777777778,
             "#fb9f3a"
            ],
            [
             0.8888888888888888,
             "#fdca26"
            ],
            [
             1,
             "#f0f921"
            ]
           ]
          },
          "colorway": [
           "#636efa",
           "#EF553B",
           "#00cc96",
           "#ab63fa",
           "#FFA15A",
           "#19d3f3",
           "#FF6692",
           "#B6E880",
           "#FF97FF",
           "#FECB52"
          ],
          "font": {
           "color": "#2a3f5f"
          },
          "geo": {
           "bgcolor": "white",
           "lakecolor": "white",
           "landcolor": "#E5ECF6",
           "showlakes": true,
           "showland": true,
           "subunitcolor": "white"
          },
          "hoverlabel": {
           "align": "left"
          },
          "hovermode": "closest",
          "mapbox": {
           "style": "light"
          },
          "paper_bgcolor": "white",
          "plot_bgcolor": "#E5ECF6",
          "polar": {
           "angularaxis": {
            "gridcolor": "white",
            "linecolor": "white",
            "ticks": ""
           },
           "bgcolor": "#E5ECF6",
           "radialaxis": {
            "gridcolor": "white",
            "linecolor": "white",
            "ticks": ""
           }
          },
          "scene": {
           "xaxis": {
            "backgroundcolor": "#E5ECF6",
            "gridcolor": "white",
            "gridwidth": 2,
            "linecolor": "white",
            "showbackground": true,
            "ticks": "",
            "zerolinecolor": "white"
           },
           "yaxis": {
            "backgroundcolor": "#E5ECF6",
            "gridcolor": "white",
            "gridwidth": 2,
            "linecolor": "white",
            "showbackground": true,
            "ticks": "",
            "zerolinecolor": "white"
           },
           "zaxis": {
            "backgroundcolor": "#E5ECF6",
            "gridcolor": "white",
            "gridwidth": 2,
            "linecolor": "white",
            "showbackground": true,
            "ticks": "",
            "zerolinecolor": "white"
           }
          },
          "shapedefaults": {
           "line": {
            "color": "#2a3f5f"
           }
          },
          "ternary": {
           "aaxis": {
            "gridcolor": "white",
            "linecolor": "white",
            "ticks": ""
           },
           "baxis": {
            "gridcolor": "white",
            "linecolor": "white",
            "ticks": ""
           },
           "bgcolor": "#E5ECF6",
           "caxis": {
            "gridcolor": "white",
            "linecolor": "white",
            "ticks": ""
           }
          },
          "title": {
           "x": 0.05
          },
          "xaxis": {
           "automargin": true,
           "gridcolor": "white",
           "linecolor": "white",
           "ticks": "",
           "title": {
            "standoff": 15
           },
           "zerolinecolor": "white",
           "zerolinewidth": 2
          },
          "yaxis": {
           "automargin": true,
           "gridcolor": "white",
           "linecolor": "white",
           "ticks": "",
           "title": {
            "standoff": 15
           },
           "zerolinecolor": "white",
           "zerolinewidth": 2
          }
         }
        },
        "xaxis": {
         "anchor": "y",
         "domain": [
          0,
          1
         ],
         "title": {
          "text": "label"
         }
        },
        "yaxis": {
         "anchor": "x",
         "domain": [
          0,
          1
         ],
         "title": {
          "text": "lsnr"
         }
        }
       }
      },
      "text/html": [
       "<div>\n",
       "        \n",
       "        \n",
       "            <div id=\"99829bb0-2904-4a8d-8fdd-05f2587f74d9\" class=\"plotly-graph-div\" style=\"height:525px; width:100%;\"></div>\n",
       "            <script type=\"text/javascript\">\n",
       "                require([\"plotly\"], function(Plotly) {\n",
       "                    window.PLOTLYENV=window.PLOTLYENV || {};\n",
       "                    \n",
       "                if (document.getElementById(\"99829bb0-2904-4a8d-8fdd-05f2587f74d9\")) {\n",
       "                    Plotly.newPlot(\n",
       "                        '99829bb0-2904-4a8d-8fdd-05f2587f74d9',\n",
       "                        [{\"hovertemplate\": \"label=%{x}<br>lsnr=%{y}<extra></extra>\", \"legendgroup\": \"\", \"marker\": {\"color\": \"#636efa\", \"opacity\": 0.9, \"symbol\": \"circle\"}, \"mode\": \"markers\", \"name\": \"\", \"showlegend\": false, \"type\": \"scatter\", \"x\": [10.0, 6.0, 6.0, 0.0, 4.0, 0.0, 1.0, 4.0, 10.0, 12.0, 11.0, 7.0, 5.0, 3.0, 4.0, 1.0, 1.0, 12.0, 4.0, 6.0, 5.0, 5.0, 0.0, 7.0, 1.0, 2.0, 6.0, 7.0, 1.0, 1.0, 7.0, 1.0, 6.0, 4.0, 12.0, 1.0, 2.0, 5.0, 4.0, 6.0, 2.0, 7.0, 4.0, 11.0, 6.0, 2.0, 10.0, 10.0, 10.0, 4.0, 6.0, 11.0, 7.0, 6.0, 1.0, 4.0, 4.0, 1.0, 6.0, 4.0, 6.0, 11.0, 10.0, 1.0, 11.0, 1.0, 6.0, 4.0, 5.0, 8.0, 11.0, 9.0, 1.0, 4.0, 7.0, 10.0, 4.0, 6.0, 1.0, 8.0, 6.0, 4.0, 7.0, 11.0, 6.0, 3.0, 5.0, 12.0, 0.0, 12.0, 1.0, 5.0, 2.0, 2.0, 4.0, 2.0, 6.0, 5.0, 1.0, 12.0, 4.0, 1.0, 8.0, 4.0, 5.0, 2.0, 3.0, 2.0, 2.0, 2.0, 12.0, 1.0, 5.0, 2.0, 7.0, 3.0, 11.0, 6.0, 11.0, 3.0, 1.0, 12.0, 6.0, 12.0, 5.0, 6.0, 5.0, 6.0, 3.0, 12.0, 2.0, 6.0, 9.0, 5.0, 10.0, 1.0, 1.0, 6.0, 4.0, 4.0, 4.0, 12.0, 6.0, 7.0, 12.0, 12.0, 11.0, 6.0, 6.0, 4.0, 1.0, 12.0, 1.0, 2.0, 4.0, 4.0, 1.0, 6.0, 3.0, 12.0, 1.0, 2.0, 2.0, 5.0, 8.0, 1.0, 4.0, 4.0, 4.0, 6.0, 3.0, 11.0, 11.0, 11.0, 5.0, 11.0, 4.0, 10.0, 10.0, 6.0, 12.0, 12.0, 4.0, 4.0, 6.0, 10.0, 5.0, 3.0, 10.0, 1.0, 2.0, 9.0, 6.0, 5.0, 11.0, 12.0, 5.0, 12.0, 0.0, 5.0, 12.0, 0.0, 11.0, 5.0, 5.0, 12.0, 1.0, 3.0, 9.0, 9.0, 3.0, 7.0, 1.0, 10.0, 4.0, 5.0, 5.0, 1.0, 0.0, 6.0, 11.0, 5.0, 11.0, 5.0, 3.0, 0.0, 5.0, 10.0, 1.0, 11.0, 11.0, 9.0, 6.0, 10.0, 1.0, 5.0, 6.0, 12.0, 5.0, 11.0, 3.0, 5.0, 5.0, 5.0, 11.0, 3.0, 5.0, 12.0, 9.0, 5.0, 1.0, 11.0, 9.0, 3.0, 3.0, 3.0, 5.0, 3.0, 9.0, 5.0, 3.0, 10.0, 3.0, 3.0, 3.0, 11.0, 3.0, 9.0, 9.0, 3.0, 1.0, 5.0, 9.0, 5.0, 3.0, 3.0, 9.0, 12.0, 9.0, 9.0, 3.0, 10.0, 3.0, 9.0, 9.0, 9.0, 9.0, 9.0, 5.0, 9.0], \"xaxis\": \"x\", \"y\": [-11, 1, 0, -7, 4, -1, 0, 0, -17, -1, -6, 7, -7, -16, 0, -4, -1, -2, 0, 2, -10, -5, -3, 8, -1, 5, 0, 8, 0, 0, 7, 0, 2, 2, -5, 2, 9, -8, 5, 0, 6, 8, 4, -8, 2, 6, -8, -17, -11, 2, 0, -7, 8, 0, 0, 1, 4, -4, 1, 5, 0, -3, -12, 0, -8, -1, 2, 3, -10, 6, -5, -16, -3, 3, 11, -13, 3, 2, -2, 7, -1, 3, 11, -4, 0, -9, -4, -1, -6, -2, 0, -5, 5, 9, 2, 3, 2, -6, -1, -7, 4, 2, 5, 0, -8, 5, -13, 2, 4, 3, -3, -4, -3, 5, 11, -12, -7, 0, -6, -11, 0, -1, 1, 0, -4, 1, -3, 0, -7, 1, 5, 3, -16, -8, -13, 0, -2, 0, 4, 3, 5, -3, 0, 7, -4, 0, -6, -1, 0, 5, -3, 0, 1, 2, 0, 0, 0, 0, -8, 0, -2, 9, 3, -8, 10, -4, 0, 2, 2, 2, -12, -7, -8, -6, -6, -9, 1, -11, -6, 2, -3, -5, 0, 3, 0, -11, -8, -16, -15, -2, 7, -16, 2, -5, -8, -2, -4, -5, 0, -8, -3, -8, -7, -4, -9, -4, -4, -7, -18, -17, -14, 9, -1, -18, 2, -6, -7, -4, -3, 0, -6, -3, -9, -8, -12, -8, -6, -17, -2, -4, -7, -19, -2, -16, -2, -5, 0, -3, -7, -7, -18, -7, -9, -10, -3, -14, -4, -7, -18, -8, -5, -5, -18, -15, -14, -18, -3, -12, -19, -12, -14, -11, -8, -8, -13, -5, -14, -19, -18, -13, -3, -8, -18, -4, -16, -10, -19, -4, -19, -21, -10, -16, -8, -19, -21, -21, -20, -17, -8, -19], \"yaxis\": \"y\"}],\n",
       "                        {\"legend\": {\"tracegroupgap\": 0}, \"margin\": {\"t\": 60}, \"template\": {\"data\": {\"bar\": [{\"error_x\": {\"color\": \"#2a3f5f\"}, \"error_y\": {\"color\": \"#2a3f5f\"}, \"marker\": {\"line\": {\"color\": \"#E5ECF6\", \"width\": 0.5}}, \"type\": \"bar\"}], \"barpolar\": [{\"marker\": {\"line\": {\"color\": \"#E5ECF6\", \"width\": 0.5}}, \"type\": \"barpolar\"}], \"carpet\": [{\"aaxis\": {\"endlinecolor\": \"#2a3f5f\", \"gridcolor\": \"white\", \"linecolor\": \"white\", \"minorgridcolor\": \"white\", \"startlinecolor\": \"#2a3f5f\"}, \"baxis\": {\"endlinecolor\": \"#2a3f5f\", \"gridcolor\": \"white\", \"linecolor\": \"white\", \"minorgridcolor\": \"white\", \"startlinecolor\": \"#2a3f5f\"}, \"type\": \"carpet\"}], \"choropleth\": [{\"colorbar\": {\"outlinewidth\": 0, \"ticks\": \"\"}, \"type\": \"choropleth\"}], \"contour\": [{\"colorbar\": {\"outlinewidth\": 0, \"ticks\": \"\"}, \"colorscale\": [[0.0, \"#0d0887\"], [0.1111111111111111, \"#46039f\"], [0.2222222222222222, \"#7201a8\"], [0.3333333333333333, \"#9c179e\"], [0.4444444444444444, \"#bd3786\"], [0.5555555555555556, \"#d8576b\"], [0.6666666666666666, \"#ed7953\"], [0.7777777777777778, \"#fb9f3a\"], [0.8888888888888888, \"#fdca26\"], [1.0, \"#f0f921\"]], \"type\": \"contour\"}], \"contourcarpet\": [{\"colorbar\": {\"outlinewidth\": 0, \"ticks\": \"\"}, \"type\": \"contourcarpet\"}], \"heatmap\": [{\"colorbar\": {\"outlinewidth\": 0, \"ticks\": \"\"}, \"colorscale\": [[0.0, \"#0d0887\"], [0.1111111111111111, \"#46039f\"], [0.2222222222222222, \"#7201a8\"], [0.3333333333333333, \"#9c179e\"], [0.4444444444444444, \"#bd3786\"], [0.5555555555555556, \"#d8576b\"], [0.6666666666666666, \"#ed7953\"], [0.7777777777777778, \"#fb9f3a\"], [0.8888888888888888, \"#fdca26\"], [1.0, \"#f0f921\"]], \"type\": \"heatmap\"}], \"heatmapgl\": [{\"colorbar\": {\"outlinewidth\": 0, \"ticks\": \"\"}, \"colorscale\": [[0.0, \"#0d0887\"], [0.1111111111111111, \"#46039f\"], [0.2222222222222222, \"#7201a8\"], [0.3333333333333333, \"#9c179e\"], [0.4444444444444444, \"#bd3786\"], [0.5555555555555556, \"#d8576b\"], [0.6666666666666666, \"#ed7953\"], [0.7777777777777778, \"#fb9f3a\"], [0.8888888888888888, \"#fdca26\"], [1.0, \"#f0f921\"]], \"type\": \"heatmapgl\"}], \"histogram\": [{\"marker\": {\"colorbar\": {\"outlinewidth\": 0, \"ticks\": \"\"}}, \"type\": \"histogram\"}], \"histogram2d\": [{\"colorbar\": {\"outlinewidth\": 0, \"ticks\": \"\"}, \"colorscale\": [[0.0, \"#0d0887\"], [0.1111111111111111, \"#46039f\"], [0.2222222222222222, \"#7201a8\"], [0.3333333333333333, \"#9c179e\"], [0.4444444444444444, \"#bd3786\"], [0.5555555555555556, \"#d8576b\"], [0.6666666666666666, \"#ed7953\"], [0.7777777777777778, \"#fb9f3a\"], [0.8888888888888888, \"#fdca26\"], [1.0, \"#f0f921\"]], \"type\": \"histogram2d\"}], \"histogram2dcontour\": [{\"colorbar\": {\"outlinewidth\": 0, \"ticks\": \"\"}, \"colorscale\": [[0.0, \"#0d0887\"], [0.1111111111111111, \"#46039f\"], [0.2222222222222222, \"#7201a8\"], [0.3333333333333333, \"#9c179e\"], [0.4444444444444444, \"#bd3786\"], [0.5555555555555556, \"#d8576b\"], [0.6666666666666666, \"#ed7953\"], [0.7777777777777778, \"#fb9f3a\"], [0.8888888888888888, \"#fdca26\"], [1.0, \"#f0f921\"]], \"type\": \"histogram2dcontour\"}], \"mesh3d\": [{\"colorbar\": {\"outlinewidth\": 0, \"ticks\": \"\"}, \"type\": \"mesh3d\"}], \"parcoords\": [{\"line\": {\"colorbar\": {\"outlinewidth\": 0, \"ticks\": \"\"}}, \"type\": \"parcoords\"}], \"pie\": [{\"automargin\": true, \"type\": \"pie\"}], \"scatter\": [{\"marker\": {\"colorbar\": {\"outlinewidth\": 0, \"ticks\": \"\"}}, \"type\": \"scatter\"}], \"scatter3d\": [{\"line\": {\"colorbar\": {\"outlinewidth\": 0, \"ticks\": \"\"}}, \"marker\": {\"colorbar\": {\"outlinewidth\": 0, \"ticks\": \"\"}}, \"type\": \"scatter3d\"}], \"scattercarpet\": [{\"marker\": {\"colorbar\": {\"outlinewidth\": 0, \"ticks\": \"\"}}, \"type\": \"scattercarpet\"}], \"scattergeo\": [{\"marker\": {\"colorbar\": {\"outlinewidth\": 0, \"ticks\": \"\"}}, \"type\": \"scattergeo\"}], \"scattergl\": [{\"marker\": {\"colorbar\": {\"outlinewidth\": 0, \"ticks\": \"\"}}, \"type\": \"scattergl\"}], \"scattermapbox\": [{\"marker\": {\"colorbar\": {\"outlinewidth\": 0, \"ticks\": \"\"}}, \"type\": \"scattermapbox\"}], \"scatterpolar\": [{\"marker\": {\"colorbar\": {\"outlinewidth\": 0, \"ticks\": \"\"}}, \"type\": \"scatterpolar\"}], \"scatterpolargl\": [{\"marker\": {\"colorbar\": {\"outlinewidth\": 0, \"ticks\": \"\"}}, \"type\": \"scatterpolargl\"}], \"scatterternary\": [{\"marker\": {\"colorbar\": {\"outlinewidth\": 0, \"ticks\": \"\"}}, \"type\": \"scatterternary\"}], \"surface\": [{\"colorbar\": {\"outlinewidth\": 0, \"ticks\": \"\"}, \"colorscale\": [[0.0, \"#0d0887\"], [0.1111111111111111, \"#46039f\"], [0.2222222222222222, \"#7201a8\"], [0.3333333333333333, \"#9c179e\"], [0.4444444444444444, \"#bd3786\"], [0.5555555555555556, \"#d8576b\"], [0.6666666666666666, \"#ed7953\"], [0.7777777777777778, \"#fb9f3a\"], [0.8888888888888888, \"#fdca26\"], [1.0, \"#f0f921\"]], \"type\": \"surface\"}], \"table\": [{\"cells\": {\"fill\": {\"color\": \"#EBF0F8\"}, \"line\": {\"color\": \"white\"}}, \"header\": {\"fill\": {\"color\": \"#C8D4E3\"}, \"line\": {\"color\": \"white\"}}, \"type\": \"table\"}]}, \"layout\": {\"annotationdefaults\": {\"arrowcolor\": \"#2a3f5f\", \"arrowhead\": 0, \"arrowwidth\": 1}, \"coloraxis\": {\"colorbar\": {\"outlinewidth\": 0, \"ticks\": \"\"}}, \"colorscale\": {\"diverging\": [[0, \"#8e0152\"], [0.1, \"#c51b7d\"], [0.2, \"#de77ae\"], [0.3, \"#f1b6da\"], [0.4, \"#fde0ef\"], [0.5, \"#f7f7f7\"], [0.6, \"#e6f5d0\"], [0.7, \"#b8e186\"], [0.8, \"#7fbc41\"], [0.9, \"#4d9221\"], [1, \"#276419\"]], \"sequential\": [[0.0, \"#0d0887\"], [0.1111111111111111, \"#46039f\"], [0.2222222222222222, \"#7201a8\"], [0.3333333333333333, \"#9c179e\"], [0.4444444444444444, \"#bd3786\"], [0.5555555555555556, \"#d8576b\"], [0.6666666666666666, \"#ed7953\"], [0.7777777777777778, \"#fb9f3a\"], [0.8888888888888888, \"#fdca26\"], [1.0, \"#f0f921\"]], \"sequentialminus\": [[0.0, \"#0d0887\"], [0.1111111111111111, \"#46039f\"], [0.2222222222222222, \"#7201a8\"], [0.3333333333333333, \"#9c179e\"], [0.4444444444444444, \"#bd3786\"], [0.5555555555555556, \"#d8576b\"], [0.6666666666666666, \"#ed7953\"], [0.7777777777777778, \"#fb9f3a\"], [0.8888888888888888, \"#fdca26\"], [1.0, \"#f0f921\"]]}, \"colorway\": [\"#636efa\", \"#EF553B\", \"#00cc96\", \"#ab63fa\", \"#FFA15A\", \"#19d3f3\", \"#FF6692\", \"#B6E880\", \"#FF97FF\", \"#FECB52\"], \"font\": {\"color\": \"#2a3f5f\"}, \"geo\": {\"bgcolor\": \"white\", \"lakecolor\": \"white\", \"landcolor\": \"#E5ECF6\", \"showlakes\": true, \"showland\": true, \"subunitcolor\": \"white\"}, \"hoverlabel\": {\"align\": \"left\"}, \"hovermode\": \"closest\", \"mapbox\": {\"style\": \"light\"}, \"paper_bgcolor\": \"white\", \"plot_bgcolor\": \"#E5ECF6\", \"polar\": {\"angularaxis\": {\"gridcolor\": \"white\", \"linecolor\": \"white\", \"ticks\": \"\"}, \"bgcolor\": \"#E5ECF6\", \"radialaxis\": {\"gridcolor\": \"white\", \"linecolor\": \"white\", \"ticks\": \"\"}}, \"scene\": {\"xaxis\": {\"backgroundcolor\": \"#E5ECF6\", \"gridcolor\": \"white\", \"gridwidth\": 2, \"linecolor\": \"white\", \"showbackground\": true, \"ticks\": \"\", \"zerolinecolor\": \"white\"}, \"yaxis\": {\"backgroundcolor\": \"#E5ECF6\", \"gridcolor\": \"white\", \"gridwidth\": 2, \"linecolor\": \"white\", \"showbackground\": true, \"ticks\": \"\", \"zerolinecolor\": \"white\"}, \"zaxis\": {\"backgroundcolor\": \"#E5ECF6\", \"gridcolor\": \"white\", \"gridwidth\": 2, \"linecolor\": \"white\", \"showbackground\": true, \"ticks\": \"\", \"zerolinecolor\": \"white\"}}, \"shapedefaults\": {\"line\": {\"color\": \"#2a3f5f\"}}, \"ternary\": {\"aaxis\": {\"gridcolor\": \"white\", \"linecolor\": \"white\", \"ticks\": \"\"}, \"baxis\": {\"gridcolor\": \"white\", \"linecolor\": \"white\", \"ticks\": \"\"}, \"bgcolor\": \"#E5ECF6\", \"caxis\": {\"gridcolor\": \"white\", \"linecolor\": \"white\", \"ticks\": \"\"}}, \"title\": {\"x\": 0.05}, \"xaxis\": {\"automargin\": true, \"gridcolor\": \"white\", \"linecolor\": \"white\", \"ticks\": \"\", \"title\": {\"standoff\": 15}, \"zerolinecolor\": \"white\", \"zerolinewidth\": 2}, \"yaxis\": {\"automargin\": true, \"gridcolor\": \"white\", \"linecolor\": \"white\", \"ticks\": \"\", \"title\": {\"standoff\": 15}, \"zerolinecolor\": \"white\", \"zerolinewidth\": 2}}}, \"xaxis\": {\"anchor\": \"y\", \"domain\": [0.0, 1.0], \"title\": {\"text\": \"label\"}}, \"yaxis\": {\"anchor\": \"x\", \"domain\": [0.0, 1.0], \"title\": {\"text\": \"lsnr\"}}},\n",
       "                        {\"responsive\": true}\n",
       "                    ).then(function(){\n",
       "                            \n",
       "var gd = document.getElementById('99829bb0-2904-4a8d-8fdd-05f2587f74d9');\n",
       "var x = new MutationObserver(function (mutations, observer) {{\n",
       "        var display = window.getComputedStyle(gd).display;\n",
       "        if (!display || display === 'none') {{\n",
       "            console.log([gd, 'removed!']);\n",
       "            Plotly.purge(gd);\n",
       "            observer.disconnect();\n",
       "        }}\n",
       "}});\n",
       "\n",
       "// Listen for the removal of the full notebook cells\n",
       "var notebookContainer = gd.closest('#notebook-container');\n",
       "if (notebookContainer) {{\n",
       "    x.observe(notebookContainer, {childList: true});\n",
       "}}\n",
       "\n",
       "// Listen for the clearing of the current output cell\n",
       "var outputEl = gd.closest('.output');\n",
       "if (outputEl) {{\n",
       "    x.observe(outputEl, {childList: true});\n",
       "}}\n",
       "\n",
       "                        })\n",
       "                };\n",
       "                });\n",
       "            </script>\n",
       "        </div>"
      ]
     },
     "metadata": {},
     "output_type": "display_data"
    }
   ],
   "source": [
    "fig = px.scatter(labeled_df, x='label', y='lsnr',\n",
    "                size_max=100,\n",
    "                opacity=0.9)\n",
    "fig.show()"
   ]
  },
  {
   "cell_type": "code",
   "execution_count": 102,
   "metadata": {},
   "outputs": [
    {
     "data": {
      "application/vnd.plotly.v1+json": {
       "config": {
        "plotlyServerURL": "https://plot.ly"
       },
       "data": [
        {
         "hovertemplate": "label=%{x}<br>FCnt=%{y}<extra></extra>",
         "legendgroup": "",
         "marker": {
          "color": "#636efa",
          "opacity": 0.9,
          "symbol": "circle"
         },
         "mode": "markers",
         "name": "",
         "showlegend": false,
         "type": "scatter",
         "x": [
          10,
          6,
          6,
          0,
          4,
          0,
          1,
          4,
          10,
          12,
          11,
          7,
          5,
          3,
          4,
          1,
          1,
          12,
          4,
          6,
          5,
          5,
          0,
          7,
          1,
          2,
          6,
          7,
          1,
          1,
          7,
          1,
          6,
          4,
          12,
          1,
          2,
          5,
          4,
          6,
          2,
          7,
          4,
          11,
          6,
          2,
          10,
          10,
          10,
          4,
          6,
          11,
          7,
          6,
          1,
          4,
          4,
          1,
          6,
          4,
          6,
          11,
          10,
          1,
          11,
          1,
          6,
          4,
          5,
          8,
          11,
          9,
          1,
          4,
          7,
          10,
          4,
          6,
          1,
          8,
          6,
          4,
          7,
          11,
          6,
          3,
          5,
          12,
          0,
          12,
          1,
          5,
          2,
          2,
          4,
          2,
          6,
          5,
          1,
          12,
          4,
          1,
          8,
          4,
          5,
          2,
          3,
          2,
          2,
          2,
          12,
          1,
          5,
          2,
          7,
          3,
          11,
          6,
          11,
          3,
          1,
          12,
          6,
          12,
          5,
          6,
          5,
          6,
          3,
          12,
          2,
          6,
          9,
          5,
          10,
          1,
          1,
          6,
          4,
          4,
          4,
          12,
          6,
          7,
          12,
          12,
          11,
          6,
          6,
          4,
          1,
          12,
          1,
          2,
          4,
          4,
          1,
          6,
          3,
          12,
          1,
          2,
          2,
          5,
          8,
          1,
          4,
          4,
          4,
          6,
          3,
          11,
          11,
          11,
          5,
          11,
          4,
          10,
          10,
          6,
          12,
          12,
          4,
          4,
          6,
          10,
          5,
          3,
          10,
          1,
          2,
          9,
          6,
          5,
          11,
          12,
          5,
          12,
          0,
          5,
          12,
          0,
          11,
          5,
          5,
          12,
          1,
          3,
          9,
          9,
          3,
          7,
          1,
          10,
          4,
          5,
          5,
          1,
          0,
          6,
          11,
          5,
          11,
          5,
          3,
          0,
          5,
          10,
          1,
          11,
          11,
          9,
          6,
          10,
          1,
          5,
          6,
          12,
          5,
          11,
          3,
          5,
          5,
          5,
          11,
          3,
          5,
          12,
          9,
          5,
          1,
          11,
          9,
          3,
          3,
          3,
          5,
          3,
          9,
          5,
          3,
          10,
          3,
          3,
          3,
          11,
          3,
          9,
          9,
          3,
          1,
          5,
          9,
          5,
          3,
          3,
          9,
          12,
          9,
          9,
          3,
          10,
          3,
          9,
          9,
          9,
          9,
          9,
          5,
          9
         ],
         "xaxis": "x",
         "y": [
          1446,
          2852,
          2455,
          211,
          2058,
          201,
          1982,
          2144,
          858,
          1725,
          1829,
          2270,
          1544,
          912,
          1888,
          1336,
          1995,
          1439,
          2141,
          3042,
          1546,
          1571,
          199,
          2620,
          1878,
          2004,
          2889,
          1990,
          1994,
          2102,
          2440,
          1910,
          2718,
          1898,
          1775,
          1646,
          1561,
          1463,
          1544,
          2243,
          2705,
          2205,
          2160,
          2446,
          2378,
          2341,
          1250,
          1312,
          734,
          2026,
          2225,
          2416,
          2947,
          2640,
          1740,
          2100,
          2610,
          1582,
          2036,
          2599,
          2325,
          1780,
          1083,
          1779,
          1907,
          2175,
          2876,
          1813,
          1295,
          199,
          2314,
          199,
          1755,
          1765,
          2431,
          1491,
          3025,
          2320,
          2218,
          199,
          2889,
          1981,
          3171,
          2050,
          2356,
          1481,
          1583,
          1669,
          205,
          1805,
          1753,
          1394,
          2313,
          1930,
          1872,
          1969,
          2734,
          1632,
          1843,
          1402,
          2846,
          1875,
          208,
          2109,
          1371,
          2297,
          1462,
          1917,
          2106,
          2096,
          1669,
          1542,
          1197,
          1884,
          2982,
          1219,
          2023,
          2527,
          2370,
          1352,
          2097,
          1942,
          2275,
          2296,
          1723,
          2106,
          1546,
          2060,
          1509,
          1631,
          2379,
          2387,
          196,
          1569,
          1167,
          2044,
          1506,
          2687,
          1815,
          1653,
          1509,
          1723,
          2177,
          2982,
          1501,
          1904,
          1985,
          2250,
          2256,
          2657,
          2242,
          1883,
          1885,
          2090,
          2088,
          2041,
          1957,
          2063,
          1463,
          2139,
          2071,
          1900,
          1898,
          1725,
          199,
          2037,
          2510,
          2174,
          1764,
          1986,
          1680,
          1918,
          2091,
          2303,
          1310,
          1878,
          2063,
          1379,
          1571,
          2059,
          1598,
          1355,
          2135,
          1997,
          2850,
          1531,
          1541,
          1172,
          1236,
          1401,
          2034,
          196,
          2384,
          1292,
          2196,
          1554,
          1511,
          1663,
          198,
          1390,
          1547,
          202,
          2026,
          1532,
          1480,
          1462,
          1665,
          1565,
          896,
          486,
          1195,
          2006,
          1417,
          1019,
          1642,
          1207,
          1118,
          1873,
          198,
          2192,
          1778,
          1536,
          2067,
          1415,
          1096,
          199,
          1701,
          981,
          1155,
          2090,
          1807,
          1009,
          2973,
          983,
          1384,
          1353,
          2569,
          1452,
          1464,
          2187,
          1206,
          1320,
          1618,
          1450,
          1874,
          963,
          1691,
          1714,
          192,
          1579,
          1823,
          1868,
          195,
          1323,
          1120,
          1153,
          1347,
          1264,
          654,
          1359,
          1184,
          1156,
          1626,
          1328,
          962,
          2239,
          1347,
          1093,
          1104,
          1234,
          1758,
          1385,
          950,
          1470,
          1109,
          1688,
          966,
          2012,
          189,
          692,
          1517,
          698,
          1384,
          339,
          246,
          189,
          216,
          863,
          1696,
          877
         ],
         "yaxis": "y"
        }
       ],
       "layout": {
        "legend": {
         "tracegroupgap": 0
        },
        "margin": {
         "t": 60
        },
        "template": {
         "data": {
          "bar": [
           {
            "error_x": {
             "color": "#2a3f5f"
            },
            "error_y": {
             "color": "#2a3f5f"
            },
            "marker": {
             "line": {
              "color": "#E5ECF6",
              "width": 0.5
             }
            },
            "type": "bar"
           }
          ],
          "barpolar": [
           {
            "marker": {
             "line": {
              "color": "#E5ECF6",
              "width": 0.5
             }
            },
            "type": "barpolar"
           }
          ],
          "carpet": [
           {
            "aaxis": {
             "endlinecolor": "#2a3f5f",
             "gridcolor": "white",
             "linecolor": "white",
             "minorgridcolor": "white",
             "startlinecolor": "#2a3f5f"
            },
            "baxis": {
             "endlinecolor": "#2a3f5f",
             "gridcolor": "white",
             "linecolor": "white",
             "minorgridcolor": "white",
             "startlinecolor": "#2a3f5f"
            },
            "type": "carpet"
           }
          ],
          "choropleth": [
           {
            "colorbar": {
             "outlinewidth": 0,
             "ticks": ""
            },
            "type": "choropleth"
           }
          ],
          "contour": [
           {
            "colorbar": {
             "outlinewidth": 0,
             "ticks": ""
            },
            "colorscale": [
             [
              0,
              "#0d0887"
             ],
             [
              0.1111111111111111,
              "#46039f"
             ],
             [
              0.2222222222222222,
              "#7201a8"
             ],
             [
              0.3333333333333333,
              "#9c179e"
             ],
             [
              0.4444444444444444,
              "#bd3786"
             ],
             [
              0.5555555555555556,
              "#d8576b"
             ],
             [
              0.6666666666666666,
              "#ed7953"
             ],
             [
              0.7777777777777778,
              "#fb9f3a"
             ],
             [
              0.8888888888888888,
              "#fdca26"
             ],
             [
              1,
              "#f0f921"
             ]
            ],
            "type": "contour"
           }
          ],
          "contourcarpet": [
           {
            "colorbar": {
             "outlinewidth": 0,
             "ticks": ""
            },
            "type": "contourcarpet"
           }
          ],
          "heatmap": [
           {
            "colorbar": {
             "outlinewidth": 0,
             "ticks": ""
            },
            "colorscale": [
             [
              0,
              "#0d0887"
             ],
             [
              0.1111111111111111,
              "#46039f"
             ],
             [
              0.2222222222222222,
              "#7201a8"
             ],
             [
              0.3333333333333333,
              "#9c179e"
             ],
             [
              0.4444444444444444,
              "#bd3786"
             ],
             [
              0.5555555555555556,
              "#d8576b"
             ],
             [
              0.6666666666666666,
              "#ed7953"
             ],
             [
              0.7777777777777778,
              "#fb9f3a"
             ],
             [
              0.8888888888888888,
              "#fdca26"
             ],
             [
              1,
              "#f0f921"
             ]
            ],
            "type": "heatmap"
           }
          ],
          "heatmapgl": [
           {
            "colorbar": {
             "outlinewidth": 0,
             "ticks": ""
            },
            "colorscale": [
             [
              0,
              "#0d0887"
             ],
             [
              0.1111111111111111,
              "#46039f"
             ],
             [
              0.2222222222222222,
              "#7201a8"
             ],
             [
              0.3333333333333333,
              "#9c179e"
             ],
             [
              0.4444444444444444,
              "#bd3786"
             ],
             [
              0.5555555555555556,
              "#d8576b"
             ],
             [
              0.6666666666666666,
              "#ed7953"
             ],
             [
              0.7777777777777778,
              "#fb9f3a"
             ],
             [
              0.8888888888888888,
              "#fdca26"
             ],
             [
              1,
              "#f0f921"
             ]
            ],
            "type": "heatmapgl"
           }
          ],
          "histogram": [
           {
            "marker": {
             "colorbar": {
              "outlinewidth": 0,
              "ticks": ""
             }
            },
            "type": "histogram"
           }
          ],
          "histogram2d": [
           {
            "colorbar": {
             "outlinewidth": 0,
             "ticks": ""
            },
            "colorscale": [
             [
              0,
              "#0d0887"
             ],
             [
              0.1111111111111111,
              "#46039f"
             ],
             [
              0.2222222222222222,
              "#7201a8"
             ],
             [
              0.3333333333333333,
              "#9c179e"
             ],
             [
              0.4444444444444444,
              "#bd3786"
             ],
             [
              0.5555555555555556,
              "#d8576b"
             ],
             [
              0.6666666666666666,
              "#ed7953"
             ],
             [
              0.7777777777777778,
              "#fb9f3a"
             ],
             [
              0.8888888888888888,
              "#fdca26"
             ],
             [
              1,
              "#f0f921"
             ]
            ],
            "type": "histogram2d"
           }
          ],
          "histogram2dcontour": [
           {
            "colorbar": {
             "outlinewidth": 0,
             "ticks": ""
            },
            "colorscale": [
             [
              0,
              "#0d0887"
             ],
             [
              0.1111111111111111,
              "#46039f"
             ],
             [
              0.2222222222222222,
              "#7201a8"
             ],
             [
              0.3333333333333333,
              "#9c179e"
             ],
             [
              0.4444444444444444,
              "#bd3786"
             ],
             [
              0.5555555555555556,
              "#d8576b"
             ],
             [
              0.6666666666666666,
              "#ed7953"
             ],
             [
              0.7777777777777778,
              "#fb9f3a"
             ],
             [
              0.8888888888888888,
              "#fdca26"
             ],
             [
              1,
              "#f0f921"
             ]
            ],
            "type": "histogram2dcontour"
           }
          ],
          "mesh3d": [
           {
            "colorbar": {
             "outlinewidth": 0,
             "ticks": ""
            },
            "type": "mesh3d"
           }
          ],
          "parcoords": [
           {
            "line": {
             "colorbar": {
              "outlinewidth": 0,
              "ticks": ""
             }
            },
            "type": "parcoords"
           }
          ],
          "pie": [
           {
            "automargin": true,
            "type": "pie"
           }
          ],
          "scatter": [
           {
            "marker": {
             "colorbar": {
              "outlinewidth": 0,
              "ticks": ""
             }
            },
            "type": "scatter"
           }
          ],
          "scatter3d": [
           {
            "line": {
             "colorbar": {
              "outlinewidth": 0,
              "ticks": ""
             }
            },
            "marker": {
             "colorbar": {
              "outlinewidth": 0,
              "ticks": ""
             }
            },
            "type": "scatter3d"
           }
          ],
          "scattercarpet": [
           {
            "marker": {
             "colorbar": {
              "outlinewidth": 0,
              "ticks": ""
             }
            },
            "type": "scattercarpet"
           }
          ],
          "scattergeo": [
           {
            "marker": {
             "colorbar": {
              "outlinewidth": 0,
              "ticks": ""
             }
            },
            "type": "scattergeo"
           }
          ],
          "scattergl": [
           {
            "marker": {
             "colorbar": {
              "outlinewidth": 0,
              "ticks": ""
             }
            },
            "type": "scattergl"
           }
          ],
          "scattermapbox": [
           {
            "marker": {
             "colorbar": {
              "outlinewidth": 0,
              "ticks": ""
             }
            },
            "type": "scattermapbox"
           }
          ],
          "scatterpolar": [
           {
            "marker": {
             "colorbar": {
              "outlinewidth": 0,
              "ticks": ""
             }
            },
            "type": "scatterpolar"
           }
          ],
          "scatterpolargl": [
           {
            "marker": {
             "colorbar": {
              "outlinewidth": 0,
              "ticks": ""
             }
            },
            "type": "scatterpolargl"
           }
          ],
          "scatterternary": [
           {
            "marker": {
             "colorbar": {
              "outlinewidth": 0,
              "ticks": ""
             }
            },
            "type": "scatterternary"
           }
          ],
          "surface": [
           {
            "colorbar": {
             "outlinewidth": 0,
             "ticks": ""
            },
            "colorscale": [
             [
              0,
              "#0d0887"
             ],
             [
              0.1111111111111111,
              "#46039f"
             ],
             [
              0.2222222222222222,
              "#7201a8"
             ],
             [
              0.3333333333333333,
              "#9c179e"
             ],
             [
              0.4444444444444444,
              "#bd3786"
             ],
             [
              0.5555555555555556,
              "#d8576b"
             ],
             [
              0.6666666666666666,
              "#ed7953"
             ],
             [
              0.7777777777777778,
              "#fb9f3a"
             ],
             [
              0.8888888888888888,
              "#fdca26"
             ],
             [
              1,
              "#f0f921"
             ]
            ],
            "type": "surface"
           }
          ],
          "table": [
           {
            "cells": {
             "fill": {
              "color": "#EBF0F8"
             },
             "line": {
              "color": "white"
             }
            },
            "header": {
             "fill": {
              "color": "#C8D4E3"
             },
             "line": {
              "color": "white"
             }
            },
            "type": "table"
           }
          ]
         },
         "layout": {
          "annotationdefaults": {
           "arrowcolor": "#2a3f5f",
           "arrowhead": 0,
           "arrowwidth": 1
          },
          "coloraxis": {
           "colorbar": {
            "outlinewidth": 0,
            "ticks": ""
           }
          },
          "colorscale": {
           "diverging": [
            [
             0,
             "#8e0152"
            ],
            [
             0.1,
             "#c51b7d"
            ],
            [
             0.2,
             "#de77ae"
            ],
            [
             0.3,
             "#f1b6da"
            ],
            [
             0.4,
             "#fde0ef"
            ],
            [
             0.5,
             "#f7f7f7"
            ],
            [
             0.6,
             "#e6f5d0"
            ],
            [
             0.7,
             "#b8e186"
            ],
            [
             0.8,
             "#7fbc41"
            ],
            [
             0.9,
             "#4d9221"
            ],
            [
             1,
             "#276419"
            ]
           ],
           "sequential": [
            [
             0,
             "#0d0887"
            ],
            [
             0.1111111111111111,
             "#46039f"
            ],
            [
             0.2222222222222222,
             "#7201a8"
            ],
            [
             0.3333333333333333,
             "#9c179e"
            ],
            [
             0.4444444444444444,
             "#bd3786"
            ],
            [
             0.5555555555555556,
             "#d8576b"
            ],
            [
             0.6666666666666666,
             "#ed7953"
            ],
            [
             0.7777777777777778,
             "#fb9f3a"
            ],
            [
             0.8888888888888888,
             "#fdca26"
            ],
            [
             1,
             "#f0f921"
            ]
           ],
           "sequentialminus": [
            [
             0,
             "#0d0887"
            ],
            [
             0.1111111111111111,
             "#46039f"
            ],
            [
             0.2222222222222222,
             "#7201a8"
            ],
            [
             0.3333333333333333,
             "#9c179e"
            ],
            [
             0.4444444444444444,
             "#bd3786"
            ],
            [
             0.5555555555555556,
             "#d8576b"
            ],
            [
             0.6666666666666666,
             "#ed7953"
            ],
            [
             0.7777777777777778,
             "#fb9f3a"
            ],
            [
             0.8888888888888888,
             "#fdca26"
            ],
            [
             1,
             "#f0f921"
            ]
           ]
          },
          "colorway": [
           "#636efa",
           "#EF553B",
           "#00cc96",
           "#ab63fa",
           "#FFA15A",
           "#19d3f3",
           "#FF6692",
           "#B6E880",
           "#FF97FF",
           "#FECB52"
          ],
          "font": {
           "color": "#2a3f5f"
          },
          "geo": {
           "bgcolor": "white",
           "lakecolor": "white",
           "landcolor": "#E5ECF6",
           "showlakes": true,
           "showland": true,
           "subunitcolor": "white"
          },
          "hoverlabel": {
           "align": "left"
          },
          "hovermode": "closest",
          "mapbox": {
           "style": "light"
          },
          "paper_bgcolor": "white",
          "plot_bgcolor": "#E5ECF6",
          "polar": {
           "angularaxis": {
            "gridcolor": "white",
            "linecolor": "white",
            "ticks": ""
           },
           "bgcolor": "#E5ECF6",
           "radialaxis": {
            "gridcolor": "white",
            "linecolor": "white",
            "ticks": ""
           }
          },
          "scene": {
           "xaxis": {
            "backgroundcolor": "#E5ECF6",
            "gridcolor": "white",
            "gridwidth": 2,
            "linecolor": "white",
            "showbackground": true,
            "ticks": "",
            "zerolinecolor": "white"
           },
           "yaxis": {
            "backgroundcolor": "#E5ECF6",
            "gridcolor": "white",
            "gridwidth": 2,
            "linecolor": "white",
            "showbackground": true,
            "ticks": "",
            "zerolinecolor": "white"
           },
           "zaxis": {
            "backgroundcolor": "#E5ECF6",
            "gridcolor": "white",
            "gridwidth": 2,
            "linecolor": "white",
            "showbackground": true,
            "ticks": "",
            "zerolinecolor": "white"
           }
          },
          "shapedefaults": {
           "line": {
            "color": "#2a3f5f"
           }
          },
          "ternary": {
           "aaxis": {
            "gridcolor": "white",
            "linecolor": "white",
            "ticks": ""
           },
           "baxis": {
            "gridcolor": "white",
            "linecolor": "white",
            "ticks": ""
           },
           "bgcolor": "#E5ECF6",
           "caxis": {
            "gridcolor": "white",
            "linecolor": "white",
            "ticks": ""
           }
          },
          "title": {
           "x": 0.05
          },
          "xaxis": {
           "automargin": true,
           "gridcolor": "white",
           "linecolor": "white",
           "ticks": "",
           "title": {
            "standoff": 15
           },
           "zerolinecolor": "white",
           "zerolinewidth": 2
          },
          "yaxis": {
           "automargin": true,
           "gridcolor": "white",
           "linecolor": "white",
           "ticks": "",
           "title": {
            "standoff": 15
           },
           "zerolinecolor": "white",
           "zerolinewidth": 2
          }
         }
        },
        "xaxis": {
         "anchor": "y",
         "domain": [
          0,
          1
         ],
         "title": {
          "text": "label"
         }
        },
        "yaxis": {
         "anchor": "x",
         "domain": [
          0,
          1
         ],
         "title": {
          "text": "FCnt"
         }
        }
       }
      },
      "text/html": [
       "<div>\n",
       "        \n",
       "        \n",
       "            <div id=\"7c74ac11-d801-4482-8d72-46dfd72d4d87\" class=\"plotly-graph-div\" style=\"height:525px; width:100%;\"></div>\n",
       "            <script type=\"text/javascript\">\n",
       "                require([\"plotly\"], function(Plotly) {\n",
       "                    window.PLOTLYENV=window.PLOTLYENV || {};\n",
       "                    \n",
       "                if (document.getElementById(\"7c74ac11-d801-4482-8d72-46dfd72d4d87\")) {\n",
       "                    Plotly.newPlot(\n",
       "                        '7c74ac11-d801-4482-8d72-46dfd72d4d87',\n",
       "                        [{\"hovertemplate\": \"label=%{x}<br>FCnt=%{y}<extra></extra>\", \"legendgroup\": \"\", \"marker\": {\"color\": \"#636efa\", \"opacity\": 0.9, \"symbol\": \"circle\"}, \"mode\": \"markers\", \"name\": \"\", \"showlegend\": false, \"type\": \"scatter\", \"x\": [10.0, 6.0, 6.0, 0.0, 4.0, 0.0, 1.0, 4.0, 10.0, 12.0, 11.0, 7.0, 5.0, 3.0, 4.0, 1.0, 1.0, 12.0, 4.0, 6.0, 5.0, 5.0, 0.0, 7.0, 1.0, 2.0, 6.0, 7.0, 1.0, 1.0, 7.0, 1.0, 6.0, 4.0, 12.0, 1.0, 2.0, 5.0, 4.0, 6.0, 2.0, 7.0, 4.0, 11.0, 6.0, 2.0, 10.0, 10.0, 10.0, 4.0, 6.0, 11.0, 7.0, 6.0, 1.0, 4.0, 4.0, 1.0, 6.0, 4.0, 6.0, 11.0, 10.0, 1.0, 11.0, 1.0, 6.0, 4.0, 5.0, 8.0, 11.0, 9.0, 1.0, 4.0, 7.0, 10.0, 4.0, 6.0, 1.0, 8.0, 6.0, 4.0, 7.0, 11.0, 6.0, 3.0, 5.0, 12.0, 0.0, 12.0, 1.0, 5.0, 2.0, 2.0, 4.0, 2.0, 6.0, 5.0, 1.0, 12.0, 4.0, 1.0, 8.0, 4.0, 5.0, 2.0, 3.0, 2.0, 2.0, 2.0, 12.0, 1.0, 5.0, 2.0, 7.0, 3.0, 11.0, 6.0, 11.0, 3.0, 1.0, 12.0, 6.0, 12.0, 5.0, 6.0, 5.0, 6.0, 3.0, 12.0, 2.0, 6.0, 9.0, 5.0, 10.0, 1.0, 1.0, 6.0, 4.0, 4.0, 4.0, 12.0, 6.0, 7.0, 12.0, 12.0, 11.0, 6.0, 6.0, 4.0, 1.0, 12.0, 1.0, 2.0, 4.0, 4.0, 1.0, 6.0, 3.0, 12.0, 1.0, 2.0, 2.0, 5.0, 8.0, 1.0, 4.0, 4.0, 4.0, 6.0, 3.0, 11.0, 11.0, 11.0, 5.0, 11.0, 4.0, 10.0, 10.0, 6.0, 12.0, 12.0, 4.0, 4.0, 6.0, 10.0, 5.0, 3.0, 10.0, 1.0, 2.0, 9.0, 6.0, 5.0, 11.0, 12.0, 5.0, 12.0, 0.0, 5.0, 12.0, 0.0, 11.0, 5.0, 5.0, 12.0, 1.0, 3.0, 9.0, 9.0, 3.0, 7.0, 1.0, 10.0, 4.0, 5.0, 5.0, 1.0, 0.0, 6.0, 11.0, 5.0, 11.0, 5.0, 3.0, 0.0, 5.0, 10.0, 1.0, 11.0, 11.0, 9.0, 6.0, 10.0, 1.0, 5.0, 6.0, 12.0, 5.0, 11.0, 3.0, 5.0, 5.0, 5.0, 11.0, 3.0, 5.0, 12.0, 9.0, 5.0, 1.0, 11.0, 9.0, 3.0, 3.0, 3.0, 5.0, 3.0, 9.0, 5.0, 3.0, 10.0, 3.0, 3.0, 3.0, 11.0, 3.0, 9.0, 9.0, 3.0, 1.0, 5.0, 9.0, 5.0, 3.0, 3.0, 9.0, 12.0, 9.0, 9.0, 3.0, 10.0, 3.0, 9.0, 9.0, 9.0, 9.0, 9.0, 5.0, 9.0], \"xaxis\": \"x\", \"y\": [1446, 2852, 2455, 211, 2058, 201, 1982, 2144, 858, 1725, 1829, 2270, 1544, 912, 1888, 1336, 1995, 1439, 2141, 3042, 1546, 1571, 199, 2620, 1878, 2004, 2889, 1990, 1994, 2102, 2440, 1910, 2718, 1898, 1775, 1646, 1561, 1463, 1544, 2243, 2705, 2205, 2160, 2446, 2378, 2341, 1250, 1312, 734, 2026, 2225, 2416, 2947, 2640, 1740, 2100, 2610, 1582, 2036, 2599, 2325, 1780, 1083, 1779, 1907, 2175, 2876, 1813, 1295, 199, 2314, 199, 1755, 1765, 2431, 1491, 3025, 2320, 2218, 199, 2889, 1981, 3171, 2050, 2356, 1481, 1583, 1669, 205, 1805, 1753, 1394, 2313, 1930, 1872, 1969, 2734, 1632, 1843, 1402, 2846, 1875, 208, 2109, 1371, 2297, 1462, 1917, 2106, 2096, 1669, 1542, 1197, 1884, 2982, 1219, 2023, 2527, 2370, 1352, 2097, 1942, 2275, 2296, 1723, 2106, 1546, 2060, 1509, 1631, 2379, 2387, 196, 1569, 1167, 2044, 1506, 2687, 1815, 1653, 1509, 1723, 2177, 2982, 1501, 1904, 1985, 2250, 2256, 2657, 2242, 1883, 1885, 2090, 2088, 2041, 1957, 2063, 1463, 2139, 2071, 1900, 1898, 1725, 199, 2037, 2510, 2174, 1764, 1986, 1680, 1918, 2091, 2303, 1310, 1878, 2063, 1379, 1571, 2059, 1598, 1355, 2135, 1997, 2850, 1531, 1541, 1172, 1236, 1401, 2034, 196, 2384, 1292, 2196, 1554, 1511, 1663, 198, 1390, 1547, 202, 2026, 1532, 1480, 1462, 1665, 1565, 896, 486, 1195, 2006, 1417, 1019, 1642, 1207, 1118, 1873, 198, 2192, 1778, 1536, 2067, 1415, 1096, 199, 1701, 981, 1155, 2090, 1807, 1009, 2973, 983, 1384, 1353, 2569, 1452, 1464, 2187, 1206, 1320, 1618, 1450, 1874, 963, 1691, 1714, 192, 1579, 1823, 1868, 195, 1323, 1120, 1153, 1347, 1264, 654, 1359, 1184, 1156, 1626, 1328, 962, 2239, 1347, 1093, 1104, 1234, 1758, 1385, 950, 1470, 1109, 1688, 966, 2012, 189, 692, 1517, 698, 1384, 339, 246, 189, 216, 863, 1696, 877], \"yaxis\": \"y\"}],\n",
       "                        {\"legend\": {\"tracegroupgap\": 0}, \"margin\": {\"t\": 60}, \"template\": {\"data\": {\"bar\": [{\"error_x\": {\"color\": \"#2a3f5f\"}, \"error_y\": {\"color\": \"#2a3f5f\"}, \"marker\": {\"line\": {\"color\": \"#E5ECF6\", \"width\": 0.5}}, \"type\": \"bar\"}], \"barpolar\": [{\"marker\": {\"line\": {\"color\": \"#E5ECF6\", \"width\": 0.5}}, \"type\": \"barpolar\"}], \"carpet\": [{\"aaxis\": {\"endlinecolor\": \"#2a3f5f\", \"gridcolor\": \"white\", \"linecolor\": \"white\", \"minorgridcolor\": \"white\", \"startlinecolor\": \"#2a3f5f\"}, \"baxis\": {\"endlinecolor\": \"#2a3f5f\", \"gridcolor\": \"white\", \"linecolor\": \"white\", \"minorgridcolor\": \"white\", \"startlinecolor\": \"#2a3f5f\"}, \"type\": \"carpet\"}], \"choropleth\": [{\"colorbar\": {\"outlinewidth\": 0, \"ticks\": \"\"}, \"type\": \"choropleth\"}], \"contour\": [{\"colorbar\": {\"outlinewidth\": 0, \"ticks\": \"\"}, \"colorscale\": [[0.0, \"#0d0887\"], [0.1111111111111111, \"#46039f\"], [0.2222222222222222, \"#7201a8\"], [0.3333333333333333, \"#9c179e\"], [0.4444444444444444, \"#bd3786\"], [0.5555555555555556, \"#d8576b\"], [0.6666666666666666, \"#ed7953\"], [0.7777777777777778, \"#fb9f3a\"], [0.8888888888888888, \"#fdca26\"], [1.0, \"#f0f921\"]], \"type\": \"contour\"}], \"contourcarpet\": [{\"colorbar\": {\"outlinewidth\": 0, \"ticks\": \"\"}, \"type\": \"contourcarpet\"}], \"heatmap\": [{\"colorbar\": {\"outlinewidth\": 0, \"ticks\": \"\"}, \"colorscale\": [[0.0, \"#0d0887\"], [0.1111111111111111, \"#46039f\"], [0.2222222222222222, \"#7201a8\"], [0.3333333333333333, \"#9c179e\"], [0.4444444444444444, \"#bd3786\"], [0.5555555555555556, \"#d8576b\"], [0.6666666666666666, \"#ed7953\"], [0.7777777777777778, \"#fb9f3a\"], [0.8888888888888888, \"#fdca26\"], [1.0, \"#f0f921\"]], \"type\": \"heatmap\"}], \"heatmapgl\": [{\"colorbar\": {\"outlinewidth\": 0, \"ticks\": \"\"}, \"colorscale\": [[0.0, \"#0d0887\"], [0.1111111111111111, \"#46039f\"], [0.2222222222222222, \"#7201a8\"], [0.3333333333333333, \"#9c179e\"], [0.4444444444444444, \"#bd3786\"], [0.5555555555555556, \"#d8576b\"], [0.6666666666666666, \"#ed7953\"], [0.7777777777777778, \"#fb9f3a\"], [0.8888888888888888, \"#fdca26\"], [1.0, \"#f0f921\"]], \"type\": \"heatmapgl\"}], \"histogram\": [{\"marker\": {\"colorbar\": {\"outlinewidth\": 0, \"ticks\": \"\"}}, \"type\": \"histogram\"}], \"histogram2d\": [{\"colorbar\": {\"outlinewidth\": 0, \"ticks\": \"\"}, \"colorscale\": [[0.0, \"#0d0887\"], [0.1111111111111111, \"#46039f\"], [0.2222222222222222, \"#7201a8\"], [0.3333333333333333, \"#9c179e\"], [0.4444444444444444, \"#bd3786\"], [0.5555555555555556, \"#d8576b\"], [0.6666666666666666, \"#ed7953\"], [0.7777777777777778, \"#fb9f3a\"], [0.8888888888888888, \"#fdca26\"], [1.0, \"#f0f921\"]], \"type\": \"histogram2d\"}], \"histogram2dcontour\": [{\"colorbar\": {\"outlinewidth\": 0, \"ticks\": \"\"}, \"colorscale\": [[0.0, \"#0d0887\"], [0.1111111111111111, \"#46039f\"], [0.2222222222222222, \"#7201a8\"], [0.3333333333333333, \"#9c179e\"], [0.4444444444444444, \"#bd3786\"], [0.5555555555555556, \"#d8576b\"], [0.6666666666666666, \"#ed7953\"], [0.7777777777777778, \"#fb9f3a\"], [0.8888888888888888, \"#fdca26\"], [1.0, \"#f0f921\"]], \"type\": \"histogram2dcontour\"}], \"mesh3d\": [{\"colorbar\": {\"outlinewidth\": 0, \"ticks\": \"\"}, \"type\": \"mesh3d\"}], \"parcoords\": [{\"line\": {\"colorbar\": {\"outlinewidth\": 0, \"ticks\": \"\"}}, \"type\": \"parcoords\"}], \"pie\": [{\"automargin\": true, \"type\": \"pie\"}], \"scatter\": [{\"marker\": {\"colorbar\": {\"outlinewidth\": 0, \"ticks\": \"\"}}, \"type\": \"scatter\"}], \"scatter3d\": [{\"line\": {\"colorbar\": {\"outlinewidth\": 0, \"ticks\": \"\"}}, \"marker\": {\"colorbar\": {\"outlinewidth\": 0, \"ticks\": \"\"}}, \"type\": \"scatter3d\"}], \"scattercarpet\": [{\"marker\": {\"colorbar\": {\"outlinewidth\": 0, \"ticks\": \"\"}}, \"type\": \"scattercarpet\"}], \"scattergeo\": [{\"marker\": {\"colorbar\": {\"outlinewidth\": 0, \"ticks\": \"\"}}, \"type\": \"scattergeo\"}], \"scattergl\": [{\"marker\": {\"colorbar\": {\"outlinewidth\": 0, \"ticks\": \"\"}}, \"type\": \"scattergl\"}], \"scattermapbox\": [{\"marker\": {\"colorbar\": {\"outlinewidth\": 0, \"ticks\": \"\"}}, \"type\": \"scattermapbox\"}], \"scatterpolar\": [{\"marker\": {\"colorbar\": {\"outlinewidth\": 0, \"ticks\": \"\"}}, \"type\": \"scatterpolar\"}], \"scatterpolargl\": [{\"marker\": {\"colorbar\": {\"outlinewidth\": 0, \"ticks\": \"\"}}, \"type\": \"scatterpolargl\"}], \"scatterternary\": [{\"marker\": {\"colorbar\": {\"outlinewidth\": 0, \"ticks\": \"\"}}, \"type\": \"scatterternary\"}], \"surface\": [{\"colorbar\": {\"outlinewidth\": 0, \"ticks\": \"\"}, \"colorscale\": [[0.0, \"#0d0887\"], [0.1111111111111111, \"#46039f\"], [0.2222222222222222, \"#7201a8\"], [0.3333333333333333, \"#9c179e\"], [0.4444444444444444, \"#bd3786\"], [0.5555555555555556, \"#d8576b\"], [0.6666666666666666, \"#ed7953\"], [0.7777777777777778, \"#fb9f3a\"], [0.8888888888888888, \"#fdca26\"], [1.0, \"#f0f921\"]], \"type\": \"surface\"}], \"table\": [{\"cells\": {\"fill\": {\"color\": \"#EBF0F8\"}, \"line\": {\"color\": \"white\"}}, \"header\": {\"fill\": {\"color\": \"#C8D4E3\"}, \"line\": {\"color\": \"white\"}}, \"type\": \"table\"}]}, \"layout\": {\"annotationdefaults\": {\"arrowcolor\": \"#2a3f5f\", \"arrowhead\": 0, \"arrowwidth\": 1}, \"coloraxis\": {\"colorbar\": {\"outlinewidth\": 0, \"ticks\": \"\"}}, \"colorscale\": {\"diverging\": [[0, \"#8e0152\"], [0.1, \"#c51b7d\"], [0.2, \"#de77ae\"], [0.3, \"#f1b6da\"], [0.4, \"#fde0ef\"], [0.5, \"#f7f7f7\"], [0.6, \"#e6f5d0\"], [0.7, \"#b8e186\"], [0.8, \"#7fbc41\"], [0.9, \"#4d9221\"], [1, \"#276419\"]], \"sequential\": [[0.0, \"#0d0887\"], [0.1111111111111111, \"#46039f\"], [0.2222222222222222, \"#7201a8\"], [0.3333333333333333, \"#9c179e\"], [0.4444444444444444, \"#bd3786\"], [0.5555555555555556, \"#d8576b\"], [0.6666666666666666, \"#ed7953\"], [0.7777777777777778, \"#fb9f3a\"], [0.8888888888888888, \"#fdca26\"], [1.0, \"#f0f921\"]], \"sequentialminus\": [[0.0, \"#0d0887\"], [0.1111111111111111, \"#46039f\"], [0.2222222222222222, \"#7201a8\"], [0.3333333333333333, \"#9c179e\"], [0.4444444444444444, \"#bd3786\"], [0.5555555555555556, \"#d8576b\"], [0.6666666666666666, \"#ed7953\"], [0.7777777777777778, \"#fb9f3a\"], [0.8888888888888888, \"#fdca26\"], [1.0, \"#f0f921\"]]}, \"colorway\": [\"#636efa\", \"#EF553B\", \"#00cc96\", \"#ab63fa\", \"#FFA15A\", \"#19d3f3\", \"#FF6692\", \"#B6E880\", \"#FF97FF\", \"#FECB52\"], \"font\": {\"color\": \"#2a3f5f\"}, \"geo\": {\"bgcolor\": \"white\", \"lakecolor\": \"white\", \"landcolor\": \"#E5ECF6\", \"showlakes\": true, \"showland\": true, \"subunitcolor\": \"white\"}, \"hoverlabel\": {\"align\": \"left\"}, \"hovermode\": \"closest\", \"mapbox\": {\"style\": \"light\"}, \"paper_bgcolor\": \"white\", \"plot_bgcolor\": \"#E5ECF6\", \"polar\": {\"angularaxis\": {\"gridcolor\": \"white\", \"linecolor\": \"white\", \"ticks\": \"\"}, \"bgcolor\": \"#E5ECF6\", \"radialaxis\": {\"gridcolor\": \"white\", \"linecolor\": \"white\", \"ticks\": \"\"}}, \"scene\": {\"xaxis\": {\"backgroundcolor\": \"#E5ECF6\", \"gridcolor\": \"white\", \"gridwidth\": 2, \"linecolor\": \"white\", \"showbackground\": true, \"ticks\": \"\", \"zerolinecolor\": \"white\"}, \"yaxis\": {\"backgroundcolor\": \"#E5ECF6\", \"gridcolor\": \"white\", \"gridwidth\": 2, \"linecolor\": \"white\", \"showbackground\": true, \"ticks\": \"\", \"zerolinecolor\": \"white\"}, \"zaxis\": {\"backgroundcolor\": \"#E5ECF6\", \"gridcolor\": \"white\", \"gridwidth\": 2, \"linecolor\": \"white\", \"showbackground\": true, \"ticks\": \"\", \"zerolinecolor\": \"white\"}}, \"shapedefaults\": {\"line\": {\"color\": \"#2a3f5f\"}}, \"ternary\": {\"aaxis\": {\"gridcolor\": \"white\", \"linecolor\": \"white\", \"ticks\": \"\"}, \"baxis\": {\"gridcolor\": \"white\", \"linecolor\": \"white\", \"ticks\": \"\"}, \"bgcolor\": \"#E5ECF6\", \"caxis\": {\"gridcolor\": \"white\", \"linecolor\": \"white\", \"ticks\": \"\"}}, \"title\": {\"x\": 0.05}, \"xaxis\": {\"automargin\": true, \"gridcolor\": \"white\", \"linecolor\": \"white\", \"ticks\": \"\", \"title\": {\"standoff\": 15}, \"zerolinecolor\": \"white\", \"zerolinewidth\": 2}, \"yaxis\": {\"automargin\": true, \"gridcolor\": \"white\", \"linecolor\": \"white\", \"ticks\": \"\", \"title\": {\"standoff\": 15}, \"zerolinecolor\": \"white\", \"zerolinewidth\": 2}}}, \"xaxis\": {\"anchor\": \"y\", \"domain\": [0.0, 1.0], \"title\": {\"text\": \"label\"}}, \"yaxis\": {\"anchor\": \"x\", \"domain\": [0.0, 1.0], \"title\": {\"text\": \"FCnt\"}}},\n",
       "                        {\"responsive\": true}\n",
       "                    ).then(function(){\n",
       "                            \n",
       "var gd = document.getElementById('7c74ac11-d801-4482-8d72-46dfd72d4d87');\n",
       "var x = new MutationObserver(function (mutations, observer) {{\n",
       "        var display = window.getComputedStyle(gd).display;\n",
       "        if (!display || display === 'none') {{\n",
       "            console.log([gd, 'removed!']);\n",
       "            Plotly.purge(gd);\n",
       "            observer.disconnect();\n",
       "        }}\n",
       "}});\n",
       "\n",
       "// Listen for the removal of the full notebook cells\n",
       "var notebookContainer = gd.closest('#notebook-container');\n",
       "if (notebookContainer) {{\n",
       "    x.observe(notebookContainer, {childList: true});\n",
       "}}\n",
       "\n",
       "// Listen for the clearing of the current output cell\n",
       "var outputEl = gd.closest('.output');\n",
       "if (outputEl) {{\n",
       "    x.observe(outputEl, {childList: true});\n",
       "}}\n",
       "\n",
       "                        })\n",
       "                };\n",
       "                });\n",
       "            </script>\n",
       "        </div>"
      ]
     },
     "metadata": {},
     "output_type": "display_data"
    }
   ],
   "source": [
    "fig = px.scatter(labeled_df, x='label', y='FCnt',\n",
    "                size_max=100,\n",
    "                opacity=0.9)\n",
    "fig.show()"
   ]
  },
  {
   "cell_type": "code",
   "execution_count": 66,
   "metadata": {
    "scrolled": false
   },
   "outputs": [
    {
     "data": {
      "application/vnd.plotly.v1+json": {
       "config": {
        "plotlyServerURL": "https://plot.ly"
       },
       "data": [
        {
         "hovertemplate": "FCnt=%{x}<br>lsnr=%{y}<br>label=%{marker.color}<extra></extra>",
         "legendgroup": "",
         "marker": {
          "color": [
           10,
           6,
           6,
           0,
           4,
           0,
           1,
           4,
           10,
           12,
           11,
           7,
           5,
           3,
           4,
           1,
           1,
           12,
           4,
           6,
           5,
           5,
           0,
           7,
           1,
           2,
           6,
           7,
           1,
           1,
           7,
           1,
           6,
           4,
           12,
           1,
           2,
           5,
           4,
           6,
           2,
           7,
           4,
           11,
           6,
           2,
           10,
           10,
           10,
           4,
           6,
           11,
           7,
           6,
           1,
           4,
           4,
           1,
           6,
           4,
           6,
           11,
           10,
           1,
           11,
           1,
           6,
           4,
           5,
           8,
           11,
           9,
           1,
           4,
           7,
           10,
           4,
           6,
           1,
           8,
           6,
           4,
           7,
           11,
           6,
           3,
           5,
           12,
           0,
           12,
           1,
           5,
           2,
           2,
           4,
           2,
           6,
           5,
           1,
           12,
           4,
           1,
           8,
           4,
           5,
           2,
           3,
           2,
           2,
           2,
           12,
           1,
           5,
           2,
           7,
           3,
           11,
           6,
           11,
           3,
           1,
           12,
           6,
           12,
           5,
           6,
           5,
           6,
           3,
           12,
           2,
           6,
           9,
           5,
           10,
           1,
           1,
           6,
           4,
           4,
           4,
           12,
           6,
           7,
           12,
           12,
           11,
           6,
           6,
           4,
           1,
           12,
           1,
           2,
           4,
           4,
           1,
           6,
           3,
           12,
           1,
           2,
           2,
           5,
           8,
           1,
           4,
           4,
           4,
           6,
           3,
           11,
           11,
           11,
           5,
           11,
           4,
           10,
           10,
           6,
           12,
           12,
           4,
           4,
           6,
           10,
           5,
           3,
           10,
           1,
           2,
           9,
           6,
           5,
           11,
           12,
           5,
           12,
           0,
           5,
           12,
           0,
           11,
           5,
           5,
           12,
           1,
           3,
           9,
           9,
           3,
           7,
           1,
           10,
           4,
           5,
           5,
           1,
           0,
           6,
           11,
           5,
           11,
           5,
           3,
           0,
           5,
           10,
           1,
           11,
           11,
           9,
           6,
           10,
           1,
           5,
           6,
           12,
           5,
           11,
           3,
           5,
           5,
           5,
           11,
           3,
           5,
           12,
           9,
           5,
           1,
           11,
           9,
           3,
           3,
           3,
           5,
           3,
           9,
           5,
           3,
           10,
           3,
           3,
           3,
           11,
           3,
           9,
           9,
           3,
           1,
           5,
           9,
           5,
           3,
           3,
           9,
           12,
           9,
           9,
           3,
           10,
           3,
           9,
           9,
           9,
           9,
           9,
           5,
           9
          ],
          "coloraxis": "coloraxis",
          "opacity": 0.9,
          "symbol": "circle"
         },
         "mode": "markers",
         "name": "",
         "showlegend": false,
         "type": "scatter",
         "x": [
          1446,
          2852,
          2455,
          211,
          2058,
          201,
          1982,
          2144,
          858,
          1725,
          1829,
          2270,
          1544,
          912,
          1888,
          1336,
          1995,
          1439,
          2141,
          3042,
          1546,
          1571,
          199,
          2620,
          1878,
          2004,
          2889,
          1990,
          1994,
          2102,
          2440,
          1910,
          2718,
          1898,
          1775,
          1646,
          1561,
          1463,
          1544,
          2243,
          2705,
          2205,
          2160,
          2446,
          2378,
          2341,
          1250,
          1312,
          734,
          2026,
          2225,
          2416,
          2947,
          2640,
          1740,
          2100,
          2610,
          1582,
          2036,
          2599,
          2325,
          1780,
          1083,
          1779,
          1907,
          2175,
          2876,
          1813,
          1295,
          199,
          2314,
          199,
          1755,
          1765,
          2431,
          1491,
          3025,
          2320,
          2218,
          199,
          2889,
          1981,
          3171,
          2050,
          2356,
          1481,
          1583,
          1669,
          205,
          1805,
          1753,
          1394,
          2313,
          1930,
          1872,
          1969,
          2734,
          1632,
          1843,
          1402,
          2846,
          1875,
          208,
          2109,
          1371,
          2297,
          1462,
          1917,
          2106,
          2096,
          1669,
          1542,
          1197,
          1884,
          2982,
          1219,
          2023,
          2527,
          2370,
          1352,
          2097,
          1942,
          2275,
          2296,
          1723,
          2106,
          1546,
          2060,
          1509,
          1631,
          2379,
          2387,
          196,
          1569,
          1167,
          2044,
          1506,
          2687,
          1815,
          1653,
          1509,
          1723,
          2177,
          2982,
          1501,
          1904,
          1985,
          2250,
          2256,
          2657,
          2242,
          1883,
          1885,
          2090,
          2088,
          2041,
          1957,
          2063,
          1463,
          2139,
          2071,
          1900,
          1898,
          1725,
          199,
          2037,
          2510,
          2174,
          1764,
          1986,
          1680,
          1918,
          2091,
          2303,
          1310,
          1878,
          2063,
          1379,
          1571,
          2059,
          1598,
          1355,
          2135,
          1997,
          2850,
          1531,
          1541,
          1172,
          1236,
          1401,
          2034,
          196,
          2384,
          1292,
          2196,
          1554,
          1511,
          1663,
          198,
          1390,
          1547,
          202,
          2026,
          1532,
          1480,
          1462,
          1665,
          1565,
          896,
          486,
          1195,
          2006,
          1417,
          1019,
          1642,
          1207,
          1118,
          1873,
          198,
          2192,
          1778,
          1536,
          2067,
          1415,
          1096,
          199,
          1701,
          981,
          1155,
          2090,
          1807,
          1009,
          2973,
          983,
          1384,
          1353,
          2569,
          1452,
          1464,
          2187,
          1206,
          1320,
          1618,
          1450,
          1874,
          963,
          1691,
          1714,
          192,
          1579,
          1823,
          1868,
          195,
          1323,
          1120,
          1153,
          1347,
          1264,
          654,
          1359,
          1184,
          1156,
          1626,
          1328,
          962,
          2239,
          1347,
          1093,
          1104,
          1234,
          1758,
          1385,
          950,
          1470,
          1109,
          1688,
          966,
          2012,
          189,
          692,
          1517,
          698,
          1384,
          339,
          246,
          189,
          216,
          863,
          1696,
          877
         ],
         "xaxis": "x",
         "y": [
          -11,
          1,
          0,
          -7,
          4,
          -1,
          0,
          0,
          -17,
          -1,
          -6,
          7,
          -7,
          -16,
          0,
          -4,
          -1,
          -2,
          0,
          2,
          -10,
          -5,
          -3,
          8,
          -1,
          5,
          0,
          8,
          0,
          0,
          7,
          0,
          2,
          2,
          -5,
          2,
          9,
          -8,
          5,
          0,
          6,
          8,
          4,
          -8,
          2,
          6,
          -8,
          -17,
          -11,
          2,
          0,
          -7,
          8,
          0,
          0,
          1,
          4,
          -4,
          1,
          5,
          0,
          -3,
          -12,
          0,
          -8,
          -1,
          2,
          3,
          -10,
          6,
          -5,
          -16,
          -3,
          3,
          11,
          -13,
          3,
          2,
          -2,
          7,
          -1,
          3,
          11,
          -4,
          0,
          -9,
          -4,
          -1,
          -6,
          -2,
          0,
          -5,
          5,
          9,
          2,
          3,
          2,
          -6,
          -1,
          -7,
          4,
          2,
          5,
          0,
          -8,
          5,
          -13,
          2,
          4,
          3,
          -3,
          -4,
          -3,
          5,
          11,
          -12,
          -7,
          0,
          -6,
          -11,
          0,
          -1,
          1,
          0,
          -4,
          1,
          -3,
          0,
          -7,
          1,
          5,
          3,
          -16,
          -8,
          -13,
          0,
          -2,
          0,
          4,
          3,
          5,
          -3,
          0,
          7,
          -4,
          0,
          -6,
          -1,
          0,
          5,
          -3,
          0,
          1,
          2,
          0,
          0,
          0,
          0,
          -8,
          0,
          -2,
          9,
          3,
          -8,
          10,
          -4,
          0,
          2,
          2,
          2,
          -12,
          -7,
          -8,
          -6,
          -6,
          -9,
          1,
          -11,
          -6,
          2,
          -3,
          -5,
          0,
          3,
          0,
          -11,
          -8,
          -16,
          -15,
          -2,
          7,
          -16,
          2,
          -5,
          -8,
          -2,
          -4,
          -5,
          0,
          -8,
          -3,
          -8,
          -7,
          -4,
          -9,
          -4,
          -4,
          -7,
          -18,
          -17,
          -14,
          9,
          -1,
          -18,
          2,
          -6,
          -7,
          -4,
          -3,
          0,
          -6,
          -3,
          -9,
          -8,
          -12,
          -8,
          -6,
          -17,
          -2,
          -4,
          -7,
          -19,
          -2,
          -16,
          -2,
          -5,
          0,
          -3,
          -7,
          -7,
          -18,
          -7,
          -9,
          -10,
          -3,
          -14,
          -4,
          -7,
          -18,
          -8,
          -5,
          -5,
          -18,
          -15,
          -14,
          -18,
          -3,
          -12,
          -19,
          -12,
          -14,
          -11,
          -8,
          -8,
          -13,
          -5,
          -14,
          -19,
          -18,
          -13,
          -3,
          -8,
          -18,
          -4,
          -16,
          -10,
          -19,
          -4,
          -19,
          -21,
          -10,
          -16,
          -8,
          -19,
          -21,
          -21,
          -20,
          -17,
          -8,
          -19
         ],
         "yaxis": "y"
        }
       ],
       "layout": {
        "coloraxis": {
         "colorbar": {
          "title": {
           "text": "label"
          }
         },
         "colorscale": [
          [
           0,
           "#0d0887"
          ],
          [
           0.1111111111111111,
           "#46039f"
          ],
          [
           0.2222222222222222,
           "#7201a8"
          ],
          [
           0.3333333333333333,
           "#9c179e"
          ],
          [
           0.4444444444444444,
           "#bd3786"
          ],
          [
           0.5555555555555556,
           "#d8576b"
          ],
          [
           0.6666666666666666,
           "#ed7953"
          ],
          [
           0.7777777777777778,
           "#fb9f3a"
          ],
          [
           0.8888888888888888,
           "#fdca26"
          ],
          [
           1,
           "#f0f921"
          ]
         ]
        },
        "legend": {
         "tracegroupgap": 0
        },
        "margin": {
         "t": 60
        },
        "template": {
         "data": {
          "bar": [
           {
            "error_x": {
             "color": "#2a3f5f"
            },
            "error_y": {
             "color": "#2a3f5f"
            },
            "marker": {
             "line": {
              "color": "#E5ECF6",
              "width": 0.5
             }
            },
            "type": "bar"
           }
          ],
          "barpolar": [
           {
            "marker": {
             "line": {
              "color": "#E5ECF6",
              "width": 0.5
             }
            },
            "type": "barpolar"
           }
          ],
          "carpet": [
           {
            "aaxis": {
             "endlinecolor": "#2a3f5f",
             "gridcolor": "white",
             "linecolor": "white",
             "minorgridcolor": "white",
             "startlinecolor": "#2a3f5f"
            },
            "baxis": {
             "endlinecolor": "#2a3f5f",
             "gridcolor": "white",
             "linecolor": "white",
             "minorgridcolor": "white",
             "startlinecolor": "#2a3f5f"
            },
            "type": "carpet"
           }
          ],
          "choropleth": [
           {
            "colorbar": {
             "outlinewidth": 0,
             "ticks": ""
            },
            "type": "choropleth"
           }
          ],
          "contour": [
           {
            "colorbar": {
             "outlinewidth": 0,
             "ticks": ""
            },
            "colorscale": [
             [
              0,
              "#0d0887"
             ],
             [
              0.1111111111111111,
              "#46039f"
             ],
             [
              0.2222222222222222,
              "#7201a8"
             ],
             [
              0.3333333333333333,
              "#9c179e"
             ],
             [
              0.4444444444444444,
              "#bd3786"
             ],
             [
              0.5555555555555556,
              "#d8576b"
             ],
             [
              0.6666666666666666,
              "#ed7953"
             ],
             [
              0.7777777777777778,
              "#fb9f3a"
             ],
             [
              0.8888888888888888,
              "#fdca26"
             ],
             [
              1,
              "#f0f921"
             ]
            ],
            "type": "contour"
           }
          ],
          "contourcarpet": [
           {
            "colorbar": {
             "outlinewidth": 0,
             "ticks": ""
            },
            "type": "contourcarpet"
           }
          ],
          "heatmap": [
           {
            "colorbar": {
             "outlinewidth": 0,
             "ticks": ""
            },
            "colorscale": [
             [
              0,
              "#0d0887"
             ],
             [
              0.1111111111111111,
              "#46039f"
             ],
             [
              0.2222222222222222,
              "#7201a8"
             ],
             [
              0.3333333333333333,
              "#9c179e"
             ],
             [
              0.4444444444444444,
              "#bd3786"
             ],
             [
              0.5555555555555556,
              "#d8576b"
             ],
             [
              0.6666666666666666,
              "#ed7953"
             ],
             [
              0.7777777777777778,
              "#fb9f3a"
             ],
             [
              0.8888888888888888,
              "#fdca26"
             ],
             [
              1,
              "#f0f921"
             ]
            ],
            "type": "heatmap"
           }
          ],
          "heatmapgl": [
           {
            "colorbar": {
             "outlinewidth": 0,
             "ticks": ""
            },
            "colorscale": [
             [
              0,
              "#0d0887"
             ],
             [
              0.1111111111111111,
              "#46039f"
             ],
             [
              0.2222222222222222,
              "#7201a8"
             ],
             [
              0.3333333333333333,
              "#9c179e"
             ],
             [
              0.4444444444444444,
              "#bd3786"
             ],
             [
              0.5555555555555556,
              "#d8576b"
             ],
             [
              0.6666666666666666,
              "#ed7953"
             ],
             [
              0.7777777777777778,
              "#fb9f3a"
             ],
             [
              0.8888888888888888,
              "#fdca26"
             ],
             [
              1,
              "#f0f921"
             ]
            ],
            "type": "heatmapgl"
           }
          ],
          "histogram": [
           {
            "marker": {
             "colorbar": {
              "outlinewidth": 0,
              "ticks": ""
             }
            },
            "type": "histogram"
           }
          ],
          "histogram2d": [
           {
            "colorbar": {
             "outlinewidth": 0,
             "ticks": ""
            },
            "colorscale": [
             [
              0,
              "#0d0887"
             ],
             [
              0.1111111111111111,
              "#46039f"
             ],
             [
              0.2222222222222222,
              "#7201a8"
             ],
             [
              0.3333333333333333,
              "#9c179e"
             ],
             [
              0.4444444444444444,
              "#bd3786"
             ],
             [
              0.5555555555555556,
              "#d8576b"
             ],
             [
              0.6666666666666666,
              "#ed7953"
             ],
             [
              0.7777777777777778,
              "#fb9f3a"
             ],
             [
              0.8888888888888888,
              "#fdca26"
             ],
             [
              1,
              "#f0f921"
             ]
            ],
            "type": "histogram2d"
           }
          ],
          "histogram2dcontour": [
           {
            "colorbar": {
             "outlinewidth": 0,
             "ticks": ""
            },
            "colorscale": [
             [
              0,
              "#0d0887"
             ],
             [
              0.1111111111111111,
              "#46039f"
             ],
             [
              0.2222222222222222,
              "#7201a8"
             ],
             [
              0.3333333333333333,
              "#9c179e"
             ],
             [
              0.4444444444444444,
              "#bd3786"
             ],
             [
              0.5555555555555556,
              "#d8576b"
             ],
             [
              0.6666666666666666,
              "#ed7953"
             ],
             [
              0.7777777777777778,
              "#fb9f3a"
             ],
             [
              0.8888888888888888,
              "#fdca26"
             ],
             [
              1,
              "#f0f921"
             ]
            ],
            "type": "histogram2dcontour"
           }
          ],
          "mesh3d": [
           {
            "colorbar": {
             "outlinewidth": 0,
             "ticks": ""
            },
            "type": "mesh3d"
           }
          ],
          "parcoords": [
           {
            "line": {
             "colorbar": {
              "outlinewidth": 0,
              "ticks": ""
             }
            },
            "type": "parcoords"
           }
          ],
          "pie": [
           {
            "automargin": true,
            "type": "pie"
           }
          ],
          "scatter": [
           {
            "marker": {
             "colorbar": {
              "outlinewidth": 0,
              "ticks": ""
             }
            },
            "type": "scatter"
           }
          ],
          "scatter3d": [
           {
            "line": {
             "colorbar": {
              "outlinewidth": 0,
              "ticks": ""
             }
            },
            "marker": {
             "colorbar": {
              "outlinewidth": 0,
              "ticks": ""
             }
            },
            "type": "scatter3d"
           }
          ],
          "scattercarpet": [
           {
            "marker": {
             "colorbar": {
              "outlinewidth": 0,
              "ticks": ""
             }
            },
            "type": "scattercarpet"
           }
          ],
          "scattergeo": [
           {
            "marker": {
             "colorbar": {
              "outlinewidth": 0,
              "ticks": ""
             }
            },
            "type": "scattergeo"
           }
          ],
          "scattergl": [
           {
            "marker": {
             "colorbar": {
              "outlinewidth": 0,
              "ticks": ""
             }
            },
            "type": "scattergl"
           }
          ],
          "scattermapbox": [
           {
            "marker": {
             "colorbar": {
              "outlinewidth": 0,
              "ticks": ""
             }
            },
            "type": "scattermapbox"
           }
          ],
          "scatterpolar": [
           {
            "marker": {
             "colorbar": {
              "outlinewidth": 0,
              "ticks": ""
             }
            },
            "type": "scatterpolar"
           }
          ],
          "scatterpolargl": [
           {
            "marker": {
             "colorbar": {
              "outlinewidth": 0,
              "ticks": ""
             }
            },
            "type": "scatterpolargl"
           }
          ],
          "scatterternary": [
           {
            "marker": {
             "colorbar": {
              "outlinewidth": 0,
              "ticks": ""
             }
            },
            "type": "scatterternary"
           }
          ],
          "surface": [
           {
            "colorbar": {
             "outlinewidth": 0,
             "ticks": ""
            },
            "colorscale": [
             [
              0,
              "#0d0887"
             ],
             [
              0.1111111111111111,
              "#46039f"
             ],
             [
              0.2222222222222222,
              "#7201a8"
             ],
             [
              0.3333333333333333,
              "#9c179e"
             ],
             [
              0.4444444444444444,
              "#bd3786"
             ],
             [
              0.5555555555555556,
              "#d8576b"
             ],
             [
              0.6666666666666666,
              "#ed7953"
             ],
             [
              0.7777777777777778,
              "#fb9f3a"
             ],
             [
              0.8888888888888888,
              "#fdca26"
             ],
             [
              1,
              "#f0f921"
             ]
            ],
            "type": "surface"
           }
          ],
          "table": [
           {
            "cells": {
             "fill": {
              "color": "#EBF0F8"
             },
             "line": {
              "color": "white"
             }
            },
            "header": {
             "fill": {
              "color": "#C8D4E3"
             },
             "line": {
              "color": "white"
             }
            },
            "type": "table"
           }
          ]
         },
         "layout": {
          "annotationdefaults": {
           "arrowcolor": "#2a3f5f",
           "arrowhead": 0,
           "arrowwidth": 1
          },
          "coloraxis": {
           "colorbar": {
            "outlinewidth": 0,
            "ticks": ""
           }
          },
          "colorscale": {
           "diverging": [
            [
             0,
             "#8e0152"
            ],
            [
             0.1,
             "#c51b7d"
            ],
            [
             0.2,
             "#de77ae"
            ],
            [
             0.3,
             "#f1b6da"
            ],
            [
             0.4,
             "#fde0ef"
            ],
            [
             0.5,
             "#f7f7f7"
            ],
            [
             0.6,
             "#e6f5d0"
            ],
            [
             0.7,
             "#b8e186"
            ],
            [
             0.8,
             "#7fbc41"
            ],
            [
             0.9,
             "#4d9221"
            ],
            [
             1,
             "#276419"
            ]
           ],
           "sequential": [
            [
             0,
             "#0d0887"
            ],
            [
             0.1111111111111111,
             "#46039f"
            ],
            [
             0.2222222222222222,
             "#7201a8"
            ],
            [
             0.3333333333333333,
             "#9c179e"
            ],
            [
             0.4444444444444444,
             "#bd3786"
            ],
            [
             0.5555555555555556,
             "#d8576b"
            ],
            [
             0.6666666666666666,
             "#ed7953"
            ],
            [
             0.7777777777777778,
             "#fb9f3a"
            ],
            [
             0.8888888888888888,
             "#fdca26"
            ],
            [
             1,
             "#f0f921"
            ]
           ],
           "sequentialminus": [
            [
             0,
             "#0d0887"
            ],
            [
             0.1111111111111111,
             "#46039f"
            ],
            [
             0.2222222222222222,
             "#7201a8"
            ],
            [
             0.3333333333333333,
             "#9c179e"
            ],
            [
             0.4444444444444444,
             "#bd3786"
            ],
            [
             0.5555555555555556,
             "#d8576b"
            ],
            [
             0.6666666666666666,
             "#ed7953"
            ],
            [
             0.7777777777777778,
             "#fb9f3a"
            ],
            [
             0.8888888888888888,
             "#fdca26"
            ],
            [
             1,
             "#f0f921"
            ]
           ]
          },
          "colorway": [
           "#636efa",
           "#EF553B",
           "#00cc96",
           "#ab63fa",
           "#FFA15A",
           "#19d3f3",
           "#FF6692",
           "#B6E880",
           "#FF97FF",
           "#FECB52"
          ],
          "font": {
           "color": "#2a3f5f"
          },
          "geo": {
           "bgcolor": "white",
           "lakecolor": "white",
           "landcolor": "#E5ECF6",
           "showlakes": true,
           "showland": true,
           "subunitcolor": "white"
          },
          "hoverlabel": {
           "align": "left"
          },
          "hovermode": "closest",
          "mapbox": {
           "style": "light"
          },
          "paper_bgcolor": "white",
          "plot_bgcolor": "#E5ECF6",
          "polar": {
           "angularaxis": {
            "gridcolor": "white",
            "linecolor": "white",
            "ticks": ""
           },
           "bgcolor": "#E5ECF6",
           "radialaxis": {
            "gridcolor": "white",
            "linecolor": "white",
            "ticks": ""
           }
          },
          "scene": {
           "xaxis": {
            "backgroundcolor": "#E5ECF6",
            "gridcolor": "white",
            "gridwidth": 2,
            "linecolor": "white",
            "showbackground": true,
            "ticks": "",
            "zerolinecolor": "white"
           },
           "yaxis": {
            "backgroundcolor": "#E5ECF6",
            "gridcolor": "white",
            "gridwidth": 2,
            "linecolor": "white",
            "showbackground": true,
            "ticks": "",
            "zerolinecolor": "white"
           },
           "zaxis": {
            "backgroundcolor": "#E5ECF6",
            "gridcolor": "white",
            "gridwidth": 2,
            "linecolor": "white",
            "showbackground": true,
            "ticks": "",
            "zerolinecolor": "white"
           }
          },
          "shapedefaults": {
           "line": {
            "color": "#2a3f5f"
           }
          },
          "ternary": {
           "aaxis": {
            "gridcolor": "white",
            "linecolor": "white",
            "ticks": ""
           },
           "baxis": {
            "gridcolor": "white",
            "linecolor": "white",
            "ticks": ""
           },
           "bgcolor": "#E5ECF6",
           "caxis": {
            "gridcolor": "white",
            "linecolor": "white",
            "ticks": ""
           }
          },
          "title": {
           "x": 0.05
          },
          "xaxis": {
           "automargin": true,
           "gridcolor": "white",
           "linecolor": "white",
           "ticks": "",
           "title": {
            "standoff": 15
           },
           "zerolinecolor": "white",
           "zerolinewidth": 2
          },
          "yaxis": {
           "automargin": true,
           "gridcolor": "white",
           "linecolor": "white",
           "ticks": "",
           "title": {
            "standoff": 15
           },
           "zerolinecolor": "white",
           "zerolinewidth": 2
          }
         }
        },
        "xaxis": {
         "anchor": "y",
         "domain": [
          0,
          1
         ],
         "title": {
          "text": "FCnt"
         }
        },
        "yaxis": {
         "anchor": "x",
         "domain": [
          0,
          1
         ],
         "title": {
          "text": "lsnr"
         }
        }
       }
      },
      "text/html": [
       "<div>\n",
       "        \n",
       "        \n",
       "            <div id=\"b21d83c0-80ac-45f1-b4f8-50c2097320ee\" class=\"plotly-graph-div\" style=\"height:525px; width:100%;\"></div>\n",
       "            <script type=\"text/javascript\">\n",
       "                require([\"plotly\"], function(Plotly) {\n",
       "                    window.PLOTLYENV=window.PLOTLYENV || {};\n",
       "                    \n",
       "                if (document.getElementById(\"b21d83c0-80ac-45f1-b4f8-50c2097320ee\")) {\n",
       "                    Plotly.newPlot(\n",
       "                        'b21d83c0-80ac-45f1-b4f8-50c2097320ee',\n",
       "                        [{\"hovertemplate\": \"FCnt=%{x}<br>lsnr=%{y}<br>label=%{marker.color}<extra></extra>\", \"legendgroup\": \"\", \"marker\": {\"color\": [10.0, 6.0, 6.0, 0.0, 4.0, 0.0, 1.0, 4.0, 10.0, 12.0, 11.0, 7.0, 5.0, 3.0, 4.0, 1.0, 1.0, 12.0, 4.0, 6.0, 5.0, 5.0, 0.0, 7.0, 1.0, 2.0, 6.0, 7.0, 1.0, 1.0, 7.0, 1.0, 6.0, 4.0, 12.0, 1.0, 2.0, 5.0, 4.0, 6.0, 2.0, 7.0, 4.0, 11.0, 6.0, 2.0, 10.0, 10.0, 10.0, 4.0, 6.0, 11.0, 7.0, 6.0, 1.0, 4.0, 4.0, 1.0, 6.0, 4.0, 6.0, 11.0, 10.0, 1.0, 11.0, 1.0, 6.0, 4.0, 5.0, 8.0, 11.0, 9.0, 1.0, 4.0, 7.0, 10.0, 4.0, 6.0, 1.0, 8.0, 6.0, 4.0, 7.0, 11.0, 6.0, 3.0, 5.0, 12.0, 0.0, 12.0, 1.0, 5.0, 2.0, 2.0, 4.0, 2.0, 6.0, 5.0, 1.0, 12.0, 4.0, 1.0, 8.0, 4.0, 5.0, 2.0, 3.0, 2.0, 2.0, 2.0, 12.0, 1.0, 5.0, 2.0, 7.0, 3.0, 11.0, 6.0, 11.0, 3.0, 1.0, 12.0, 6.0, 12.0, 5.0, 6.0, 5.0, 6.0, 3.0, 12.0, 2.0, 6.0, 9.0, 5.0, 10.0, 1.0, 1.0, 6.0, 4.0, 4.0, 4.0, 12.0, 6.0, 7.0, 12.0, 12.0, 11.0, 6.0, 6.0, 4.0, 1.0, 12.0, 1.0, 2.0, 4.0, 4.0, 1.0, 6.0, 3.0, 12.0, 1.0, 2.0, 2.0, 5.0, 8.0, 1.0, 4.0, 4.0, 4.0, 6.0, 3.0, 11.0, 11.0, 11.0, 5.0, 11.0, 4.0, 10.0, 10.0, 6.0, 12.0, 12.0, 4.0, 4.0, 6.0, 10.0, 5.0, 3.0, 10.0, 1.0, 2.0, 9.0, 6.0, 5.0, 11.0, 12.0, 5.0, 12.0, 0.0, 5.0, 12.0, 0.0, 11.0, 5.0, 5.0, 12.0, 1.0, 3.0, 9.0, 9.0, 3.0, 7.0, 1.0, 10.0, 4.0, 5.0, 5.0, 1.0, 0.0, 6.0, 11.0, 5.0, 11.0, 5.0, 3.0, 0.0, 5.0, 10.0, 1.0, 11.0, 11.0, 9.0, 6.0, 10.0, 1.0, 5.0, 6.0, 12.0, 5.0, 11.0, 3.0, 5.0, 5.0, 5.0, 11.0, 3.0, 5.0, 12.0, 9.0, 5.0, 1.0, 11.0, 9.0, 3.0, 3.0, 3.0, 5.0, 3.0, 9.0, 5.0, 3.0, 10.0, 3.0, 3.0, 3.0, 11.0, 3.0, 9.0, 9.0, 3.0, 1.0, 5.0, 9.0, 5.0, 3.0, 3.0, 9.0, 12.0, 9.0, 9.0, 3.0, 10.0, 3.0, 9.0, 9.0, 9.0, 9.0, 9.0, 5.0, 9.0], \"coloraxis\": \"coloraxis\", \"opacity\": 0.9, \"symbol\": \"circle\"}, \"mode\": \"markers\", \"name\": \"\", \"showlegend\": false, \"type\": \"scatter\", \"x\": [1446, 2852, 2455, 211, 2058, 201, 1982, 2144, 858, 1725, 1829, 2270, 1544, 912, 1888, 1336, 1995, 1439, 2141, 3042, 1546, 1571, 199, 2620, 1878, 2004, 2889, 1990, 1994, 2102, 2440, 1910, 2718, 1898, 1775, 1646, 1561, 1463, 1544, 2243, 2705, 2205, 2160, 2446, 2378, 2341, 1250, 1312, 734, 2026, 2225, 2416, 2947, 2640, 1740, 2100, 2610, 1582, 2036, 2599, 2325, 1780, 1083, 1779, 1907, 2175, 2876, 1813, 1295, 199, 2314, 199, 1755, 1765, 2431, 1491, 3025, 2320, 2218, 199, 2889, 1981, 3171, 2050, 2356, 1481, 1583, 1669, 205, 1805, 1753, 1394, 2313, 1930, 1872, 1969, 2734, 1632, 1843, 1402, 2846, 1875, 208, 2109, 1371, 2297, 1462, 1917, 2106, 2096, 1669, 1542, 1197, 1884, 2982, 1219, 2023, 2527, 2370, 1352, 2097, 1942, 2275, 2296, 1723, 2106, 1546, 2060, 1509, 1631, 2379, 2387, 196, 1569, 1167, 2044, 1506, 2687, 1815, 1653, 1509, 1723, 2177, 2982, 1501, 1904, 1985, 2250, 2256, 2657, 2242, 1883, 1885, 2090, 2088, 2041, 1957, 2063, 1463, 2139, 2071, 1900, 1898, 1725, 199, 2037, 2510, 2174, 1764, 1986, 1680, 1918, 2091, 2303, 1310, 1878, 2063, 1379, 1571, 2059, 1598, 1355, 2135, 1997, 2850, 1531, 1541, 1172, 1236, 1401, 2034, 196, 2384, 1292, 2196, 1554, 1511, 1663, 198, 1390, 1547, 202, 2026, 1532, 1480, 1462, 1665, 1565, 896, 486, 1195, 2006, 1417, 1019, 1642, 1207, 1118, 1873, 198, 2192, 1778, 1536, 2067, 1415, 1096, 199, 1701, 981, 1155, 2090, 1807, 1009, 2973, 983, 1384, 1353, 2569, 1452, 1464, 2187, 1206, 1320, 1618, 1450, 1874, 963, 1691, 1714, 192, 1579, 1823, 1868, 195, 1323, 1120, 1153, 1347, 1264, 654, 1359, 1184, 1156, 1626, 1328, 962, 2239, 1347, 1093, 1104, 1234, 1758, 1385, 950, 1470, 1109, 1688, 966, 2012, 189, 692, 1517, 698, 1384, 339, 246, 189, 216, 863, 1696, 877], \"xaxis\": \"x\", \"y\": [-11, 1, 0, -7, 4, -1, 0, 0, -17, -1, -6, 7, -7, -16, 0, -4, -1, -2, 0, 2, -10, -5, -3, 8, -1, 5, 0, 8, 0, 0, 7, 0, 2, 2, -5, 2, 9, -8, 5, 0, 6, 8, 4, -8, 2, 6, -8, -17, -11, 2, 0, -7, 8, 0, 0, 1, 4, -4, 1, 5, 0, -3, -12, 0, -8, -1, 2, 3, -10, 6, -5, -16, -3, 3, 11, -13, 3, 2, -2, 7, -1, 3, 11, -4, 0, -9, -4, -1, -6, -2, 0, -5, 5, 9, 2, 3, 2, -6, -1, -7, 4, 2, 5, 0, -8, 5, -13, 2, 4, 3, -3, -4, -3, 5, 11, -12, -7, 0, -6, -11, 0, -1, 1, 0, -4, 1, -3, 0, -7, 1, 5, 3, -16, -8, -13, 0, -2, 0, 4, 3, 5, -3, 0, 7, -4, 0, -6, -1, 0, 5, -3, 0, 1, 2, 0, 0, 0, 0, -8, 0, -2, 9, 3, -8, 10, -4, 0, 2, 2, 2, -12, -7, -8, -6, -6, -9, 1, -11, -6, 2, -3, -5, 0, 3, 0, -11, -8, -16, -15, -2, 7, -16, 2, -5, -8, -2, -4, -5, 0, -8, -3, -8, -7, -4, -9, -4, -4, -7, -18, -17, -14, 9, -1, -18, 2, -6, -7, -4, -3, 0, -6, -3, -9, -8, -12, -8, -6, -17, -2, -4, -7, -19, -2, -16, -2, -5, 0, -3, -7, -7, -18, -7, -9, -10, -3, -14, -4, -7, -18, -8, -5, -5, -18, -15, -14, -18, -3, -12, -19, -12, -14, -11, -8, -8, -13, -5, -14, -19, -18, -13, -3, -8, -18, -4, -16, -10, -19, -4, -19, -21, -10, -16, -8, -19, -21, -21, -20, -17, -8, -19], \"yaxis\": \"y\"}],\n",
       "                        {\"coloraxis\": {\"colorbar\": {\"title\": {\"text\": \"label\"}}, \"colorscale\": [[0.0, \"#0d0887\"], [0.1111111111111111, \"#46039f\"], [0.2222222222222222, \"#7201a8\"], [0.3333333333333333, \"#9c179e\"], [0.4444444444444444, \"#bd3786\"], [0.5555555555555556, \"#d8576b\"], [0.6666666666666666, \"#ed7953\"], [0.7777777777777778, \"#fb9f3a\"], [0.8888888888888888, \"#fdca26\"], [1.0, \"#f0f921\"]]}, \"legend\": {\"tracegroupgap\": 0}, \"margin\": {\"t\": 60}, \"template\": {\"data\": {\"bar\": [{\"error_x\": {\"color\": \"#2a3f5f\"}, \"error_y\": {\"color\": \"#2a3f5f\"}, \"marker\": {\"line\": {\"color\": \"#E5ECF6\", \"width\": 0.5}}, \"type\": \"bar\"}], \"barpolar\": [{\"marker\": {\"line\": {\"color\": \"#E5ECF6\", \"width\": 0.5}}, \"type\": \"barpolar\"}], \"carpet\": [{\"aaxis\": {\"endlinecolor\": \"#2a3f5f\", \"gridcolor\": \"white\", \"linecolor\": \"white\", \"minorgridcolor\": \"white\", \"startlinecolor\": \"#2a3f5f\"}, \"baxis\": {\"endlinecolor\": \"#2a3f5f\", \"gridcolor\": \"white\", \"linecolor\": \"white\", \"minorgridcolor\": \"white\", \"startlinecolor\": \"#2a3f5f\"}, \"type\": \"carpet\"}], \"choropleth\": [{\"colorbar\": {\"outlinewidth\": 0, \"ticks\": \"\"}, \"type\": \"choropleth\"}], \"contour\": [{\"colorbar\": {\"outlinewidth\": 0, \"ticks\": \"\"}, \"colorscale\": [[0.0, \"#0d0887\"], [0.1111111111111111, \"#46039f\"], [0.2222222222222222, \"#7201a8\"], [0.3333333333333333, \"#9c179e\"], [0.4444444444444444, \"#bd3786\"], [0.5555555555555556, \"#d8576b\"], [0.6666666666666666, \"#ed7953\"], [0.7777777777777778, \"#fb9f3a\"], [0.8888888888888888, \"#fdca26\"], [1.0, \"#f0f921\"]], \"type\": \"contour\"}], \"contourcarpet\": [{\"colorbar\": {\"outlinewidth\": 0, \"ticks\": \"\"}, \"type\": \"contourcarpet\"}], \"heatmap\": [{\"colorbar\": {\"outlinewidth\": 0, \"ticks\": \"\"}, \"colorscale\": [[0.0, \"#0d0887\"], [0.1111111111111111, \"#46039f\"], [0.2222222222222222, \"#7201a8\"], [0.3333333333333333, \"#9c179e\"], [0.4444444444444444, \"#bd3786\"], [0.5555555555555556, \"#d8576b\"], [0.6666666666666666, \"#ed7953\"], [0.7777777777777778, \"#fb9f3a\"], [0.8888888888888888, \"#fdca26\"], [1.0, \"#f0f921\"]], \"type\": \"heatmap\"}], \"heatmapgl\": [{\"colorbar\": {\"outlinewidth\": 0, \"ticks\": \"\"}, \"colorscale\": [[0.0, \"#0d0887\"], [0.1111111111111111, \"#46039f\"], [0.2222222222222222, \"#7201a8\"], [0.3333333333333333, \"#9c179e\"], [0.4444444444444444, \"#bd3786\"], [0.5555555555555556, \"#d8576b\"], [0.6666666666666666, \"#ed7953\"], [0.7777777777777778, \"#fb9f3a\"], [0.8888888888888888, \"#fdca26\"], [1.0, \"#f0f921\"]], \"type\": \"heatmapgl\"}], \"histogram\": [{\"marker\": {\"colorbar\": {\"outlinewidth\": 0, \"ticks\": \"\"}}, \"type\": \"histogram\"}], \"histogram2d\": [{\"colorbar\": {\"outlinewidth\": 0, \"ticks\": \"\"}, \"colorscale\": [[0.0, \"#0d0887\"], [0.1111111111111111, \"#46039f\"], [0.2222222222222222, \"#7201a8\"], [0.3333333333333333, \"#9c179e\"], [0.4444444444444444, \"#bd3786\"], [0.5555555555555556, \"#d8576b\"], [0.6666666666666666, \"#ed7953\"], [0.7777777777777778, \"#fb9f3a\"], [0.8888888888888888, \"#fdca26\"], [1.0, \"#f0f921\"]], \"type\": \"histogram2d\"}], \"histogram2dcontour\": [{\"colorbar\": {\"outlinewidth\": 0, \"ticks\": \"\"}, \"colorscale\": [[0.0, \"#0d0887\"], [0.1111111111111111, \"#46039f\"], [0.2222222222222222, \"#7201a8\"], [0.3333333333333333, \"#9c179e\"], [0.4444444444444444, \"#bd3786\"], [0.5555555555555556, \"#d8576b\"], [0.6666666666666666, \"#ed7953\"], [0.7777777777777778, \"#fb9f3a\"], [0.8888888888888888, \"#fdca26\"], [1.0, \"#f0f921\"]], \"type\": \"histogram2dcontour\"}], \"mesh3d\": [{\"colorbar\": {\"outlinewidth\": 0, \"ticks\": \"\"}, \"type\": \"mesh3d\"}], \"parcoords\": [{\"line\": {\"colorbar\": {\"outlinewidth\": 0, \"ticks\": \"\"}}, \"type\": \"parcoords\"}], \"pie\": [{\"automargin\": true, \"type\": \"pie\"}], \"scatter\": [{\"marker\": {\"colorbar\": {\"outlinewidth\": 0, \"ticks\": \"\"}}, \"type\": \"scatter\"}], \"scatter3d\": [{\"line\": {\"colorbar\": {\"outlinewidth\": 0, \"ticks\": \"\"}}, \"marker\": {\"colorbar\": {\"outlinewidth\": 0, \"ticks\": \"\"}}, \"type\": \"scatter3d\"}], \"scattercarpet\": [{\"marker\": {\"colorbar\": {\"outlinewidth\": 0, \"ticks\": \"\"}}, \"type\": \"scattercarpet\"}], \"scattergeo\": [{\"marker\": {\"colorbar\": {\"outlinewidth\": 0, \"ticks\": \"\"}}, \"type\": \"scattergeo\"}], \"scattergl\": [{\"marker\": {\"colorbar\": {\"outlinewidth\": 0, \"ticks\": \"\"}}, \"type\": \"scattergl\"}], \"scattermapbox\": [{\"marker\": {\"colorbar\": {\"outlinewidth\": 0, \"ticks\": \"\"}}, \"type\": \"scattermapbox\"}], \"scatterpolar\": [{\"marker\": {\"colorbar\": {\"outlinewidth\": 0, \"ticks\": \"\"}}, \"type\": \"scatterpolar\"}], \"scatterpolargl\": [{\"marker\": {\"colorbar\": {\"outlinewidth\": 0, \"ticks\": \"\"}}, \"type\": \"scatterpolargl\"}], \"scatterternary\": [{\"marker\": {\"colorbar\": {\"outlinewidth\": 0, \"ticks\": \"\"}}, \"type\": \"scatterternary\"}], \"surface\": [{\"colorbar\": {\"outlinewidth\": 0, \"ticks\": \"\"}, \"colorscale\": [[0.0, \"#0d0887\"], [0.1111111111111111, \"#46039f\"], [0.2222222222222222, \"#7201a8\"], [0.3333333333333333, \"#9c179e\"], [0.4444444444444444, \"#bd3786\"], [0.5555555555555556, \"#d8576b\"], [0.6666666666666666, \"#ed7953\"], [0.7777777777777778, \"#fb9f3a\"], [0.8888888888888888, \"#fdca26\"], [1.0, \"#f0f921\"]], \"type\": \"surface\"}], \"table\": [{\"cells\": {\"fill\": {\"color\": \"#EBF0F8\"}, \"line\": {\"color\": \"white\"}}, \"header\": {\"fill\": {\"color\": \"#C8D4E3\"}, \"line\": {\"color\": \"white\"}}, \"type\": \"table\"}]}, \"layout\": {\"annotationdefaults\": {\"arrowcolor\": \"#2a3f5f\", \"arrowhead\": 0, \"arrowwidth\": 1}, \"coloraxis\": {\"colorbar\": {\"outlinewidth\": 0, \"ticks\": \"\"}}, \"colorscale\": {\"diverging\": [[0, \"#8e0152\"], [0.1, \"#c51b7d\"], [0.2, \"#de77ae\"], [0.3, \"#f1b6da\"], [0.4, \"#fde0ef\"], [0.5, \"#f7f7f7\"], [0.6, \"#e6f5d0\"], [0.7, \"#b8e186\"], [0.8, \"#7fbc41\"], [0.9, \"#4d9221\"], [1, \"#276419\"]], \"sequential\": [[0.0, \"#0d0887\"], [0.1111111111111111, \"#46039f\"], [0.2222222222222222, \"#7201a8\"], [0.3333333333333333, \"#9c179e\"], [0.4444444444444444, \"#bd3786\"], [0.5555555555555556, \"#d8576b\"], [0.6666666666666666, \"#ed7953\"], [0.7777777777777778, \"#fb9f3a\"], [0.8888888888888888, \"#fdca26\"], [1.0, \"#f0f921\"]], \"sequentialminus\": [[0.0, \"#0d0887\"], [0.1111111111111111, \"#46039f\"], [0.2222222222222222, \"#7201a8\"], [0.3333333333333333, \"#9c179e\"], [0.4444444444444444, \"#bd3786\"], [0.5555555555555556, \"#d8576b\"], [0.6666666666666666, \"#ed7953\"], [0.7777777777777778, \"#fb9f3a\"], [0.8888888888888888, \"#fdca26\"], [1.0, \"#f0f921\"]]}, \"colorway\": [\"#636efa\", \"#EF553B\", \"#00cc96\", \"#ab63fa\", \"#FFA15A\", \"#19d3f3\", \"#FF6692\", \"#B6E880\", \"#FF97FF\", \"#FECB52\"], \"font\": {\"color\": \"#2a3f5f\"}, \"geo\": {\"bgcolor\": \"white\", \"lakecolor\": \"white\", \"landcolor\": \"#E5ECF6\", \"showlakes\": true, \"showland\": true, \"subunitcolor\": \"white\"}, \"hoverlabel\": {\"align\": \"left\"}, \"hovermode\": \"closest\", \"mapbox\": {\"style\": \"light\"}, \"paper_bgcolor\": \"white\", \"plot_bgcolor\": \"#E5ECF6\", \"polar\": {\"angularaxis\": {\"gridcolor\": \"white\", \"linecolor\": \"white\", \"ticks\": \"\"}, \"bgcolor\": \"#E5ECF6\", \"radialaxis\": {\"gridcolor\": \"white\", \"linecolor\": \"white\", \"ticks\": \"\"}}, \"scene\": {\"xaxis\": {\"backgroundcolor\": \"#E5ECF6\", \"gridcolor\": \"white\", \"gridwidth\": 2, \"linecolor\": \"white\", \"showbackground\": true, \"ticks\": \"\", \"zerolinecolor\": \"white\"}, \"yaxis\": {\"backgroundcolor\": \"#E5ECF6\", \"gridcolor\": \"white\", \"gridwidth\": 2, \"linecolor\": \"white\", \"showbackground\": true, \"ticks\": \"\", \"zerolinecolor\": \"white\"}, \"zaxis\": {\"backgroundcolor\": \"#E5ECF6\", \"gridcolor\": \"white\", \"gridwidth\": 2, \"linecolor\": \"white\", \"showbackground\": true, \"ticks\": \"\", \"zerolinecolor\": \"white\"}}, \"shapedefaults\": {\"line\": {\"color\": \"#2a3f5f\"}}, \"ternary\": {\"aaxis\": {\"gridcolor\": \"white\", \"linecolor\": \"white\", \"ticks\": \"\"}, \"baxis\": {\"gridcolor\": \"white\", \"linecolor\": \"white\", \"ticks\": \"\"}, \"bgcolor\": \"#E5ECF6\", \"caxis\": {\"gridcolor\": \"white\", \"linecolor\": \"white\", \"ticks\": \"\"}}, \"title\": {\"x\": 0.05}, \"xaxis\": {\"automargin\": true, \"gridcolor\": \"white\", \"linecolor\": \"white\", \"ticks\": \"\", \"title\": {\"standoff\": 15}, \"zerolinecolor\": \"white\", \"zerolinewidth\": 2}, \"yaxis\": {\"automargin\": true, \"gridcolor\": \"white\", \"linecolor\": \"white\", \"ticks\": \"\", \"title\": {\"standoff\": 15}, \"zerolinecolor\": \"white\", \"zerolinewidth\": 2}}}, \"xaxis\": {\"anchor\": \"y\", \"domain\": [0.0, 1.0], \"title\": {\"text\": \"FCnt\"}}, \"yaxis\": {\"anchor\": \"x\", \"domain\": [0.0, 1.0], \"title\": {\"text\": \"lsnr\"}}},\n",
       "                        {\"responsive\": true}\n",
       "                    ).then(function(){\n",
       "                            \n",
       "var gd = document.getElementById('b21d83c0-80ac-45f1-b4f8-50c2097320ee');\n",
       "var x = new MutationObserver(function (mutations, observer) {{\n",
       "        var display = window.getComputedStyle(gd).display;\n",
       "        if (!display || display === 'none') {{\n",
       "            console.log([gd, 'removed!']);\n",
       "            Plotly.purge(gd);\n",
       "            observer.disconnect();\n",
       "        }}\n",
       "}});\n",
       "\n",
       "// Listen for the removal of the full notebook cells\n",
       "var notebookContainer = gd.closest('#notebook-container');\n",
       "if (notebookContainer) {{\n",
       "    x.observe(notebookContainer, {childList: true});\n",
       "}}\n",
       "\n",
       "// Listen for the clearing of the current output cell\n",
       "var outputEl = gd.closest('.output');\n",
       "if (outputEl) {{\n",
       "    x.observe(outputEl, {childList: true});\n",
       "}}\n",
       "\n",
       "                        })\n",
       "                };\n",
       "                });\n",
       "            </script>\n",
       "        </div>"
      ]
     },
     "metadata": {},
     "output_type": "display_data"
    }
   ],
   "source": [
    "fig = px.scatter(labeled_df, x='FCnt', y='lsnr',\n",
    "                color='label', size_max=100,\n",
    "                opacity=0.9)\n",
    "fig.show()"
   ]
  },
  {
   "cell_type": "code",
   "execution_count": 197,
   "metadata": {},
   "outputs": [
    {
     "data": {
      "application/vnd.plotly.v1+json": {
       "config": {
        "plotlyServerURL": "https://plot.ly"
       },
       "data": [
        {
         "hovertemplate": "lsnr=%{x}<br>rssic=%{y}<br>FCnt=%{z}<br>label=%{marker.color}<extra></extra>",
         "legendgroup": "",
         "marker": {
          "color": [
           10,
           6,
           6,
           0,
           4,
           0,
           1,
           4,
           10,
           12,
           11,
           7,
           5,
           3,
           4,
           1,
           1,
           12,
           4,
           6,
           5,
           5,
           0,
           7,
           1,
           2,
           6,
           7,
           1,
           1,
           7,
           1,
           6,
           4,
           12,
           1,
           2,
           5,
           4,
           6,
           2,
           7,
           4,
           11,
           6,
           2,
           10,
           10,
           10,
           4,
           6,
           11,
           7,
           6,
           1,
           4,
           4,
           1,
           6,
           4,
           6,
           11,
           10,
           1,
           11,
           1,
           6,
           4,
           5,
           8,
           11,
           9,
           1,
           4,
           7,
           10,
           4,
           6,
           1,
           8,
           6,
           4,
           7,
           11,
           6,
           3,
           5,
           12,
           0,
           12,
           1,
           5,
           2,
           2,
           4,
           2,
           6,
           5,
           1,
           12,
           4,
           1,
           8,
           4,
           5,
           2,
           3,
           2,
           2,
           2,
           12,
           1,
           5,
           2,
           7,
           3,
           11,
           6,
           11,
           3,
           1,
           12,
           6,
           12,
           5,
           6,
           5,
           6,
           3,
           12,
           2,
           6,
           9,
           5,
           10,
           1,
           1,
           6,
           4,
           4,
           4,
           12,
           6,
           7,
           12,
           12,
           11,
           6,
           6,
           4,
           1,
           12,
           1,
           2,
           4,
           4,
           1,
           6,
           3,
           12,
           1,
           2,
           2,
           5,
           8,
           1,
           4,
           4,
           4,
           6,
           3,
           11,
           11,
           11,
           5,
           11,
           4,
           10,
           10,
           6,
           12,
           12,
           4,
           4,
           6,
           10,
           5,
           3,
           10,
           1,
           2,
           9,
           6,
           5,
           11,
           12,
           5,
           12,
           0,
           5,
           12,
           0,
           11,
           5,
           5,
           12,
           1,
           3,
           9,
           9,
           3,
           7,
           1,
           10,
           4,
           5,
           5,
           1,
           0,
           6,
           11,
           5,
           11,
           5,
           3,
           0,
           5,
           10,
           1,
           11,
           11,
           9,
           6,
           10,
           1,
           5,
           6,
           12,
           5,
           11,
           3,
           5,
           5,
           5,
           11,
           3,
           5,
           12,
           9,
           5,
           1,
           11,
           9,
           3,
           3,
           3,
           5,
           3,
           9,
           5,
           3,
           10,
           3,
           3,
           3,
           11,
           3,
           9,
           9,
           3,
           1,
           5,
           9,
           5,
           3,
           3,
           9,
           12,
           9,
           9,
           3,
           10,
           3,
           9,
           9,
           9,
           9,
           9,
           5,
           9
          ],
          "coloraxis": "coloraxis",
          "opacity": 0.9,
          "symbol": "circle"
         },
         "mode": "markers",
         "name": "",
         "scene": "scene",
         "showlegend": false,
         "type": "scatter3d",
         "x": [
          -11,
          1,
          0,
          -7,
          4,
          -1,
          0,
          0,
          -17,
          -1,
          -6,
          7,
          -7,
          -16,
          0,
          -4,
          -1,
          -2,
          0,
          2,
          -10,
          -5,
          -3,
          8,
          -1,
          5,
          0,
          8,
          0,
          0,
          7,
          0,
          2,
          2,
          -5,
          2,
          9,
          -8,
          5,
          0,
          6,
          8,
          4,
          -8,
          2,
          6,
          -8,
          -17,
          -11,
          2,
          0,
          -7,
          8,
          0,
          0,
          1,
          4,
          -4,
          1,
          5,
          0,
          -3,
          -12,
          0,
          -8,
          -1,
          2,
          3,
          -10,
          6,
          -5,
          -16,
          -3,
          3,
          11,
          -13,
          3,
          2,
          -2,
          7,
          -1,
          3,
          11,
          -4,
          0,
          -9,
          -4,
          -1,
          -6,
          -2,
          0,
          -5,
          5,
          9,
          2,
          3,
          2,
          -6,
          -1,
          -7,
          4,
          2,
          5,
          0,
          -8,
          5,
          -13,
          2,
          4,
          3,
          -3,
          -4,
          -3,
          5,
          11,
          -12,
          -7,
          0,
          -6,
          -11,
          0,
          -1,
          1,
          0,
          -4,
          1,
          -3,
          0,
          -7,
          1,
          5,
          3,
          -16,
          -8,
          -13,
          0,
          -2,
          0,
          4,
          3,
          5,
          -3,
          0,
          7,
          -4,
          0,
          -6,
          -1,
          0,
          5,
          -3,
          0,
          1,
          2,
          0,
          0,
          0,
          0,
          -8,
          0,
          -2,
          9,
          3,
          -8,
          10,
          -4,
          0,
          2,
          2,
          2,
          -12,
          -7,
          -8,
          -6,
          -6,
          -9,
          1,
          -11,
          -6,
          2,
          -3,
          -5,
          0,
          3,
          0,
          -11,
          -8,
          -16,
          -15,
          -2,
          7,
          -16,
          2,
          -5,
          -8,
          -2,
          -4,
          -5,
          0,
          -8,
          -3,
          -8,
          -7,
          -4,
          -9,
          -4,
          -4,
          -7,
          -18,
          -17,
          -14,
          9,
          -1,
          -18,
          2,
          -6,
          -7,
          -4,
          -3,
          0,
          -6,
          -3,
          -9,
          -8,
          -12,
          -8,
          -6,
          -17,
          -2,
          -4,
          -7,
          -19,
          -2,
          -16,
          -2,
          -5,
          0,
          -3,
          -7,
          -7,
          -18,
          -7,
          -9,
          -10,
          -3,
          -14,
          -4,
          -7,
          -18,
          -8,
          -5,
          -5,
          -18,
          -15,
          -14,
          -18,
          -3,
          -12,
          -19,
          -12,
          -14,
          -11,
          -8,
          -8,
          -13,
          -5,
          -14,
          -19,
          -18,
          -13,
          -3,
          -8,
          -18,
          -4,
          -16,
          -10,
          -19,
          -4,
          -19,
          -21,
          -10,
          -16,
          -8,
          -19,
          -21,
          -21,
          -20,
          -17,
          -8,
          -19
         ],
         "y": [
          -106,
          -101,
          -103,
          -108,
          -97,
          -105,
          -103,
          -103,
          -107,
          -104,
          -105,
          -87,
          -105,
          -107,
          -102,
          -106,
          -103,
          -104,
          -102,
          -100,
          -107,
          -105,
          -106,
          -93,
          -104,
          -98,
          -102,
          -92,
          -102,
          -103,
          -95,
          -102,
          -101,
          -101,
          -107,
          -101,
          -92,
          -105,
          -98,
          -102,
          -96,
          -93,
          -99,
          -106,
          -100,
          -96,
          -107,
          -108,
          -107,
          -100,
          -103,
          -105,
          -91,
          -102,
          -102,
          -101,
          -98,
          -105,
          -101,
          -98,
          -102,
          -104,
          -106,
          -103,
          -105,
          -104,
          -99,
          -100,
          -106,
          -98,
          -105,
          -107,
          -104,
          -99,
          -85,
          -107,
          -98,
          -100,
          -105,
          -91,
          -103,
          -100,
          -91,
          -104,
          -103,
          -106,
          -104,
          -104,
          -108,
          -105,
          -102,
          -104,
          -97,
          -90,
          -101,
          -99,
          -101,
          -105,
          -103,
          -106,
          -99,
          -101,
          -99,
          -102,
          -106,
          -96,
          -106,
          -99,
          -97,
          -98,
          -105,
          -106,
          -104,
          -99,
          -88,
          -108,
          -106,
          -103,
          -106,
          -107,
          -103,
          -104,
          -101,
          -104,
          -104,
          -101,
          -104,
          -102,
          -106,
          -103,
          -96,
          -100,
          -109,
          -106,
          -107,
          -103,
          -104,
          -102,
          -99,
          -99,
          -97,
          -106,
          -102,
          -96,
          -104,
          -103,
          -105,
          -103,
          -101,
          -97,
          -104,
          -103,
          -102,
          -99,
          -102,
          -104,
          -104,
          -102,
          -106,
          -104,
          -104,
          -93,
          -98,
          -106,
          -88,
          -105,
          -102,
          -100,
          -101,
          -100,
          -106,
          -106,
          -105,
          -105,
          -104,
          -106,
          -101,
          -106,
          -105,
          -100,
          -104,
          -105,
          -103,
          -99,
          -103,
          -108,
          -105,
          -106,
          -108,
          -105,
          -95,
          -109,
          -101,
          -105,
          -106,
          -104,
          -105,
          -105,
          -104,
          -105,
          -104,
          -107,
          -106,
          -105,
          -106,
          -105,
          -104,
          -105,
          -107,
          -108,
          -106,
          -89,
          -103,
          -107,
          -101,
          -105,
          -105,
          -105,
          -105,
          -102,
          -105,
          -105,
          -106,
          -106,
          -106,
          -107,
          -105,
          -107,
          -104,
          -105,
          -105,
          -109,
          -104,
          -107,
          -104,
          -105,
          -102,
          -106,
          -105,
          -105,
          -107,
          -106,
          -106,
          -108,
          -104,
          -106,
          -104,
          -108,
          -109,
          -106,
          -105,
          -105,
          -109,
          -107,
          -107,
          -106,
          -104,
          -106,
          -108,
          -108,
          -106,
          -106,
          -106,
          -106,
          -106,
          -105,
          -107,
          -109,
          -109,
          -106,
          -106,
          -106,
          -107,
          -104,
          -106,
          -106,
          -107,
          -105,
          -107,
          -107,
          -106,
          -107,
          -106,
          -106,
          -109,
          -107,
          -107,
          -106,
          -106,
          -106
         ],
         "z": [
          1446,
          2852,
          2455,
          211,
          2058,
          201,
          1982,
          2144,
          858,
          1725,
          1829,
          2270,
          1544,
          912,
          1888,
          1336,
          1995,
          1439,
          2141,
          3042,
          1546,
          1571,
          199,
          2620,
          1878,
          2004,
          2889,
          1990,
          1994,
          2102,
          2440,
          1910,
          2718,
          1898,
          1775,
          1646,
          1561,
          1463,
          1544,
          2243,
          2705,
          2205,
          2160,
          2446,
          2378,
          2341,
          1250,
          1312,
          734,
          2026,
          2225,
          2416,
          2947,
          2640,
          1740,
          2100,
          2610,
          1582,
          2036,
          2599,
          2325,
          1780,
          1083,
          1779,
          1907,
          2175,
          2876,
          1813,
          1295,
          199,
          2314,
          199,
          1755,
          1765,
          2431,
          1491,
          3025,
          2320,
          2218,
          199,
          2889,
          1981,
          3171,
          2050,
          2356,
          1481,
          1583,
          1669,
          205,
          1805,
          1753,
          1394,
          2313,
          1930,
          1872,
          1969,
          2734,
          1632,
          1843,
          1402,
          2846,
          1875,
          208,
          2109,
          1371,
          2297,
          1462,
          1917,
          2106,
          2096,
          1669,
          1542,
          1197,
          1884,
          2982,
          1219,
          2023,
          2527,
          2370,
          1352,
          2097,
          1942,
          2275,
          2296,
          1723,
          2106,
          1546,
          2060,
          1509,
          1631,
          2379,
          2387,
          196,
          1569,
          1167,
          2044,
          1506,
          2687,
          1815,
          1653,
          1509,
          1723,
          2177,
          2982,
          1501,
          1904,
          1985,
          2250,
          2256,
          2657,
          2242,
          1883,
          1885,
          2090,
          2088,
          2041,
          1957,
          2063,
          1463,
          2139,
          2071,
          1900,
          1898,
          1725,
          199,
          2037,
          2510,
          2174,
          1764,
          1986,
          1680,
          1918,
          2091,
          2303,
          1310,
          1878,
          2063,
          1379,
          1571,
          2059,
          1598,
          1355,
          2135,
          1997,
          2850,
          1531,
          1541,
          1172,
          1236,
          1401,
          2034,
          196,
          2384,
          1292,
          2196,
          1554,
          1511,
          1663,
          198,
          1390,
          1547,
          202,
          2026,
          1532,
          1480,
          1462,
          1665,
          1565,
          896,
          486,
          1195,
          2006,
          1417,
          1019,
          1642,
          1207,
          1118,
          1873,
          198,
          2192,
          1778,
          1536,
          2067,
          1415,
          1096,
          199,
          1701,
          981,
          1155,
          2090,
          1807,
          1009,
          2973,
          983,
          1384,
          1353,
          2569,
          1452,
          1464,
          2187,
          1206,
          1320,
          1618,
          1450,
          1874,
          963,
          1691,
          1714,
          192,
          1579,
          1823,
          1868,
          195,
          1323,
          1120,
          1153,
          1347,
          1264,
          654,
          1359,
          1184,
          1156,
          1626,
          1328,
          962,
          2239,
          1347,
          1093,
          1104,
          1234,
          1758,
          1385,
          950,
          1470,
          1109,
          1688,
          966,
          2012,
          189,
          692,
          1517,
          698,
          1384,
          339,
          246,
          189,
          216,
          863,
          1696,
          877
         ]
        }
       ],
       "layout": {
        "coloraxis": {
         "colorbar": {
          "title": {
           "text": "label"
          }
         },
         "colorscale": [
          [
           0,
           "#0d0887"
          ],
          [
           0.1111111111111111,
           "#46039f"
          ],
          [
           0.2222222222222222,
           "#7201a8"
          ],
          [
           0.3333333333333333,
           "#9c179e"
          ],
          [
           0.4444444444444444,
           "#bd3786"
          ],
          [
           0.5555555555555556,
           "#d8576b"
          ],
          [
           0.6666666666666666,
           "#ed7953"
          ],
          [
           0.7777777777777778,
           "#fb9f3a"
          ],
          [
           0.8888888888888888,
           "#fdca26"
          ],
          [
           1,
           "#f0f921"
          ]
         ]
        },
        "legend": {
         "tracegroupgap": 0
        },
        "margin": {
         "t": 60
        },
        "scene": {
         "domain": {
          "x": [
           0,
           1
          ],
          "y": [
           0,
           1
          ]
         },
         "xaxis": {
          "title": {
           "text": "lsnr"
          }
         },
         "yaxis": {
          "title": {
           "text": "rssic"
          }
         },
         "zaxis": {
          "title": {
           "text": "FCnt"
          }
         }
        },
        "template": {
         "data": {
          "bar": [
           {
            "error_x": {
             "color": "#2a3f5f"
            },
            "error_y": {
             "color": "#2a3f5f"
            },
            "marker": {
             "line": {
              "color": "#E5ECF6",
              "width": 0.5
             }
            },
            "type": "bar"
           }
          ],
          "barpolar": [
           {
            "marker": {
             "line": {
              "color": "#E5ECF6",
              "width": 0.5
             }
            },
            "type": "barpolar"
           }
          ],
          "carpet": [
           {
            "aaxis": {
             "endlinecolor": "#2a3f5f",
             "gridcolor": "white",
             "linecolor": "white",
             "minorgridcolor": "white",
             "startlinecolor": "#2a3f5f"
            },
            "baxis": {
             "endlinecolor": "#2a3f5f",
             "gridcolor": "white",
             "linecolor": "white",
             "minorgridcolor": "white",
             "startlinecolor": "#2a3f5f"
            },
            "type": "carpet"
           }
          ],
          "choropleth": [
           {
            "colorbar": {
             "outlinewidth": 0,
             "ticks": ""
            },
            "type": "choropleth"
           }
          ],
          "contour": [
           {
            "colorbar": {
             "outlinewidth": 0,
             "ticks": ""
            },
            "colorscale": [
             [
              0,
              "#0d0887"
             ],
             [
              0.1111111111111111,
              "#46039f"
             ],
             [
              0.2222222222222222,
              "#7201a8"
             ],
             [
              0.3333333333333333,
              "#9c179e"
             ],
             [
              0.4444444444444444,
              "#bd3786"
             ],
             [
              0.5555555555555556,
              "#d8576b"
             ],
             [
              0.6666666666666666,
              "#ed7953"
             ],
             [
              0.7777777777777778,
              "#fb9f3a"
             ],
             [
              0.8888888888888888,
              "#fdca26"
             ],
             [
              1,
              "#f0f921"
             ]
            ],
            "type": "contour"
           }
          ],
          "contourcarpet": [
           {
            "colorbar": {
             "outlinewidth": 0,
             "ticks": ""
            },
            "type": "contourcarpet"
           }
          ],
          "heatmap": [
           {
            "colorbar": {
             "outlinewidth": 0,
             "ticks": ""
            },
            "colorscale": [
             [
              0,
              "#0d0887"
             ],
             [
              0.1111111111111111,
              "#46039f"
             ],
             [
              0.2222222222222222,
              "#7201a8"
             ],
             [
              0.3333333333333333,
              "#9c179e"
             ],
             [
              0.4444444444444444,
              "#bd3786"
             ],
             [
              0.5555555555555556,
              "#d8576b"
             ],
             [
              0.6666666666666666,
              "#ed7953"
             ],
             [
              0.7777777777777778,
              "#fb9f3a"
             ],
             [
              0.8888888888888888,
              "#fdca26"
             ],
             [
              1,
              "#f0f921"
             ]
            ],
            "type": "heatmap"
           }
          ],
          "heatmapgl": [
           {
            "colorbar": {
             "outlinewidth": 0,
             "ticks": ""
            },
            "colorscale": [
             [
              0,
              "#0d0887"
             ],
             [
              0.1111111111111111,
              "#46039f"
             ],
             [
              0.2222222222222222,
              "#7201a8"
             ],
             [
              0.3333333333333333,
              "#9c179e"
             ],
             [
              0.4444444444444444,
              "#bd3786"
             ],
             [
              0.5555555555555556,
              "#d8576b"
             ],
             [
              0.6666666666666666,
              "#ed7953"
             ],
             [
              0.7777777777777778,
              "#fb9f3a"
             ],
             [
              0.8888888888888888,
              "#fdca26"
             ],
             [
              1,
              "#f0f921"
             ]
            ],
            "type": "heatmapgl"
           }
          ],
          "histogram": [
           {
            "marker": {
             "colorbar": {
              "outlinewidth": 0,
              "ticks": ""
             }
            },
            "type": "histogram"
           }
          ],
          "histogram2d": [
           {
            "colorbar": {
             "outlinewidth": 0,
             "ticks": ""
            },
            "colorscale": [
             [
              0,
              "#0d0887"
             ],
             [
              0.1111111111111111,
              "#46039f"
             ],
             [
              0.2222222222222222,
              "#7201a8"
             ],
             [
              0.3333333333333333,
              "#9c179e"
             ],
             [
              0.4444444444444444,
              "#bd3786"
             ],
             [
              0.5555555555555556,
              "#d8576b"
             ],
             [
              0.6666666666666666,
              "#ed7953"
             ],
             [
              0.7777777777777778,
              "#fb9f3a"
             ],
             [
              0.8888888888888888,
              "#fdca26"
             ],
             [
              1,
              "#f0f921"
             ]
            ],
            "type": "histogram2d"
           }
          ],
          "histogram2dcontour": [
           {
            "colorbar": {
             "outlinewidth": 0,
             "ticks": ""
            },
            "colorscale": [
             [
              0,
              "#0d0887"
             ],
             [
              0.1111111111111111,
              "#46039f"
             ],
             [
              0.2222222222222222,
              "#7201a8"
             ],
             [
              0.3333333333333333,
              "#9c179e"
             ],
             [
              0.4444444444444444,
              "#bd3786"
             ],
             [
              0.5555555555555556,
              "#d8576b"
             ],
             [
              0.6666666666666666,
              "#ed7953"
             ],
             [
              0.7777777777777778,
              "#fb9f3a"
             ],
             [
              0.8888888888888888,
              "#fdca26"
             ],
             [
              1,
              "#f0f921"
             ]
            ],
            "type": "histogram2dcontour"
           }
          ],
          "mesh3d": [
           {
            "colorbar": {
             "outlinewidth": 0,
             "ticks": ""
            },
            "type": "mesh3d"
           }
          ],
          "parcoords": [
           {
            "line": {
             "colorbar": {
              "outlinewidth": 0,
              "ticks": ""
             }
            },
            "type": "parcoords"
           }
          ],
          "pie": [
           {
            "automargin": true,
            "type": "pie"
           }
          ],
          "scatter": [
           {
            "marker": {
             "colorbar": {
              "outlinewidth": 0,
              "ticks": ""
             }
            },
            "type": "scatter"
           }
          ],
          "scatter3d": [
           {
            "line": {
             "colorbar": {
              "outlinewidth": 0,
              "ticks": ""
             }
            },
            "marker": {
             "colorbar": {
              "outlinewidth": 0,
              "ticks": ""
             }
            },
            "type": "scatter3d"
           }
          ],
          "scattercarpet": [
           {
            "marker": {
             "colorbar": {
              "outlinewidth": 0,
              "ticks": ""
             }
            },
            "type": "scattercarpet"
           }
          ],
          "scattergeo": [
           {
            "marker": {
             "colorbar": {
              "outlinewidth": 0,
              "ticks": ""
             }
            },
            "type": "scattergeo"
           }
          ],
          "scattergl": [
           {
            "marker": {
             "colorbar": {
              "outlinewidth": 0,
              "ticks": ""
             }
            },
            "type": "scattergl"
           }
          ],
          "scattermapbox": [
           {
            "marker": {
             "colorbar": {
              "outlinewidth": 0,
              "ticks": ""
             }
            },
            "type": "scattermapbox"
           }
          ],
          "scatterpolar": [
           {
            "marker": {
             "colorbar": {
              "outlinewidth": 0,
              "ticks": ""
             }
            },
            "type": "scatterpolar"
           }
          ],
          "scatterpolargl": [
           {
            "marker": {
             "colorbar": {
              "outlinewidth": 0,
              "ticks": ""
             }
            },
            "type": "scatterpolargl"
           }
          ],
          "scatterternary": [
           {
            "marker": {
             "colorbar": {
              "outlinewidth": 0,
              "ticks": ""
             }
            },
            "type": "scatterternary"
           }
          ],
          "surface": [
           {
            "colorbar": {
             "outlinewidth": 0,
             "ticks": ""
            },
            "colorscale": [
             [
              0,
              "#0d0887"
             ],
             [
              0.1111111111111111,
              "#46039f"
             ],
             [
              0.2222222222222222,
              "#7201a8"
             ],
             [
              0.3333333333333333,
              "#9c179e"
             ],
             [
              0.4444444444444444,
              "#bd3786"
             ],
             [
              0.5555555555555556,
              "#d8576b"
             ],
             [
              0.6666666666666666,
              "#ed7953"
             ],
             [
              0.7777777777777778,
              "#fb9f3a"
             ],
             [
              0.8888888888888888,
              "#fdca26"
             ],
             [
              1,
              "#f0f921"
             ]
            ],
            "type": "surface"
           }
          ],
          "table": [
           {
            "cells": {
             "fill": {
              "color": "#EBF0F8"
             },
             "line": {
              "color": "white"
             }
            },
            "header": {
             "fill": {
              "color": "#C8D4E3"
             },
             "line": {
              "color": "white"
             }
            },
            "type": "table"
           }
          ]
         },
         "layout": {
          "annotationdefaults": {
           "arrowcolor": "#2a3f5f",
           "arrowhead": 0,
           "arrowwidth": 1
          },
          "coloraxis": {
           "colorbar": {
            "outlinewidth": 0,
            "ticks": ""
           }
          },
          "colorscale": {
           "diverging": [
            [
             0,
             "#8e0152"
            ],
            [
             0.1,
             "#c51b7d"
            ],
            [
             0.2,
             "#de77ae"
            ],
            [
             0.3,
             "#f1b6da"
            ],
            [
             0.4,
             "#fde0ef"
            ],
            [
             0.5,
             "#f7f7f7"
            ],
            [
             0.6,
             "#e6f5d0"
            ],
            [
             0.7,
             "#b8e186"
            ],
            [
             0.8,
             "#7fbc41"
            ],
            [
             0.9,
             "#4d9221"
            ],
            [
             1,
             "#276419"
            ]
           ],
           "sequential": [
            [
             0,
             "#0d0887"
            ],
            [
             0.1111111111111111,
             "#46039f"
            ],
            [
             0.2222222222222222,
             "#7201a8"
            ],
            [
             0.3333333333333333,
             "#9c179e"
            ],
            [
             0.4444444444444444,
             "#bd3786"
            ],
            [
             0.5555555555555556,
             "#d8576b"
            ],
            [
             0.6666666666666666,
             "#ed7953"
            ],
            [
             0.7777777777777778,
             "#fb9f3a"
            ],
            [
             0.8888888888888888,
             "#fdca26"
            ],
            [
             1,
             "#f0f921"
            ]
           ],
           "sequentialminus": [
            [
             0,
             "#0d0887"
            ],
            [
             0.1111111111111111,
             "#46039f"
            ],
            [
             0.2222222222222222,
             "#7201a8"
            ],
            [
             0.3333333333333333,
             "#9c179e"
            ],
            [
             0.4444444444444444,
             "#bd3786"
            ],
            [
             0.5555555555555556,
             "#d8576b"
            ],
            [
             0.6666666666666666,
             "#ed7953"
            ],
            [
             0.7777777777777778,
             "#fb9f3a"
            ],
            [
             0.8888888888888888,
             "#fdca26"
            ],
            [
             1,
             "#f0f921"
            ]
           ]
          },
          "colorway": [
           "#636efa",
           "#EF553B",
           "#00cc96",
           "#ab63fa",
           "#FFA15A",
           "#19d3f3",
           "#FF6692",
           "#B6E880",
           "#FF97FF",
           "#FECB52"
          ],
          "font": {
           "color": "#2a3f5f"
          },
          "geo": {
           "bgcolor": "white",
           "lakecolor": "white",
           "landcolor": "#E5ECF6",
           "showlakes": true,
           "showland": true,
           "subunitcolor": "white"
          },
          "hoverlabel": {
           "align": "left"
          },
          "hovermode": "closest",
          "mapbox": {
           "style": "light"
          },
          "paper_bgcolor": "white",
          "plot_bgcolor": "#E5ECF6",
          "polar": {
           "angularaxis": {
            "gridcolor": "white",
            "linecolor": "white",
            "ticks": ""
           },
           "bgcolor": "#E5ECF6",
           "radialaxis": {
            "gridcolor": "white",
            "linecolor": "white",
            "ticks": ""
           }
          },
          "scene": {
           "xaxis": {
            "backgroundcolor": "#E5ECF6",
            "gridcolor": "white",
            "gridwidth": 2,
            "linecolor": "white",
            "showbackground": true,
            "ticks": "",
            "zerolinecolor": "white"
           },
           "yaxis": {
            "backgroundcolor": "#E5ECF6",
            "gridcolor": "white",
            "gridwidth": 2,
            "linecolor": "white",
            "showbackground": true,
            "ticks": "",
            "zerolinecolor": "white"
           },
           "zaxis": {
            "backgroundcolor": "#E5ECF6",
            "gridcolor": "white",
            "gridwidth": 2,
            "linecolor": "white",
            "showbackground": true,
            "ticks": "",
            "zerolinecolor": "white"
           }
          },
          "shapedefaults": {
           "line": {
            "color": "#2a3f5f"
           }
          },
          "ternary": {
           "aaxis": {
            "gridcolor": "white",
            "linecolor": "white",
            "ticks": ""
           },
           "baxis": {
            "gridcolor": "white",
            "linecolor": "white",
            "ticks": ""
           },
           "bgcolor": "#E5ECF6",
           "caxis": {
            "gridcolor": "white",
            "linecolor": "white",
            "ticks": ""
           }
          },
          "title": {
           "x": 0.05
          },
          "xaxis": {
           "automargin": true,
           "gridcolor": "white",
           "linecolor": "white",
           "ticks": "",
           "title": {
            "standoff": 15
           },
           "zerolinecolor": "white",
           "zerolinewidth": 2
          },
          "yaxis": {
           "automargin": true,
           "gridcolor": "white",
           "linecolor": "white",
           "ticks": "",
           "title": {
            "standoff": 15
           },
           "zerolinecolor": "white",
           "zerolinewidth": 2
          }
         }
        }
       }
      },
      "text/html": [
       "<div>\n",
       "        \n",
       "        \n",
       "            <div id=\"32760229-3337-4d04-8fd8-f7a966504b1b\" class=\"plotly-graph-div\" style=\"height:525px; width:100%;\"></div>\n",
       "            <script type=\"text/javascript\">\n",
       "                require([\"plotly\"], function(Plotly) {\n",
       "                    window.PLOTLYENV=window.PLOTLYENV || {};\n",
       "                    \n",
       "                if (document.getElementById(\"32760229-3337-4d04-8fd8-f7a966504b1b\")) {\n",
       "                    Plotly.newPlot(\n",
       "                        '32760229-3337-4d04-8fd8-f7a966504b1b',\n",
       "                        [{\"hovertemplate\": \"lsnr=%{x}<br>rssic=%{y}<br>FCnt=%{z}<br>label=%{marker.color}<extra></extra>\", \"legendgroup\": \"\", \"marker\": {\"color\": [10.0, 6.0, 6.0, 0.0, 4.0, 0.0, 1.0, 4.0, 10.0, 12.0, 11.0, 7.0, 5.0, 3.0, 4.0, 1.0, 1.0, 12.0, 4.0, 6.0, 5.0, 5.0, 0.0, 7.0, 1.0, 2.0, 6.0, 7.0, 1.0, 1.0, 7.0, 1.0, 6.0, 4.0, 12.0, 1.0, 2.0, 5.0, 4.0, 6.0, 2.0, 7.0, 4.0, 11.0, 6.0, 2.0, 10.0, 10.0, 10.0, 4.0, 6.0, 11.0, 7.0, 6.0, 1.0, 4.0, 4.0, 1.0, 6.0, 4.0, 6.0, 11.0, 10.0, 1.0, 11.0, 1.0, 6.0, 4.0, 5.0, 8.0, 11.0, 9.0, 1.0, 4.0, 7.0, 10.0, 4.0, 6.0, 1.0, 8.0, 6.0, 4.0, 7.0, 11.0, 6.0, 3.0, 5.0, 12.0, 0.0, 12.0, 1.0, 5.0, 2.0, 2.0, 4.0, 2.0, 6.0, 5.0, 1.0, 12.0, 4.0, 1.0, 8.0, 4.0, 5.0, 2.0, 3.0, 2.0, 2.0, 2.0, 12.0, 1.0, 5.0, 2.0, 7.0, 3.0, 11.0, 6.0, 11.0, 3.0, 1.0, 12.0, 6.0, 12.0, 5.0, 6.0, 5.0, 6.0, 3.0, 12.0, 2.0, 6.0, 9.0, 5.0, 10.0, 1.0, 1.0, 6.0, 4.0, 4.0, 4.0, 12.0, 6.0, 7.0, 12.0, 12.0, 11.0, 6.0, 6.0, 4.0, 1.0, 12.0, 1.0, 2.0, 4.0, 4.0, 1.0, 6.0, 3.0, 12.0, 1.0, 2.0, 2.0, 5.0, 8.0, 1.0, 4.0, 4.0, 4.0, 6.0, 3.0, 11.0, 11.0, 11.0, 5.0, 11.0, 4.0, 10.0, 10.0, 6.0, 12.0, 12.0, 4.0, 4.0, 6.0, 10.0, 5.0, 3.0, 10.0, 1.0, 2.0, 9.0, 6.0, 5.0, 11.0, 12.0, 5.0, 12.0, 0.0, 5.0, 12.0, 0.0, 11.0, 5.0, 5.0, 12.0, 1.0, 3.0, 9.0, 9.0, 3.0, 7.0, 1.0, 10.0, 4.0, 5.0, 5.0, 1.0, 0.0, 6.0, 11.0, 5.0, 11.0, 5.0, 3.0, 0.0, 5.0, 10.0, 1.0, 11.0, 11.0, 9.0, 6.0, 10.0, 1.0, 5.0, 6.0, 12.0, 5.0, 11.0, 3.0, 5.0, 5.0, 5.0, 11.0, 3.0, 5.0, 12.0, 9.0, 5.0, 1.0, 11.0, 9.0, 3.0, 3.0, 3.0, 5.0, 3.0, 9.0, 5.0, 3.0, 10.0, 3.0, 3.0, 3.0, 11.0, 3.0, 9.0, 9.0, 3.0, 1.0, 5.0, 9.0, 5.0, 3.0, 3.0, 9.0, 12.0, 9.0, 9.0, 3.0, 10.0, 3.0, 9.0, 9.0, 9.0, 9.0, 9.0, 5.0, 9.0], \"coloraxis\": \"coloraxis\", \"opacity\": 0.9, \"symbol\": \"circle\"}, \"mode\": \"markers\", \"name\": \"\", \"scene\": \"scene\", \"showlegend\": false, \"type\": \"scatter3d\", \"x\": [-11, 1, 0, -7, 4, -1, 0, 0, -17, -1, -6, 7, -7, -16, 0, -4, -1, -2, 0, 2, -10, -5, -3, 8, -1, 5, 0, 8, 0, 0, 7, 0, 2, 2, -5, 2, 9, -8, 5, 0, 6, 8, 4, -8, 2, 6, -8, -17, -11, 2, 0, -7, 8, 0, 0, 1, 4, -4, 1, 5, 0, -3, -12, 0, -8, -1, 2, 3, -10, 6, -5, -16, -3, 3, 11, -13, 3, 2, -2, 7, -1, 3, 11, -4, 0, -9, -4, -1, -6, -2, 0, -5, 5, 9, 2, 3, 2, -6, -1, -7, 4, 2, 5, 0, -8, 5, -13, 2, 4, 3, -3, -4, -3, 5, 11, -12, -7, 0, -6, -11, 0, -1, 1, 0, -4, 1, -3, 0, -7, 1, 5, 3, -16, -8, -13, 0, -2, 0, 4, 3, 5, -3, 0, 7, -4, 0, -6, -1, 0, 5, -3, 0, 1, 2, 0, 0, 0, 0, -8, 0, -2, 9, 3, -8, 10, -4, 0, 2, 2, 2, -12, -7, -8, -6, -6, -9, 1, -11, -6, 2, -3, -5, 0, 3, 0, -11, -8, -16, -15, -2, 7, -16, 2, -5, -8, -2, -4, -5, 0, -8, -3, -8, -7, -4, -9, -4, -4, -7, -18, -17, -14, 9, -1, -18, 2, -6, -7, -4, -3, 0, -6, -3, -9, -8, -12, -8, -6, -17, -2, -4, -7, -19, -2, -16, -2, -5, 0, -3, -7, -7, -18, -7, -9, -10, -3, -14, -4, -7, -18, -8, -5, -5, -18, -15, -14, -18, -3, -12, -19, -12, -14, -11, -8, -8, -13, -5, -14, -19, -18, -13, -3, -8, -18, -4, -16, -10, -19, -4, -19, -21, -10, -16, -8, -19, -21, -21, -20, -17, -8, -19], \"y\": [-106, -101, -103, -108, -97, -105, -103, -103, -107, -104, -105, -87, -105, -107, -102, -106, -103, -104, -102, -100, -107, -105, -106, -93, -104, -98, -102, -92, -102, -103, -95, -102, -101, -101, -107, -101, -92, -105, -98, -102, -96, -93, -99, -106, -100, -96, -107, -108, -107, -100, -103, -105, -91, -102, -102, -101, -98, -105, -101, -98, -102, -104, -106, -103, -105, -104, -99, -100, -106, -98, -105, -107, -104, -99, -85, -107, -98, -100, -105, -91, -103, -100, -91, -104, -103, -106, -104, -104, -108, -105, -102, -104, -97, -90, -101, -99, -101, -105, -103, -106, -99, -101, -99, -102, -106, -96, -106, -99, -97, -98, -105, -106, -104, -99, -88, -108, -106, -103, -106, -107, -103, -104, -101, -104, -104, -101, -104, -102, -106, -103, -96, -100, -109, -106, -107, -103, -104, -102, -99, -99, -97, -106, -102, -96, -104, -103, -105, -103, -101, -97, -104, -103, -102, -99, -102, -104, -104, -102, -106, -104, -104, -93, -98, -106, -88, -105, -102, -100, -101, -100, -106, -106, -105, -105, -104, -106, -101, -106, -105, -100, -104, -105, -103, -99, -103, -108, -105, -106, -108, -105, -95, -109, -101, -105, -106, -104, -105, -105, -104, -105, -104, -107, -106, -105, -106, -105, -104, -105, -107, -108, -106, -89, -103, -107, -101, -105, -105, -105, -105, -102, -105, -105, -106, -106, -106, -107, -105, -107, -104, -105, -105, -109, -104, -107, -104, -105, -102, -106, -105, -105, -107, -106, -106, -108, -104, -106, -104, -108, -109, -106, -105, -105, -109, -107, -107, -106, -104, -106, -108, -108, -106, -106, -106, -106, -106, -105, -107, -109, -109, -106, -106, -106, -107, -104, -106, -106, -107, -105, -107, -107, -106, -107, -106, -106, -109, -107, -107, -106, -106, -106], \"z\": [1446, 2852, 2455, 211, 2058, 201, 1982, 2144, 858, 1725, 1829, 2270, 1544, 912, 1888, 1336, 1995, 1439, 2141, 3042, 1546, 1571, 199, 2620, 1878, 2004, 2889, 1990, 1994, 2102, 2440, 1910, 2718, 1898, 1775, 1646, 1561, 1463, 1544, 2243, 2705, 2205, 2160, 2446, 2378, 2341, 1250, 1312, 734, 2026, 2225, 2416, 2947, 2640, 1740, 2100, 2610, 1582, 2036, 2599, 2325, 1780, 1083, 1779, 1907, 2175, 2876, 1813, 1295, 199, 2314, 199, 1755, 1765, 2431, 1491, 3025, 2320, 2218, 199, 2889, 1981, 3171, 2050, 2356, 1481, 1583, 1669, 205, 1805, 1753, 1394, 2313, 1930, 1872, 1969, 2734, 1632, 1843, 1402, 2846, 1875, 208, 2109, 1371, 2297, 1462, 1917, 2106, 2096, 1669, 1542, 1197, 1884, 2982, 1219, 2023, 2527, 2370, 1352, 2097, 1942, 2275, 2296, 1723, 2106, 1546, 2060, 1509, 1631, 2379, 2387, 196, 1569, 1167, 2044, 1506, 2687, 1815, 1653, 1509, 1723, 2177, 2982, 1501, 1904, 1985, 2250, 2256, 2657, 2242, 1883, 1885, 2090, 2088, 2041, 1957, 2063, 1463, 2139, 2071, 1900, 1898, 1725, 199, 2037, 2510, 2174, 1764, 1986, 1680, 1918, 2091, 2303, 1310, 1878, 2063, 1379, 1571, 2059, 1598, 1355, 2135, 1997, 2850, 1531, 1541, 1172, 1236, 1401, 2034, 196, 2384, 1292, 2196, 1554, 1511, 1663, 198, 1390, 1547, 202, 2026, 1532, 1480, 1462, 1665, 1565, 896, 486, 1195, 2006, 1417, 1019, 1642, 1207, 1118, 1873, 198, 2192, 1778, 1536, 2067, 1415, 1096, 199, 1701, 981, 1155, 2090, 1807, 1009, 2973, 983, 1384, 1353, 2569, 1452, 1464, 2187, 1206, 1320, 1618, 1450, 1874, 963, 1691, 1714, 192, 1579, 1823, 1868, 195, 1323, 1120, 1153, 1347, 1264, 654, 1359, 1184, 1156, 1626, 1328, 962, 2239, 1347, 1093, 1104, 1234, 1758, 1385, 950, 1470, 1109, 1688, 966, 2012, 189, 692, 1517, 698, 1384, 339, 246, 189, 216, 863, 1696, 877]}],\n",
       "                        {\"coloraxis\": {\"colorbar\": {\"title\": {\"text\": \"label\"}}, \"colorscale\": [[0.0, \"#0d0887\"], [0.1111111111111111, \"#46039f\"], [0.2222222222222222, \"#7201a8\"], [0.3333333333333333, \"#9c179e\"], [0.4444444444444444, \"#bd3786\"], [0.5555555555555556, \"#d8576b\"], [0.6666666666666666, \"#ed7953\"], [0.7777777777777778, \"#fb9f3a\"], [0.8888888888888888, \"#fdca26\"], [1.0, \"#f0f921\"]]}, \"legend\": {\"tracegroupgap\": 0}, \"margin\": {\"t\": 60}, \"scene\": {\"domain\": {\"x\": [0.0, 1.0], \"y\": [0.0, 1.0]}, \"xaxis\": {\"title\": {\"text\": \"lsnr\"}}, \"yaxis\": {\"title\": {\"text\": \"rssic\"}}, \"zaxis\": {\"title\": {\"text\": \"FCnt\"}}}, \"template\": {\"data\": {\"bar\": [{\"error_x\": {\"color\": \"#2a3f5f\"}, \"error_y\": {\"color\": \"#2a3f5f\"}, \"marker\": {\"line\": {\"color\": \"#E5ECF6\", \"width\": 0.5}}, \"type\": \"bar\"}], \"barpolar\": [{\"marker\": {\"line\": {\"color\": \"#E5ECF6\", \"width\": 0.5}}, \"type\": \"barpolar\"}], \"carpet\": [{\"aaxis\": {\"endlinecolor\": \"#2a3f5f\", \"gridcolor\": \"white\", \"linecolor\": \"white\", \"minorgridcolor\": \"white\", \"startlinecolor\": \"#2a3f5f\"}, \"baxis\": {\"endlinecolor\": \"#2a3f5f\", \"gridcolor\": \"white\", \"linecolor\": \"white\", \"minorgridcolor\": \"white\", \"startlinecolor\": \"#2a3f5f\"}, \"type\": \"carpet\"}], \"choropleth\": [{\"colorbar\": {\"outlinewidth\": 0, \"ticks\": \"\"}, \"type\": \"choropleth\"}], \"contour\": [{\"colorbar\": {\"outlinewidth\": 0, \"ticks\": \"\"}, \"colorscale\": [[0.0, \"#0d0887\"], [0.1111111111111111, \"#46039f\"], [0.2222222222222222, \"#7201a8\"], [0.3333333333333333, \"#9c179e\"], [0.4444444444444444, \"#bd3786\"], [0.5555555555555556, \"#d8576b\"], [0.6666666666666666, \"#ed7953\"], [0.7777777777777778, \"#fb9f3a\"], [0.8888888888888888, \"#fdca26\"], [1.0, \"#f0f921\"]], \"type\": \"contour\"}], \"contourcarpet\": [{\"colorbar\": {\"outlinewidth\": 0, \"ticks\": \"\"}, \"type\": \"contourcarpet\"}], \"heatmap\": [{\"colorbar\": {\"outlinewidth\": 0, \"ticks\": \"\"}, \"colorscale\": [[0.0, \"#0d0887\"], [0.1111111111111111, \"#46039f\"], [0.2222222222222222, \"#7201a8\"], [0.3333333333333333, \"#9c179e\"], [0.4444444444444444, \"#bd3786\"], [0.5555555555555556, \"#d8576b\"], [0.6666666666666666, \"#ed7953\"], [0.7777777777777778, \"#fb9f3a\"], [0.8888888888888888, \"#fdca26\"], [1.0, \"#f0f921\"]], \"type\": \"heatmap\"}], \"heatmapgl\": [{\"colorbar\": {\"outlinewidth\": 0, \"ticks\": \"\"}, \"colorscale\": [[0.0, \"#0d0887\"], [0.1111111111111111, \"#46039f\"], [0.2222222222222222, \"#7201a8\"], [0.3333333333333333, \"#9c179e\"], [0.4444444444444444, \"#bd3786\"], [0.5555555555555556, \"#d8576b\"], [0.6666666666666666, \"#ed7953\"], [0.7777777777777778, \"#fb9f3a\"], [0.8888888888888888, \"#fdca26\"], [1.0, \"#f0f921\"]], \"type\": \"heatmapgl\"}], \"histogram\": [{\"marker\": {\"colorbar\": {\"outlinewidth\": 0, \"ticks\": \"\"}}, \"type\": \"histogram\"}], \"histogram2d\": [{\"colorbar\": {\"outlinewidth\": 0, \"ticks\": \"\"}, \"colorscale\": [[0.0, \"#0d0887\"], [0.1111111111111111, \"#46039f\"], [0.2222222222222222, \"#7201a8\"], [0.3333333333333333, \"#9c179e\"], [0.4444444444444444, \"#bd3786\"], [0.5555555555555556, \"#d8576b\"], [0.6666666666666666, \"#ed7953\"], [0.7777777777777778, \"#fb9f3a\"], [0.8888888888888888, \"#fdca26\"], [1.0, \"#f0f921\"]], \"type\": \"histogram2d\"}], \"histogram2dcontour\": [{\"colorbar\": {\"outlinewidth\": 0, \"ticks\": \"\"}, \"colorscale\": [[0.0, \"#0d0887\"], [0.1111111111111111, \"#46039f\"], [0.2222222222222222, \"#7201a8\"], [0.3333333333333333, \"#9c179e\"], [0.4444444444444444, \"#bd3786\"], [0.5555555555555556, \"#d8576b\"], [0.6666666666666666, \"#ed7953\"], [0.7777777777777778, \"#fb9f3a\"], [0.8888888888888888, \"#fdca26\"], [1.0, \"#f0f921\"]], \"type\": \"histogram2dcontour\"}], \"mesh3d\": [{\"colorbar\": {\"outlinewidth\": 0, \"ticks\": \"\"}, \"type\": \"mesh3d\"}], \"parcoords\": [{\"line\": {\"colorbar\": {\"outlinewidth\": 0, \"ticks\": \"\"}}, \"type\": \"parcoords\"}], \"pie\": [{\"automargin\": true, \"type\": \"pie\"}], \"scatter\": [{\"marker\": {\"colorbar\": {\"outlinewidth\": 0, \"ticks\": \"\"}}, \"type\": \"scatter\"}], \"scatter3d\": [{\"line\": {\"colorbar\": {\"outlinewidth\": 0, \"ticks\": \"\"}}, \"marker\": {\"colorbar\": {\"outlinewidth\": 0, \"ticks\": \"\"}}, \"type\": \"scatter3d\"}], \"scattercarpet\": [{\"marker\": {\"colorbar\": {\"outlinewidth\": 0, \"ticks\": \"\"}}, \"type\": \"scattercarpet\"}], \"scattergeo\": [{\"marker\": {\"colorbar\": {\"outlinewidth\": 0, \"ticks\": \"\"}}, \"type\": \"scattergeo\"}], \"scattergl\": [{\"marker\": {\"colorbar\": {\"outlinewidth\": 0, \"ticks\": \"\"}}, \"type\": \"scattergl\"}], \"scattermapbox\": [{\"marker\": {\"colorbar\": {\"outlinewidth\": 0, \"ticks\": \"\"}}, \"type\": \"scattermapbox\"}], \"scatterpolar\": [{\"marker\": {\"colorbar\": {\"outlinewidth\": 0, \"ticks\": \"\"}}, \"type\": \"scatterpolar\"}], \"scatterpolargl\": [{\"marker\": {\"colorbar\": {\"outlinewidth\": 0, \"ticks\": \"\"}}, \"type\": \"scatterpolargl\"}], \"scatterternary\": [{\"marker\": {\"colorbar\": {\"outlinewidth\": 0, \"ticks\": \"\"}}, \"type\": \"scatterternary\"}], \"surface\": [{\"colorbar\": {\"outlinewidth\": 0, \"ticks\": \"\"}, \"colorscale\": [[0.0, \"#0d0887\"], [0.1111111111111111, \"#46039f\"], [0.2222222222222222, \"#7201a8\"], [0.3333333333333333, \"#9c179e\"], [0.4444444444444444, \"#bd3786\"], [0.5555555555555556, \"#d8576b\"], [0.6666666666666666, \"#ed7953\"], [0.7777777777777778, \"#fb9f3a\"], [0.8888888888888888, \"#fdca26\"], [1.0, \"#f0f921\"]], \"type\": \"surface\"}], \"table\": [{\"cells\": {\"fill\": {\"color\": \"#EBF0F8\"}, \"line\": {\"color\": \"white\"}}, \"header\": {\"fill\": {\"color\": \"#C8D4E3\"}, \"line\": {\"color\": \"white\"}}, \"type\": \"table\"}]}, \"layout\": {\"annotationdefaults\": {\"arrowcolor\": \"#2a3f5f\", \"arrowhead\": 0, \"arrowwidth\": 1}, \"coloraxis\": {\"colorbar\": {\"outlinewidth\": 0, \"ticks\": \"\"}}, \"colorscale\": {\"diverging\": [[0, \"#8e0152\"], [0.1, \"#c51b7d\"], [0.2, \"#de77ae\"], [0.3, \"#f1b6da\"], [0.4, \"#fde0ef\"], [0.5, \"#f7f7f7\"], [0.6, \"#e6f5d0\"], [0.7, \"#b8e186\"], [0.8, \"#7fbc41\"], [0.9, \"#4d9221\"], [1, \"#276419\"]], \"sequential\": [[0.0, \"#0d0887\"], [0.1111111111111111, \"#46039f\"], [0.2222222222222222, \"#7201a8\"], [0.3333333333333333, \"#9c179e\"], [0.4444444444444444, \"#bd3786\"], [0.5555555555555556, \"#d8576b\"], [0.6666666666666666, \"#ed7953\"], [0.7777777777777778, \"#fb9f3a\"], [0.8888888888888888, \"#fdca26\"], [1.0, \"#f0f921\"]], \"sequentialminus\": [[0.0, \"#0d0887\"], [0.1111111111111111, \"#46039f\"], [0.2222222222222222, \"#7201a8\"], [0.3333333333333333, \"#9c179e\"], [0.4444444444444444, \"#bd3786\"], [0.5555555555555556, \"#d8576b\"], [0.6666666666666666, \"#ed7953\"], [0.7777777777777778, \"#fb9f3a\"], [0.8888888888888888, \"#fdca26\"], [1.0, \"#f0f921\"]]}, \"colorway\": [\"#636efa\", \"#EF553B\", \"#00cc96\", \"#ab63fa\", \"#FFA15A\", \"#19d3f3\", \"#FF6692\", \"#B6E880\", \"#FF97FF\", \"#FECB52\"], \"font\": {\"color\": \"#2a3f5f\"}, \"geo\": {\"bgcolor\": \"white\", \"lakecolor\": \"white\", \"landcolor\": \"#E5ECF6\", \"showlakes\": true, \"showland\": true, \"subunitcolor\": \"white\"}, \"hoverlabel\": {\"align\": \"left\"}, \"hovermode\": \"closest\", \"mapbox\": {\"style\": \"light\"}, \"paper_bgcolor\": \"white\", \"plot_bgcolor\": \"#E5ECF6\", \"polar\": {\"angularaxis\": {\"gridcolor\": \"white\", \"linecolor\": \"white\", \"ticks\": \"\"}, \"bgcolor\": \"#E5ECF6\", \"radialaxis\": {\"gridcolor\": \"white\", \"linecolor\": \"white\", \"ticks\": \"\"}}, \"scene\": {\"xaxis\": {\"backgroundcolor\": \"#E5ECF6\", \"gridcolor\": \"white\", \"gridwidth\": 2, \"linecolor\": \"white\", \"showbackground\": true, \"ticks\": \"\", \"zerolinecolor\": \"white\"}, \"yaxis\": {\"backgroundcolor\": \"#E5ECF6\", \"gridcolor\": \"white\", \"gridwidth\": 2, \"linecolor\": \"white\", \"showbackground\": true, \"ticks\": \"\", \"zerolinecolor\": \"white\"}, \"zaxis\": {\"backgroundcolor\": \"#E5ECF6\", \"gridcolor\": \"white\", \"gridwidth\": 2, \"linecolor\": \"white\", \"showbackground\": true, \"ticks\": \"\", \"zerolinecolor\": \"white\"}}, \"shapedefaults\": {\"line\": {\"color\": \"#2a3f5f\"}}, \"ternary\": {\"aaxis\": {\"gridcolor\": \"white\", \"linecolor\": \"white\", \"ticks\": \"\"}, \"baxis\": {\"gridcolor\": \"white\", \"linecolor\": \"white\", \"ticks\": \"\"}, \"bgcolor\": \"#E5ECF6\", \"caxis\": {\"gridcolor\": \"white\", \"linecolor\": \"white\", \"ticks\": \"\"}}, \"title\": {\"x\": 0.05}, \"xaxis\": {\"automargin\": true, \"gridcolor\": \"white\", \"linecolor\": \"white\", \"ticks\": \"\", \"title\": {\"standoff\": 15}, \"zerolinecolor\": \"white\", \"zerolinewidth\": 2}, \"yaxis\": {\"automargin\": true, \"gridcolor\": \"white\", \"linecolor\": \"white\", \"ticks\": \"\", \"title\": {\"standoff\": 15}, \"zerolinecolor\": \"white\", \"zerolinewidth\": 2}}}},\n",
       "                        {\"responsive\": true}\n",
       "                    ).then(function(){\n",
       "                            \n",
       "var gd = document.getElementById('32760229-3337-4d04-8fd8-f7a966504b1b');\n",
       "var x = new MutationObserver(function (mutations, observer) {{\n",
       "        var display = window.getComputedStyle(gd).display;\n",
       "        if (!display || display === 'none') {{\n",
       "            console.log([gd, 'removed!']);\n",
       "            Plotly.purge(gd);\n",
       "            observer.disconnect();\n",
       "        }}\n",
       "}});\n",
       "\n",
       "// Listen for the removal of the full notebook cells\n",
       "var notebookContainer = gd.closest('#notebook-container');\n",
       "if (notebookContainer) {{\n",
       "    x.observe(notebookContainer, {childList: true});\n",
       "}}\n",
       "\n",
       "// Listen for the clearing of the current output cell\n",
       "var outputEl = gd.closest('.output');\n",
       "if (outputEl) {{\n",
       "    x.observe(outputEl, {childList: true});\n",
       "}}\n",
       "\n",
       "                        })\n",
       "                };\n",
       "                });\n",
       "            </script>\n",
       "        </div>"
      ]
     },
     "metadata": {},
     "output_type": "display_data"
    }
   ],
   "source": [
    "fig = px.scatter_3d(labeled_df, x='lsnr', y='rssic', z='FCnt',\n",
    "                color='label', size_max=100,\n",
    "                opacity=0.9)\n",
    "fig.show()"
   ]
  },
  {
   "cell_type": "code",
   "execution_count": 67,
   "metadata": {},
   "outputs": [
    {
     "data": {
      "application/vnd.plotly.v1+json": {
       "config": {
        "plotlyServerURL": "https://plot.ly"
       },
       "data": [
        {
         "hovertemplate": "dev_addr=%{x}<br>lsnr=%{y}<br>label=%{marker.color}<extra></extra>",
         "legendgroup": "",
         "marker": {
          "color": [
           10,
           6,
           6,
           0,
           4,
           0,
           1,
           4,
           10,
           12,
           11,
           7,
           5,
           3,
           4,
           1,
           1,
           12,
           4,
           6,
           5,
           5,
           0,
           7,
           1,
           2,
           6,
           7,
           1,
           1,
           7,
           1,
           6,
           4,
           12,
           1,
           2,
           5,
           4,
           6,
           2,
           7,
           4,
           11,
           6,
           2,
           10,
           10,
           10,
           4,
           6,
           11,
           7,
           6,
           1,
           4,
           4,
           1,
           6,
           4,
           6,
           11,
           10,
           1,
           11,
           1,
           6,
           4,
           5,
           8,
           11,
           9,
           1,
           4,
           7,
           10,
           4,
           6,
           1,
           8,
           6,
           4,
           7,
           11,
           6,
           3,
           5,
           12,
           0,
           12,
           1,
           5,
           2,
           2,
           4,
           2,
           6,
           5,
           1,
           12,
           4,
           1,
           8,
           4,
           5,
           2,
           3,
           2,
           2,
           2,
           12,
           1,
           5,
           2,
           7,
           3,
           11,
           6,
           11,
           3,
           1,
           12,
           6,
           12,
           5,
           6,
           5,
           6,
           3,
           12,
           2,
           6,
           9,
           5,
           10,
           1,
           1,
           6,
           4,
           4,
           4,
           12,
           6,
           7,
           12,
           12,
           11,
           6,
           6,
           4,
           1,
           12,
           1,
           2,
           4,
           4,
           1,
           6,
           3,
           12,
           1,
           2,
           2,
           5,
           8,
           1,
           4,
           4,
           4,
           6,
           3,
           11,
           11,
           11,
           5,
           11,
           4,
           10,
           10,
           6,
           12,
           12,
           4,
           4,
           6,
           10,
           5,
           3,
           10,
           1,
           2,
           9,
           6,
           5,
           11,
           12,
           5,
           12,
           0,
           5,
           12,
           0,
           11,
           5,
           5,
           12,
           1,
           3,
           9,
           9,
           3,
           7,
           1,
           10,
           4,
           5,
           5,
           1,
           0,
           6,
           11,
           5,
           11,
           5,
           3,
           0,
           5,
           10,
           1,
           11,
           11,
           9,
           6,
           10,
           1,
           5,
           6,
           12,
           5,
           11,
           3,
           5,
           5,
           5,
           11,
           3,
           5,
           12,
           9,
           5,
           1,
           11,
           9,
           3,
           3,
           3,
           5,
           3,
           9,
           5,
           3,
           10,
           3,
           3,
           3,
           11,
           3,
           9,
           9,
           3,
           1,
           5,
           9,
           5,
           3,
           3,
           9,
           12,
           9,
           9,
           3,
           10,
           3,
           9,
           9,
           9,
           9,
           9,
           5,
           9
          ],
          "coloraxis": "coloraxis",
          "opacity": 0.9,
          "symbol": "circle"
         },
         "mode": "markers",
         "name": "",
         "showlegend": false,
         "type": "scatter",
         "x": [
          "00000000",
          "00000001",
          "00000002",
          "00000003",
          "00000004",
          "00000005",
          "00000006",
          "00000007",
          "00000008",
          "00000009",
          "0000000a",
          "0000000b",
          "0000000c",
          "0000000d",
          "0000000e",
          "0000000f",
          "00000010",
          "00000011",
          "00000012",
          "00000013",
          "00000014",
          "00000015",
          "00000016",
          "00000017",
          "00000018",
          "00000019",
          "0000001a",
          "0000001b",
          "0000001c",
          "0000001d",
          "0000001e",
          "0000001f",
          "00000020",
          "00000021",
          "00000022",
          "00000023",
          "00000024",
          "00000025",
          "00000026",
          "00000027",
          "00000028",
          "00000029",
          "0000002a",
          "0000002b",
          "0000002c",
          "0000002d",
          "0000002e",
          "0000002f",
          "00000030",
          "00000031",
          "00000032",
          "00000033",
          "00000034",
          "00000035",
          "00000036",
          "00000037",
          "00000038",
          "00000039",
          "0000003a",
          "0000003b",
          "0000003c",
          "0000003d",
          "0000003e",
          "0000003f",
          "00000040",
          "00000041",
          "00000042",
          "00000043",
          "00000044",
          "00000045",
          "00000046",
          "00000047",
          "00000048",
          "00000049",
          "0000004a",
          "0000004b",
          "0000004c",
          "0000004d",
          "0000004e",
          "0000004f",
          "00000050",
          "00000051",
          "00000052",
          "00000053",
          "00000054",
          "00000055",
          "00000056",
          "00000057",
          "00000058",
          "00000059",
          "0000005a",
          "0000005b",
          "0000005c",
          "0000005d",
          "0000005e",
          "0000005f",
          "00000060",
          "00000061",
          "00000062",
          "00000063",
          "00000064",
          "00000065",
          "00000066",
          "00000067",
          "00000068",
          "00000069",
          "0000006a",
          "0000006b",
          "0000006c",
          "0000006d",
          "0000006e",
          "0000006f",
          "00000070",
          "00000071",
          "00000072",
          "00000073",
          "00000074",
          "00000075",
          "00000076",
          "00000077",
          "00000078",
          "00000079",
          "0000007a",
          "0000007b",
          "0000007c",
          "0000007d",
          "0000007e",
          "0000007f",
          "00000080",
          "00000081",
          "00000082",
          "00000083",
          "00000084",
          "00000085",
          "00000086",
          "00000087",
          "00000088",
          "00000089",
          "0000008a",
          "0000008b",
          "0000008c",
          "0000008d",
          "0000008e",
          "0000008f",
          "00000090",
          "00000091",
          "00000092",
          "00000093",
          "00000094",
          "00000095",
          "00000096",
          "00000097",
          "00000098",
          "00000099",
          "0000009a",
          "0000009b",
          "0000009c",
          "0000009d",
          "0000009e",
          "0000009f",
          "000000a0",
          "000000a1",
          "000000a2",
          "000000a3",
          "000000a4",
          "000000a5",
          "000000a6",
          "000000a7",
          "000000a8",
          "000000a9",
          "000000aa",
          "000000ab",
          "000000ac",
          "000000ad",
          "000000ae",
          "000000af",
          "000000b0",
          "000000b1",
          "000000b2",
          "000000b3",
          "000000b4",
          "000000b5",
          "000000b6",
          "000000b7",
          "000000b8",
          "000000b9",
          "000000ba",
          "000000bb",
          "000000bc",
          "000000bd",
          "000000be",
          "000000bf",
          "000000c0",
          "000000c1",
          "000000c2",
          "000000c3",
          "000000c4",
          "000000c5",
          "000000c6",
          "000000c7",
          "000000c8",
          "000000c9",
          "000000ca",
          "000000cb",
          "000000cc",
          "000000cd",
          "000000ce",
          "000000cf",
          "000000d0",
          "000000d1",
          "000000d2",
          "000000d3",
          "000000d4",
          "000000d5",
          "000000d6",
          "000000d7",
          "000000d8",
          "000000d9",
          "000000da",
          "000000db",
          "000000dc",
          "000000dd",
          "000000de",
          "000000df",
          "000000e0",
          "000000e1",
          "000000e2",
          "000000e3",
          "000000e4",
          "000000e5",
          "000000e6",
          "000000e7",
          "000000e8",
          "000000e9",
          "000000ea",
          "000000eb",
          "000000ec",
          "000000ed",
          "000000ee",
          "000000ef",
          "000000f0",
          "000000f1",
          "000000f2",
          "000000f3",
          "000000f4",
          "000000f5",
          "000000f6",
          "000000f7",
          "000000f8",
          "000000f9",
          "000000fa",
          "000000fb",
          "000000fc",
          "000000fd",
          "000000fe",
          "000000ff",
          "00000100",
          "00000101",
          "00000102",
          "00000103",
          "00000104",
          "00000105",
          "00000106",
          "00000107",
          "00000108",
          "00000109",
          "0000010a",
          "0000010b",
          "0000010c",
          "0000010d",
          "0000010e",
          "0000010f",
          "00000110",
          "00000111",
          "00000112",
          "00000113",
          "00000114",
          "00000115",
          "00000116",
          "00000117",
          "00000118",
          "00000119",
          "0000011a",
          "0000011b",
          "0000011c",
          "0000011d",
          "0000011e",
          "0000011f",
          "00000120",
          "00000121"
         ],
         "xaxis": "x",
         "y": [
          -11,
          1,
          0,
          -7,
          4,
          -1,
          0,
          0,
          -17,
          -1,
          -6,
          7,
          -7,
          -16,
          0,
          -4,
          -1,
          -2,
          0,
          2,
          -10,
          -5,
          -3,
          8,
          -1,
          5,
          0,
          8,
          0,
          0,
          7,
          0,
          2,
          2,
          -5,
          2,
          9,
          -8,
          5,
          0,
          6,
          8,
          4,
          -8,
          2,
          6,
          -8,
          -17,
          -11,
          2,
          0,
          -7,
          8,
          0,
          0,
          1,
          4,
          -4,
          1,
          5,
          0,
          -3,
          -12,
          0,
          -8,
          -1,
          2,
          3,
          -10,
          6,
          -5,
          -16,
          -3,
          3,
          11,
          -13,
          3,
          2,
          -2,
          7,
          -1,
          3,
          11,
          -4,
          0,
          -9,
          -4,
          -1,
          -6,
          -2,
          0,
          -5,
          5,
          9,
          2,
          3,
          2,
          -6,
          -1,
          -7,
          4,
          2,
          5,
          0,
          -8,
          5,
          -13,
          2,
          4,
          3,
          -3,
          -4,
          -3,
          5,
          11,
          -12,
          -7,
          0,
          -6,
          -11,
          0,
          -1,
          1,
          0,
          -4,
          1,
          -3,
          0,
          -7,
          1,
          5,
          3,
          -16,
          -8,
          -13,
          0,
          -2,
          0,
          4,
          3,
          5,
          -3,
          0,
          7,
          -4,
          0,
          -6,
          -1,
          0,
          5,
          -3,
          0,
          1,
          2,
          0,
          0,
          0,
          0,
          -8,
          0,
          -2,
          9,
          3,
          -8,
          10,
          -4,
          0,
          2,
          2,
          2,
          -12,
          -7,
          -8,
          -6,
          -6,
          -9,
          1,
          -11,
          -6,
          2,
          -3,
          -5,
          0,
          3,
          0,
          -11,
          -8,
          -16,
          -15,
          -2,
          7,
          -16,
          2,
          -5,
          -8,
          -2,
          -4,
          -5,
          0,
          -8,
          -3,
          -8,
          -7,
          -4,
          -9,
          -4,
          -4,
          -7,
          -18,
          -17,
          -14,
          9,
          -1,
          -18,
          2,
          -6,
          -7,
          -4,
          -3,
          0,
          -6,
          -3,
          -9,
          -8,
          -12,
          -8,
          -6,
          -17,
          -2,
          -4,
          -7,
          -19,
          -2,
          -16,
          -2,
          -5,
          0,
          -3,
          -7,
          -7,
          -18,
          -7,
          -9,
          -10,
          -3,
          -14,
          -4,
          -7,
          -18,
          -8,
          -5,
          -5,
          -18,
          -15,
          -14,
          -18,
          -3,
          -12,
          -19,
          -12,
          -14,
          -11,
          -8,
          -8,
          -13,
          -5,
          -14,
          -19,
          -18,
          -13,
          -3,
          -8,
          -18,
          -4,
          -16,
          -10,
          -19,
          -4,
          -19,
          -21,
          -10,
          -16,
          -8,
          -19,
          -21,
          -21,
          -20,
          -17,
          -8,
          -19
         ],
         "yaxis": "y"
        }
       ],
       "layout": {
        "coloraxis": {
         "colorbar": {
          "title": {
           "text": "label"
          }
         },
         "colorscale": [
          [
           0,
           "#0d0887"
          ],
          [
           0.1111111111111111,
           "#46039f"
          ],
          [
           0.2222222222222222,
           "#7201a8"
          ],
          [
           0.3333333333333333,
           "#9c179e"
          ],
          [
           0.4444444444444444,
           "#bd3786"
          ],
          [
           0.5555555555555556,
           "#d8576b"
          ],
          [
           0.6666666666666666,
           "#ed7953"
          ],
          [
           0.7777777777777778,
           "#fb9f3a"
          ],
          [
           0.8888888888888888,
           "#fdca26"
          ],
          [
           1,
           "#f0f921"
          ]
         ]
        },
        "legend": {
         "tracegroupgap": 0
        },
        "margin": {
         "t": 60
        },
        "template": {
         "data": {
          "bar": [
           {
            "error_x": {
             "color": "#2a3f5f"
            },
            "error_y": {
             "color": "#2a3f5f"
            },
            "marker": {
             "line": {
              "color": "#E5ECF6",
              "width": 0.5
             }
            },
            "type": "bar"
           }
          ],
          "barpolar": [
           {
            "marker": {
             "line": {
              "color": "#E5ECF6",
              "width": 0.5
             }
            },
            "type": "barpolar"
           }
          ],
          "carpet": [
           {
            "aaxis": {
             "endlinecolor": "#2a3f5f",
             "gridcolor": "white",
             "linecolor": "white",
             "minorgridcolor": "white",
             "startlinecolor": "#2a3f5f"
            },
            "baxis": {
             "endlinecolor": "#2a3f5f",
             "gridcolor": "white",
             "linecolor": "white",
             "minorgridcolor": "white",
             "startlinecolor": "#2a3f5f"
            },
            "type": "carpet"
           }
          ],
          "choropleth": [
           {
            "colorbar": {
             "outlinewidth": 0,
             "ticks": ""
            },
            "type": "choropleth"
           }
          ],
          "contour": [
           {
            "colorbar": {
             "outlinewidth": 0,
             "ticks": ""
            },
            "colorscale": [
             [
              0,
              "#0d0887"
             ],
             [
              0.1111111111111111,
              "#46039f"
             ],
             [
              0.2222222222222222,
              "#7201a8"
             ],
             [
              0.3333333333333333,
              "#9c179e"
             ],
             [
              0.4444444444444444,
              "#bd3786"
             ],
             [
              0.5555555555555556,
              "#d8576b"
             ],
             [
              0.6666666666666666,
              "#ed7953"
             ],
             [
              0.7777777777777778,
              "#fb9f3a"
             ],
             [
              0.8888888888888888,
              "#fdca26"
             ],
             [
              1,
              "#f0f921"
             ]
            ],
            "type": "contour"
           }
          ],
          "contourcarpet": [
           {
            "colorbar": {
             "outlinewidth": 0,
             "ticks": ""
            },
            "type": "contourcarpet"
           }
          ],
          "heatmap": [
           {
            "colorbar": {
             "outlinewidth": 0,
             "ticks": ""
            },
            "colorscale": [
             [
              0,
              "#0d0887"
             ],
             [
              0.1111111111111111,
              "#46039f"
             ],
             [
              0.2222222222222222,
              "#7201a8"
             ],
             [
              0.3333333333333333,
              "#9c179e"
             ],
             [
              0.4444444444444444,
              "#bd3786"
             ],
             [
              0.5555555555555556,
              "#d8576b"
             ],
             [
              0.6666666666666666,
              "#ed7953"
             ],
             [
              0.7777777777777778,
              "#fb9f3a"
             ],
             [
              0.8888888888888888,
              "#fdca26"
             ],
             [
              1,
              "#f0f921"
             ]
            ],
            "type": "heatmap"
           }
          ],
          "heatmapgl": [
           {
            "colorbar": {
             "outlinewidth": 0,
             "ticks": ""
            },
            "colorscale": [
             [
              0,
              "#0d0887"
             ],
             [
              0.1111111111111111,
              "#46039f"
             ],
             [
              0.2222222222222222,
              "#7201a8"
             ],
             [
              0.3333333333333333,
              "#9c179e"
             ],
             [
              0.4444444444444444,
              "#bd3786"
             ],
             [
              0.5555555555555556,
              "#d8576b"
             ],
             [
              0.6666666666666666,
              "#ed7953"
             ],
             [
              0.7777777777777778,
              "#fb9f3a"
             ],
             [
              0.8888888888888888,
              "#fdca26"
             ],
             [
              1,
              "#f0f921"
             ]
            ],
            "type": "heatmapgl"
           }
          ],
          "histogram": [
           {
            "marker": {
             "colorbar": {
              "outlinewidth": 0,
              "ticks": ""
             }
            },
            "type": "histogram"
           }
          ],
          "histogram2d": [
           {
            "colorbar": {
             "outlinewidth": 0,
             "ticks": ""
            },
            "colorscale": [
             [
              0,
              "#0d0887"
             ],
             [
              0.1111111111111111,
              "#46039f"
             ],
             [
              0.2222222222222222,
              "#7201a8"
             ],
             [
              0.3333333333333333,
              "#9c179e"
             ],
             [
              0.4444444444444444,
              "#bd3786"
             ],
             [
              0.5555555555555556,
              "#d8576b"
             ],
             [
              0.6666666666666666,
              "#ed7953"
             ],
             [
              0.7777777777777778,
              "#fb9f3a"
             ],
             [
              0.8888888888888888,
              "#fdca26"
             ],
             [
              1,
              "#f0f921"
             ]
            ],
            "type": "histogram2d"
           }
          ],
          "histogram2dcontour": [
           {
            "colorbar": {
             "outlinewidth": 0,
             "ticks": ""
            },
            "colorscale": [
             [
              0,
              "#0d0887"
             ],
             [
              0.1111111111111111,
              "#46039f"
             ],
             [
              0.2222222222222222,
              "#7201a8"
             ],
             [
              0.3333333333333333,
              "#9c179e"
             ],
             [
              0.4444444444444444,
              "#bd3786"
             ],
             [
              0.5555555555555556,
              "#d8576b"
             ],
             [
              0.6666666666666666,
              "#ed7953"
             ],
             [
              0.7777777777777778,
              "#fb9f3a"
             ],
             [
              0.8888888888888888,
              "#fdca26"
             ],
             [
              1,
              "#f0f921"
             ]
            ],
            "type": "histogram2dcontour"
           }
          ],
          "mesh3d": [
           {
            "colorbar": {
             "outlinewidth": 0,
             "ticks": ""
            },
            "type": "mesh3d"
           }
          ],
          "parcoords": [
           {
            "line": {
             "colorbar": {
              "outlinewidth": 0,
              "ticks": ""
             }
            },
            "type": "parcoords"
           }
          ],
          "pie": [
           {
            "automargin": true,
            "type": "pie"
           }
          ],
          "scatter": [
           {
            "marker": {
             "colorbar": {
              "outlinewidth": 0,
              "ticks": ""
             }
            },
            "type": "scatter"
           }
          ],
          "scatter3d": [
           {
            "line": {
             "colorbar": {
              "outlinewidth": 0,
              "ticks": ""
             }
            },
            "marker": {
             "colorbar": {
              "outlinewidth": 0,
              "ticks": ""
             }
            },
            "type": "scatter3d"
           }
          ],
          "scattercarpet": [
           {
            "marker": {
             "colorbar": {
              "outlinewidth": 0,
              "ticks": ""
             }
            },
            "type": "scattercarpet"
           }
          ],
          "scattergeo": [
           {
            "marker": {
             "colorbar": {
              "outlinewidth": 0,
              "ticks": ""
             }
            },
            "type": "scattergeo"
           }
          ],
          "scattergl": [
           {
            "marker": {
             "colorbar": {
              "outlinewidth": 0,
              "ticks": ""
             }
            },
            "type": "scattergl"
           }
          ],
          "scattermapbox": [
           {
            "marker": {
             "colorbar": {
              "outlinewidth": 0,
              "ticks": ""
             }
            },
            "type": "scattermapbox"
           }
          ],
          "scatterpolar": [
           {
            "marker": {
             "colorbar": {
              "outlinewidth": 0,
              "ticks": ""
             }
            },
            "type": "scatterpolar"
           }
          ],
          "scatterpolargl": [
           {
            "marker": {
             "colorbar": {
              "outlinewidth": 0,
              "ticks": ""
             }
            },
            "type": "scatterpolargl"
           }
          ],
          "scatterternary": [
           {
            "marker": {
             "colorbar": {
              "outlinewidth": 0,
              "ticks": ""
             }
            },
            "type": "scatterternary"
           }
          ],
          "surface": [
           {
            "colorbar": {
             "outlinewidth": 0,
             "ticks": ""
            },
            "colorscale": [
             [
              0,
              "#0d0887"
             ],
             [
              0.1111111111111111,
              "#46039f"
             ],
             [
              0.2222222222222222,
              "#7201a8"
             ],
             [
              0.3333333333333333,
              "#9c179e"
             ],
             [
              0.4444444444444444,
              "#bd3786"
             ],
             [
              0.5555555555555556,
              "#d8576b"
             ],
             [
              0.6666666666666666,
              "#ed7953"
             ],
             [
              0.7777777777777778,
              "#fb9f3a"
             ],
             [
              0.8888888888888888,
              "#fdca26"
             ],
             [
              1,
              "#f0f921"
             ]
            ],
            "type": "surface"
           }
          ],
          "table": [
           {
            "cells": {
             "fill": {
              "color": "#EBF0F8"
             },
             "line": {
              "color": "white"
             }
            },
            "header": {
             "fill": {
              "color": "#C8D4E3"
             },
             "line": {
              "color": "white"
             }
            },
            "type": "table"
           }
          ]
         },
         "layout": {
          "annotationdefaults": {
           "arrowcolor": "#2a3f5f",
           "arrowhead": 0,
           "arrowwidth": 1
          },
          "coloraxis": {
           "colorbar": {
            "outlinewidth": 0,
            "ticks": ""
           }
          },
          "colorscale": {
           "diverging": [
            [
             0,
             "#8e0152"
            ],
            [
             0.1,
             "#c51b7d"
            ],
            [
             0.2,
             "#de77ae"
            ],
            [
             0.3,
             "#f1b6da"
            ],
            [
             0.4,
             "#fde0ef"
            ],
            [
             0.5,
             "#f7f7f7"
            ],
            [
             0.6,
             "#e6f5d0"
            ],
            [
             0.7,
             "#b8e186"
            ],
            [
             0.8,
             "#7fbc41"
            ],
            [
             0.9,
             "#4d9221"
            ],
            [
             1,
             "#276419"
            ]
           ],
           "sequential": [
            [
             0,
             "#0d0887"
            ],
            [
             0.1111111111111111,
             "#46039f"
            ],
            [
             0.2222222222222222,
             "#7201a8"
            ],
            [
             0.3333333333333333,
             "#9c179e"
            ],
            [
             0.4444444444444444,
             "#bd3786"
            ],
            [
             0.5555555555555556,
             "#d8576b"
            ],
            [
             0.6666666666666666,
             "#ed7953"
            ],
            [
             0.7777777777777778,
             "#fb9f3a"
            ],
            [
             0.8888888888888888,
             "#fdca26"
            ],
            [
             1,
             "#f0f921"
            ]
           ],
           "sequentialminus": [
            [
             0,
             "#0d0887"
            ],
            [
             0.1111111111111111,
             "#46039f"
            ],
            [
             0.2222222222222222,
             "#7201a8"
            ],
            [
             0.3333333333333333,
             "#9c179e"
            ],
            [
             0.4444444444444444,
             "#bd3786"
            ],
            [
             0.5555555555555556,
             "#d8576b"
            ],
            [
             0.6666666666666666,
             "#ed7953"
            ],
            [
             0.7777777777777778,
             "#fb9f3a"
            ],
            [
             0.8888888888888888,
             "#fdca26"
            ],
            [
             1,
             "#f0f921"
            ]
           ]
          },
          "colorway": [
           "#636efa",
           "#EF553B",
           "#00cc96",
           "#ab63fa",
           "#FFA15A",
           "#19d3f3",
           "#FF6692",
           "#B6E880",
           "#FF97FF",
           "#FECB52"
          ],
          "font": {
           "color": "#2a3f5f"
          },
          "geo": {
           "bgcolor": "white",
           "lakecolor": "white",
           "landcolor": "#E5ECF6",
           "showlakes": true,
           "showland": true,
           "subunitcolor": "white"
          },
          "hoverlabel": {
           "align": "left"
          },
          "hovermode": "closest",
          "mapbox": {
           "style": "light"
          },
          "paper_bgcolor": "white",
          "plot_bgcolor": "#E5ECF6",
          "polar": {
           "angularaxis": {
            "gridcolor": "white",
            "linecolor": "white",
            "ticks": ""
           },
           "bgcolor": "#E5ECF6",
           "radialaxis": {
            "gridcolor": "white",
            "linecolor": "white",
            "ticks": ""
           }
          },
          "scene": {
           "xaxis": {
            "backgroundcolor": "#E5ECF6",
            "gridcolor": "white",
            "gridwidth": 2,
            "linecolor": "white",
            "showbackground": true,
            "ticks": "",
            "zerolinecolor": "white"
           },
           "yaxis": {
            "backgroundcolor": "#E5ECF6",
            "gridcolor": "white",
            "gridwidth": 2,
            "linecolor": "white",
            "showbackground": true,
            "ticks": "",
            "zerolinecolor": "white"
           },
           "zaxis": {
            "backgroundcolor": "#E5ECF6",
            "gridcolor": "white",
            "gridwidth": 2,
            "linecolor": "white",
            "showbackground": true,
            "ticks": "",
            "zerolinecolor": "white"
           }
          },
          "shapedefaults": {
           "line": {
            "color": "#2a3f5f"
           }
          },
          "ternary": {
           "aaxis": {
            "gridcolor": "white",
            "linecolor": "white",
            "ticks": ""
           },
           "baxis": {
            "gridcolor": "white",
            "linecolor": "white",
            "ticks": ""
           },
           "bgcolor": "#E5ECF6",
           "caxis": {
            "gridcolor": "white",
            "linecolor": "white",
            "ticks": ""
           }
          },
          "title": {
           "x": 0.05
          },
          "xaxis": {
           "automargin": true,
           "gridcolor": "white",
           "linecolor": "white",
           "ticks": "",
           "title": {
            "standoff": 15
           },
           "zerolinecolor": "white",
           "zerolinewidth": 2
          },
          "yaxis": {
           "automargin": true,
           "gridcolor": "white",
           "linecolor": "white",
           "ticks": "",
           "title": {
            "standoff": 15
           },
           "zerolinecolor": "white",
           "zerolinewidth": 2
          }
         }
        },
        "xaxis": {
         "anchor": "y",
         "domain": [
          0,
          1
         ],
         "title": {
          "text": "dev_addr"
         }
        },
        "yaxis": {
         "anchor": "x",
         "domain": [
          0,
          1
         ],
         "title": {
          "text": "lsnr"
         }
        }
       }
      },
      "text/html": [
       "<div>\n",
       "        \n",
       "        \n",
       "            <div id=\"09c3adfb-a8d6-4caa-b196-8962e587902a\" class=\"plotly-graph-div\" style=\"height:525px; width:100%;\"></div>\n",
       "            <script type=\"text/javascript\">\n",
       "                require([\"plotly\"], function(Plotly) {\n",
       "                    window.PLOTLYENV=window.PLOTLYENV || {};\n",
       "                    \n",
       "                if (document.getElementById(\"09c3adfb-a8d6-4caa-b196-8962e587902a\")) {\n",
       "                    Plotly.newPlot(\n",
       "                        '09c3adfb-a8d6-4caa-b196-8962e587902a',\n",
       "                        [{\"hovertemplate\": \"dev_addr=%{x}<br>lsnr=%{y}<br>label=%{marker.color}<extra></extra>\", \"legendgroup\": \"\", \"marker\": {\"color\": [10.0, 6.0, 6.0, 0.0, 4.0, 0.0, 1.0, 4.0, 10.0, 12.0, 11.0, 7.0, 5.0, 3.0, 4.0, 1.0, 1.0, 12.0, 4.0, 6.0, 5.0, 5.0, 0.0, 7.0, 1.0, 2.0, 6.0, 7.0, 1.0, 1.0, 7.0, 1.0, 6.0, 4.0, 12.0, 1.0, 2.0, 5.0, 4.0, 6.0, 2.0, 7.0, 4.0, 11.0, 6.0, 2.0, 10.0, 10.0, 10.0, 4.0, 6.0, 11.0, 7.0, 6.0, 1.0, 4.0, 4.0, 1.0, 6.0, 4.0, 6.0, 11.0, 10.0, 1.0, 11.0, 1.0, 6.0, 4.0, 5.0, 8.0, 11.0, 9.0, 1.0, 4.0, 7.0, 10.0, 4.0, 6.0, 1.0, 8.0, 6.0, 4.0, 7.0, 11.0, 6.0, 3.0, 5.0, 12.0, 0.0, 12.0, 1.0, 5.0, 2.0, 2.0, 4.0, 2.0, 6.0, 5.0, 1.0, 12.0, 4.0, 1.0, 8.0, 4.0, 5.0, 2.0, 3.0, 2.0, 2.0, 2.0, 12.0, 1.0, 5.0, 2.0, 7.0, 3.0, 11.0, 6.0, 11.0, 3.0, 1.0, 12.0, 6.0, 12.0, 5.0, 6.0, 5.0, 6.0, 3.0, 12.0, 2.0, 6.0, 9.0, 5.0, 10.0, 1.0, 1.0, 6.0, 4.0, 4.0, 4.0, 12.0, 6.0, 7.0, 12.0, 12.0, 11.0, 6.0, 6.0, 4.0, 1.0, 12.0, 1.0, 2.0, 4.0, 4.0, 1.0, 6.0, 3.0, 12.0, 1.0, 2.0, 2.0, 5.0, 8.0, 1.0, 4.0, 4.0, 4.0, 6.0, 3.0, 11.0, 11.0, 11.0, 5.0, 11.0, 4.0, 10.0, 10.0, 6.0, 12.0, 12.0, 4.0, 4.0, 6.0, 10.0, 5.0, 3.0, 10.0, 1.0, 2.0, 9.0, 6.0, 5.0, 11.0, 12.0, 5.0, 12.0, 0.0, 5.0, 12.0, 0.0, 11.0, 5.0, 5.0, 12.0, 1.0, 3.0, 9.0, 9.0, 3.0, 7.0, 1.0, 10.0, 4.0, 5.0, 5.0, 1.0, 0.0, 6.0, 11.0, 5.0, 11.0, 5.0, 3.0, 0.0, 5.0, 10.0, 1.0, 11.0, 11.0, 9.0, 6.0, 10.0, 1.0, 5.0, 6.0, 12.0, 5.0, 11.0, 3.0, 5.0, 5.0, 5.0, 11.0, 3.0, 5.0, 12.0, 9.0, 5.0, 1.0, 11.0, 9.0, 3.0, 3.0, 3.0, 5.0, 3.0, 9.0, 5.0, 3.0, 10.0, 3.0, 3.0, 3.0, 11.0, 3.0, 9.0, 9.0, 3.0, 1.0, 5.0, 9.0, 5.0, 3.0, 3.0, 9.0, 12.0, 9.0, 9.0, 3.0, 10.0, 3.0, 9.0, 9.0, 9.0, 9.0, 9.0, 5.0, 9.0], \"coloraxis\": \"coloraxis\", \"opacity\": 0.9, \"symbol\": \"circle\"}, \"mode\": \"markers\", \"name\": \"\", \"showlegend\": false, \"type\": \"scatter\", \"x\": [\"00000000\", \"00000001\", \"00000002\", \"00000003\", \"00000004\", \"00000005\", \"00000006\", \"00000007\", \"00000008\", \"00000009\", \"0000000a\", \"0000000b\", \"0000000c\", \"0000000d\", \"0000000e\", \"0000000f\", \"00000010\", \"00000011\", \"00000012\", \"00000013\", \"00000014\", \"00000015\", \"00000016\", \"00000017\", \"00000018\", \"00000019\", \"0000001a\", \"0000001b\", \"0000001c\", \"0000001d\", \"0000001e\", \"0000001f\", \"00000020\", \"00000021\", \"00000022\", \"00000023\", \"00000024\", \"00000025\", \"00000026\", \"00000027\", \"00000028\", \"00000029\", \"0000002a\", \"0000002b\", \"0000002c\", \"0000002d\", \"0000002e\", \"0000002f\", \"00000030\", \"00000031\", \"00000032\", \"00000033\", \"00000034\", \"00000035\", \"00000036\", \"00000037\", \"00000038\", \"00000039\", \"0000003a\", \"0000003b\", \"0000003c\", \"0000003d\", \"0000003e\", \"0000003f\", \"00000040\", \"00000041\", \"00000042\", \"00000043\", \"00000044\", \"00000045\", \"00000046\", \"00000047\", \"00000048\", \"00000049\", \"0000004a\", \"0000004b\", \"0000004c\", \"0000004d\", \"0000004e\", \"0000004f\", \"00000050\", \"00000051\", \"00000052\", \"00000053\", \"00000054\", \"00000055\", \"00000056\", \"00000057\", \"00000058\", \"00000059\", \"0000005a\", \"0000005b\", \"0000005c\", \"0000005d\", \"0000005e\", \"0000005f\", \"00000060\", \"00000061\", \"00000062\", \"00000063\", \"00000064\", \"00000065\", \"00000066\", \"00000067\", \"00000068\", \"00000069\", \"0000006a\", \"0000006b\", \"0000006c\", \"0000006d\", \"0000006e\", \"0000006f\", \"00000070\", \"00000071\", \"00000072\", \"00000073\", \"00000074\", \"00000075\", \"00000076\", \"00000077\", \"00000078\", \"00000079\", \"0000007a\", \"0000007b\", \"0000007c\", \"0000007d\", \"0000007e\", \"0000007f\", \"00000080\", \"00000081\", \"00000082\", \"00000083\", \"00000084\", \"00000085\", \"00000086\", \"00000087\", \"00000088\", \"00000089\", \"0000008a\", \"0000008b\", \"0000008c\", \"0000008d\", \"0000008e\", \"0000008f\", \"00000090\", \"00000091\", \"00000092\", \"00000093\", \"00000094\", \"00000095\", \"00000096\", \"00000097\", \"00000098\", \"00000099\", \"0000009a\", \"0000009b\", \"0000009c\", \"0000009d\", \"0000009e\", \"0000009f\", \"000000a0\", \"000000a1\", \"000000a2\", \"000000a3\", \"000000a4\", \"000000a5\", \"000000a6\", \"000000a7\", \"000000a8\", \"000000a9\", \"000000aa\", \"000000ab\", \"000000ac\", \"000000ad\", \"000000ae\", \"000000af\", \"000000b0\", \"000000b1\", \"000000b2\", \"000000b3\", \"000000b4\", \"000000b5\", \"000000b6\", \"000000b7\", \"000000b8\", \"000000b9\", \"000000ba\", \"000000bb\", \"000000bc\", \"000000bd\", \"000000be\", \"000000bf\", \"000000c0\", \"000000c1\", \"000000c2\", \"000000c3\", \"000000c4\", \"000000c5\", \"000000c6\", \"000000c7\", \"000000c8\", \"000000c9\", \"000000ca\", \"000000cb\", \"000000cc\", \"000000cd\", \"000000ce\", \"000000cf\", \"000000d0\", \"000000d1\", \"000000d2\", \"000000d3\", \"000000d4\", \"000000d5\", \"000000d6\", \"000000d7\", \"000000d8\", \"000000d9\", \"000000da\", \"000000db\", \"000000dc\", \"000000dd\", \"000000de\", \"000000df\", \"000000e0\", \"000000e1\", \"000000e2\", \"000000e3\", \"000000e4\", \"000000e5\", \"000000e6\", \"000000e7\", \"000000e8\", \"000000e9\", \"000000ea\", \"000000eb\", \"000000ec\", \"000000ed\", \"000000ee\", \"000000ef\", \"000000f0\", \"000000f1\", \"000000f2\", \"000000f3\", \"000000f4\", \"000000f5\", \"000000f6\", \"000000f7\", \"000000f8\", \"000000f9\", \"000000fa\", \"000000fb\", \"000000fc\", \"000000fd\", \"000000fe\", \"000000ff\", \"00000100\", \"00000101\", \"00000102\", \"00000103\", \"00000104\", \"00000105\", \"00000106\", \"00000107\", \"00000108\", \"00000109\", \"0000010a\", \"0000010b\", \"0000010c\", \"0000010d\", \"0000010e\", \"0000010f\", \"00000110\", \"00000111\", \"00000112\", \"00000113\", \"00000114\", \"00000115\", \"00000116\", \"00000117\", \"00000118\", \"00000119\", \"0000011a\", \"0000011b\", \"0000011c\", \"0000011d\", \"0000011e\", \"0000011f\", \"00000120\", \"00000121\"], \"xaxis\": \"x\", \"y\": [-11, 1, 0, -7, 4, -1, 0, 0, -17, -1, -6, 7, -7, -16, 0, -4, -1, -2, 0, 2, -10, -5, -3, 8, -1, 5, 0, 8, 0, 0, 7, 0, 2, 2, -5, 2, 9, -8, 5, 0, 6, 8, 4, -8, 2, 6, -8, -17, -11, 2, 0, -7, 8, 0, 0, 1, 4, -4, 1, 5, 0, -3, -12, 0, -8, -1, 2, 3, -10, 6, -5, -16, -3, 3, 11, -13, 3, 2, -2, 7, -1, 3, 11, -4, 0, -9, -4, -1, -6, -2, 0, -5, 5, 9, 2, 3, 2, -6, -1, -7, 4, 2, 5, 0, -8, 5, -13, 2, 4, 3, -3, -4, -3, 5, 11, -12, -7, 0, -6, -11, 0, -1, 1, 0, -4, 1, -3, 0, -7, 1, 5, 3, -16, -8, -13, 0, -2, 0, 4, 3, 5, -3, 0, 7, -4, 0, -6, -1, 0, 5, -3, 0, 1, 2, 0, 0, 0, 0, -8, 0, -2, 9, 3, -8, 10, -4, 0, 2, 2, 2, -12, -7, -8, -6, -6, -9, 1, -11, -6, 2, -3, -5, 0, 3, 0, -11, -8, -16, -15, -2, 7, -16, 2, -5, -8, -2, -4, -5, 0, -8, -3, -8, -7, -4, -9, -4, -4, -7, -18, -17, -14, 9, -1, -18, 2, -6, -7, -4, -3, 0, -6, -3, -9, -8, -12, -8, -6, -17, -2, -4, -7, -19, -2, -16, -2, -5, 0, -3, -7, -7, -18, -7, -9, -10, -3, -14, -4, -7, -18, -8, -5, -5, -18, -15, -14, -18, -3, -12, -19, -12, -14, -11, -8, -8, -13, -5, -14, -19, -18, -13, -3, -8, -18, -4, -16, -10, -19, -4, -19, -21, -10, -16, -8, -19, -21, -21, -20, -17, -8, -19], \"yaxis\": \"y\"}],\n",
       "                        {\"coloraxis\": {\"colorbar\": {\"title\": {\"text\": \"label\"}}, \"colorscale\": [[0.0, \"#0d0887\"], [0.1111111111111111, \"#46039f\"], [0.2222222222222222, \"#7201a8\"], [0.3333333333333333, \"#9c179e\"], [0.4444444444444444, \"#bd3786\"], [0.5555555555555556, \"#d8576b\"], [0.6666666666666666, \"#ed7953\"], [0.7777777777777778, \"#fb9f3a\"], [0.8888888888888888, \"#fdca26\"], [1.0, \"#f0f921\"]]}, \"legend\": {\"tracegroupgap\": 0}, \"margin\": {\"t\": 60}, \"template\": {\"data\": {\"bar\": [{\"error_x\": {\"color\": \"#2a3f5f\"}, \"error_y\": {\"color\": \"#2a3f5f\"}, \"marker\": {\"line\": {\"color\": \"#E5ECF6\", \"width\": 0.5}}, \"type\": \"bar\"}], \"barpolar\": [{\"marker\": {\"line\": {\"color\": \"#E5ECF6\", \"width\": 0.5}}, \"type\": \"barpolar\"}], \"carpet\": [{\"aaxis\": {\"endlinecolor\": \"#2a3f5f\", \"gridcolor\": \"white\", \"linecolor\": \"white\", \"minorgridcolor\": \"white\", \"startlinecolor\": \"#2a3f5f\"}, \"baxis\": {\"endlinecolor\": \"#2a3f5f\", \"gridcolor\": \"white\", \"linecolor\": \"white\", \"minorgridcolor\": \"white\", \"startlinecolor\": \"#2a3f5f\"}, \"type\": \"carpet\"}], \"choropleth\": [{\"colorbar\": {\"outlinewidth\": 0, \"ticks\": \"\"}, \"type\": \"choropleth\"}], \"contour\": [{\"colorbar\": {\"outlinewidth\": 0, \"ticks\": \"\"}, \"colorscale\": [[0.0, \"#0d0887\"], [0.1111111111111111, \"#46039f\"], [0.2222222222222222, \"#7201a8\"], [0.3333333333333333, \"#9c179e\"], [0.4444444444444444, \"#bd3786\"], [0.5555555555555556, \"#d8576b\"], [0.6666666666666666, \"#ed7953\"], [0.7777777777777778, \"#fb9f3a\"], [0.8888888888888888, \"#fdca26\"], [1.0, \"#f0f921\"]], \"type\": \"contour\"}], \"contourcarpet\": [{\"colorbar\": {\"outlinewidth\": 0, \"ticks\": \"\"}, \"type\": \"contourcarpet\"}], \"heatmap\": [{\"colorbar\": {\"outlinewidth\": 0, \"ticks\": \"\"}, \"colorscale\": [[0.0, \"#0d0887\"], [0.1111111111111111, \"#46039f\"], [0.2222222222222222, \"#7201a8\"], [0.3333333333333333, \"#9c179e\"], [0.4444444444444444, \"#bd3786\"], [0.5555555555555556, \"#d8576b\"], [0.6666666666666666, \"#ed7953\"], [0.7777777777777778, \"#fb9f3a\"], [0.8888888888888888, \"#fdca26\"], [1.0, \"#f0f921\"]], \"type\": \"heatmap\"}], \"heatmapgl\": [{\"colorbar\": {\"outlinewidth\": 0, \"ticks\": \"\"}, \"colorscale\": [[0.0, \"#0d0887\"], [0.1111111111111111, \"#46039f\"], [0.2222222222222222, \"#7201a8\"], [0.3333333333333333, \"#9c179e\"], [0.4444444444444444, \"#bd3786\"], [0.5555555555555556, \"#d8576b\"], [0.6666666666666666, \"#ed7953\"], [0.7777777777777778, \"#fb9f3a\"], [0.8888888888888888, \"#fdca26\"], [1.0, \"#f0f921\"]], \"type\": \"heatmapgl\"}], \"histogram\": [{\"marker\": {\"colorbar\": {\"outlinewidth\": 0, \"ticks\": \"\"}}, \"type\": \"histogram\"}], \"histogram2d\": [{\"colorbar\": {\"outlinewidth\": 0, \"ticks\": \"\"}, \"colorscale\": [[0.0, \"#0d0887\"], [0.1111111111111111, \"#46039f\"], [0.2222222222222222, \"#7201a8\"], [0.3333333333333333, \"#9c179e\"], [0.4444444444444444, \"#bd3786\"], [0.5555555555555556, \"#d8576b\"], [0.6666666666666666, \"#ed7953\"], [0.7777777777777778, \"#fb9f3a\"], [0.8888888888888888, \"#fdca26\"], [1.0, \"#f0f921\"]], \"type\": \"histogram2d\"}], \"histogram2dcontour\": [{\"colorbar\": {\"outlinewidth\": 0, \"ticks\": \"\"}, \"colorscale\": [[0.0, \"#0d0887\"], [0.1111111111111111, \"#46039f\"], [0.2222222222222222, \"#7201a8\"], [0.3333333333333333, \"#9c179e\"], [0.4444444444444444, \"#bd3786\"], [0.5555555555555556, \"#d8576b\"], [0.6666666666666666, \"#ed7953\"], [0.7777777777777778, \"#fb9f3a\"], [0.8888888888888888, \"#fdca26\"], [1.0, \"#f0f921\"]], \"type\": \"histogram2dcontour\"}], \"mesh3d\": [{\"colorbar\": {\"outlinewidth\": 0, \"ticks\": \"\"}, \"type\": \"mesh3d\"}], \"parcoords\": [{\"line\": {\"colorbar\": {\"outlinewidth\": 0, \"ticks\": \"\"}}, \"type\": \"parcoords\"}], \"pie\": [{\"automargin\": true, \"type\": \"pie\"}], \"scatter\": [{\"marker\": {\"colorbar\": {\"outlinewidth\": 0, \"ticks\": \"\"}}, \"type\": \"scatter\"}], \"scatter3d\": [{\"line\": {\"colorbar\": {\"outlinewidth\": 0, \"ticks\": \"\"}}, \"marker\": {\"colorbar\": {\"outlinewidth\": 0, \"ticks\": \"\"}}, \"type\": \"scatter3d\"}], \"scattercarpet\": [{\"marker\": {\"colorbar\": {\"outlinewidth\": 0, \"ticks\": \"\"}}, \"type\": \"scattercarpet\"}], \"scattergeo\": [{\"marker\": {\"colorbar\": {\"outlinewidth\": 0, \"ticks\": \"\"}}, \"type\": \"scattergeo\"}], \"scattergl\": [{\"marker\": {\"colorbar\": {\"outlinewidth\": 0, \"ticks\": \"\"}}, \"type\": \"scattergl\"}], \"scattermapbox\": [{\"marker\": {\"colorbar\": {\"outlinewidth\": 0, \"ticks\": \"\"}}, \"type\": \"scattermapbox\"}], \"scatterpolar\": [{\"marker\": {\"colorbar\": {\"outlinewidth\": 0, \"ticks\": \"\"}}, \"type\": \"scatterpolar\"}], \"scatterpolargl\": [{\"marker\": {\"colorbar\": {\"outlinewidth\": 0, \"ticks\": \"\"}}, \"type\": \"scatterpolargl\"}], \"scatterternary\": [{\"marker\": {\"colorbar\": {\"outlinewidth\": 0, \"ticks\": \"\"}}, \"type\": \"scatterternary\"}], \"surface\": [{\"colorbar\": {\"outlinewidth\": 0, \"ticks\": \"\"}, \"colorscale\": [[0.0, \"#0d0887\"], [0.1111111111111111, \"#46039f\"], [0.2222222222222222, \"#7201a8\"], [0.3333333333333333, \"#9c179e\"], [0.4444444444444444, \"#bd3786\"], [0.5555555555555556, \"#d8576b\"], [0.6666666666666666, \"#ed7953\"], [0.7777777777777778, \"#fb9f3a\"], [0.8888888888888888, \"#fdca26\"], [1.0, \"#f0f921\"]], \"type\": \"surface\"}], \"table\": [{\"cells\": {\"fill\": {\"color\": \"#EBF0F8\"}, \"line\": {\"color\": \"white\"}}, \"header\": {\"fill\": {\"color\": \"#C8D4E3\"}, \"line\": {\"color\": \"white\"}}, \"type\": \"table\"}]}, \"layout\": {\"annotationdefaults\": {\"arrowcolor\": \"#2a3f5f\", \"arrowhead\": 0, \"arrowwidth\": 1}, \"coloraxis\": {\"colorbar\": {\"outlinewidth\": 0, \"ticks\": \"\"}}, \"colorscale\": {\"diverging\": [[0, \"#8e0152\"], [0.1, \"#c51b7d\"], [0.2, \"#de77ae\"], [0.3, \"#f1b6da\"], [0.4, \"#fde0ef\"], [0.5, \"#f7f7f7\"], [0.6, \"#e6f5d0\"], [0.7, \"#b8e186\"], [0.8, \"#7fbc41\"], [0.9, \"#4d9221\"], [1, \"#276419\"]], \"sequential\": [[0.0, \"#0d0887\"], [0.1111111111111111, \"#46039f\"], [0.2222222222222222, \"#7201a8\"], [0.3333333333333333, \"#9c179e\"], [0.4444444444444444, \"#bd3786\"], [0.5555555555555556, \"#d8576b\"], [0.6666666666666666, \"#ed7953\"], [0.7777777777777778, \"#fb9f3a\"], [0.8888888888888888, \"#fdca26\"], [1.0, \"#f0f921\"]], \"sequentialminus\": [[0.0, \"#0d0887\"], [0.1111111111111111, \"#46039f\"], [0.2222222222222222, \"#7201a8\"], [0.3333333333333333, \"#9c179e\"], [0.4444444444444444, \"#bd3786\"], [0.5555555555555556, \"#d8576b\"], [0.6666666666666666, \"#ed7953\"], [0.7777777777777778, \"#fb9f3a\"], [0.8888888888888888, \"#fdca26\"], [1.0, \"#f0f921\"]]}, \"colorway\": [\"#636efa\", \"#EF553B\", \"#00cc96\", \"#ab63fa\", \"#FFA15A\", \"#19d3f3\", \"#FF6692\", \"#B6E880\", \"#FF97FF\", \"#FECB52\"], \"font\": {\"color\": \"#2a3f5f\"}, \"geo\": {\"bgcolor\": \"white\", \"lakecolor\": \"white\", \"landcolor\": \"#E5ECF6\", \"showlakes\": true, \"showland\": true, \"subunitcolor\": \"white\"}, \"hoverlabel\": {\"align\": \"left\"}, \"hovermode\": \"closest\", \"mapbox\": {\"style\": \"light\"}, \"paper_bgcolor\": \"white\", \"plot_bgcolor\": \"#E5ECF6\", \"polar\": {\"angularaxis\": {\"gridcolor\": \"white\", \"linecolor\": \"white\", \"ticks\": \"\"}, \"bgcolor\": \"#E5ECF6\", \"radialaxis\": {\"gridcolor\": \"white\", \"linecolor\": \"white\", \"ticks\": \"\"}}, \"scene\": {\"xaxis\": {\"backgroundcolor\": \"#E5ECF6\", \"gridcolor\": \"white\", \"gridwidth\": 2, \"linecolor\": \"white\", \"showbackground\": true, \"ticks\": \"\", \"zerolinecolor\": \"white\"}, \"yaxis\": {\"backgroundcolor\": \"#E5ECF6\", \"gridcolor\": \"white\", \"gridwidth\": 2, \"linecolor\": \"white\", \"showbackground\": true, \"ticks\": \"\", \"zerolinecolor\": \"white\"}, \"zaxis\": {\"backgroundcolor\": \"#E5ECF6\", \"gridcolor\": \"white\", \"gridwidth\": 2, \"linecolor\": \"white\", \"showbackground\": true, \"ticks\": \"\", \"zerolinecolor\": \"white\"}}, \"shapedefaults\": {\"line\": {\"color\": \"#2a3f5f\"}}, \"ternary\": {\"aaxis\": {\"gridcolor\": \"white\", \"linecolor\": \"white\", \"ticks\": \"\"}, \"baxis\": {\"gridcolor\": \"white\", \"linecolor\": \"white\", \"ticks\": \"\"}, \"bgcolor\": \"#E5ECF6\", \"caxis\": {\"gridcolor\": \"white\", \"linecolor\": \"white\", \"ticks\": \"\"}}, \"title\": {\"x\": 0.05}, \"xaxis\": {\"automargin\": true, \"gridcolor\": \"white\", \"linecolor\": \"white\", \"ticks\": \"\", \"title\": {\"standoff\": 15}, \"zerolinecolor\": \"white\", \"zerolinewidth\": 2}, \"yaxis\": {\"automargin\": true, \"gridcolor\": \"white\", \"linecolor\": \"white\", \"ticks\": \"\", \"title\": {\"standoff\": 15}, \"zerolinecolor\": \"white\", \"zerolinewidth\": 2}}}, \"xaxis\": {\"anchor\": \"y\", \"domain\": [0.0, 1.0], \"title\": {\"text\": \"dev_addr\"}}, \"yaxis\": {\"anchor\": \"x\", \"domain\": [0.0, 1.0], \"title\": {\"text\": \"lsnr\"}}},\n",
       "                        {\"responsive\": true}\n",
       "                    ).then(function(){\n",
       "                            \n",
       "var gd = document.getElementById('09c3adfb-a8d6-4caa-b196-8962e587902a');\n",
       "var x = new MutationObserver(function (mutations, observer) {{\n",
       "        var display = window.getComputedStyle(gd).display;\n",
       "        if (!display || display === 'none') {{\n",
       "            console.log([gd, 'removed!']);\n",
       "            Plotly.purge(gd);\n",
       "            observer.disconnect();\n",
       "        }}\n",
       "}});\n",
       "\n",
       "// Listen for the removal of the full notebook cells\n",
       "var notebookContainer = gd.closest('#notebook-container');\n",
       "if (notebookContainer) {{\n",
       "    x.observe(notebookContainer, {childList: true});\n",
       "}}\n",
       "\n",
       "// Listen for the clearing of the current output cell\n",
       "var outputEl = gd.closest('.output');\n",
       "if (outputEl) {{\n",
       "    x.observe(outputEl, {childList: true});\n",
       "}}\n",
       "\n",
       "                        })\n",
       "                };\n",
       "                });\n",
       "            </script>\n",
       "        </div>"
      ]
     },
     "metadata": {},
     "output_type": "display_data"
    }
   ],
   "source": [
    "fig = px.scatter(labeled_df, x='dev_addr', y='lsnr',\n",
    "                color='label', size_max=100,\n",
    "                opacity=0.9)\n",
    "fig.show()"
   ]
  },
  {
   "cell_type": "code",
   "execution_count": 68,
   "metadata": {},
   "outputs": [
    {
     "data": {
      "application/vnd.plotly.v1+json": {
       "config": {
        "plotlyServerURL": "https://plot.ly"
       },
       "data": [
        {
         "hovertemplate": "dev_addr=%{x}<br>rssis=%{y}<br>rssic=%{z}<br>label=%{marker.color}<extra></extra>",
         "legendgroup": "",
         "marker": {
          "color": [
           10,
           6,
           6,
           0,
           4,
           0,
           1,
           4,
           10,
           12,
           11,
           7,
           5,
           3,
           4,
           1,
           1,
           12,
           4,
           6,
           5,
           5,
           0,
           7,
           1,
           2,
           6,
           7,
           1,
           1,
           7,
           1,
           6,
           4,
           12,
           1,
           2,
           5,
           4,
           6,
           2,
           7,
           4,
           11,
           6,
           2,
           10,
           10,
           10,
           4,
           6,
           11,
           7,
           6,
           1,
           4,
           4,
           1,
           6,
           4,
           6,
           11,
           10,
           1,
           11,
           1,
           6,
           4,
           5,
           8,
           11,
           9,
           1,
           4,
           7,
           10,
           4,
           6,
           1,
           8,
           6,
           4,
           7,
           11,
           6,
           3,
           5,
           12,
           0,
           12,
           1,
           5,
           2,
           2,
           4,
           2,
           6,
           5,
           1,
           12,
           4,
           1,
           8,
           4,
           5,
           2,
           3,
           2,
           2,
           2,
           12,
           1,
           5,
           2,
           7,
           3,
           11,
           6,
           11,
           3,
           1,
           12,
           6,
           12,
           5,
           6,
           5,
           6,
           3,
           12,
           2,
           6,
           9,
           5,
           10,
           1,
           1,
           6,
           4,
           4,
           4,
           12,
           6,
           7,
           12,
           12,
           11,
           6,
           6,
           4,
           1,
           12,
           1,
           2,
           4,
           4,
           1,
           6,
           3,
           12,
           1,
           2,
           2,
           5,
           8,
           1,
           4,
           4,
           4,
           6,
           3,
           11,
           11,
           11,
           5,
           11,
           4,
           10,
           10,
           6,
           12,
           12,
           4,
           4,
           6,
           10,
           5,
           3,
           10,
           1,
           2,
           9,
           6,
           5,
           11,
           12,
           5,
           12,
           0,
           5,
           12,
           0,
           11,
           5,
           5,
           12,
           1,
           3,
           9,
           9,
           3,
           7,
           1,
           10,
           4,
           5,
           5,
           1,
           0,
           6,
           11,
           5,
           11,
           5,
           3,
           0,
           5,
           10,
           1,
           11,
           11,
           9,
           6,
           10,
           1,
           5,
           6,
           12,
           5,
           11,
           3,
           5,
           5,
           5,
           11,
           3,
           5,
           12,
           9,
           5,
           1,
           11,
           9,
           3,
           3,
           3,
           5,
           3,
           9,
           5,
           3,
           10,
           3,
           3,
           3,
           11,
           3,
           9,
           9,
           3,
           1,
           5,
           9,
           5,
           3,
           3,
           9,
           12,
           9,
           9,
           3,
           10,
           3,
           9,
           9,
           9,
           9,
           9,
           5,
           9
          ],
          "coloraxis": "coloraxis",
          "opacity": 0.9,
          "symbol": "circle"
         },
         "mode": "markers",
         "name": "",
         "scene": "scene",
         "showlegend": false,
         "type": "scatter3d",
         "x": [
          "00000000",
          "00000001",
          "00000002",
          "00000003",
          "00000004",
          "00000005",
          "00000006",
          "00000007",
          "00000008",
          "00000009",
          "0000000a",
          "0000000b",
          "0000000c",
          "0000000d",
          "0000000e",
          "0000000f",
          "00000010",
          "00000011",
          "00000012",
          "00000013",
          "00000014",
          "00000015",
          "00000016",
          "00000017",
          "00000018",
          "00000019",
          "0000001a",
          "0000001b",
          "0000001c",
          "0000001d",
          "0000001e",
          "0000001f",
          "00000020",
          "00000021",
          "00000022",
          "00000023",
          "00000024",
          "00000025",
          "00000026",
          "00000027",
          "00000028",
          "00000029",
          "0000002a",
          "0000002b",
          "0000002c",
          "0000002d",
          "0000002e",
          "0000002f",
          "00000030",
          "00000031",
          "00000032",
          "00000033",
          "00000034",
          "00000035",
          "00000036",
          "00000037",
          "00000038",
          "00000039",
          "0000003a",
          "0000003b",
          "0000003c",
          "0000003d",
          "0000003e",
          "0000003f",
          "00000040",
          "00000041",
          "00000042",
          "00000043",
          "00000044",
          "00000045",
          "00000046",
          "00000047",
          "00000048",
          "00000049",
          "0000004a",
          "0000004b",
          "0000004c",
          "0000004d",
          "0000004e",
          "0000004f",
          "00000050",
          "00000051",
          "00000052",
          "00000053",
          "00000054",
          "00000055",
          "00000056",
          "00000057",
          "00000058",
          "00000059",
          "0000005a",
          "0000005b",
          "0000005c",
          "0000005d",
          "0000005e",
          "0000005f",
          "00000060",
          "00000061",
          "00000062",
          "00000063",
          "00000064",
          "00000065",
          "00000066",
          "00000067",
          "00000068",
          "00000069",
          "0000006a",
          "0000006b",
          "0000006c",
          "0000006d",
          "0000006e",
          "0000006f",
          "00000070",
          "00000071",
          "00000072",
          "00000073",
          "00000074",
          "00000075",
          "00000076",
          "00000077",
          "00000078",
          "00000079",
          "0000007a",
          "0000007b",
          "0000007c",
          "0000007d",
          "0000007e",
          "0000007f",
          "00000080",
          "00000081",
          "00000082",
          "00000083",
          "00000084",
          "00000085",
          "00000086",
          "00000087",
          "00000088",
          "00000089",
          "0000008a",
          "0000008b",
          "0000008c",
          "0000008d",
          "0000008e",
          "0000008f",
          "00000090",
          "00000091",
          "00000092",
          "00000093",
          "00000094",
          "00000095",
          "00000096",
          "00000097",
          "00000098",
          "00000099",
          "0000009a",
          "0000009b",
          "0000009c",
          "0000009d",
          "0000009e",
          "0000009f",
          "000000a0",
          "000000a1",
          "000000a2",
          "000000a3",
          "000000a4",
          "000000a5",
          "000000a6",
          "000000a7",
          "000000a8",
          "000000a9",
          "000000aa",
          "000000ab",
          "000000ac",
          "000000ad",
          "000000ae",
          "000000af",
          "000000b0",
          "000000b1",
          "000000b2",
          "000000b3",
          "000000b4",
          "000000b5",
          "000000b6",
          "000000b7",
          "000000b8",
          "000000b9",
          "000000ba",
          "000000bb",
          "000000bc",
          "000000bd",
          "000000be",
          "000000bf",
          "000000c0",
          "000000c1",
          "000000c2",
          "000000c3",
          "000000c4",
          "000000c5",
          "000000c6",
          "000000c7",
          "000000c8",
          "000000c9",
          "000000ca",
          "000000cb",
          "000000cc",
          "000000cd",
          "000000ce",
          "000000cf",
          "000000d0",
          "000000d1",
          "000000d2",
          "000000d3",
          "000000d4",
          "000000d5",
          "000000d6",
          "000000d7",
          "000000d8",
          "000000d9",
          "000000da",
          "000000db",
          "000000dc",
          "000000dd",
          "000000de",
          "000000df",
          "000000e0",
          "000000e1",
          "000000e2",
          "000000e3",
          "000000e4",
          "000000e5",
          "000000e6",
          "000000e7",
          "000000e8",
          "000000e9",
          "000000ea",
          "000000eb",
          "000000ec",
          "000000ed",
          "000000ee",
          "000000ef",
          "000000f0",
          "000000f1",
          "000000f2",
          "000000f3",
          "000000f4",
          "000000f5",
          "000000f6",
          "000000f7",
          "000000f8",
          "000000f9",
          "000000fa",
          "000000fb",
          "000000fc",
          "000000fd",
          "000000fe",
          "000000ff",
          "00000100",
          "00000101",
          "00000102",
          "00000103",
          "00000104",
          "00000105",
          "00000106",
          "00000107",
          "00000108",
          "00000109",
          "0000010a",
          "0000010b",
          "0000010c",
          "0000010d",
          "0000010e",
          "0000010f",
          "00000110",
          "00000111",
          "00000112",
          "00000113",
          "00000114",
          "00000115",
          "00000116",
          "00000117",
          "00000118",
          "00000119",
          "0000011a",
          "0000011b",
          "0000011c",
          "0000011d",
          "0000011e",
          "0000011f",
          "00000120",
          "00000121"
         ],
         "y": [
          -119,
          -105,
          -107,
          -117,
          -101,
          -109,
          -108,
          -106,
          -125,
          -109,
          -113,
          -89,
          -115,
          -124,
          -106,
          -113,
          -108,
          -109,
          -106,
          -103,
          -119,
          -112,
          -112,
          -95,
          -108,
          -100,
          -107,
          -94,
          -106,
          -107,
          -97,
          -106,
          -104,
          -104,
          -114,
          -104,
          -93,
          -115,
          -100,
          -107,
          -98,
          -94,
          -101,
          -116,
          -103,
          -98,
          -116,
          -126,
          -120,
          -103,
          -107,
          -114,
          -93,
          -106,
          -106,
          -105,
          -100,
          -112,
          -105,
          -100,
          -107,
          -110,
          -119,
          -107,
          -116,
          -109,
          -103,
          -103,
          -117,
          -100,
          -112,
          -125,
          -110,
          -102,
          -86,
          -121,
          -101,
          -104,
          -110,
          -94,
          -108,
          -102,
          -91,
          -111,
          -107,
          -116,
          -111,
          -109,
          -116,
          -110,
          -107,
          -112,
          -100,
          -92,
          -104,
          -102,
          -104,
          -114,
          -108,
          -115,
          -102,
          -104,
          -101,
          -107,
          -116,
          -99,
          -121,
          -103,
          -100,
          -101,
          -110,
          -112,
          -110,
          -101,
          -89,
          -121,
          -115,
          -107,
          -114,
          -120,
          -107,
          -108,
          -105,
          -107,
          -111,
          -104,
          -110,
          -106,
          -115,
          -106,
          -98,
          -103,
          -126,
          -116,
          -122,
          -107,
          -109,
          -107,
          -102,
          -102,
          -100,
          -112,
          -106,
          -98,
          -111,
          -107,
          -114,
          -108,
          -105,
          -99,
          -110,
          -107,
          -106,
          -103,
          -106,
          -107,
          -109,
          -106,
          -115,
          -109,
          -110,
          -94,
          -101,
          -116,
          -90,
          -111,
          -107,
          -103,
          -104,
          -104,
          -119,
          -115,
          -115,
          -113,
          -113,
          -116,
          -105,
          -118,
          -114,
          -104,
          -110,
          -113,
          -107,
          -102,
          -106,
          -120,
          -115,
          -123,
          -123,
          -111,
          -97,
          -126,
          -104,
          -112,
          -116,
          -109,
          -111,
          -113,
          -108,
          -115,
          -110,
          -117,
          -115,
          -112,
          -116,
          -112,
          -111,
          -114,
          -126,
          -126,
          -122,
          -91,
          -108,
          -126,
          -104,
          -113,
          -115,
          -112,
          -111,
          -106,
          -113,
          -111,
          -117,
          -115,
          -120,
          -117,
          -113,
          -126,
          -109,
          -111,
          -114,
          -129,
          -109,
          -124,
          -109,
          -112,
          -106,
          -112,
          -114,
          -114,
          -125,
          -115,
          -117,
          -119,
          -110,
          -121,
          -111,
          -116,
          -127,
          -116,
          -113,
          -113,
          -129,
          -124,
          -122,
          -125,
          -110,
          -119,
          -129,
          -121,
          -121,
          -119,
          -116,
          -116,
          -121,
          -113,
          -122,
          -129,
          -128,
          -120,
          -111,
          -116,
          -127,
          -110,
          -123,
          -118,
          -127,
          -111,
          -128,
          -129,
          -118,
          -125,
          -116,
          -127,
          -131,
          -129,
          -128,
          -124,
          -116,
          -126
         ],
         "z": [
          -106,
          -101,
          -103,
          -108,
          -97,
          -105,
          -103,
          -103,
          -107,
          -104,
          -105,
          -87,
          -105,
          -107,
          -102,
          -106,
          -103,
          -104,
          -102,
          -100,
          -107,
          -105,
          -106,
          -93,
          -104,
          -98,
          -102,
          -92,
          -102,
          -103,
          -95,
          -102,
          -101,
          -101,
          -107,
          -101,
          -92,
          -105,
          -98,
          -102,
          -96,
          -93,
          -99,
          -106,
          -100,
          -96,
          -107,
          -108,
          -107,
          -100,
          -103,
          -105,
          -91,
          -102,
          -102,
          -101,
          -98,
          -105,
          -101,
          -98,
          -102,
          -104,
          -106,
          -103,
          -105,
          -104,
          -99,
          -100,
          -106,
          -98,
          -105,
          -107,
          -104,
          -99,
          -85,
          -107,
          -98,
          -100,
          -105,
          -91,
          -103,
          -100,
          -91,
          -104,
          -103,
          -106,
          -104,
          -104,
          -108,
          -105,
          -102,
          -104,
          -97,
          -90,
          -101,
          -99,
          -101,
          -105,
          -103,
          -106,
          -99,
          -101,
          -99,
          -102,
          -106,
          -96,
          -106,
          -99,
          -97,
          -98,
          -105,
          -106,
          -104,
          -99,
          -88,
          -108,
          -106,
          -103,
          -106,
          -107,
          -103,
          -104,
          -101,
          -104,
          -104,
          -101,
          -104,
          -102,
          -106,
          -103,
          -96,
          -100,
          -109,
          -106,
          -107,
          -103,
          -104,
          -102,
          -99,
          -99,
          -97,
          -106,
          -102,
          -96,
          -104,
          -103,
          -105,
          -103,
          -101,
          -97,
          -104,
          -103,
          -102,
          -99,
          -102,
          -104,
          -104,
          -102,
          -106,
          -104,
          -104,
          -93,
          -98,
          -106,
          -88,
          -105,
          -102,
          -100,
          -101,
          -100,
          -106,
          -106,
          -105,
          -105,
          -104,
          -106,
          -101,
          -106,
          -105,
          -100,
          -104,
          -105,
          -103,
          -99,
          -103,
          -108,
          -105,
          -106,
          -108,
          -105,
          -95,
          -109,
          -101,
          -105,
          -106,
          -104,
          -105,
          -105,
          -104,
          -105,
          -104,
          -107,
          -106,
          -105,
          -106,
          -105,
          -104,
          -105,
          -107,
          -108,
          -106,
          -89,
          -103,
          -107,
          -101,
          -105,
          -105,
          -105,
          -105,
          -102,
          -105,
          -105,
          -106,
          -106,
          -106,
          -107,
          -105,
          -107,
          -104,
          -105,
          -105,
          -109,
          -104,
          -107,
          -104,
          -105,
          -102,
          -106,
          -105,
          -105,
          -107,
          -106,
          -106,
          -108,
          -104,
          -106,
          -104,
          -108,
          -109,
          -106,
          -105,
          -105,
          -109,
          -107,
          -107,
          -106,
          -104,
          -106,
          -108,
          -108,
          -106,
          -106,
          -106,
          -106,
          -106,
          -105,
          -107,
          -109,
          -109,
          -106,
          -106,
          -106,
          -107,
          -104,
          -106,
          -106,
          -107,
          -105,
          -107,
          -107,
          -106,
          -107,
          -106,
          -106,
          -109,
          -107,
          -107,
          -106,
          -106,
          -106
         ]
        }
       ],
       "layout": {
        "coloraxis": {
         "colorbar": {
          "title": {
           "text": "label"
          }
         },
         "colorscale": [
          [
           0,
           "#0d0887"
          ],
          [
           0.1111111111111111,
           "#46039f"
          ],
          [
           0.2222222222222222,
           "#7201a8"
          ],
          [
           0.3333333333333333,
           "#9c179e"
          ],
          [
           0.4444444444444444,
           "#bd3786"
          ],
          [
           0.5555555555555556,
           "#d8576b"
          ],
          [
           0.6666666666666666,
           "#ed7953"
          ],
          [
           0.7777777777777778,
           "#fb9f3a"
          ],
          [
           0.8888888888888888,
           "#fdca26"
          ],
          [
           1,
           "#f0f921"
          ]
         ]
        },
        "legend": {
         "tracegroupgap": 0
        },
        "margin": {
         "t": 60
        },
        "scene": {
         "domain": {
          "x": [
           0,
           1
          ],
          "y": [
           0,
           1
          ]
         },
         "xaxis": {
          "title": {
           "text": "dev_addr"
          }
         },
         "yaxis": {
          "title": {
           "text": "rssis"
          }
         },
         "zaxis": {
          "title": {
           "text": "rssic"
          }
         }
        },
        "template": {
         "data": {
          "bar": [
           {
            "error_x": {
             "color": "#2a3f5f"
            },
            "error_y": {
             "color": "#2a3f5f"
            },
            "marker": {
             "line": {
              "color": "#E5ECF6",
              "width": 0.5
             }
            },
            "type": "bar"
           }
          ],
          "barpolar": [
           {
            "marker": {
             "line": {
              "color": "#E5ECF6",
              "width": 0.5
             }
            },
            "type": "barpolar"
           }
          ],
          "carpet": [
           {
            "aaxis": {
             "endlinecolor": "#2a3f5f",
             "gridcolor": "white",
             "linecolor": "white",
             "minorgridcolor": "white",
             "startlinecolor": "#2a3f5f"
            },
            "baxis": {
             "endlinecolor": "#2a3f5f",
             "gridcolor": "white",
             "linecolor": "white",
             "minorgridcolor": "white",
             "startlinecolor": "#2a3f5f"
            },
            "type": "carpet"
           }
          ],
          "choropleth": [
           {
            "colorbar": {
             "outlinewidth": 0,
             "ticks": ""
            },
            "type": "choropleth"
           }
          ],
          "contour": [
           {
            "colorbar": {
             "outlinewidth": 0,
             "ticks": ""
            },
            "colorscale": [
             [
              0,
              "#0d0887"
             ],
             [
              0.1111111111111111,
              "#46039f"
             ],
             [
              0.2222222222222222,
              "#7201a8"
             ],
             [
              0.3333333333333333,
              "#9c179e"
             ],
             [
              0.4444444444444444,
              "#bd3786"
             ],
             [
              0.5555555555555556,
              "#d8576b"
             ],
             [
              0.6666666666666666,
              "#ed7953"
             ],
             [
              0.7777777777777778,
              "#fb9f3a"
             ],
             [
              0.8888888888888888,
              "#fdca26"
             ],
             [
              1,
              "#f0f921"
             ]
            ],
            "type": "contour"
           }
          ],
          "contourcarpet": [
           {
            "colorbar": {
             "outlinewidth": 0,
             "ticks": ""
            },
            "type": "contourcarpet"
           }
          ],
          "heatmap": [
           {
            "colorbar": {
             "outlinewidth": 0,
             "ticks": ""
            },
            "colorscale": [
             [
              0,
              "#0d0887"
             ],
             [
              0.1111111111111111,
              "#46039f"
             ],
             [
              0.2222222222222222,
              "#7201a8"
             ],
             [
              0.3333333333333333,
              "#9c179e"
             ],
             [
              0.4444444444444444,
              "#bd3786"
             ],
             [
              0.5555555555555556,
              "#d8576b"
             ],
             [
              0.6666666666666666,
              "#ed7953"
             ],
             [
              0.7777777777777778,
              "#fb9f3a"
             ],
             [
              0.8888888888888888,
              "#fdca26"
             ],
             [
              1,
              "#f0f921"
             ]
            ],
            "type": "heatmap"
           }
          ],
          "heatmapgl": [
           {
            "colorbar": {
             "outlinewidth": 0,
             "ticks": ""
            },
            "colorscale": [
             [
              0,
              "#0d0887"
             ],
             [
              0.1111111111111111,
              "#46039f"
             ],
             [
              0.2222222222222222,
              "#7201a8"
             ],
             [
              0.3333333333333333,
              "#9c179e"
             ],
             [
              0.4444444444444444,
              "#bd3786"
             ],
             [
              0.5555555555555556,
              "#d8576b"
             ],
             [
              0.6666666666666666,
              "#ed7953"
             ],
             [
              0.7777777777777778,
              "#fb9f3a"
             ],
             [
              0.8888888888888888,
              "#fdca26"
             ],
             [
              1,
              "#f0f921"
             ]
            ],
            "type": "heatmapgl"
           }
          ],
          "histogram": [
           {
            "marker": {
             "colorbar": {
              "outlinewidth": 0,
              "ticks": ""
             }
            },
            "type": "histogram"
           }
          ],
          "histogram2d": [
           {
            "colorbar": {
             "outlinewidth": 0,
             "ticks": ""
            },
            "colorscale": [
             [
              0,
              "#0d0887"
             ],
             [
              0.1111111111111111,
              "#46039f"
             ],
             [
              0.2222222222222222,
              "#7201a8"
             ],
             [
              0.3333333333333333,
              "#9c179e"
             ],
             [
              0.4444444444444444,
              "#bd3786"
             ],
             [
              0.5555555555555556,
              "#d8576b"
             ],
             [
              0.6666666666666666,
              "#ed7953"
             ],
             [
              0.7777777777777778,
              "#fb9f3a"
             ],
             [
              0.8888888888888888,
              "#fdca26"
             ],
             [
              1,
              "#f0f921"
             ]
            ],
            "type": "histogram2d"
           }
          ],
          "histogram2dcontour": [
           {
            "colorbar": {
             "outlinewidth": 0,
             "ticks": ""
            },
            "colorscale": [
             [
              0,
              "#0d0887"
             ],
             [
              0.1111111111111111,
              "#46039f"
             ],
             [
              0.2222222222222222,
              "#7201a8"
             ],
             [
              0.3333333333333333,
              "#9c179e"
             ],
             [
              0.4444444444444444,
              "#bd3786"
             ],
             [
              0.5555555555555556,
              "#d8576b"
             ],
             [
              0.6666666666666666,
              "#ed7953"
             ],
             [
              0.7777777777777778,
              "#fb9f3a"
             ],
             [
              0.8888888888888888,
              "#fdca26"
             ],
             [
              1,
              "#f0f921"
             ]
            ],
            "type": "histogram2dcontour"
           }
          ],
          "mesh3d": [
           {
            "colorbar": {
             "outlinewidth": 0,
             "ticks": ""
            },
            "type": "mesh3d"
           }
          ],
          "parcoords": [
           {
            "line": {
             "colorbar": {
              "outlinewidth": 0,
              "ticks": ""
             }
            },
            "type": "parcoords"
           }
          ],
          "pie": [
           {
            "automargin": true,
            "type": "pie"
           }
          ],
          "scatter": [
           {
            "marker": {
             "colorbar": {
              "outlinewidth": 0,
              "ticks": ""
             }
            },
            "type": "scatter"
           }
          ],
          "scatter3d": [
           {
            "line": {
             "colorbar": {
              "outlinewidth": 0,
              "ticks": ""
             }
            },
            "marker": {
             "colorbar": {
              "outlinewidth": 0,
              "ticks": ""
             }
            },
            "type": "scatter3d"
           }
          ],
          "scattercarpet": [
           {
            "marker": {
             "colorbar": {
              "outlinewidth": 0,
              "ticks": ""
             }
            },
            "type": "scattercarpet"
           }
          ],
          "scattergeo": [
           {
            "marker": {
             "colorbar": {
              "outlinewidth": 0,
              "ticks": ""
             }
            },
            "type": "scattergeo"
           }
          ],
          "scattergl": [
           {
            "marker": {
             "colorbar": {
              "outlinewidth": 0,
              "ticks": ""
             }
            },
            "type": "scattergl"
           }
          ],
          "scattermapbox": [
           {
            "marker": {
             "colorbar": {
              "outlinewidth": 0,
              "ticks": ""
             }
            },
            "type": "scattermapbox"
           }
          ],
          "scatterpolar": [
           {
            "marker": {
             "colorbar": {
              "outlinewidth": 0,
              "ticks": ""
             }
            },
            "type": "scatterpolar"
           }
          ],
          "scatterpolargl": [
           {
            "marker": {
             "colorbar": {
              "outlinewidth": 0,
              "ticks": ""
             }
            },
            "type": "scatterpolargl"
           }
          ],
          "scatterternary": [
           {
            "marker": {
             "colorbar": {
              "outlinewidth": 0,
              "ticks": ""
             }
            },
            "type": "scatterternary"
           }
          ],
          "surface": [
           {
            "colorbar": {
             "outlinewidth": 0,
             "ticks": ""
            },
            "colorscale": [
             [
              0,
              "#0d0887"
             ],
             [
              0.1111111111111111,
              "#46039f"
             ],
             [
              0.2222222222222222,
              "#7201a8"
             ],
             [
              0.3333333333333333,
              "#9c179e"
             ],
             [
              0.4444444444444444,
              "#bd3786"
             ],
             [
              0.5555555555555556,
              "#d8576b"
             ],
             [
              0.6666666666666666,
              "#ed7953"
             ],
             [
              0.7777777777777778,
              "#fb9f3a"
             ],
             [
              0.8888888888888888,
              "#fdca26"
             ],
             [
              1,
              "#f0f921"
             ]
            ],
            "type": "surface"
           }
          ],
          "table": [
           {
            "cells": {
             "fill": {
              "color": "#EBF0F8"
             },
             "line": {
              "color": "white"
             }
            },
            "header": {
             "fill": {
              "color": "#C8D4E3"
             },
             "line": {
              "color": "white"
             }
            },
            "type": "table"
           }
          ]
         },
         "layout": {
          "annotationdefaults": {
           "arrowcolor": "#2a3f5f",
           "arrowhead": 0,
           "arrowwidth": 1
          },
          "coloraxis": {
           "colorbar": {
            "outlinewidth": 0,
            "ticks": ""
           }
          },
          "colorscale": {
           "diverging": [
            [
             0,
             "#8e0152"
            ],
            [
             0.1,
             "#c51b7d"
            ],
            [
             0.2,
             "#de77ae"
            ],
            [
             0.3,
             "#f1b6da"
            ],
            [
             0.4,
             "#fde0ef"
            ],
            [
             0.5,
             "#f7f7f7"
            ],
            [
             0.6,
             "#e6f5d0"
            ],
            [
             0.7,
             "#b8e186"
            ],
            [
             0.8,
             "#7fbc41"
            ],
            [
             0.9,
             "#4d9221"
            ],
            [
             1,
             "#276419"
            ]
           ],
           "sequential": [
            [
             0,
             "#0d0887"
            ],
            [
             0.1111111111111111,
             "#46039f"
            ],
            [
             0.2222222222222222,
             "#7201a8"
            ],
            [
             0.3333333333333333,
             "#9c179e"
            ],
            [
             0.4444444444444444,
             "#bd3786"
            ],
            [
             0.5555555555555556,
             "#d8576b"
            ],
            [
             0.6666666666666666,
             "#ed7953"
            ],
            [
             0.7777777777777778,
             "#fb9f3a"
            ],
            [
             0.8888888888888888,
             "#fdca26"
            ],
            [
             1,
             "#f0f921"
            ]
           ],
           "sequentialminus": [
            [
             0,
             "#0d0887"
            ],
            [
             0.1111111111111111,
             "#46039f"
            ],
            [
             0.2222222222222222,
             "#7201a8"
            ],
            [
             0.3333333333333333,
             "#9c179e"
            ],
            [
             0.4444444444444444,
             "#bd3786"
            ],
            [
             0.5555555555555556,
             "#d8576b"
            ],
            [
             0.6666666666666666,
             "#ed7953"
            ],
            [
             0.7777777777777778,
             "#fb9f3a"
            ],
            [
             0.8888888888888888,
             "#fdca26"
            ],
            [
             1,
             "#f0f921"
            ]
           ]
          },
          "colorway": [
           "#636efa",
           "#EF553B",
           "#00cc96",
           "#ab63fa",
           "#FFA15A",
           "#19d3f3",
           "#FF6692",
           "#B6E880",
           "#FF97FF",
           "#FECB52"
          ],
          "font": {
           "color": "#2a3f5f"
          },
          "geo": {
           "bgcolor": "white",
           "lakecolor": "white",
           "landcolor": "#E5ECF6",
           "showlakes": true,
           "showland": true,
           "subunitcolor": "white"
          },
          "hoverlabel": {
           "align": "left"
          },
          "hovermode": "closest",
          "mapbox": {
           "style": "light"
          },
          "paper_bgcolor": "white",
          "plot_bgcolor": "#E5ECF6",
          "polar": {
           "angularaxis": {
            "gridcolor": "white",
            "linecolor": "white",
            "ticks": ""
           },
           "bgcolor": "#E5ECF6",
           "radialaxis": {
            "gridcolor": "white",
            "linecolor": "white",
            "ticks": ""
           }
          },
          "scene": {
           "xaxis": {
            "backgroundcolor": "#E5ECF6",
            "gridcolor": "white",
            "gridwidth": 2,
            "linecolor": "white",
            "showbackground": true,
            "ticks": "",
            "zerolinecolor": "white"
           },
           "yaxis": {
            "backgroundcolor": "#E5ECF6",
            "gridcolor": "white",
            "gridwidth": 2,
            "linecolor": "white",
            "showbackground": true,
            "ticks": "",
            "zerolinecolor": "white"
           },
           "zaxis": {
            "backgroundcolor": "#E5ECF6",
            "gridcolor": "white",
            "gridwidth": 2,
            "linecolor": "white",
            "showbackground": true,
            "ticks": "",
            "zerolinecolor": "white"
           }
          },
          "shapedefaults": {
           "line": {
            "color": "#2a3f5f"
           }
          },
          "ternary": {
           "aaxis": {
            "gridcolor": "white",
            "linecolor": "white",
            "ticks": ""
           },
           "baxis": {
            "gridcolor": "white",
            "linecolor": "white",
            "ticks": ""
           },
           "bgcolor": "#E5ECF6",
           "caxis": {
            "gridcolor": "white",
            "linecolor": "white",
            "ticks": ""
           }
          },
          "title": {
           "x": 0.05
          },
          "xaxis": {
           "automargin": true,
           "gridcolor": "white",
           "linecolor": "white",
           "ticks": "",
           "title": {
            "standoff": 15
           },
           "zerolinecolor": "white",
           "zerolinewidth": 2
          },
          "yaxis": {
           "automargin": true,
           "gridcolor": "white",
           "linecolor": "white",
           "ticks": "",
           "title": {
            "standoff": 15
           },
           "zerolinecolor": "white",
           "zerolinewidth": 2
          }
         }
        }
       }
      },
      "text/html": [
       "<div>\n",
       "        \n",
       "        \n",
       "            <div id=\"4ae43218-05ec-4928-88ac-88504ff64bfb\" class=\"plotly-graph-div\" style=\"height:525px; width:100%;\"></div>\n",
       "            <script type=\"text/javascript\">\n",
       "                require([\"plotly\"], function(Plotly) {\n",
       "                    window.PLOTLYENV=window.PLOTLYENV || {};\n",
       "                    \n",
       "                if (document.getElementById(\"4ae43218-05ec-4928-88ac-88504ff64bfb\")) {\n",
       "                    Plotly.newPlot(\n",
       "                        '4ae43218-05ec-4928-88ac-88504ff64bfb',\n",
       "                        [{\"hovertemplate\": \"dev_addr=%{x}<br>rssis=%{y}<br>rssic=%{z}<br>label=%{marker.color}<extra></extra>\", \"legendgroup\": \"\", \"marker\": {\"color\": [10.0, 6.0, 6.0, 0.0, 4.0, 0.0, 1.0, 4.0, 10.0, 12.0, 11.0, 7.0, 5.0, 3.0, 4.0, 1.0, 1.0, 12.0, 4.0, 6.0, 5.0, 5.0, 0.0, 7.0, 1.0, 2.0, 6.0, 7.0, 1.0, 1.0, 7.0, 1.0, 6.0, 4.0, 12.0, 1.0, 2.0, 5.0, 4.0, 6.0, 2.0, 7.0, 4.0, 11.0, 6.0, 2.0, 10.0, 10.0, 10.0, 4.0, 6.0, 11.0, 7.0, 6.0, 1.0, 4.0, 4.0, 1.0, 6.0, 4.0, 6.0, 11.0, 10.0, 1.0, 11.0, 1.0, 6.0, 4.0, 5.0, 8.0, 11.0, 9.0, 1.0, 4.0, 7.0, 10.0, 4.0, 6.0, 1.0, 8.0, 6.0, 4.0, 7.0, 11.0, 6.0, 3.0, 5.0, 12.0, 0.0, 12.0, 1.0, 5.0, 2.0, 2.0, 4.0, 2.0, 6.0, 5.0, 1.0, 12.0, 4.0, 1.0, 8.0, 4.0, 5.0, 2.0, 3.0, 2.0, 2.0, 2.0, 12.0, 1.0, 5.0, 2.0, 7.0, 3.0, 11.0, 6.0, 11.0, 3.0, 1.0, 12.0, 6.0, 12.0, 5.0, 6.0, 5.0, 6.0, 3.0, 12.0, 2.0, 6.0, 9.0, 5.0, 10.0, 1.0, 1.0, 6.0, 4.0, 4.0, 4.0, 12.0, 6.0, 7.0, 12.0, 12.0, 11.0, 6.0, 6.0, 4.0, 1.0, 12.0, 1.0, 2.0, 4.0, 4.0, 1.0, 6.0, 3.0, 12.0, 1.0, 2.0, 2.0, 5.0, 8.0, 1.0, 4.0, 4.0, 4.0, 6.0, 3.0, 11.0, 11.0, 11.0, 5.0, 11.0, 4.0, 10.0, 10.0, 6.0, 12.0, 12.0, 4.0, 4.0, 6.0, 10.0, 5.0, 3.0, 10.0, 1.0, 2.0, 9.0, 6.0, 5.0, 11.0, 12.0, 5.0, 12.0, 0.0, 5.0, 12.0, 0.0, 11.0, 5.0, 5.0, 12.0, 1.0, 3.0, 9.0, 9.0, 3.0, 7.0, 1.0, 10.0, 4.0, 5.0, 5.0, 1.0, 0.0, 6.0, 11.0, 5.0, 11.0, 5.0, 3.0, 0.0, 5.0, 10.0, 1.0, 11.0, 11.0, 9.0, 6.0, 10.0, 1.0, 5.0, 6.0, 12.0, 5.0, 11.0, 3.0, 5.0, 5.0, 5.0, 11.0, 3.0, 5.0, 12.0, 9.0, 5.0, 1.0, 11.0, 9.0, 3.0, 3.0, 3.0, 5.0, 3.0, 9.0, 5.0, 3.0, 10.0, 3.0, 3.0, 3.0, 11.0, 3.0, 9.0, 9.0, 3.0, 1.0, 5.0, 9.0, 5.0, 3.0, 3.0, 9.0, 12.0, 9.0, 9.0, 3.0, 10.0, 3.0, 9.0, 9.0, 9.0, 9.0, 9.0, 5.0, 9.0], \"coloraxis\": \"coloraxis\", \"opacity\": 0.9, \"symbol\": \"circle\"}, \"mode\": \"markers\", \"name\": \"\", \"scene\": \"scene\", \"showlegend\": false, \"type\": \"scatter3d\", \"x\": [\"00000000\", \"00000001\", \"00000002\", \"00000003\", \"00000004\", \"00000005\", \"00000006\", \"00000007\", \"00000008\", \"00000009\", \"0000000a\", \"0000000b\", \"0000000c\", \"0000000d\", \"0000000e\", \"0000000f\", \"00000010\", \"00000011\", \"00000012\", \"00000013\", \"00000014\", \"00000015\", \"00000016\", \"00000017\", \"00000018\", \"00000019\", \"0000001a\", \"0000001b\", \"0000001c\", \"0000001d\", \"0000001e\", \"0000001f\", \"00000020\", \"00000021\", \"00000022\", \"00000023\", \"00000024\", \"00000025\", \"00000026\", \"00000027\", \"00000028\", \"00000029\", \"0000002a\", \"0000002b\", \"0000002c\", \"0000002d\", \"0000002e\", \"0000002f\", \"00000030\", \"00000031\", \"00000032\", \"00000033\", \"00000034\", \"00000035\", \"00000036\", \"00000037\", \"00000038\", \"00000039\", \"0000003a\", \"0000003b\", \"0000003c\", \"0000003d\", \"0000003e\", \"0000003f\", \"00000040\", \"00000041\", \"00000042\", \"00000043\", \"00000044\", \"00000045\", \"00000046\", \"00000047\", \"00000048\", \"00000049\", \"0000004a\", \"0000004b\", \"0000004c\", \"0000004d\", \"0000004e\", \"0000004f\", \"00000050\", \"00000051\", \"00000052\", \"00000053\", \"00000054\", \"00000055\", \"00000056\", \"00000057\", \"00000058\", \"00000059\", \"0000005a\", \"0000005b\", \"0000005c\", \"0000005d\", \"0000005e\", \"0000005f\", \"00000060\", \"00000061\", \"00000062\", \"00000063\", \"00000064\", \"00000065\", \"00000066\", \"00000067\", \"00000068\", \"00000069\", \"0000006a\", \"0000006b\", \"0000006c\", \"0000006d\", \"0000006e\", \"0000006f\", \"00000070\", \"00000071\", \"00000072\", \"00000073\", \"00000074\", \"00000075\", \"00000076\", \"00000077\", \"00000078\", \"00000079\", \"0000007a\", \"0000007b\", \"0000007c\", \"0000007d\", \"0000007e\", \"0000007f\", \"00000080\", \"00000081\", \"00000082\", \"00000083\", \"00000084\", \"00000085\", \"00000086\", \"00000087\", \"00000088\", \"00000089\", \"0000008a\", \"0000008b\", \"0000008c\", \"0000008d\", \"0000008e\", \"0000008f\", \"00000090\", \"00000091\", \"00000092\", \"00000093\", \"00000094\", \"00000095\", \"00000096\", \"00000097\", \"00000098\", \"00000099\", \"0000009a\", \"0000009b\", \"0000009c\", \"0000009d\", \"0000009e\", \"0000009f\", \"000000a0\", \"000000a1\", \"000000a2\", \"000000a3\", \"000000a4\", \"000000a5\", \"000000a6\", \"000000a7\", \"000000a8\", \"000000a9\", \"000000aa\", \"000000ab\", \"000000ac\", \"000000ad\", \"000000ae\", \"000000af\", \"000000b0\", \"000000b1\", \"000000b2\", \"000000b3\", \"000000b4\", \"000000b5\", \"000000b6\", \"000000b7\", \"000000b8\", \"000000b9\", \"000000ba\", \"000000bb\", \"000000bc\", \"000000bd\", \"000000be\", \"000000bf\", \"000000c0\", \"000000c1\", \"000000c2\", \"000000c3\", \"000000c4\", \"000000c5\", \"000000c6\", \"000000c7\", \"000000c8\", \"000000c9\", \"000000ca\", \"000000cb\", \"000000cc\", \"000000cd\", \"000000ce\", \"000000cf\", \"000000d0\", \"000000d1\", \"000000d2\", \"000000d3\", \"000000d4\", \"000000d5\", \"000000d6\", \"000000d7\", \"000000d8\", \"000000d9\", \"000000da\", \"000000db\", \"000000dc\", \"000000dd\", \"000000de\", \"000000df\", \"000000e0\", \"000000e1\", \"000000e2\", \"000000e3\", \"000000e4\", \"000000e5\", \"000000e6\", \"000000e7\", \"000000e8\", \"000000e9\", \"000000ea\", \"000000eb\", \"000000ec\", \"000000ed\", \"000000ee\", \"000000ef\", \"000000f0\", \"000000f1\", \"000000f2\", \"000000f3\", \"000000f4\", \"000000f5\", \"000000f6\", \"000000f7\", \"000000f8\", \"000000f9\", \"000000fa\", \"000000fb\", \"000000fc\", \"000000fd\", \"000000fe\", \"000000ff\", \"00000100\", \"00000101\", \"00000102\", \"00000103\", \"00000104\", \"00000105\", \"00000106\", \"00000107\", \"00000108\", \"00000109\", \"0000010a\", \"0000010b\", \"0000010c\", \"0000010d\", \"0000010e\", \"0000010f\", \"00000110\", \"00000111\", \"00000112\", \"00000113\", \"00000114\", \"00000115\", \"00000116\", \"00000117\", \"00000118\", \"00000119\", \"0000011a\", \"0000011b\", \"0000011c\", \"0000011d\", \"0000011e\", \"0000011f\", \"00000120\", \"00000121\"], \"y\": [-119, -105, -107, -117, -101, -109, -108, -106, -125, -109, -113, -89, -115, -124, -106, -113, -108, -109, -106, -103, -119, -112, -112, -95, -108, -100, -107, -94, -106, -107, -97, -106, -104, -104, -114, -104, -93, -115, -100, -107, -98, -94, -101, -116, -103, -98, -116, -126, -120, -103, -107, -114, -93, -106, -106, -105, -100, -112, -105, -100, -107, -110, -119, -107, -116, -109, -103, -103, -117, -100, -112, -125, -110, -102, -86, -121, -101, -104, -110, -94, -108, -102, -91, -111, -107, -116, -111, -109, -116, -110, -107, -112, -100, -92, -104, -102, -104, -114, -108, -115, -102, -104, -101, -107, -116, -99, -121, -103, -100, -101, -110, -112, -110, -101, -89, -121, -115, -107, -114, -120, -107, -108, -105, -107, -111, -104, -110, -106, -115, -106, -98, -103, -126, -116, -122, -107, -109, -107, -102, -102, -100, -112, -106, -98, -111, -107, -114, -108, -105, -99, -110, -107, -106, -103, -106, -107, -109, -106, -115, -109, -110, -94, -101, -116, -90, -111, -107, -103, -104, -104, -119, -115, -115, -113, -113, -116, -105, -118, -114, -104, -110, -113, -107, -102, -106, -120, -115, -123, -123, -111, -97, -126, -104, -112, -116, -109, -111, -113, -108, -115, -110, -117, -115, -112, -116, -112, -111, -114, -126, -126, -122, -91, -108, -126, -104, -113, -115, -112, -111, -106, -113, -111, -117, -115, -120, -117, -113, -126, -109, -111, -114, -129, -109, -124, -109, -112, -106, -112, -114, -114, -125, -115, -117, -119, -110, -121, -111, -116, -127, -116, -113, -113, -129, -124, -122, -125, -110, -119, -129, -121, -121, -119, -116, -116, -121, -113, -122, -129, -128, -120, -111, -116, -127, -110, -123, -118, -127, -111, -128, -129, -118, -125, -116, -127, -131, -129, -128, -124, -116, -126], \"z\": [-106, -101, -103, -108, -97, -105, -103, -103, -107, -104, -105, -87, -105, -107, -102, -106, -103, -104, -102, -100, -107, -105, -106, -93, -104, -98, -102, -92, -102, -103, -95, -102, -101, -101, -107, -101, -92, -105, -98, -102, -96, -93, -99, -106, -100, -96, -107, -108, -107, -100, -103, -105, -91, -102, -102, -101, -98, -105, -101, -98, -102, -104, -106, -103, -105, -104, -99, -100, -106, -98, -105, -107, -104, -99, -85, -107, -98, -100, -105, -91, -103, -100, -91, -104, -103, -106, -104, -104, -108, -105, -102, -104, -97, -90, -101, -99, -101, -105, -103, -106, -99, -101, -99, -102, -106, -96, -106, -99, -97, -98, -105, -106, -104, -99, -88, -108, -106, -103, -106, -107, -103, -104, -101, -104, -104, -101, -104, -102, -106, -103, -96, -100, -109, -106, -107, -103, -104, -102, -99, -99, -97, -106, -102, -96, -104, -103, -105, -103, -101, -97, -104, -103, -102, -99, -102, -104, -104, -102, -106, -104, -104, -93, -98, -106, -88, -105, -102, -100, -101, -100, -106, -106, -105, -105, -104, -106, -101, -106, -105, -100, -104, -105, -103, -99, -103, -108, -105, -106, -108, -105, -95, -109, -101, -105, -106, -104, -105, -105, -104, -105, -104, -107, -106, -105, -106, -105, -104, -105, -107, -108, -106, -89, -103, -107, -101, -105, -105, -105, -105, -102, -105, -105, -106, -106, -106, -107, -105, -107, -104, -105, -105, -109, -104, -107, -104, -105, -102, -106, -105, -105, -107, -106, -106, -108, -104, -106, -104, -108, -109, -106, -105, -105, -109, -107, -107, -106, -104, -106, -108, -108, -106, -106, -106, -106, -106, -105, -107, -109, -109, -106, -106, -106, -107, -104, -106, -106, -107, -105, -107, -107, -106, -107, -106, -106, -109, -107, -107, -106, -106, -106]}],\n",
       "                        {\"coloraxis\": {\"colorbar\": {\"title\": {\"text\": \"label\"}}, \"colorscale\": [[0.0, \"#0d0887\"], [0.1111111111111111, \"#46039f\"], [0.2222222222222222, \"#7201a8\"], [0.3333333333333333, \"#9c179e\"], [0.4444444444444444, \"#bd3786\"], [0.5555555555555556, \"#d8576b\"], [0.6666666666666666, \"#ed7953\"], [0.7777777777777778, \"#fb9f3a\"], [0.8888888888888888, \"#fdca26\"], [1.0, \"#f0f921\"]]}, \"legend\": {\"tracegroupgap\": 0}, \"margin\": {\"t\": 60}, \"scene\": {\"domain\": {\"x\": [0.0, 1.0], \"y\": [0.0, 1.0]}, \"xaxis\": {\"title\": {\"text\": \"dev_addr\"}}, \"yaxis\": {\"title\": {\"text\": \"rssis\"}}, \"zaxis\": {\"title\": {\"text\": \"rssic\"}}}, \"template\": {\"data\": {\"bar\": [{\"error_x\": {\"color\": \"#2a3f5f\"}, \"error_y\": {\"color\": \"#2a3f5f\"}, \"marker\": {\"line\": {\"color\": \"#E5ECF6\", \"width\": 0.5}}, \"type\": \"bar\"}], \"barpolar\": [{\"marker\": {\"line\": {\"color\": \"#E5ECF6\", \"width\": 0.5}}, \"type\": \"barpolar\"}], \"carpet\": [{\"aaxis\": {\"endlinecolor\": \"#2a3f5f\", \"gridcolor\": \"white\", \"linecolor\": \"white\", \"minorgridcolor\": \"white\", \"startlinecolor\": \"#2a3f5f\"}, \"baxis\": {\"endlinecolor\": \"#2a3f5f\", \"gridcolor\": \"white\", \"linecolor\": \"white\", \"minorgridcolor\": \"white\", \"startlinecolor\": \"#2a3f5f\"}, \"type\": \"carpet\"}], \"choropleth\": [{\"colorbar\": {\"outlinewidth\": 0, \"ticks\": \"\"}, \"type\": \"choropleth\"}], \"contour\": [{\"colorbar\": {\"outlinewidth\": 0, \"ticks\": \"\"}, \"colorscale\": [[0.0, \"#0d0887\"], [0.1111111111111111, \"#46039f\"], [0.2222222222222222, \"#7201a8\"], [0.3333333333333333, \"#9c179e\"], [0.4444444444444444, \"#bd3786\"], [0.5555555555555556, \"#d8576b\"], [0.6666666666666666, \"#ed7953\"], [0.7777777777777778, \"#fb9f3a\"], [0.8888888888888888, \"#fdca26\"], [1.0, \"#f0f921\"]], \"type\": \"contour\"}], \"contourcarpet\": [{\"colorbar\": {\"outlinewidth\": 0, \"ticks\": \"\"}, \"type\": \"contourcarpet\"}], \"heatmap\": [{\"colorbar\": {\"outlinewidth\": 0, \"ticks\": \"\"}, \"colorscale\": [[0.0, \"#0d0887\"], [0.1111111111111111, \"#46039f\"], [0.2222222222222222, \"#7201a8\"], [0.3333333333333333, \"#9c179e\"], [0.4444444444444444, \"#bd3786\"], [0.5555555555555556, \"#d8576b\"], [0.6666666666666666, \"#ed7953\"], [0.7777777777777778, \"#fb9f3a\"], [0.8888888888888888, \"#fdca26\"], [1.0, \"#f0f921\"]], \"type\": \"heatmap\"}], \"heatmapgl\": [{\"colorbar\": {\"outlinewidth\": 0, \"ticks\": \"\"}, \"colorscale\": [[0.0, \"#0d0887\"], [0.1111111111111111, \"#46039f\"], [0.2222222222222222, \"#7201a8\"], [0.3333333333333333, \"#9c179e\"], [0.4444444444444444, \"#bd3786\"], [0.5555555555555556, \"#d8576b\"], [0.6666666666666666, \"#ed7953\"], [0.7777777777777778, \"#fb9f3a\"], [0.8888888888888888, \"#fdca26\"], [1.0, \"#f0f921\"]], \"type\": \"heatmapgl\"}], \"histogram\": [{\"marker\": {\"colorbar\": {\"outlinewidth\": 0, \"ticks\": \"\"}}, \"type\": \"histogram\"}], \"histogram2d\": [{\"colorbar\": {\"outlinewidth\": 0, \"ticks\": \"\"}, \"colorscale\": [[0.0, \"#0d0887\"], [0.1111111111111111, \"#46039f\"], [0.2222222222222222, \"#7201a8\"], [0.3333333333333333, \"#9c179e\"], [0.4444444444444444, \"#bd3786\"], [0.5555555555555556, \"#d8576b\"], [0.6666666666666666, \"#ed7953\"], [0.7777777777777778, \"#fb9f3a\"], [0.8888888888888888, \"#fdca26\"], [1.0, \"#f0f921\"]], \"type\": \"histogram2d\"}], \"histogram2dcontour\": [{\"colorbar\": {\"outlinewidth\": 0, \"ticks\": \"\"}, \"colorscale\": [[0.0, \"#0d0887\"], [0.1111111111111111, \"#46039f\"], [0.2222222222222222, \"#7201a8\"], [0.3333333333333333, \"#9c179e\"], [0.4444444444444444, \"#bd3786\"], [0.5555555555555556, \"#d8576b\"], [0.6666666666666666, \"#ed7953\"], [0.7777777777777778, \"#fb9f3a\"], [0.8888888888888888, \"#fdca26\"], [1.0, \"#f0f921\"]], \"type\": \"histogram2dcontour\"}], \"mesh3d\": [{\"colorbar\": {\"outlinewidth\": 0, \"ticks\": \"\"}, \"type\": \"mesh3d\"}], \"parcoords\": [{\"line\": {\"colorbar\": {\"outlinewidth\": 0, \"ticks\": \"\"}}, \"type\": \"parcoords\"}], \"pie\": [{\"automargin\": true, \"type\": \"pie\"}], \"scatter\": [{\"marker\": {\"colorbar\": {\"outlinewidth\": 0, \"ticks\": \"\"}}, \"type\": \"scatter\"}], \"scatter3d\": [{\"line\": {\"colorbar\": {\"outlinewidth\": 0, \"ticks\": \"\"}}, \"marker\": {\"colorbar\": {\"outlinewidth\": 0, \"ticks\": \"\"}}, \"type\": \"scatter3d\"}], \"scattercarpet\": [{\"marker\": {\"colorbar\": {\"outlinewidth\": 0, \"ticks\": \"\"}}, \"type\": \"scattercarpet\"}], \"scattergeo\": [{\"marker\": {\"colorbar\": {\"outlinewidth\": 0, \"ticks\": \"\"}}, \"type\": \"scattergeo\"}], \"scattergl\": [{\"marker\": {\"colorbar\": {\"outlinewidth\": 0, \"ticks\": \"\"}}, \"type\": \"scattergl\"}], \"scattermapbox\": [{\"marker\": {\"colorbar\": {\"outlinewidth\": 0, \"ticks\": \"\"}}, \"type\": \"scattermapbox\"}], \"scatterpolar\": [{\"marker\": {\"colorbar\": {\"outlinewidth\": 0, \"ticks\": \"\"}}, \"type\": \"scatterpolar\"}], \"scatterpolargl\": [{\"marker\": {\"colorbar\": {\"outlinewidth\": 0, \"ticks\": \"\"}}, \"type\": \"scatterpolargl\"}], \"scatterternary\": [{\"marker\": {\"colorbar\": {\"outlinewidth\": 0, \"ticks\": \"\"}}, \"type\": \"scatterternary\"}], \"surface\": [{\"colorbar\": {\"outlinewidth\": 0, \"ticks\": \"\"}, \"colorscale\": [[0.0, \"#0d0887\"], [0.1111111111111111, \"#46039f\"], [0.2222222222222222, \"#7201a8\"], [0.3333333333333333, \"#9c179e\"], [0.4444444444444444, \"#bd3786\"], [0.5555555555555556, \"#d8576b\"], [0.6666666666666666, \"#ed7953\"], [0.7777777777777778, \"#fb9f3a\"], [0.8888888888888888, \"#fdca26\"], [1.0, \"#f0f921\"]], \"type\": \"surface\"}], \"table\": [{\"cells\": {\"fill\": {\"color\": \"#EBF0F8\"}, \"line\": {\"color\": \"white\"}}, \"header\": {\"fill\": {\"color\": \"#C8D4E3\"}, \"line\": {\"color\": \"white\"}}, \"type\": \"table\"}]}, \"layout\": {\"annotationdefaults\": {\"arrowcolor\": \"#2a3f5f\", \"arrowhead\": 0, \"arrowwidth\": 1}, \"coloraxis\": {\"colorbar\": {\"outlinewidth\": 0, \"ticks\": \"\"}}, \"colorscale\": {\"diverging\": [[0, \"#8e0152\"], [0.1, \"#c51b7d\"], [0.2, \"#de77ae\"], [0.3, \"#f1b6da\"], [0.4, \"#fde0ef\"], [0.5, \"#f7f7f7\"], [0.6, \"#e6f5d0\"], [0.7, \"#b8e186\"], [0.8, \"#7fbc41\"], [0.9, \"#4d9221\"], [1, \"#276419\"]], \"sequential\": [[0.0, \"#0d0887\"], [0.1111111111111111, \"#46039f\"], [0.2222222222222222, \"#7201a8\"], [0.3333333333333333, \"#9c179e\"], [0.4444444444444444, \"#bd3786\"], [0.5555555555555556, \"#d8576b\"], [0.6666666666666666, \"#ed7953\"], [0.7777777777777778, \"#fb9f3a\"], [0.8888888888888888, \"#fdca26\"], [1.0, \"#f0f921\"]], \"sequentialminus\": [[0.0, \"#0d0887\"], [0.1111111111111111, \"#46039f\"], [0.2222222222222222, \"#7201a8\"], [0.3333333333333333, \"#9c179e\"], [0.4444444444444444, \"#bd3786\"], [0.5555555555555556, \"#d8576b\"], [0.6666666666666666, \"#ed7953\"], [0.7777777777777778, \"#fb9f3a\"], [0.8888888888888888, \"#fdca26\"], [1.0, \"#f0f921\"]]}, \"colorway\": [\"#636efa\", \"#EF553B\", \"#00cc96\", \"#ab63fa\", \"#FFA15A\", \"#19d3f3\", \"#FF6692\", \"#B6E880\", \"#FF97FF\", \"#FECB52\"], \"font\": {\"color\": \"#2a3f5f\"}, \"geo\": {\"bgcolor\": \"white\", \"lakecolor\": \"white\", \"landcolor\": \"#E5ECF6\", \"showlakes\": true, \"showland\": true, \"subunitcolor\": \"white\"}, \"hoverlabel\": {\"align\": \"left\"}, \"hovermode\": \"closest\", \"mapbox\": {\"style\": \"light\"}, \"paper_bgcolor\": \"white\", \"plot_bgcolor\": \"#E5ECF6\", \"polar\": {\"angularaxis\": {\"gridcolor\": \"white\", \"linecolor\": \"white\", \"ticks\": \"\"}, \"bgcolor\": \"#E5ECF6\", \"radialaxis\": {\"gridcolor\": \"white\", \"linecolor\": \"white\", \"ticks\": \"\"}}, \"scene\": {\"xaxis\": {\"backgroundcolor\": \"#E5ECF6\", \"gridcolor\": \"white\", \"gridwidth\": 2, \"linecolor\": \"white\", \"showbackground\": true, \"ticks\": \"\", \"zerolinecolor\": \"white\"}, \"yaxis\": {\"backgroundcolor\": \"#E5ECF6\", \"gridcolor\": \"white\", \"gridwidth\": 2, \"linecolor\": \"white\", \"showbackground\": true, \"ticks\": \"\", \"zerolinecolor\": \"white\"}, \"zaxis\": {\"backgroundcolor\": \"#E5ECF6\", \"gridcolor\": \"white\", \"gridwidth\": 2, \"linecolor\": \"white\", \"showbackground\": true, \"ticks\": \"\", \"zerolinecolor\": \"white\"}}, \"shapedefaults\": {\"line\": {\"color\": \"#2a3f5f\"}}, \"ternary\": {\"aaxis\": {\"gridcolor\": \"white\", \"linecolor\": \"white\", \"ticks\": \"\"}, \"baxis\": {\"gridcolor\": \"white\", \"linecolor\": \"white\", \"ticks\": \"\"}, \"bgcolor\": \"#E5ECF6\", \"caxis\": {\"gridcolor\": \"white\", \"linecolor\": \"white\", \"ticks\": \"\"}}, \"title\": {\"x\": 0.05}, \"xaxis\": {\"automargin\": true, \"gridcolor\": \"white\", \"linecolor\": \"white\", \"ticks\": \"\", \"title\": {\"standoff\": 15}, \"zerolinecolor\": \"white\", \"zerolinewidth\": 2}, \"yaxis\": {\"automargin\": true, \"gridcolor\": \"white\", \"linecolor\": \"white\", \"ticks\": \"\", \"title\": {\"standoff\": 15}, \"zerolinecolor\": \"white\", \"zerolinewidth\": 2}}}},\n",
       "                        {\"responsive\": true}\n",
       "                    ).then(function(){\n",
       "                            \n",
       "var gd = document.getElementById('4ae43218-05ec-4928-88ac-88504ff64bfb');\n",
       "var x = new MutationObserver(function (mutations, observer) {{\n",
       "        var display = window.getComputedStyle(gd).display;\n",
       "        if (!display || display === 'none') {{\n",
       "            console.log([gd, 'removed!']);\n",
       "            Plotly.purge(gd);\n",
       "            observer.disconnect();\n",
       "        }}\n",
       "}});\n",
       "\n",
       "// Listen for the removal of the full notebook cells\n",
       "var notebookContainer = gd.closest('#notebook-container');\n",
       "if (notebookContainer) {{\n",
       "    x.observe(notebookContainer, {childList: true});\n",
       "}}\n",
       "\n",
       "// Listen for the clearing of the current output cell\n",
       "var outputEl = gd.closest('.output');\n",
       "if (outputEl) {{\n",
       "    x.observe(outputEl, {childList: true});\n",
       "}}\n",
       "\n",
       "                        })\n",
       "                };\n",
       "                });\n",
       "            </script>\n",
       "        </div>"
      ]
     },
     "metadata": {},
     "output_type": "display_data"
    }
   ],
   "source": [
    "fig = px.scatter_3d(labeled_df, x='dev_addr', y='rssis', z='rssic',\n",
    "                color='label', size_max=100,\n",
    "                opacity=0.9)\n",
    "fig.show()"
   ]
  },
  {
   "cell_type": "code",
   "execution_count": 69,
   "metadata": {},
   "outputs": [
    {
     "data": {
      "application/vnd.plotly.v1+json": {
       "config": {
        "plotlyServerURL": "https://plot.ly"
       },
       "data": [
        {
         "hovertemplate": "lsnr=%{x}<br>rssic=%{y}<br>FCnt=%{z}<br>label=%{marker.color}<extra></extra>",
         "legendgroup": "",
         "marker": {
          "color": [
           10,
           6,
           6,
           0,
           4,
           0,
           1,
           4,
           10,
           12,
           11,
           7,
           5,
           3,
           4,
           1,
           1,
           12,
           4,
           6,
           5,
           5,
           0,
           7,
           1,
           2,
           6,
           7,
           1,
           1,
           7,
           1,
           6,
           4,
           12,
           1,
           2,
           5,
           4,
           6,
           2,
           7,
           4,
           11,
           6,
           2,
           10,
           10,
           10,
           4,
           6,
           11,
           7,
           6,
           1,
           4,
           4,
           1,
           6,
           4,
           6,
           11,
           10,
           1,
           11,
           1,
           6,
           4,
           5,
           8,
           11,
           9,
           1,
           4,
           7,
           10,
           4,
           6,
           1,
           8,
           6,
           4,
           7,
           11,
           6,
           3,
           5,
           12,
           0,
           12,
           1,
           5,
           2,
           2,
           4,
           2,
           6,
           5,
           1,
           12,
           4,
           1,
           8,
           4,
           5,
           2,
           3,
           2,
           2,
           2,
           12,
           1,
           5,
           2,
           7,
           3,
           11,
           6,
           11,
           3,
           1,
           12,
           6,
           12,
           5,
           6,
           5,
           6,
           3,
           12,
           2,
           6,
           9,
           5,
           10,
           1,
           1,
           6,
           4,
           4,
           4,
           12,
           6,
           7,
           12,
           12,
           11,
           6,
           6,
           4,
           1,
           12,
           1,
           2,
           4,
           4,
           1,
           6,
           3,
           12,
           1,
           2,
           2,
           5,
           8,
           1,
           4,
           4,
           4,
           6,
           3,
           11,
           11,
           11,
           5,
           11,
           4,
           10,
           10,
           6,
           12,
           12,
           4,
           4,
           6,
           10,
           5,
           3,
           10,
           1,
           2,
           9,
           6,
           5,
           11,
           12,
           5,
           12,
           0,
           5,
           12,
           0,
           11,
           5,
           5,
           12,
           1,
           3,
           9,
           9,
           3,
           7,
           1,
           10,
           4,
           5,
           5,
           1,
           0,
           6,
           11,
           5,
           11,
           5,
           3,
           0,
           5,
           10,
           1,
           11,
           11,
           9,
           6,
           10,
           1,
           5,
           6,
           12,
           5,
           11,
           3,
           5,
           5,
           5,
           11,
           3,
           5,
           12,
           9,
           5,
           1,
           11,
           9,
           3,
           3,
           3,
           5,
           3,
           9,
           5,
           3,
           10,
           3,
           3,
           3,
           11,
           3,
           9,
           9,
           3,
           1,
           5,
           9,
           5,
           3,
           3,
           9,
           12,
           9,
           9,
           3,
           10,
           3,
           9,
           9,
           9,
           9,
           9,
           5,
           9
          ],
          "coloraxis": "coloraxis",
          "opacity": 0.9,
          "symbol": "circle"
         },
         "mode": "markers",
         "name": "",
         "scene": "scene",
         "showlegend": false,
         "type": "scatter3d",
         "x": [
          -11,
          1,
          0,
          -7,
          4,
          -1,
          0,
          0,
          -17,
          -1,
          -6,
          7,
          -7,
          -16,
          0,
          -4,
          -1,
          -2,
          0,
          2,
          -10,
          -5,
          -3,
          8,
          -1,
          5,
          0,
          8,
          0,
          0,
          7,
          0,
          2,
          2,
          -5,
          2,
          9,
          -8,
          5,
          0,
          6,
          8,
          4,
          -8,
          2,
          6,
          -8,
          -17,
          -11,
          2,
          0,
          -7,
          8,
          0,
          0,
          1,
          4,
          -4,
          1,
          5,
          0,
          -3,
          -12,
          0,
          -8,
          -1,
          2,
          3,
          -10,
          6,
          -5,
          -16,
          -3,
          3,
          11,
          -13,
          3,
          2,
          -2,
          7,
          -1,
          3,
          11,
          -4,
          0,
          -9,
          -4,
          -1,
          -6,
          -2,
          0,
          -5,
          5,
          9,
          2,
          3,
          2,
          -6,
          -1,
          -7,
          4,
          2,
          5,
          0,
          -8,
          5,
          -13,
          2,
          4,
          3,
          -3,
          -4,
          -3,
          5,
          11,
          -12,
          -7,
          0,
          -6,
          -11,
          0,
          -1,
          1,
          0,
          -4,
          1,
          -3,
          0,
          -7,
          1,
          5,
          3,
          -16,
          -8,
          -13,
          0,
          -2,
          0,
          4,
          3,
          5,
          -3,
          0,
          7,
          -4,
          0,
          -6,
          -1,
          0,
          5,
          -3,
          0,
          1,
          2,
          0,
          0,
          0,
          0,
          -8,
          0,
          -2,
          9,
          3,
          -8,
          10,
          -4,
          0,
          2,
          2,
          2,
          -12,
          -7,
          -8,
          -6,
          -6,
          -9,
          1,
          -11,
          -6,
          2,
          -3,
          -5,
          0,
          3,
          0,
          -11,
          -8,
          -16,
          -15,
          -2,
          7,
          -16,
          2,
          -5,
          -8,
          -2,
          -4,
          -5,
          0,
          -8,
          -3,
          -8,
          -7,
          -4,
          -9,
          -4,
          -4,
          -7,
          -18,
          -17,
          -14,
          9,
          -1,
          -18,
          2,
          -6,
          -7,
          -4,
          -3,
          0,
          -6,
          -3,
          -9,
          -8,
          -12,
          -8,
          -6,
          -17,
          -2,
          -4,
          -7,
          -19,
          -2,
          -16,
          -2,
          -5,
          0,
          -3,
          -7,
          -7,
          -18,
          -7,
          -9,
          -10,
          -3,
          -14,
          -4,
          -7,
          -18,
          -8,
          -5,
          -5,
          -18,
          -15,
          -14,
          -18,
          -3,
          -12,
          -19,
          -12,
          -14,
          -11,
          -8,
          -8,
          -13,
          -5,
          -14,
          -19,
          -18,
          -13,
          -3,
          -8,
          -18,
          -4,
          -16,
          -10,
          -19,
          -4,
          -19,
          -21,
          -10,
          -16,
          -8,
          -19,
          -21,
          -21,
          -20,
          -17,
          -8,
          -19
         ],
         "y": [
          -106,
          -101,
          -103,
          -108,
          -97,
          -105,
          -103,
          -103,
          -107,
          -104,
          -105,
          -87,
          -105,
          -107,
          -102,
          -106,
          -103,
          -104,
          -102,
          -100,
          -107,
          -105,
          -106,
          -93,
          -104,
          -98,
          -102,
          -92,
          -102,
          -103,
          -95,
          -102,
          -101,
          -101,
          -107,
          -101,
          -92,
          -105,
          -98,
          -102,
          -96,
          -93,
          -99,
          -106,
          -100,
          -96,
          -107,
          -108,
          -107,
          -100,
          -103,
          -105,
          -91,
          -102,
          -102,
          -101,
          -98,
          -105,
          -101,
          -98,
          -102,
          -104,
          -106,
          -103,
          -105,
          -104,
          -99,
          -100,
          -106,
          -98,
          -105,
          -107,
          -104,
          -99,
          -85,
          -107,
          -98,
          -100,
          -105,
          -91,
          -103,
          -100,
          -91,
          -104,
          -103,
          -106,
          -104,
          -104,
          -108,
          -105,
          -102,
          -104,
          -97,
          -90,
          -101,
          -99,
          -101,
          -105,
          -103,
          -106,
          -99,
          -101,
          -99,
          -102,
          -106,
          -96,
          -106,
          -99,
          -97,
          -98,
          -105,
          -106,
          -104,
          -99,
          -88,
          -108,
          -106,
          -103,
          -106,
          -107,
          -103,
          -104,
          -101,
          -104,
          -104,
          -101,
          -104,
          -102,
          -106,
          -103,
          -96,
          -100,
          -109,
          -106,
          -107,
          -103,
          -104,
          -102,
          -99,
          -99,
          -97,
          -106,
          -102,
          -96,
          -104,
          -103,
          -105,
          -103,
          -101,
          -97,
          -104,
          -103,
          -102,
          -99,
          -102,
          -104,
          -104,
          -102,
          -106,
          -104,
          -104,
          -93,
          -98,
          -106,
          -88,
          -105,
          -102,
          -100,
          -101,
          -100,
          -106,
          -106,
          -105,
          -105,
          -104,
          -106,
          -101,
          -106,
          -105,
          -100,
          -104,
          -105,
          -103,
          -99,
          -103,
          -108,
          -105,
          -106,
          -108,
          -105,
          -95,
          -109,
          -101,
          -105,
          -106,
          -104,
          -105,
          -105,
          -104,
          -105,
          -104,
          -107,
          -106,
          -105,
          -106,
          -105,
          -104,
          -105,
          -107,
          -108,
          -106,
          -89,
          -103,
          -107,
          -101,
          -105,
          -105,
          -105,
          -105,
          -102,
          -105,
          -105,
          -106,
          -106,
          -106,
          -107,
          -105,
          -107,
          -104,
          -105,
          -105,
          -109,
          -104,
          -107,
          -104,
          -105,
          -102,
          -106,
          -105,
          -105,
          -107,
          -106,
          -106,
          -108,
          -104,
          -106,
          -104,
          -108,
          -109,
          -106,
          -105,
          -105,
          -109,
          -107,
          -107,
          -106,
          -104,
          -106,
          -108,
          -108,
          -106,
          -106,
          -106,
          -106,
          -106,
          -105,
          -107,
          -109,
          -109,
          -106,
          -106,
          -106,
          -107,
          -104,
          -106,
          -106,
          -107,
          -105,
          -107,
          -107,
          -106,
          -107,
          -106,
          -106,
          -109,
          -107,
          -107,
          -106,
          -106,
          -106
         ],
         "z": [
          1446,
          2852,
          2455,
          211,
          2058,
          201,
          1982,
          2144,
          858,
          1725,
          1829,
          2270,
          1544,
          912,
          1888,
          1336,
          1995,
          1439,
          2141,
          3042,
          1546,
          1571,
          199,
          2620,
          1878,
          2004,
          2889,
          1990,
          1994,
          2102,
          2440,
          1910,
          2718,
          1898,
          1775,
          1646,
          1561,
          1463,
          1544,
          2243,
          2705,
          2205,
          2160,
          2446,
          2378,
          2341,
          1250,
          1312,
          734,
          2026,
          2225,
          2416,
          2947,
          2640,
          1740,
          2100,
          2610,
          1582,
          2036,
          2599,
          2325,
          1780,
          1083,
          1779,
          1907,
          2175,
          2876,
          1813,
          1295,
          199,
          2314,
          199,
          1755,
          1765,
          2431,
          1491,
          3025,
          2320,
          2218,
          199,
          2889,
          1981,
          3171,
          2050,
          2356,
          1481,
          1583,
          1669,
          205,
          1805,
          1753,
          1394,
          2313,
          1930,
          1872,
          1969,
          2734,
          1632,
          1843,
          1402,
          2846,
          1875,
          208,
          2109,
          1371,
          2297,
          1462,
          1917,
          2106,
          2096,
          1669,
          1542,
          1197,
          1884,
          2982,
          1219,
          2023,
          2527,
          2370,
          1352,
          2097,
          1942,
          2275,
          2296,
          1723,
          2106,
          1546,
          2060,
          1509,
          1631,
          2379,
          2387,
          196,
          1569,
          1167,
          2044,
          1506,
          2687,
          1815,
          1653,
          1509,
          1723,
          2177,
          2982,
          1501,
          1904,
          1985,
          2250,
          2256,
          2657,
          2242,
          1883,
          1885,
          2090,
          2088,
          2041,
          1957,
          2063,
          1463,
          2139,
          2071,
          1900,
          1898,
          1725,
          199,
          2037,
          2510,
          2174,
          1764,
          1986,
          1680,
          1918,
          2091,
          2303,
          1310,
          1878,
          2063,
          1379,
          1571,
          2059,
          1598,
          1355,
          2135,
          1997,
          2850,
          1531,
          1541,
          1172,
          1236,
          1401,
          2034,
          196,
          2384,
          1292,
          2196,
          1554,
          1511,
          1663,
          198,
          1390,
          1547,
          202,
          2026,
          1532,
          1480,
          1462,
          1665,
          1565,
          896,
          486,
          1195,
          2006,
          1417,
          1019,
          1642,
          1207,
          1118,
          1873,
          198,
          2192,
          1778,
          1536,
          2067,
          1415,
          1096,
          199,
          1701,
          981,
          1155,
          2090,
          1807,
          1009,
          2973,
          983,
          1384,
          1353,
          2569,
          1452,
          1464,
          2187,
          1206,
          1320,
          1618,
          1450,
          1874,
          963,
          1691,
          1714,
          192,
          1579,
          1823,
          1868,
          195,
          1323,
          1120,
          1153,
          1347,
          1264,
          654,
          1359,
          1184,
          1156,
          1626,
          1328,
          962,
          2239,
          1347,
          1093,
          1104,
          1234,
          1758,
          1385,
          950,
          1470,
          1109,
          1688,
          966,
          2012,
          189,
          692,
          1517,
          698,
          1384,
          339,
          246,
          189,
          216,
          863,
          1696,
          877
         ]
        }
       ],
       "layout": {
        "coloraxis": {
         "colorbar": {
          "title": {
           "text": "label"
          }
         },
         "colorscale": [
          [
           0,
           "#0d0887"
          ],
          [
           0.1111111111111111,
           "#46039f"
          ],
          [
           0.2222222222222222,
           "#7201a8"
          ],
          [
           0.3333333333333333,
           "#9c179e"
          ],
          [
           0.4444444444444444,
           "#bd3786"
          ],
          [
           0.5555555555555556,
           "#d8576b"
          ],
          [
           0.6666666666666666,
           "#ed7953"
          ],
          [
           0.7777777777777778,
           "#fb9f3a"
          ],
          [
           0.8888888888888888,
           "#fdca26"
          ],
          [
           1,
           "#f0f921"
          ]
         ]
        },
        "legend": {
         "tracegroupgap": 0
        },
        "margin": {
         "t": 60
        },
        "scene": {
         "domain": {
          "x": [
           0,
           1
          ],
          "y": [
           0,
           1
          ]
         },
         "xaxis": {
          "title": {
           "text": "lsnr"
          }
         },
         "yaxis": {
          "title": {
           "text": "rssic"
          }
         },
         "zaxis": {
          "title": {
           "text": "FCnt"
          }
         }
        },
        "template": {
         "data": {
          "bar": [
           {
            "error_x": {
             "color": "#2a3f5f"
            },
            "error_y": {
             "color": "#2a3f5f"
            },
            "marker": {
             "line": {
              "color": "#E5ECF6",
              "width": 0.5
             }
            },
            "type": "bar"
           }
          ],
          "barpolar": [
           {
            "marker": {
             "line": {
              "color": "#E5ECF6",
              "width": 0.5
             }
            },
            "type": "barpolar"
           }
          ],
          "carpet": [
           {
            "aaxis": {
             "endlinecolor": "#2a3f5f",
             "gridcolor": "white",
             "linecolor": "white",
             "minorgridcolor": "white",
             "startlinecolor": "#2a3f5f"
            },
            "baxis": {
             "endlinecolor": "#2a3f5f",
             "gridcolor": "white",
             "linecolor": "white",
             "minorgridcolor": "white",
             "startlinecolor": "#2a3f5f"
            },
            "type": "carpet"
           }
          ],
          "choropleth": [
           {
            "colorbar": {
             "outlinewidth": 0,
             "ticks": ""
            },
            "type": "choropleth"
           }
          ],
          "contour": [
           {
            "colorbar": {
             "outlinewidth": 0,
             "ticks": ""
            },
            "colorscale": [
             [
              0,
              "#0d0887"
             ],
             [
              0.1111111111111111,
              "#46039f"
             ],
             [
              0.2222222222222222,
              "#7201a8"
             ],
             [
              0.3333333333333333,
              "#9c179e"
             ],
             [
              0.4444444444444444,
              "#bd3786"
             ],
             [
              0.5555555555555556,
              "#d8576b"
             ],
             [
              0.6666666666666666,
              "#ed7953"
             ],
             [
              0.7777777777777778,
              "#fb9f3a"
             ],
             [
              0.8888888888888888,
              "#fdca26"
             ],
             [
              1,
              "#f0f921"
             ]
            ],
            "type": "contour"
           }
          ],
          "contourcarpet": [
           {
            "colorbar": {
             "outlinewidth": 0,
             "ticks": ""
            },
            "type": "contourcarpet"
           }
          ],
          "heatmap": [
           {
            "colorbar": {
             "outlinewidth": 0,
             "ticks": ""
            },
            "colorscale": [
             [
              0,
              "#0d0887"
             ],
             [
              0.1111111111111111,
              "#46039f"
             ],
             [
              0.2222222222222222,
              "#7201a8"
             ],
             [
              0.3333333333333333,
              "#9c179e"
             ],
             [
              0.4444444444444444,
              "#bd3786"
             ],
             [
              0.5555555555555556,
              "#d8576b"
             ],
             [
              0.6666666666666666,
              "#ed7953"
             ],
             [
              0.7777777777777778,
              "#fb9f3a"
             ],
             [
              0.8888888888888888,
              "#fdca26"
             ],
             [
              1,
              "#f0f921"
             ]
            ],
            "type": "heatmap"
           }
          ],
          "heatmapgl": [
           {
            "colorbar": {
             "outlinewidth": 0,
             "ticks": ""
            },
            "colorscale": [
             [
              0,
              "#0d0887"
             ],
             [
              0.1111111111111111,
              "#46039f"
             ],
             [
              0.2222222222222222,
              "#7201a8"
             ],
             [
              0.3333333333333333,
              "#9c179e"
             ],
             [
              0.4444444444444444,
              "#bd3786"
             ],
             [
              0.5555555555555556,
              "#d8576b"
             ],
             [
              0.6666666666666666,
              "#ed7953"
             ],
             [
              0.7777777777777778,
              "#fb9f3a"
             ],
             [
              0.8888888888888888,
              "#fdca26"
             ],
             [
              1,
              "#f0f921"
             ]
            ],
            "type": "heatmapgl"
           }
          ],
          "histogram": [
           {
            "marker": {
             "colorbar": {
              "outlinewidth": 0,
              "ticks": ""
             }
            },
            "type": "histogram"
           }
          ],
          "histogram2d": [
           {
            "colorbar": {
             "outlinewidth": 0,
             "ticks": ""
            },
            "colorscale": [
             [
              0,
              "#0d0887"
             ],
             [
              0.1111111111111111,
              "#46039f"
             ],
             [
              0.2222222222222222,
              "#7201a8"
             ],
             [
              0.3333333333333333,
              "#9c179e"
             ],
             [
              0.4444444444444444,
              "#bd3786"
             ],
             [
              0.5555555555555556,
              "#d8576b"
             ],
             [
              0.6666666666666666,
              "#ed7953"
             ],
             [
              0.7777777777777778,
              "#fb9f3a"
             ],
             [
              0.8888888888888888,
              "#fdca26"
             ],
             [
              1,
              "#f0f921"
             ]
            ],
            "type": "histogram2d"
           }
          ],
          "histogram2dcontour": [
           {
            "colorbar": {
             "outlinewidth": 0,
             "ticks": ""
            },
            "colorscale": [
             [
              0,
              "#0d0887"
             ],
             [
              0.1111111111111111,
              "#46039f"
             ],
             [
              0.2222222222222222,
              "#7201a8"
             ],
             [
              0.3333333333333333,
              "#9c179e"
             ],
             [
              0.4444444444444444,
              "#bd3786"
             ],
             [
              0.5555555555555556,
              "#d8576b"
             ],
             [
              0.6666666666666666,
              "#ed7953"
             ],
             [
              0.7777777777777778,
              "#fb9f3a"
             ],
             [
              0.8888888888888888,
              "#fdca26"
             ],
             [
              1,
              "#f0f921"
             ]
            ],
            "type": "histogram2dcontour"
           }
          ],
          "mesh3d": [
           {
            "colorbar": {
             "outlinewidth": 0,
             "ticks": ""
            },
            "type": "mesh3d"
           }
          ],
          "parcoords": [
           {
            "line": {
             "colorbar": {
              "outlinewidth": 0,
              "ticks": ""
             }
            },
            "type": "parcoords"
           }
          ],
          "pie": [
           {
            "automargin": true,
            "type": "pie"
           }
          ],
          "scatter": [
           {
            "marker": {
             "colorbar": {
              "outlinewidth": 0,
              "ticks": ""
             }
            },
            "type": "scatter"
           }
          ],
          "scatter3d": [
           {
            "line": {
             "colorbar": {
              "outlinewidth": 0,
              "ticks": ""
             }
            },
            "marker": {
             "colorbar": {
              "outlinewidth": 0,
              "ticks": ""
             }
            },
            "type": "scatter3d"
           }
          ],
          "scattercarpet": [
           {
            "marker": {
             "colorbar": {
              "outlinewidth": 0,
              "ticks": ""
             }
            },
            "type": "scattercarpet"
           }
          ],
          "scattergeo": [
           {
            "marker": {
             "colorbar": {
              "outlinewidth": 0,
              "ticks": ""
             }
            },
            "type": "scattergeo"
           }
          ],
          "scattergl": [
           {
            "marker": {
             "colorbar": {
              "outlinewidth": 0,
              "ticks": ""
             }
            },
            "type": "scattergl"
           }
          ],
          "scattermapbox": [
           {
            "marker": {
             "colorbar": {
              "outlinewidth": 0,
              "ticks": ""
             }
            },
            "type": "scattermapbox"
           }
          ],
          "scatterpolar": [
           {
            "marker": {
             "colorbar": {
              "outlinewidth": 0,
              "ticks": ""
             }
            },
            "type": "scatterpolar"
           }
          ],
          "scatterpolargl": [
           {
            "marker": {
             "colorbar": {
              "outlinewidth": 0,
              "ticks": ""
             }
            },
            "type": "scatterpolargl"
           }
          ],
          "scatterternary": [
           {
            "marker": {
             "colorbar": {
              "outlinewidth": 0,
              "ticks": ""
             }
            },
            "type": "scatterternary"
           }
          ],
          "surface": [
           {
            "colorbar": {
             "outlinewidth": 0,
             "ticks": ""
            },
            "colorscale": [
             [
              0,
              "#0d0887"
             ],
             [
              0.1111111111111111,
              "#46039f"
             ],
             [
              0.2222222222222222,
              "#7201a8"
             ],
             [
              0.3333333333333333,
              "#9c179e"
             ],
             [
              0.4444444444444444,
              "#bd3786"
             ],
             [
              0.5555555555555556,
              "#d8576b"
             ],
             [
              0.6666666666666666,
              "#ed7953"
             ],
             [
              0.7777777777777778,
              "#fb9f3a"
             ],
             [
              0.8888888888888888,
              "#fdca26"
             ],
             [
              1,
              "#f0f921"
             ]
            ],
            "type": "surface"
           }
          ],
          "table": [
           {
            "cells": {
             "fill": {
              "color": "#EBF0F8"
             },
             "line": {
              "color": "white"
             }
            },
            "header": {
             "fill": {
              "color": "#C8D4E3"
             },
             "line": {
              "color": "white"
             }
            },
            "type": "table"
           }
          ]
         },
         "layout": {
          "annotationdefaults": {
           "arrowcolor": "#2a3f5f",
           "arrowhead": 0,
           "arrowwidth": 1
          },
          "coloraxis": {
           "colorbar": {
            "outlinewidth": 0,
            "ticks": ""
           }
          },
          "colorscale": {
           "diverging": [
            [
             0,
             "#8e0152"
            ],
            [
             0.1,
             "#c51b7d"
            ],
            [
             0.2,
             "#de77ae"
            ],
            [
             0.3,
             "#f1b6da"
            ],
            [
             0.4,
             "#fde0ef"
            ],
            [
             0.5,
             "#f7f7f7"
            ],
            [
             0.6,
             "#e6f5d0"
            ],
            [
             0.7,
             "#b8e186"
            ],
            [
             0.8,
             "#7fbc41"
            ],
            [
             0.9,
             "#4d9221"
            ],
            [
             1,
             "#276419"
            ]
           ],
           "sequential": [
            [
             0,
             "#0d0887"
            ],
            [
             0.1111111111111111,
             "#46039f"
            ],
            [
             0.2222222222222222,
             "#7201a8"
            ],
            [
             0.3333333333333333,
             "#9c179e"
            ],
            [
             0.4444444444444444,
             "#bd3786"
            ],
            [
             0.5555555555555556,
             "#d8576b"
            ],
            [
             0.6666666666666666,
             "#ed7953"
            ],
            [
             0.7777777777777778,
             "#fb9f3a"
            ],
            [
             0.8888888888888888,
             "#fdca26"
            ],
            [
             1,
             "#f0f921"
            ]
           ],
           "sequentialminus": [
            [
             0,
             "#0d0887"
            ],
            [
             0.1111111111111111,
             "#46039f"
            ],
            [
             0.2222222222222222,
             "#7201a8"
            ],
            [
             0.3333333333333333,
             "#9c179e"
            ],
            [
             0.4444444444444444,
             "#bd3786"
            ],
            [
             0.5555555555555556,
             "#d8576b"
            ],
            [
             0.6666666666666666,
             "#ed7953"
            ],
            [
             0.7777777777777778,
             "#fb9f3a"
            ],
            [
             0.8888888888888888,
             "#fdca26"
            ],
            [
             1,
             "#f0f921"
            ]
           ]
          },
          "colorway": [
           "#636efa",
           "#EF553B",
           "#00cc96",
           "#ab63fa",
           "#FFA15A",
           "#19d3f3",
           "#FF6692",
           "#B6E880",
           "#FF97FF",
           "#FECB52"
          ],
          "font": {
           "color": "#2a3f5f"
          },
          "geo": {
           "bgcolor": "white",
           "lakecolor": "white",
           "landcolor": "#E5ECF6",
           "showlakes": true,
           "showland": true,
           "subunitcolor": "white"
          },
          "hoverlabel": {
           "align": "left"
          },
          "hovermode": "closest",
          "mapbox": {
           "style": "light"
          },
          "paper_bgcolor": "white",
          "plot_bgcolor": "#E5ECF6",
          "polar": {
           "angularaxis": {
            "gridcolor": "white",
            "linecolor": "white",
            "ticks": ""
           },
           "bgcolor": "#E5ECF6",
           "radialaxis": {
            "gridcolor": "white",
            "linecolor": "white",
            "ticks": ""
           }
          },
          "scene": {
           "xaxis": {
            "backgroundcolor": "#E5ECF6",
            "gridcolor": "white",
            "gridwidth": 2,
            "linecolor": "white",
            "showbackground": true,
            "ticks": "",
            "zerolinecolor": "white"
           },
           "yaxis": {
            "backgroundcolor": "#E5ECF6",
            "gridcolor": "white",
            "gridwidth": 2,
            "linecolor": "white",
            "showbackground": true,
            "ticks": "",
            "zerolinecolor": "white"
           },
           "zaxis": {
            "backgroundcolor": "#E5ECF6",
            "gridcolor": "white",
            "gridwidth": 2,
            "linecolor": "white",
            "showbackground": true,
            "ticks": "",
            "zerolinecolor": "white"
           }
          },
          "shapedefaults": {
           "line": {
            "color": "#2a3f5f"
           }
          },
          "ternary": {
           "aaxis": {
            "gridcolor": "white",
            "linecolor": "white",
            "ticks": ""
           },
           "baxis": {
            "gridcolor": "white",
            "linecolor": "white",
            "ticks": ""
           },
           "bgcolor": "#E5ECF6",
           "caxis": {
            "gridcolor": "white",
            "linecolor": "white",
            "ticks": ""
           }
          },
          "title": {
           "x": 0.05
          },
          "xaxis": {
           "automargin": true,
           "gridcolor": "white",
           "linecolor": "white",
           "ticks": "",
           "title": {
            "standoff": 15
           },
           "zerolinecolor": "white",
           "zerolinewidth": 2
          },
          "yaxis": {
           "automargin": true,
           "gridcolor": "white",
           "linecolor": "white",
           "ticks": "",
           "title": {
            "standoff": 15
           },
           "zerolinecolor": "white",
           "zerolinewidth": 2
          }
         }
        }
       }
      },
      "text/html": [
       "<div>\n",
       "        \n",
       "        \n",
       "            <div id=\"d67ee112-012f-420e-812f-bc45ba0ec431\" class=\"plotly-graph-div\" style=\"height:525px; width:100%;\"></div>\n",
       "            <script type=\"text/javascript\">\n",
       "                require([\"plotly\"], function(Plotly) {\n",
       "                    window.PLOTLYENV=window.PLOTLYENV || {};\n",
       "                    \n",
       "                if (document.getElementById(\"d67ee112-012f-420e-812f-bc45ba0ec431\")) {\n",
       "                    Plotly.newPlot(\n",
       "                        'd67ee112-012f-420e-812f-bc45ba0ec431',\n",
       "                        [{\"hovertemplate\": \"lsnr=%{x}<br>rssic=%{y}<br>FCnt=%{z}<br>label=%{marker.color}<extra></extra>\", \"legendgroup\": \"\", \"marker\": {\"color\": [10.0, 6.0, 6.0, 0.0, 4.0, 0.0, 1.0, 4.0, 10.0, 12.0, 11.0, 7.0, 5.0, 3.0, 4.0, 1.0, 1.0, 12.0, 4.0, 6.0, 5.0, 5.0, 0.0, 7.0, 1.0, 2.0, 6.0, 7.0, 1.0, 1.0, 7.0, 1.0, 6.0, 4.0, 12.0, 1.0, 2.0, 5.0, 4.0, 6.0, 2.0, 7.0, 4.0, 11.0, 6.0, 2.0, 10.0, 10.0, 10.0, 4.0, 6.0, 11.0, 7.0, 6.0, 1.0, 4.0, 4.0, 1.0, 6.0, 4.0, 6.0, 11.0, 10.0, 1.0, 11.0, 1.0, 6.0, 4.0, 5.0, 8.0, 11.0, 9.0, 1.0, 4.0, 7.0, 10.0, 4.0, 6.0, 1.0, 8.0, 6.0, 4.0, 7.0, 11.0, 6.0, 3.0, 5.0, 12.0, 0.0, 12.0, 1.0, 5.0, 2.0, 2.0, 4.0, 2.0, 6.0, 5.0, 1.0, 12.0, 4.0, 1.0, 8.0, 4.0, 5.0, 2.0, 3.0, 2.0, 2.0, 2.0, 12.0, 1.0, 5.0, 2.0, 7.0, 3.0, 11.0, 6.0, 11.0, 3.0, 1.0, 12.0, 6.0, 12.0, 5.0, 6.0, 5.0, 6.0, 3.0, 12.0, 2.0, 6.0, 9.0, 5.0, 10.0, 1.0, 1.0, 6.0, 4.0, 4.0, 4.0, 12.0, 6.0, 7.0, 12.0, 12.0, 11.0, 6.0, 6.0, 4.0, 1.0, 12.0, 1.0, 2.0, 4.0, 4.0, 1.0, 6.0, 3.0, 12.0, 1.0, 2.0, 2.0, 5.0, 8.0, 1.0, 4.0, 4.0, 4.0, 6.0, 3.0, 11.0, 11.0, 11.0, 5.0, 11.0, 4.0, 10.0, 10.0, 6.0, 12.0, 12.0, 4.0, 4.0, 6.0, 10.0, 5.0, 3.0, 10.0, 1.0, 2.0, 9.0, 6.0, 5.0, 11.0, 12.0, 5.0, 12.0, 0.0, 5.0, 12.0, 0.0, 11.0, 5.0, 5.0, 12.0, 1.0, 3.0, 9.0, 9.0, 3.0, 7.0, 1.0, 10.0, 4.0, 5.0, 5.0, 1.0, 0.0, 6.0, 11.0, 5.0, 11.0, 5.0, 3.0, 0.0, 5.0, 10.0, 1.0, 11.0, 11.0, 9.0, 6.0, 10.0, 1.0, 5.0, 6.0, 12.0, 5.0, 11.0, 3.0, 5.0, 5.0, 5.0, 11.0, 3.0, 5.0, 12.0, 9.0, 5.0, 1.0, 11.0, 9.0, 3.0, 3.0, 3.0, 5.0, 3.0, 9.0, 5.0, 3.0, 10.0, 3.0, 3.0, 3.0, 11.0, 3.0, 9.0, 9.0, 3.0, 1.0, 5.0, 9.0, 5.0, 3.0, 3.0, 9.0, 12.0, 9.0, 9.0, 3.0, 10.0, 3.0, 9.0, 9.0, 9.0, 9.0, 9.0, 5.0, 9.0], \"coloraxis\": \"coloraxis\", \"opacity\": 0.9, \"symbol\": \"circle\"}, \"mode\": \"markers\", \"name\": \"\", \"scene\": \"scene\", \"showlegend\": false, \"type\": \"scatter3d\", \"x\": [-11, 1, 0, -7, 4, -1, 0, 0, -17, -1, -6, 7, -7, -16, 0, -4, -1, -2, 0, 2, -10, -5, -3, 8, -1, 5, 0, 8, 0, 0, 7, 0, 2, 2, -5, 2, 9, -8, 5, 0, 6, 8, 4, -8, 2, 6, -8, -17, -11, 2, 0, -7, 8, 0, 0, 1, 4, -4, 1, 5, 0, -3, -12, 0, -8, -1, 2, 3, -10, 6, -5, -16, -3, 3, 11, -13, 3, 2, -2, 7, -1, 3, 11, -4, 0, -9, -4, -1, -6, -2, 0, -5, 5, 9, 2, 3, 2, -6, -1, -7, 4, 2, 5, 0, -8, 5, -13, 2, 4, 3, -3, -4, -3, 5, 11, -12, -7, 0, -6, -11, 0, -1, 1, 0, -4, 1, -3, 0, -7, 1, 5, 3, -16, -8, -13, 0, -2, 0, 4, 3, 5, -3, 0, 7, -4, 0, -6, -1, 0, 5, -3, 0, 1, 2, 0, 0, 0, 0, -8, 0, -2, 9, 3, -8, 10, -4, 0, 2, 2, 2, -12, -7, -8, -6, -6, -9, 1, -11, -6, 2, -3, -5, 0, 3, 0, -11, -8, -16, -15, -2, 7, -16, 2, -5, -8, -2, -4, -5, 0, -8, -3, -8, -7, -4, -9, -4, -4, -7, -18, -17, -14, 9, -1, -18, 2, -6, -7, -4, -3, 0, -6, -3, -9, -8, -12, -8, -6, -17, -2, -4, -7, -19, -2, -16, -2, -5, 0, -3, -7, -7, -18, -7, -9, -10, -3, -14, -4, -7, -18, -8, -5, -5, -18, -15, -14, -18, -3, -12, -19, -12, -14, -11, -8, -8, -13, -5, -14, -19, -18, -13, -3, -8, -18, -4, -16, -10, -19, -4, -19, -21, -10, -16, -8, -19, -21, -21, -20, -17, -8, -19], \"y\": [-106, -101, -103, -108, -97, -105, -103, -103, -107, -104, -105, -87, -105, -107, -102, -106, -103, -104, -102, -100, -107, -105, -106, -93, -104, -98, -102, -92, -102, -103, -95, -102, -101, -101, -107, -101, -92, -105, -98, -102, -96, -93, -99, -106, -100, -96, -107, -108, -107, -100, -103, -105, -91, -102, -102, -101, -98, -105, -101, -98, -102, -104, -106, -103, -105, -104, -99, -100, -106, -98, -105, -107, -104, -99, -85, -107, -98, -100, -105, -91, -103, -100, -91, -104, -103, -106, -104, -104, -108, -105, -102, -104, -97, -90, -101, -99, -101, -105, -103, -106, -99, -101, -99, -102, -106, -96, -106, -99, -97, -98, -105, -106, -104, -99, -88, -108, -106, -103, -106, -107, -103, -104, -101, -104, -104, -101, -104, -102, -106, -103, -96, -100, -109, -106, -107, -103, -104, -102, -99, -99, -97, -106, -102, -96, -104, -103, -105, -103, -101, -97, -104, -103, -102, -99, -102, -104, -104, -102, -106, -104, -104, -93, -98, -106, -88, -105, -102, -100, -101, -100, -106, -106, -105, -105, -104, -106, -101, -106, -105, -100, -104, -105, -103, -99, -103, -108, -105, -106, -108, -105, -95, -109, -101, -105, -106, -104, -105, -105, -104, -105, -104, -107, -106, -105, -106, -105, -104, -105, -107, -108, -106, -89, -103, -107, -101, -105, -105, -105, -105, -102, -105, -105, -106, -106, -106, -107, -105, -107, -104, -105, -105, -109, -104, -107, -104, -105, -102, -106, -105, -105, -107, -106, -106, -108, -104, -106, -104, -108, -109, -106, -105, -105, -109, -107, -107, -106, -104, -106, -108, -108, -106, -106, -106, -106, -106, -105, -107, -109, -109, -106, -106, -106, -107, -104, -106, -106, -107, -105, -107, -107, -106, -107, -106, -106, -109, -107, -107, -106, -106, -106], \"z\": [1446, 2852, 2455, 211, 2058, 201, 1982, 2144, 858, 1725, 1829, 2270, 1544, 912, 1888, 1336, 1995, 1439, 2141, 3042, 1546, 1571, 199, 2620, 1878, 2004, 2889, 1990, 1994, 2102, 2440, 1910, 2718, 1898, 1775, 1646, 1561, 1463, 1544, 2243, 2705, 2205, 2160, 2446, 2378, 2341, 1250, 1312, 734, 2026, 2225, 2416, 2947, 2640, 1740, 2100, 2610, 1582, 2036, 2599, 2325, 1780, 1083, 1779, 1907, 2175, 2876, 1813, 1295, 199, 2314, 199, 1755, 1765, 2431, 1491, 3025, 2320, 2218, 199, 2889, 1981, 3171, 2050, 2356, 1481, 1583, 1669, 205, 1805, 1753, 1394, 2313, 1930, 1872, 1969, 2734, 1632, 1843, 1402, 2846, 1875, 208, 2109, 1371, 2297, 1462, 1917, 2106, 2096, 1669, 1542, 1197, 1884, 2982, 1219, 2023, 2527, 2370, 1352, 2097, 1942, 2275, 2296, 1723, 2106, 1546, 2060, 1509, 1631, 2379, 2387, 196, 1569, 1167, 2044, 1506, 2687, 1815, 1653, 1509, 1723, 2177, 2982, 1501, 1904, 1985, 2250, 2256, 2657, 2242, 1883, 1885, 2090, 2088, 2041, 1957, 2063, 1463, 2139, 2071, 1900, 1898, 1725, 199, 2037, 2510, 2174, 1764, 1986, 1680, 1918, 2091, 2303, 1310, 1878, 2063, 1379, 1571, 2059, 1598, 1355, 2135, 1997, 2850, 1531, 1541, 1172, 1236, 1401, 2034, 196, 2384, 1292, 2196, 1554, 1511, 1663, 198, 1390, 1547, 202, 2026, 1532, 1480, 1462, 1665, 1565, 896, 486, 1195, 2006, 1417, 1019, 1642, 1207, 1118, 1873, 198, 2192, 1778, 1536, 2067, 1415, 1096, 199, 1701, 981, 1155, 2090, 1807, 1009, 2973, 983, 1384, 1353, 2569, 1452, 1464, 2187, 1206, 1320, 1618, 1450, 1874, 963, 1691, 1714, 192, 1579, 1823, 1868, 195, 1323, 1120, 1153, 1347, 1264, 654, 1359, 1184, 1156, 1626, 1328, 962, 2239, 1347, 1093, 1104, 1234, 1758, 1385, 950, 1470, 1109, 1688, 966, 2012, 189, 692, 1517, 698, 1384, 339, 246, 189, 216, 863, 1696, 877]}],\n",
       "                        {\"coloraxis\": {\"colorbar\": {\"title\": {\"text\": \"label\"}}, \"colorscale\": [[0.0, \"#0d0887\"], [0.1111111111111111, \"#46039f\"], [0.2222222222222222, \"#7201a8\"], [0.3333333333333333, \"#9c179e\"], [0.4444444444444444, \"#bd3786\"], [0.5555555555555556, \"#d8576b\"], [0.6666666666666666, \"#ed7953\"], [0.7777777777777778, \"#fb9f3a\"], [0.8888888888888888, \"#fdca26\"], [1.0, \"#f0f921\"]]}, \"legend\": {\"tracegroupgap\": 0}, \"margin\": {\"t\": 60}, \"scene\": {\"domain\": {\"x\": [0.0, 1.0], \"y\": [0.0, 1.0]}, \"xaxis\": {\"title\": {\"text\": \"lsnr\"}}, \"yaxis\": {\"title\": {\"text\": \"rssic\"}}, \"zaxis\": {\"title\": {\"text\": \"FCnt\"}}}, \"template\": {\"data\": {\"bar\": [{\"error_x\": {\"color\": \"#2a3f5f\"}, \"error_y\": {\"color\": \"#2a3f5f\"}, \"marker\": {\"line\": {\"color\": \"#E5ECF6\", \"width\": 0.5}}, \"type\": \"bar\"}], \"barpolar\": [{\"marker\": {\"line\": {\"color\": \"#E5ECF6\", \"width\": 0.5}}, \"type\": \"barpolar\"}], \"carpet\": [{\"aaxis\": {\"endlinecolor\": \"#2a3f5f\", \"gridcolor\": \"white\", \"linecolor\": \"white\", \"minorgridcolor\": \"white\", \"startlinecolor\": \"#2a3f5f\"}, \"baxis\": {\"endlinecolor\": \"#2a3f5f\", \"gridcolor\": \"white\", \"linecolor\": \"white\", \"minorgridcolor\": \"white\", \"startlinecolor\": \"#2a3f5f\"}, \"type\": \"carpet\"}], \"choropleth\": [{\"colorbar\": {\"outlinewidth\": 0, \"ticks\": \"\"}, \"type\": \"choropleth\"}], \"contour\": [{\"colorbar\": {\"outlinewidth\": 0, \"ticks\": \"\"}, \"colorscale\": [[0.0, \"#0d0887\"], [0.1111111111111111, \"#46039f\"], [0.2222222222222222, \"#7201a8\"], [0.3333333333333333, \"#9c179e\"], [0.4444444444444444, \"#bd3786\"], [0.5555555555555556, \"#d8576b\"], [0.6666666666666666, \"#ed7953\"], [0.7777777777777778, \"#fb9f3a\"], [0.8888888888888888, \"#fdca26\"], [1.0, \"#f0f921\"]], \"type\": \"contour\"}], \"contourcarpet\": [{\"colorbar\": {\"outlinewidth\": 0, \"ticks\": \"\"}, \"type\": \"contourcarpet\"}], \"heatmap\": [{\"colorbar\": {\"outlinewidth\": 0, \"ticks\": \"\"}, \"colorscale\": [[0.0, \"#0d0887\"], [0.1111111111111111, \"#46039f\"], [0.2222222222222222, \"#7201a8\"], [0.3333333333333333, \"#9c179e\"], [0.4444444444444444, \"#bd3786\"], [0.5555555555555556, \"#d8576b\"], [0.6666666666666666, \"#ed7953\"], [0.7777777777777778, \"#fb9f3a\"], [0.8888888888888888, \"#fdca26\"], [1.0, \"#f0f921\"]], \"type\": \"heatmap\"}], \"heatmapgl\": [{\"colorbar\": {\"outlinewidth\": 0, \"ticks\": \"\"}, \"colorscale\": [[0.0, \"#0d0887\"], [0.1111111111111111, \"#46039f\"], [0.2222222222222222, \"#7201a8\"], [0.3333333333333333, \"#9c179e\"], [0.4444444444444444, \"#bd3786\"], [0.5555555555555556, \"#d8576b\"], [0.6666666666666666, \"#ed7953\"], [0.7777777777777778, \"#fb9f3a\"], [0.8888888888888888, \"#fdca26\"], [1.0, \"#f0f921\"]], \"type\": \"heatmapgl\"}], \"histogram\": [{\"marker\": {\"colorbar\": {\"outlinewidth\": 0, \"ticks\": \"\"}}, \"type\": \"histogram\"}], \"histogram2d\": [{\"colorbar\": {\"outlinewidth\": 0, \"ticks\": \"\"}, \"colorscale\": [[0.0, \"#0d0887\"], [0.1111111111111111, \"#46039f\"], [0.2222222222222222, \"#7201a8\"], [0.3333333333333333, \"#9c179e\"], [0.4444444444444444, \"#bd3786\"], [0.5555555555555556, \"#d8576b\"], [0.6666666666666666, \"#ed7953\"], [0.7777777777777778, \"#fb9f3a\"], [0.8888888888888888, \"#fdca26\"], [1.0, \"#f0f921\"]], \"type\": \"histogram2d\"}], \"histogram2dcontour\": [{\"colorbar\": {\"outlinewidth\": 0, \"ticks\": \"\"}, \"colorscale\": [[0.0, \"#0d0887\"], [0.1111111111111111, \"#46039f\"], [0.2222222222222222, \"#7201a8\"], [0.3333333333333333, \"#9c179e\"], [0.4444444444444444, \"#bd3786\"], [0.5555555555555556, \"#d8576b\"], [0.6666666666666666, \"#ed7953\"], [0.7777777777777778, \"#fb9f3a\"], [0.8888888888888888, \"#fdca26\"], [1.0, \"#f0f921\"]], \"type\": \"histogram2dcontour\"}], \"mesh3d\": [{\"colorbar\": {\"outlinewidth\": 0, \"ticks\": \"\"}, \"type\": \"mesh3d\"}], \"parcoords\": [{\"line\": {\"colorbar\": {\"outlinewidth\": 0, \"ticks\": \"\"}}, \"type\": \"parcoords\"}], \"pie\": [{\"automargin\": true, \"type\": \"pie\"}], \"scatter\": [{\"marker\": {\"colorbar\": {\"outlinewidth\": 0, \"ticks\": \"\"}}, \"type\": \"scatter\"}], \"scatter3d\": [{\"line\": {\"colorbar\": {\"outlinewidth\": 0, \"ticks\": \"\"}}, \"marker\": {\"colorbar\": {\"outlinewidth\": 0, \"ticks\": \"\"}}, \"type\": \"scatter3d\"}], \"scattercarpet\": [{\"marker\": {\"colorbar\": {\"outlinewidth\": 0, \"ticks\": \"\"}}, \"type\": \"scattercarpet\"}], \"scattergeo\": [{\"marker\": {\"colorbar\": {\"outlinewidth\": 0, \"ticks\": \"\"}}, \"type\": \"scattergeo\"}], \"scattergl\": [{\"marker\": {\"colorbar\": {\"outlinewidth\": 0, \"ticks\": \"\"}}, \"type\": \"scattergl\"}], \"scattermapbox\": [{\"marker\": {\"colorbar\": {\"outlinewidth\": 0, \"ticks\": \"\"}}, \"type\": \"scattermapbox\"}], \"scatterpolar\": [{\"marker\": {\"colorbar\": {\"outlinewidth\": 0, \"ticks\": \"\"}}, \"type\": \"scatterpolar\"}], \"scatterpolargl\": [{\"marker\": {\"colorbar\": {\"outlinewidth\": 0, \"ticks\": \"\"}}, \"type\": \"scatterpolargl\"}], \"scatterternary\": [{\"marker\": {\"colorbar\": {\"outlinewidth\": 0, \"ticks\": \"\"}}, \"type\": \"scatterternary\"}], \"surface\": [{\"colorbar\": {\"outlinewidth\": 0, \"ticks\": \"\"}, \"colorscale\": [[0.0, \"#0d0887\"], [0.1111111111111111, \"#46039f\"], [0.2222222222222222, \"#7201a8\"], [0.3333333333333333, \"#9c179e\"], [0.4444444444444444, \"#bd3786\"], [0.5555555555555556, \"#d8576b\"], [0.6666666666666666, \"#ed7953\"], [0.7777777777777778, \"#fb9f3a\"], [0.8888888888888888, \"#fdca26\"], [1.0, \"#f0f921\"]], \"type\": \"surface\"}], \"table\": [{\"cells\": {\"fill\": {\"color\": \"#EBF0F8\"}, \"line\": {\"color\": \"white\"}}, \"header\": {\"fill\": {\"color\": \"#C8D4E3\"}, \"line\": {\"color\": \"white\"}}, \"type\": \"table\"}]}, \"layout\": {\"annotationdefaults\": {\"arrowcolor\": \"#2a3f5f\", \"arrowhead\": 0, \"arrowwidth\": 1}, \"coloraxis\": {\"colorbar\": {\"outlinewidth\": 0, \"ticks\": \"\"}}, \"colorscale\": {\"diverging\": [[0, \"#8e0152\"], [0.1, \"#c51b7d\"], [0.2, \"#de77ae\"], [0.3, \"#f1b6da\"], [0.4, \"#fde0ef\"], [0.5, \"#f7f7f7\"], [0.6, \"#e6f5d0\"], [0.7, \"#b8e186\"], [0.8, \"#7fbc41\"], [0.9, \"#4d9221\"], [1, \"#276419\"]], \"sequential\": [[0.0, \"#0d0887\"], [0.1111111111111111, \"#46039f\"], [0.2222222222222222, \"#7201a8\"], [0.3333333333333333, \"#9c179e\"], [0.4444444444444444, \"#bd3786\"], [0.5555555555555556, \"#d8576b\"], [0.6666666666666666, \"#ed7953\"], [0.7777777777777778, \"#fb9f3a\"], [0.8888888888888888, \"#fdca26\"], [1.0, \"#f0f921\"]], \"sequentialminus\": [[0.0, \"#0d0887\"], [0.1111111111111111, \"#46039f\"], [0.2222222222222222, \"#7201a8\"], [0.3333333333333333, \"#9c179e\"], [0.4444444444444444, \"#bd3786\"], [0.5555555555555556, \"#d8576b\"], [0.6666666666666666, \"#ed7953\"], [0.7777777777777778, \"#fb9f3a\"], [0.8888888888888888, \"#fdca26\"], [1.0, \"#f0f921\"]]}, \"colorway\": [\"#636efa\", \"#EF553B\", \"#00cc96\", \"#ab63fa\", \"#FFA15A\", \"#19d3f3\", \"#FF6692\", \"#B6E880\", \"#FF97FF\", \"#FECB52\"], \"font\": {\"color\": \"#2a3f5f\"}, \"geo\": {\"bgcolor\": \"white\", \"lakecolor\": \"white\", \"landcolor\": \"#E5ECF6\", \"showlakes\": true, \"showland\": true, \"subunitcolor\": \"white\"}, \"hoverlabel\": {\"align\": \"left\"}, \"hovermode\": \"closest\", \"mapbox\": {\"style\": \"light\"}, \"paper_bgcolor\": \"white\", \"plot_bgcolor\": \"#E5ECF6\", \"polar\": {\"angularaxis\": {\"gridcolor\": \"white\", \"linecolor\": \"white\", \"ticks\": \"\"}, \"bgcolor\": \"#E5ECF6\", \"radialaxis\": {\"gridcolor\": \"white\", \"linecolor\": \"white\", \"ticks\": \"\"}}, \"scene\": {\"xaxis\": {\"backgroundcolor\": \"#E5ECF6\", \"gridcolor\": \"white\", \"gridwidth\": 2, \"linecolor\": \"white\", \"showbackground\": true, \"ticks\": \"\", \"zerolinecolor\": \"white\"}, \"yaxis\": {\"backgroundcolor\": \"#E5ECF6\", \"gridcolor\": \"white\", \"gridwidth\": 2, \"linecolor\": \"white\", \"showbackground\": true, \"ticks\": \"\", \"zerolinecolor\": \"white\"}, \"zaxis\": {\"backgroundcolor\": \"#E5ECF6\", \"gridcolor\": \"white\", \"gridwidth\": 2, \"linecolor\": \"white\", \"showbackground\": true, \"ticks\": \"\", \"zerolinecolor\": \"white\"}}, \"shapedefaults\": {\"line\": {\"color\": \"#2a3f5f\"}}, \"ternary\": {\"aaxis\": {\"gridcolor\": \"white\", \"linecolor\": \"white\", \"ticks\": \"\"}, \"baxis\": {\"gridcolor\": \"white\", \"linecolor\": \"white\", \"ticks\": \"\"}, \"bgcolor\": \"#E5ECF6\", \"caxis\": {\"gridcolor\": \"white\", \"linecolor\": \"white\", \"ticks\": \"\"}}, \"title\": {\"x\": 0.05}, \"xaxis\": {\"automargin\": true, \"gridcolor\": \"white\", \"linecolor\": \"white\", \"ticks\": \"\", \"title\": {\"standoff\": 15}, \"zerolinecolor\": \"white\", \"zerolinewidth\": 2}, \"yaxis\": {\"automargin\": true, \"gridcolor\": \"white\", \"linecolor\": \"white\", \"ticks\": \"\", \"title\": {\"standoff\": 15}, \"zerolinecolor\": \"white\", \"zerolinewidth\": 2}}}},\n",
       "                        {\"responsive\": true}\n",
       "                    ).then(function(){\n",
       "                            \n",
       "var gd = document.getElementById('d67ee112-012f-420e-812f-bc45ba0ec431');\n",
       "var x = new MutationObserver(function (mutations, observer) {{\n",
       "        var display = window.getComputedStyle(gd).display;\n",
       "        if (!display || display === 'none') {{\n",
       "            console.log([gd, 'removed!']);\n",
       "            Plotly.purge(gd);\n",
       "            observer.disconnect();\n",
       "        }}\n",
       "}});\n",
       "\n",
       "// Listen for the removal of the full notebook cells\n",
       "var notebookContainer = gd.closest('#notebook-container');\n",
       "if (notebookContainer) {{\n",
       "    x.observe(notebookContainer, {childList: true});\n",
       "}}\n",
       "\n",
       "// Listen for the clearing of the current output cell\n",
       "var outputEl = gd.closest('.output');\n",
       "if (outputEl) {{\n",
       "    x.observe(outputEl, {childList: true});\n",
       "}}\n",
       "\n",
       "                        })\n",
       "                };\n",
       "                });\n",
       "            </script>\n",
       "        </div>"
      ]
     },
     "metadata": {},
     "output_type": "display_data"
    }
   ],
   "source": [
    "fig = px.scatter_3d(labeled_df, x='lsnr', y='rssic', z='FCnt',\n",
    "                color='label', size_max=100,\n",
    "                opacity=0.9)\n",
    "fig.show()"
   ]
  },
  {
   "cell_type": "code",
   "execution_count": 70,
   "metadata": {
    "scrolled": true
   },
   "outputs": [
    {
     "data": {
      "application/vnd.plotly.v1+json": {
       "config": {
        "plotlyServerURL": "https://plot.ly"
       },
       "data": [
        {
         "hovertemplate": "rssisd=%{x}<br>rssis=%{y}<br>rssic=%{z}<br>label=%{marker.color}<extra></extra>",
         "legendgroup": "",
         "marker": {
          "color": [
           10,
           6,
           6,
           0,
           4,
           0,
           1,
           4,
           10,
           12,
           11,
           7,
           5,
           3,
           4,
           1,
           1,
           12,
           4,
           6,
           5,
           5,
           0,
           7,
           1,
           2,
           6,
           7,
           1,
           1,
           7,
           1,
           6,
           4,
           12,
           1,
           2,
           5,
           4,
           6,
           2,
           7,
           4,
           11,
           6,
           2,
           10,
           10,
           10,
           4,
           6,
           11,
           7,
           6,
           1,
           4,
           4,
           1,
           6,
           4,
           6,
           11,
           10,
           1,
           11,
           1,
           6,
           4,
           5,
           8,
           11,
           9,
           1,
           4,
           7,
           10,
           4,
           6,
           1,
           8,
           6,
           4,
           7,
           11,
           6,
           3,
           5,
           12,
           0,
           12,
           1,
           5,
           2,
           2,
           4,
           2,
           6,
           5,
           1,
           12,
           4,
           1,
           8,
           4,
           5,
           2,
           3,
           2,
           2,
           2,
           12,
           1,
           5,
           2,
           7,
           3,
           11,
           6,
           11,
           3,
           1,
           12,
           6,
           12,
           5,
           6,
           5,
           6,
           3,
           12,
           2,
           6,
           9,
           5,
           10,
           1,
           1,
           6,
           4,
           4,
           4,
           12,
           6,
           7,
           12,
           12,
           11,
           6,
           6,
           4,
           1,
           12,
           1,
           2,
           4,
           4,
           1,
           6,
           3,
           12,
           1,
           2,
           2,
           5,
           8,
           1,
           4,
           4,
           4,
           6,
           3,
           11,
           11,
           11,
           5,
           11,
           4,
           10,
           10,
           6,
           12,
           12,
           4,
           4,
           6,
           10,
           5,
           3,
           10,
           1,
           2,
           9,
           6,
           5,
           11,
           12,
           5,
           12,
           0,
           5,
           12,
           0,
           11,
           5,
           5,
           12,
           1,
           3,
           9,
           9,
           3,
           7,
           1,
           10,
           4,
           5,
           5,
           1,
           0,
           6,
           11,
           5,
           11,
           5,
           3,
           0,
           5,
           10,
           1,
           11,
           11,
           9,
           6,
           10,
           1,
           5,
           6,
           12,
           5,
           11,
           3,
           5,
           5,
           5,
           11,
           3,
           5,
           12,
           9,
           5,
           1,
           11,
           9,
           3,
           3,
           3,
           5,
           3,
           9,
           5,
           3,
           10,
           3,
           3,
           3,
           11,
           3,
           9,
           9,
           3,
           1,
           5,
           9,
           5,
           3,
           3,
           9,
           12,
           9,
           9,
           3,
           10,
           3,
           9,
           9,
           9,
           9,
           9,
           5,
           9
          ],
          "coloraxis": "coloraxis",
          "opacity": 0.9,
          "symbol": "circle"
         },
         "mode": "markers",
         "name": "",
         "scene": "scene",
         "showlegend": false,
         "type": "scatter3d",
         "x": [
          0,
          0,
          0,
          0,
          0,
          0,
          0,
          0,
          0,
          0,
          0,
          0,
          0,
          0,
          0,
          0,
          0,
          0,
          0,
          0,
          0,
          0,
          0,
          0,
          0,
          0,
          0,
          0,
          0,
          0,
          0,
          0,
          0,
          0,
          0,
          0,
          0,
          0,
          0,
          0,
          0,
          0,
          0,
          0,
          0,
          0,
          0,
          0,
          0,
          0,
          0,
          0,
          0,
          0,
          0,
          0,
          0,
          0,
          0,
          0,
          0,
          0,
          0,
          0,
          0,
          0,
          0,
          0,
          0,
          0,
          0,
          0,
          0,
          0,
          0,
          0,
          0,
          0,
          0,
          0,
          0,
          0,
          0,
          0,
          0,
          0,
          0,
          0,
          0,
          0,
          0,
          0,
          0,
          0,
          0,
          0,
          0,
          0,
          0,
          0,
          0,
          0,
          0,
          0,
          0,
          0,
          0,
          0,
          0,
          0,
          0,
          0,
          0,
          0,
          0,
          0,
          0,
          0,
          0,
          0,
          0,
          0,
          0,
          0,
          0,
          0,
          0,
          0,
          0,
          0,
          0,
          0,
          0,
          0,
          0,
          0,
          0,
          0,
          0,
          0,
          0,
          0,
          0,
          0,
          0,
          0,
          0,
          0,
          0,
          0,
          0,
          0,
          0,
          0,
          0,
          0,
          0,
          0,
          0,
          0,
          0,
          0,
          0,
          0,
          0,
          0,
          0,
          0,
          0,
          0,
          0,
          0,
          0,
          0,
          0,
          0,
          0,
          0,
          0,
          0,
          0,
          0,
          0,
          0,
          0,
          0,
          0,
          0,
          0,
          0,
          0,
          0,
          0,
          0,
          0,
          0,
          0,
          0,
          0,
          0,
          0,
          0,
          0,
          0,
          0,
          0,
          0,
          0,
          0,
          0,
          0,
          0,
          0,
          0,
          0,
          0,
          0,
          0,
          0,
          0,
          0,
          0,
          0,
          0,
          0,
          0,
          0,
          0,
          0,
          0,
          0,
          0,
          0,
          0,
          0,
          0,
          0,
          0,
          0,
          0,
          0,
          0,
          0,
          0,
          0,
          0,
          0,
          0,
          0,
          0,
          0,
          0,
          0,
          0,
          0,
          0,
          0,
          0,
          0,
          0,
          0,
          0,
          0,
          0,
          0,
          0,
          0,
          0,
          0,
          0,
          0,
          0,
          0,
          0,
          0,
          0,
          0,
          0,
          0,
          0,
          0,
          0,
          0,
          0,
          0,
          0,
          0,
          0,
          0,
          0
         ],
         "y": [
          -119,
          -105,
          -107,
          -117,
          -101,
          -109,
          -108,
          -106,
          -125,
          -109,
          -113,
          -89,
          -115,
          -124,
          -106,
          -113,
          -108,
          -109,
          -106,
          -103,
          -119,
          -112,
          -112,
          -95,
          -108,
          -100,
          -107,
          -94,
          -106,
          -107,
          -97,
          -106,
          -104,
          -104,
          -114,
          -104,
          -93,
          -115,
          -100,
          -107,
          -98,
          -94,
          -101,
          -116,
          -103,
          -98,
          -116,
          -126,
          -120,
          -103,
          -107,
          -114,
          -93,
          -106,
          -106,
          -105,
          -100,
          -112,
          -105,
          -100,
          -107,
          -110,
          -119,
          -107,
          -116,
          -109,
          -103,
          -103,
          -117,
          -100,
          -112,
          -125,
          -110,
          -102,
          -86,
          -121,
          -101,
          -104,
          -110,
          -94,
          -108,
          -102,
          -91,
          -111,
          -107,
          -116,
          -111,
          -109,
          -116,
          -110,
          -107,
          -112,
          -100,
          -92,
          -104,
          -102,
          -104,
          -114,
          -108,
          -115,
          -102,
          -104,
          -101,
          -107,
          -116,
          -99,
          -121,
          -103,
          -100,
          -101,
          -110,
          -112,
          -110,
          -101,
          -89,
          -121,
          -115,
          -107,
          -114,
          -120,
          -107,
          -108,
          -105,
          -107,
          -111,
          -104,
          -110,
          -106,
          -115,
          -106,
          -98,
          -103,
          -126,
          -116,
          -122,
          -107,
          -109,
          -107,
          -102,
          -102,
          -100,
          -112,
          -106,
          -98,
          -111,
          -107,
          -114,
          -108,
          -105,
          -99,
          -110,
          -107,
          -106,
          -103,
          -106,
          -107,
          -109,
          -106,
          -115,
          -109,
          -110,
          -94,
          -101,
          -116,
          -90,
          -111,
          -107,
          -103,
          -104,
          -104,
          -119,
          -115,
          -115,
          -113,
          -113,
          -116,
          -105,
          -118,
          -114,
          -104,
          -110,
          -113,
          -107,
          -102,
          -106,
          -120,
          -115,
          -123,
          -123,
          -111,
          -97,
          -126,
          -104,
          -112,
          -116,
          -109,
          -111,
          -113,
          -108,
          -115,
          -110,
          -117,
          -115,
          -112,
          -116,
          -112,
          -111,
          -114,
          -126,
          -126,
          -122,
          -91,
          -108,
          -126,
          -104,
          -113,
          -115,
          -112,
          -111,
          -106,
          -113,
          -111,
          -117,
          -115,
          -120,
          -117,
          -113,
          -126,
          -109,
          -111,
          -114,
          -129,
          -109,
          -124,
          -109,
          -112,
          -106,
          -112,
          -114,
          -114,
          -125,
          -115,
          -117,
          -119,
          -110,
          -121,
          -111,
          -116,
          -127,
          -116,
          -113,
          -113,
          -129,
          -124,
          -122,
          -125,
          -110,
          -119,
          -129,
          -121,
          -121,
          -119,
          -116,
          -116,
          -121,
          -113,
          -122,
          -129,
          -128,
          -120,
          -111,
          -116,
          -127,
          -110,
          -123,
          -118,
          -127,
          -111,
          -128,
          -129,
          -118,
          -125,
          -116,
          -127,
          -131,
          -129,
          -128,
          -124,
          -116,
          -126
         ],
         "z": [
          -106,
          -101,
          -103,
          -108,
          -97,
          -105,
          -103,
          -103,
          -107,
          -104,
          -105,
          -87,
          -105,
          -107,
          -102,
          -106,
          -103,
          -104,
          -102,
          -100,
          -107,
          -105,
          -106,
          -93,
          -104,
          -98,
          -102,
          -92,
          -102,
          -103,
          -95,
          -102,
          -101,
          -101,
          -107,
          -101,
          -92,
          -105,
          -98,
          -102,
          -96,
          -93,
          -99,
          -106,
          -100,
          -96,
          -107,
          -108,
          -107,
          -100,
          -103,
          -105,
          -91,
          -102,
          -102,
          -101,
          -98,
          -105,
          -101,
          -98,
          -102,
          -104,
          -106,
          -103,
          -105,
          -104,
          -99,
          -100,
          -106,
          -98,
          -105,
          -107,
          -104,
          -99,
          -85,
          -107,
          -98,
          -100,
          -105,
          -91,
          -103,
          -100,
          -91,
          -104,
          -103,
          -106,
          -104,
          -104,
          -108,
          -105,
          -102,
          -104,
          -97,
          -90,
          -101,
          -99,
          -101,
          -105,
          -103,
          -106,
          -99,
          -101,
          -99,
          -102,
          -106,
          -96,
          -106,
          -99,
          -97,
          -98,
          -105,
          -106,
          -104,
          -99,
          -88,
          -108,
          -106,
          -103,
          -106,
          -107,
          -103,
          -104,
          -101,
          -104,
          -104,
          -101,
          -104,
          -102,
          -106,
          -103,
          -96,
          -100,
          -109,
          -106,
          -107,
          -103,
          -104,
          -102,
          -99,
          -99,
          -97,
          -106,
          -102,
          -96,
          -104,
          -103,
          -105,
          -103,
          -101,
          -97,
          -104,
          -103,
          -102,
          -99,
          -102,
          -104,
          -104,
          -102,
          -106,
          -104,
          -104,
          -93,
          -98,
          -106,
          -88,
          -105,
          -102,
          -100,
          -101,
          -100,
          -106,
          -106,
          -105,
          -105,
          -104,
          -106,
          -101,
          -106,
          -105,
          -100,
          -104,
          -105,
          -103,
          -99,
          -103,
          -108,
          -105,
          -106,
          -108,
          -105,
          -95,
          -109,
          -101,
          -105,
          -106,
          -104,
          -105,
          -105,
          -104,
          -105,
          -104,
          -107,
          -106,
          -105,
          -106,
          -105,
          -104,
          -105,
          -107,
          -108,
          -106,
          -89,
          -103,
          -107,
          -101,
          -105,
          -105,
          -105,
          -105,
          -102,
          -105,
          -105,
          -106,
          -106,
          -106,
          -107,
          -105,
          -107,
          -104,
          -105,
          -105,
          -109,
          -104,
          -107,
          -104,
          -105,
          -102,
          -106,
          -105,
          -105,
          -107,
          -106,
          -106,
          -108,
          -104,
          -106,
          -104,
          -108,
          -109,
          -106,
          -105,
          -105,
          -109,
          -107,
          -107,
          -106,
          -104,
          -106,
          -108,
          -108,
          -106,
          -106,
          -106,
          -106,
          -106,
          -105,
          -107,
          -109,
          -109,
          -106,
          -106,
          -106,
          -107,
          -104,
          -106,
          -106,
          -107,
          -105,
          -107,
          -107,
          -106,
          -107,
          -106,
          -106,
          -109,
          -107,
          -107,
          -106,
          -106,
          -106
         ]
        }
       ],
       "layout": {
        "coloraxis": {
         "colorbar": {
          "title": {
           "text": "label"
          }
         },
         "colorscale": [
          [
           0,
           "#0d0887"
          ],
          [
           0.1111111111111111,
           "#46039f"
          ],
          [
           0.2222222222222222,
           "#7201a8"
          ],
          [
           0.3333333333333333,
           "#9c179e"
          ],
          [
           0.4444444444444444,
           "#bd3786"
          ],
          [
           0.5555555555555556,
           "#d8576b"
          ],
          [
           0.6666666666666666,
           "#ed7953"
          ],
          [
           0.7777777777777778,
           "#fb9f3a"
          ],
          [
           0.8888888888888888,
           "#fdca26"
          ],
          [
           1,
           "#f0f921"
          ]
         ]
        },
        "legend": {
         "tracegroupgap": 0
        },
        "margin": {
         "t": 60
        },
        "scene": {
         "domain": {
          "x": [
           0,
           1
          ],
          "y": [
           0,
           1
          ]
         },
         "xaxis": {
          "title": {
           "text": "rssisd"
          }
         },
         "yaxis": {
          "title": {
           "text": "rssis"
          }
         },
         "zaxis": {
          "title": {
           "text": "rssic"
          }
         }
        },
        "template": {
         "data": {
          "bar": [
           {
            "error_x": {
             "color": "#2a3f5f"
            },
            "error_y": {
             "color": "#2a3f5f"
            },
            "marker": {
             "line": {
              "color": "#E5ECF6",
              "width": 0.5
             }
            },
            "type": "bar"
           }
          ],
          "barpolar": [
           {
            "marker": {
             "line": {
              "color": "#E5ECF6",
              "width": 0.5
             }
            },
            "type": "barpolar"
           }
          ],
          "carpet": [
           {
            "aaxis": {
             "endlinecolor": "#2a3f5f",
             "gridcolor": "white",
             "linecolor": "white",
             "minorgridcolor": "white",
             "startlinecolor": "#2a3f5f"
            },
            "baxis": {
             "endlinecolor": "#2a3f5f",
             "gridcolor": "white",
             "linecolor": "white",
             "minorgridcolor": "white",
             "startlinecolor": "#2a3f5f"
            },
            "type": "carpet"
           }
          ],
          "choropleth": [
           {
            "colorbar": {
             "outlinewidth": 0,
             "ticks": ""
            },
            "type": "choropleth"
           }
          ],
          "contour": [
           {
            "colorbar": {
             "outlinewidth": 0,
             "ticks": ""
            },
            "colorscale": [
             [
              0,
              "#0d0887"
             ],
             [
              0.1111111111111111,
              "#46039f"
             ],
             [
              0.2222222222222222,
              "#7201a8"
             ],
             [
              0.3333333333333333,
              "#9c179e"
             ],
             [
              0.4444444444444444,
              "#bd3786"
             ],
             [
              0.5555555555555556,
              "#d8576b"
             ],
             [
              0.6666666666666666,
              "#ed7953"
             ],
             [
              0.7777777777777778,
              "#fb9f3a"
             ],
             [
              0.8888888888888888,
              "#fdca26"
             ],
             [
              1,
              "#f0f921"
             ]
            ],
            "type": "contour"
           }
          ],
          "contourcarpet": [
           {
            "colorbar": {
             "outlinewidth": 0,
             "ticks": ""
            },
            "type": "contourcarpet"
           }
          ],
          "heatmap": [
           {
            "colorbar": {
             "outlinewidth": 0,
             "ticks": ""
            },
            "colorscale": [
             [
              0,
              "#0d0887"
             ],
             [
              0.1111111111111111,
              "#46039f"
             ],
             [
              0.2222222222222222,
              "#7201a8"
             ],
             [
              0.3333333333333333,
              "#9c179e"
             ],
             [
              0.4444444444444444,
              "#bd3786"
             ],
             [
              0.5555555555555556,
              "#d8576b"
             ],
             [
              0.6666666666666666,
              "#ed7953"
             ],
             [
              0.7777777777777778,
              "#fb9f3a"
             ],
             [
              0.8888888888888888,
              "#fdca26"
             ],
             [
              1,
              "#f0f921"
             ]
            ],
            "type": "heatmap"
           }
          ],
          "heatmapgl": [
           {
            "colorbar": {
             "outlinewidth": 0,
             "ticks": ""
            },
            "colorscale": [
             [
              0,
              "#0d0887"
             ],
             [
              0.1111111111111111,
              "#46039f"
             ],
             [
              0.2222222222222222,
              "#7201a8"
             ],
             [
              0.3333333333333333,
              "#9c179e"
             ],
             [
              0.4444444444444444,
              "#bd3786"
             ],
             [
              0.5555555555555556,
              "#d8576b"
             ],
             [
              0.6666666666666666,
              "#ed7953"
             ],
             [
              0.7777777777777778,
              "#fb9f3a"
             ],
             [
              0.8888888888888888,
              "#fdca26"
             ],
             [
              1,
              "#f0f921"
             ]
            ],
            "type": "heatmapgl"
           }
          ],
          "histogram": [
           {
            "marker": {
             "colorbar": {
              "outlinewidth": 0,
              "ticks": ""
             }
            },
            "type": "histogram"
           }
          ],
          "histogram2d": [
           {
            "colorbar": {
             "outlinewidth": 0,
             "ticks": ""
            },
            "colorscale": [
             [
              0,
              "#0d0887"
             ],
             [
              0.1111111111111111,
              "#46039f"
             ],
             [
              0.2222222222222222,
              "#7201a8"
             ],
             [
              0.3333333333333333,
              "#9c179e"
             ],
             [
              0.4444444444444444,
              "#bd3786"
             ],
             [
              0.5555555555555556,
              "#d8576b"
             ],
             [
              0.6666666666666666,
              "#ed7953"
             ],
             [
              0.7777777777777778,
              "#fb9f3a"
             ],
             [
              0.8888888888888888,
              "#fdca26"
             ],
             [
              1,
              "#f0f921"
             ]
            ],
            "type": "histogram2d"
           }
          ],
          "histogram2dcontour": [
           {
            "colorbar": {
             "outlinewidth": 0,
             "ticks": ""
            },
            "colorscale": [
             [
              0,
              "#0d0887"
             ],
             [
              0.1111111111111111,
              "#46039f"
             ],
             [
              0.2222222222222222,
              "#7201a8"
             ],
             [
              0.3333333333333333,
              "#9c179e"
             ],
             [
              0.4444444444444444,
              "#bd3786"
             ],
             [
              0.5555555555555556,
              "#d8576b"
             ],
             [
              0.6666666666666666,
              "#ed7953"
             ],
             [
              0.7777777777777778,
              "#fb9f3a"
             ],
             [
              0.8888888888888888,
              "#fdca26"
             ],
             [
              1,
              "#f0f921"
             ]
            ],
            "type": "histogram2dcontour"
           }
          ],
          "mesh3d": [
           {
            "colorbar": {
             "outlinewidth": 0,
             "ticks": ""
            },
            "type": "mesh3d"
           }
          ],
          "parcoords": [
           {
            "line": {
             "colorbar": {
              "outlinewidth": 0,
              "ticks": ""
             }
            },
            "type": "parcoords"
           }
          ],
          "pie": [
           {
            "automargin": true,
            "type": "pie"
           }
          ],
          "scatter": [
           {
            "marker": {
             "colorbar": {
              "outlinewidth": 0,
              "ticks": ""
             }
            },
            "type": "scatter"
           }
          ],
          "scatter3d": [
           {
            "line": {
             "colorbar": {
              "outlinewidth": 0,
              "ticks": ""
             }
            },
            "marker": {
             "colorbar": {
              "outlinewidth": 0,
              "ticks": ""
             }
            },
            "type": "scatter3d"
           }
          ],
          "scattercarpet": [
           {
            "marker": {
             "colorbar": {
              "outlinewidth": 0,
              "ticks": ""
             }
            },
            "type": "scattercarpet"
           }
          ],
          "scattergeo": [
           {
            "marker": {
             "colorbar": {
              "outlinewidth": 0,
              "ticks": ""
             }
            },
            "type": "scattergeo"
           }
          ],
          "scattergl": [
           {
            "marker": {
             "colorbar": {
              "outlinewidth": 0,
              "ticks": ""
             }
            },
            "type": "scattergl"
           }
          ],
          "scattermapbox": [
           {
            "marker": {
             "colorbar": {
              "outlinewidth": 0,
              "ticks": ""
             }
            },
            "type": "scattermapbox"
           }
          ],
          "scatterpolar": [
           {
            "marker": {
             "colorbar": {
              "outlinewidth": 0,
              "ticks": ""
             }
            },
            "type": "scatterpolar"
           }
          ],
          "scatterpolargl": [
           {
            "marker": {
             "colorbar": {
              "outlinewidth": 0,
              "ticks": ""
             }
            },
            "type": "scatterpolargl"
           }
          ],
          "scatterternary": [
           {
            "marker": {
             "colorbar": {
              "outlinewidth": 0,
              "ticks": ""
             }
            },
            "type": "scatterternary"
           }
          ],
          "surface": [
           {
            "colorbar": {
             "outlinewidth": 0,
             "ticks": ""
            },
            "colorscale": [
             [
              0,
              "#0d0887"
             ],
             [
              0.1111111111111111,
              "#46039f"
             ],
             [
              0.2222222222222222,
              "#7201a8"
             ],
             [
              0.3333333333333333,
              "#9c179e"
             ],
             [
              0.4444444444444444,
              "#bd3786"
             ],
             [
              0.5555555555555556,
              "#d8576b"
             ],
             [
              0.6666666666666666,
              "#ed7953"
             ],
             [
              0.7777777777777778,
              "#fb9f3a"
             ],
             [
              0.8888888888888888,
              "#fdca26"
             ],
             [
              1,
              "#f0f921"
             ]
            ],
            "type": "surface"
           }
          ],
          "table": [
           {
            "cells": {
             "fill": {
              "color": "#EBF0F8"
             },
             "line": {
              "color": "white"
             }
            },
            "header": {
             "fill": {
              "color": "#C8D4E3"
             },
             "line": {
              "color": "white"
             }
            },
            "type": "table"
           }
          ]
         },
         "layout": {
          "annotationdefaults": {
           "arrowcolor": "#2a3f5f",
           "arrowhead": 0,
           "arrowwidth": 1
          },
          "coloraxis": {
           "colorbar": {
            "outlinewidth": 0,
            "ticks": ""
           }
          },
          "colorscale": {
           "diverging": [
            [
             0,
             "#8e0152"
            ],
            [
             0.1,
             "#c51b7d"
            ],
            [
             0.2,
             "#de77ae"
            ],
            [
             0.3,
             "#f1b6da"
            ],
            [
             0.4,
             "#fde0ef"
            ],
            [
             0.5,
             "#f7f7f7"
            ],
            [
             0.6,
             "#e6f5d0"
            ],
            [
             0.7,
             "#b8e186"
            ],
            [
             0.8,
             "#7fbc41"
            ],
            [
             0.9,
             "#4d9221"
            ],
            [
             1,
             "#276419"
            ]
           ],
           "sequential": [
            [
             0,
             "#0d0887"
            ],
            [
             0.1111111111111111,
             "#46039f"
            ],
            [
             0.2222222222222222,
             "#7201a8"
            ],
            [
             0.3333333333333333,
             "#9c179e"
            ],
            [
             0.4444444444444444,
             "#bd3786"
            ],
            [
             0.5555555555555556,
             "#d8576b"
            ],
            [
             0.6666666666666666,
             "#ed7953"
            ],
            [
             0.7777777777777778,
             "#fb9f3a"
            ],
            [
             0.8888888888888888,
             "#fdca26"
            ],
            [
             1,
             "#f0f921"
            ]
           ],
           "sequentialminus": [
            [
             0,
             "#0d0887"
            ],
            [
             0.1111111111111111,
             "#46039f"
            ],
            [
             0.2222222222222222,
             "#7201a8"
            ],
            [
             0.3333333333333333,
             "#9c179e"
            ],
            [
             0.4444444444444444,
             "#bd3786"
            ],
            [
             0.5555555555555556,
             "#d8576b"
            ],
            [
             0.6666666666666666,
             "#ed7953"
            ],
            [
             0.7777777777777778,
             "#fb9f3a"
            ],
            [
             0.8888888888888888,
             "#fdca26"
            ],
            [
             1,
             "#f0f921"
            ]
           ]
          },
          "colorway": [
           "#636efa",
           "#EF553B",
           "#00cc96",
           "#ab63fa",
           "#FFA15A",
           "#19d3f3",
           "#FF6692",
           "#B6E880",
           "#FF97FF",
           "#FECB52"
          ],
          "font": {
           "color": "#2a3f5f"
          },
          "geo": {
           "bgcolor": "white",
           "lakecolor": "white",
           "landcolor": "#E5ECF6",
           "showlakes": true,
           "showland": true,
           "subunitcolor": "white"
          },
          "hoverlabel": {
           "align": "left"
          },
          "hovermode": "closest",
          "mapbox": {
           "style": "light"
          },
          "paper_bgcolor": "white",
          "plot_bgcolor": "#E5ECF6",
          "polar": {
           "angularaxis": {
            "gridcolor": "white",
            "linecolor": "white",
            "ticks": ""
           },
           "bgcolor": "#E5ECF6",
           "radialaxis": {
            "gridcolor": "white",
            "linecolor": "white",
            "ticks": ""
           }
          },
          "scene": {
           "xaxis": {
            "backgroundcolor": "#E5ECF6",
            "gridcolor": "white",
            "gridwidth": 2,
            "linecolor": "white",
            "showbackground": true,
            "ticks": "",
            "zerolinecolor": "white"
           },
           "yaxis": {
            "backgroundcolor": "#E5ECF6",
            "gridcolor": "white",
            "gridwidth": 2,
            "linecolor": "white",
            "showbackground": true,
            "ticks": "",
            "zerolinecolor": "white"
           },
           "zaxis": {
            "backgroundcolor": "#E5ECF6",
            "gridcolor": "white",
            "gridwidth": 2,
            "linecolor": "white",
            "showbackground": true,
            "ticks": "",
            "zerolinecolor": "white"
           }
          },
          "shapedefaults": {
           "line": {
            "color": "#2a3f5f"
           }
          },
          "ternary": {
           "aaxis": {
            "gridcolor": "white",
            "linecolor": "white",
            "ticks": ""
           },
           "baxis": {
            "gridcolor": "white",
            "linecolor": "white",
            "ticks": ""
           },
           "bgcolor": "#E5ECF6",
           "caxis": {
            "gridcolor": "white",
            "linecolor": "white",
            "ticks": ""
           }
          },
          "title": {
           "x": 0.05
          },
          "xaxis": {
           "automargin": true,
           "gridcolor": "white",
           "linecolor": "white",
           "ticks": "",
           "title": {
            "standoff": 15
           },
           "zerolinecolor": "white",
           "zerolinewidth": 2
          },
          "yaxis": {
           "automargin": true,
           "gridcolor": "white",
           "linecolor": "white",
           "ticks": "",
           "title": {
            "standoff": 15
           },
           "zerolinecolor": "white",
           "zerolinewidth": 2
          }
         }
        }
       }
      },
      "text/html": [
       "<div>\n",
       "        \n",
       "        \n",
       "            <div id=\"f582d0d7-7d8d-4a85-af49-786b8ef6bd67\" class=\"plotly-graph-div\" style=\"height:525px; width:100%;\"></div>\n",
       "            <script type=\"text/javascript\">\n",
       "                require([\"plotly\"], function(Plotly) {\n",
       "                    window.PLOTLYENV=window.PLOTLYENV || {};\n",
       "                    \n",
       "                if (document.getElementById(\"f582d0d7-7d8d-4a85-af49-786b8ef6bd67\")) {\n",
       "                    Plotly.newPlot(\n",
       "                        'f582d0d7-7d8d-4a85-af49-786b8ef6bd67',\n",
       "                        [{\"hovertemplate\": \"rssisd=%{x}<br>rssis=%{y}<br>rssic=%{z}<br>label=%{marker.color}<extra></extra>\", \"legendgroup\": \"\", \"marker\": {\"color\": [10.0, 6.0, 6.0, 0.0, 4.0, 0.0, 1.0, 4.0, 10.0, 12.0, 11.0, 7.0, 5.0, 3.0, 4.0, 1.0, 1.0, 12.0, 4.0, 6.0, 5.0, 5.0, 0.0, 7.0, 1.0, 2.0, 6.0, 7.0, 1.0, 1.0, 7.0, 1.0, 6.0, 4.0, 12.0, 1.0, 2.0, 5.0, 4.0, 6.0, 2.0, 7.0, 4.0, 11.0, 6.0, 2.0, 10.0, 10.0, 10.0, 4.0, 6.0, 11.0, 7.0, 6.0, 1.0, 4.0, 4.0, 1.0, 6.0, 4.0, 6.0, 11.0, 10.0, 1.0, 11.0, 1.0, 6.0, 4.0, 5.0, 8.0, 11.0, 9.0, 1.0, 4.0, 7.0, 10.0, 4.0, 6.0, 1.0, 8.0, 6.0, 4.0, 7.0, 11.0, 6.0, 3.0, 5.0, 12.0, 0.0, 12.0, 1.0, 5.0, 2.0, 2.0, 4.0, 2.0, 6.0, 5.0, 1.0, 12.0, 4.0, 1.0, 8.0, 4.0, 5.0, 2.0, 3.0, 2.0, 2.0, 2.0, 12.0, 1.0, 5.0, 2.0, 7.0, 3.0, 11.0, 6.0, 11.0, 3.0, 1.0, 12.0, 6.0, 12.0, 5.0, 6.0, 5.0, 6.0, 3.0, 12.0, 2.0, 6.0, 9.0, 5.0, 10.0, 1.0, 1.0, 6.0, 4.0, 4.0, 4.0, 12.0, 6.0, 7.0, 12.0, 12.0, 11.0, 6.0, 6.0, 4.0, 1.0, 12.0, 1.0, 2.0, 4.0, 4.0, 1.0, 6.0, 3.0, 12.0, 1.0, 2.0, 2.0, 5.0, 8.0, 1.0, 4.0, 4.0, 4.0, 6.0, 3.0, 11.0, 11.0, 11.0, 5.0, 11.0, 4.0, 10.0, 10.0, 6.0, 12.0, 12.0, 4.0, 4.0, 6.0, 10.0, 5.0, 3.0, 10.0, 1.0, 2.0, 9.0, 6.0, 5.0, 11.0, 12.0, 5.0, 12.0, 0.0, 5.0, 12.0, 0.0, 11.0, 5.0, 5.0, 12.0, 1.0, 3.0, 9.0, 9.0, 3.0, 7.0, 1.0, 10.0, 4.0, 5.0, 5.0, 1.0, 0.0, 6.0, 11.0, 5.0, 11.0, 5.0, 3.0, 0.0, 5.0, 10.0, 1.0, 11.0, 11.0, 9.0, 6.0, 10.0, 1.0, 5.0, 6.0, 12.0, 5.0, 11.0, 3.0, 5.0, 5.0, 5.0, 11.0, 3.0, 5.0, 12.0, 9.0, 5.0, 1.0, 11.0, 9.0, 3.0, 3.0, 3.0, 5.0, 3.0, 9.0, 5.0, 3.0, 10.0, 3.0, 3.0, 3.0, 11.0, 3.0, 9.0, 9.0, 3.0, 1.0, 5.0, 9.0, 5.0, 3.0, 3.0, 9.0, 12.0, 9.0, 9.0, 3.0, 10.0, 3.0, 9.0, 9.0, 9.0, 9.0, 9.0, 5.0, 9.0], \"coloraxis\": \"coloraxis\", \"opacity\": 0.9, \"symbol\": \"circle\"}, \"mode\": \"markers\", \"name\": \"\", \"scene\": \"scene\", \"showlegend\": false, \"type\": \"scatter3d\", \"x\": [0, 0, 0, 0, 0, 0, 0, 0, 0, 0, 0, 0, 0, 0, 0, 0, 0, 0, 0, 0, 0, 0, 0, 0, 0, 0, 0, 0, 0, 0, 0, 0, 0, 0, 0, 0, 0, 0, 0, 0, 0, 0, 0, 0, 0, 0, 0, 0, 0, 0, 0, 0, 0, 0, 0, 0, 0, 0, 0, 0, 0, 0, 0, 0, 0, 0, 0, 0, 0, 0, 0, 0, 0, 0, 0, 0, 0, 0, 0, 0, 0, 0, 0, 0, 0, 0, 0, 0, 0, 0, 0, 0, 0, 0, 0, 0, 0, 0, 0, 0, 0, 0, 0, 0, 0, 0, 0, 0, 0, 0, 0, 0, 0, 0, 0, 0, 0, 0, 0, 0, 0, 0, 0, 0, 0, 0, 0, 0, 0, 0, 0, 0, 0, 0, 0, 0, 0, 0, 0, 0, 0, 0, 0, 0, 0, 0, 0, 0, 0, 0, 0, 0, 0, 0, 0, 0, 0, 0, 0, 0, 0, 0, 0, 0, 0, 0, 0, 0, 0, 0, 0, 0, 0, 0, 0, 0, 0, 0, 0, 0, 0, 0, 0, 0, 0, 0, 0, 0, 0, 0, 0, 0, 0, 0, 0, 0, 0, 0, 0, 0, 0, 0, 0, 0, 0, 0, 0, 0, 0, 0, 0, 0, 0, 0, 0, 0, 0, 0, 0, 0, 0, 0, 0, 0, 0, 0, 0, 0, 0, 0, 0, 0, 0, 0, 0, 0, 0, 0, 0, 0, 0, 0, 0, 0, 0, 0, 0, 0, 0, 0, 0, 0, 0, 0, 0, 0, 0, 0, 0, 0, 0, 0, 0, 0, 0, 0, 0, 0, 0, 0, 0, 0, 0, 0, 0, 0, 0, 0, 0, 0, 0, 0, 0, 0, 0, 0, 0, 0, 0, 0], \"y\": [-119, -105, -107, -117, -101, -109, -108, -106, -125, -109, -113, -89, -115, -124, -106, -113, -108, -109, -106, -103, -119, -112, -112, -95, -108, -100, -107, -94, -106, -107, -97, -106, -104, -104, -114, -104, -93, -115, -100, -107, -98, -94, -101, -116, -103, -98, -116, -126, -120, -103, -107, -114, -93, -106, -106, -105, -100, -112, -105, -100, -107, -110, -119, -107, -116, -109, -103, -103, -117, -100, -112, -125, -110, -102, -86, -121, -101, -104, -110, -94, -108, -102, -91, -111, -107, -116, -111, -109, -116, -110, -107, -112, -100, -92, -104, -102, -104, -114, -108, -115, -102, -104, -101, -107, -116, -99, -121, -103, -100, -101, -110, -112, -110, -101, -89, -121, -115, -107, -114, -120, -107, -108, -105, -107, -111, -104, -110, -106, -115, -106, -98, -103, -126, -116, -122, -107, -109, -107, -102, -102, -100, -112, -106, -98, -111, -107, -114, -108, -105, -99, -110, -107, -106, -103, -106, -107, -109, -106, -115, -109, -110, -94, -101, -116, -90, -111, -107, -103, -104, -104, -119, -115, -115, -113, -113, -116, -105, -118, -114, -104, -110, -113, -107, -102, -106, -120, -115, -123, -123, -111, -97, -126, -104, -112, -116, -109, -111, -113, -108, -115, -110, -117, -115, -112, -116, -112, -111, -114, -126, -126, -122, -91, -108, -126, -104, -113, -115, -112, -111, -106, -113, -111, -117, -115, -120, -117, -113, -126, -109, -111, -114, -129, -109, -124, -109, -112, -106, -112, -114, -114, -125, -115, -117, -119, -110, -121, -111, -116, -127, -116, -113, -113, -129, -124, -122, -125, -110, -119, -129, -121, -121, -119, -116, -116, -121, -113, -122, -129, -128, -120, -111, -116, -127, -110, -123, -118, -127, -111, -128, -129, -118, -125, -116, -127, -131, -129, -128, -124, -116, -126], \"z\": [-106, -101, -103, -108, -97, -105, -103, -103, -107, -104, -105, -87, -105, -107, -102, -106, -103, -104, -102, -100, -107, -105, -106, -93, -104, -98, -102, -92, -102, -103, -95, -102, -101, -101, -107, -101, -92, -105, -98, -102, -96, -93, -99, -106, -100, -96, -107, -108, -107, -100, -103, -105, -91, -102, -102, -101, -98, -105, -101, -98, -102, -104, -106, -103, -105, -104, -99, -100, -106, -98, -105, -107, -104, -99, -85, -107, -98, -100, -105, -91, -103, -100, -91, -104, -103, -106, -104, -104, -108, -105, -102, -104, -97, -90, -101, -99, -101, -105, -103, -106, -99, -101, -99, -102, -106, -96, -106, -99, -97, -98, -105, -106, -104, -99, -88, -108, -106, -103, -106, -107, -103, -104, -101, -104, -104, -101, -104, -102, -106, -103, -96, -100, -109, -106, -107, -103, -104, -102, -99, -99, -97, -106, -102, -96, -104, -103, -105, -103, -101, -97, -104, -103, -102, -99, -102, -104, -104, -102, -106, -104, -104, -93, -98, -106, -88, -105, -102, -100, -101, -100, -106, -106, -105, -105, -104, -106, -101, -106, -105, -100, -104, -105, -103, -99, -103, -108, -105, -106, -108, -105, -95, -109, -101, -105, -106, -104, -105, -105, -104, -105, -104, -107, -106, -105, -106, -105, -104, -105, -107, -108, -106, -89, -103, -107, -101, -105, -105, -105, -105, -102, -105, -105, -106, -106, -106, -107, -105, -107, -104, -105, -105, -109, -104, -107, -104, -105, -102, -106, -105, -105, -107, -106, -106, -108, -104, -106, -104, -108, -109, -106, -105, -105, -109, -107, -107, -106, -104, -106, -108, -108, -106, -106, -106, -106, -106, -105, -107, -109, -109, -106, -106, -106, -107, -104, -106, -106, -107, -105, -107, -107, -106, -107, -106, -106, -109, -107, -107, -106, -106, -106]}],\n",
       "                        {\"coloraxis\": {\"colorbar\": {\"title\": {\"text\": \"label\"}}, \"colorscale\": [[0.0, \"#0d0887\"], [0.1111111111111111, \"#46039f\"], [0.2222222222222222, \"#7201a8\"], [0.3333333333333333, \"#9c179e\"], [0.4444444444444444, \"#bd3786\"], [0.5555555555555556, \"#d8576b\"], [0.6666666666666666, \"#ed7953\"], [0.7777777777777778, \"#fb9f3a\"], [0.8888888888888888, \"#fdca26\"], [1.0, \"#f0f921\"]]}, \"legend\": {\"tracegroupgap\": 0}, \"margin\": {\"t\": 60}, \"scene\": {\"domain\": {\"x\": [0.0, 1.0], \"y\": [0.0, 1.0]}, \"xaxis\": {\"title\": {\"text\": \"rssisd\"}}, \"yaxis\": {\"title\": {\"text\": \"rssis\"}}, \"zaxis\": {\"title\": {\"text\": \"rssic\"}}}, \"template\": {\"data\": {\"bar\": [{\"error_x\": {\"color\": \"#2a3f5f\"}, \"error_y\": {\"color\": \"#2a3f5f\"}, \"marker\": {\"line\": {\"color\": \"#E5ECF6\", \"width\": 0.5}}, \"type\": \"bar\"}], \"barpolar\": [{\"marker\": {\"line\": {\"color\": \"#E5ECF6\", \"width\": 0.5}}, \"type\": \"barpolar\"}], \"carpet\": [{\"aaxis\": {\"endlinecolor\": \"#2a3f5f\", \"gridcolor\": \"white\", \"linecolor\": \"white\", \"minorgridcolor\": \"white\", \"startlinecolor\": \"#2a3f5f\"}, \"baxis\": {\"endlinecolor\": \"#2a3f5f\", \"gridcolor\": \"white\", \"linecolor\": \"white\", \"minorgridcolor\": \"white\", \"startlinecolor\": \"#2a3f5f\"}, \"type\": \"carpet\"}], \"choropleth\": [{\"colorbar\": {\"outlinewidth\": 0, \"ticks\": \"\"}, \"type\": \"choropleth\"}], \"contour\": [{\"colorbar\": {\"outlinewidth\": 0, \"ticks\": \"\"}, \"colorscale\": [[0.0, \"#0d0887\"], [0.1111111111111111, \"#46039f\"], [0.2222222222222222, \"#7201a8\"], [0.3333333333333333, \"#9c179e\"], [0.4444444444444444, \"#bd3786\"], [0.5555555555555556, \"#d8576b\"], [0.6666666666666666, \"#ed7953\"], [0.7777777777777778, \"#fb9f3a\"], [0.8888888888888888, \"#fdca26\"], [1.0, \"#f0f921\"]], \"type\": \"contour\"}], \"contourcarpet\": [{\"colorbar\": {\"outlinewidth\": 0, \"ticks\": \"\"}, \"type\": \"contourcarpet\"}], \"heatmap\": [{\"colorbar\": {\"outlinewidth\": 0, \"ticks\": \"\"}, \"colorscale\": [[0.0, \"#0d0887\"], [0.1111111111111111, \"#46039f\"], [0.2222222222222222, \"#7201a8\"], [0.3333333333333333, \"#9c179e\"], [0.4444444444444444, \"#bd3786\"], [0.5555555555555556, \"#d8576b\"], [0.6666666666666666, \"#ed7953\"], [0.7777777777777778, \"#fb9f3a\"], [0.8888888888888888, \"#fdca26\"], [1.0, \"#f0f921\"]], \"type\": \"heatmap\"}], \"heatmapgl\": [{\"colorbar\": {\"outlinewidth\": 0, \"ticks\": \"\"}, \"colorscale\": [[0.0, \"#0d0887\"], [0.1111111111111111, \"#46039f\"], [0.2222222222222222, \"#7201a8\"], [0.3333333333333333, \"#9c179e\"], [0.4444444444444444, \"#bd3786\"], [0.5555555555555556, \"#d8576b\"], [0.6666666666666666, \"#ed7953\"], [0.7777777777777778, \"#fb9f3a\"], [0.8888888888888888, \"#fdca26\"], [1.0, \"#f0f921\"]], \"type\": \"heatmapgl\"}], \"histogram\": [{\"marker\": {\"colorbar\": {\"outlinewidth\": 0, \"ticks\": \"\"}}, \"type\": \"histogram\"}], \"histogram2d\": [{\"colorbar\": {\"outlinewidth\": 0, \"ticks\": \"\"}, \"colorscale\": [[0.0, \"#0d0887\"], [0.1111111111111111, \"#46039f\"], [0.2222222222222222, \"#7201a8\"], [0.3333333333333333, \"#9c179e\"], [0.4444444444444444, \"#bd3786\"], [0.5555555555555556, \"#d8576b\"], [0.6666666666666666, \"#ed7953\"], [0.7777777777777778, \"#fb9f3a\"], [0.8888888888888888, \"#fdca26\"], [1.0, \"#f0f921\"]], \"type\": \"histogram2d\"}], \"histogram2dcontour\": [{\"colorbar\": {\"outlinewidth\": 0, \"ticks\": \"\"}, \"colorscale\": [[0.0, \"#0d0887\"], [0.1111111111111111, \"#46039f\"], [0.2222222222222222, \"#7201a8\"], [0.3333333333333333, \"#9c179e\"], [0.4444444444444444, \"#bd3786\"], [0.5555555555555556, \"#d8576b\"], [0.6666666666666666, \"#ed7953\"], [0.7777777777777778, \"#fb9f3a\"], [0.8888888888888888, \"#fdca26\"], [1.0, \"#f0f921\"]], \"type\": \"histogram2dcontour\"}], \"mesh3d\": [{\"colorbar\": {\"outlinewidth\": 0, \"ticks\": \"\"}, \"type\": \"mesh3d\"}], \"parcoords\": [{\"line\": {\"colorbar\": {\"outlinewidth\": 0, \"ticks\": \"\"}}, \"type\": \"parcoords\"}], \"pie\": [{\"automargin\": true, \"type\": \"pie\"}], \"scatter\": [{\"marker\": {\"colorbar\": {\"outlinewidth\": 0, \"ticks\": \"\"}}, \"type\": \"scatter\"}], \"scatter3d\": [{\"line\": {\"colorbar\": {\"outlinewidth\": 0, \"ticks\": \"\"}}, \"marker\": {\"colorbar\": {\"outlinewidth\": 0, \"ticks\": \"\"}}, \"type\": \"scatter3d\"}], \"scattercarpet\": [{\"marker\": {\"colorbar\": {\"outlinewidth\": 0, \"ticks\": \"\"}}, \"type\": \"scattercarpet\"}], \"scattergeo\": [{\"marker\": {\"colorbar\": {\"outlinewidth\": 0, \"ticks\": \"\"}}, \"type\": \"scattergeo\"}], \"scattergl\": [{\"marker\": {\"colorbar\": {\"outlinewidth\": 0, \"ticks\": \"\"}}, \"type\": \"scattergl\"}], \"scattermapbox\": [{\"marker\": {\"colorbar\": {\"outlinewidth\": 0, \"ticks\": \"\"}}, \"type\": \"scattermapbox\"}], \"scatterpolar\": [{\"marker\": {\"colorbar\": {\"outlinewidth\": 0, \"ticks\": \"\"}}, \"type\": \"scatterpolar\"}], \"scatterpolargl\": [{\"marker\": {\"colorbar\": {\"outlinewidth\": 0, \"ticks\": \"\"}}, \"type\": \"scatterpolargl\"}], \"scatterternary\": [{\"marker\": {\"colorbar\": {\"outlinewidth\": 0, \"ticks\": \"\"}}, \"type\": \"scatterternary\"}], \"surface\": [{\"colorbar\": {\"outlinewidth\": 0, \"ticks\": \"\"}, \"colorscale\": [[0.0, \"#0d0887\"], [0.1111111111111111, \"#46039f\"], [0.2222222222222222, \"#7201a8\"], [0.3333333333333333, \"#9c179e\"], [0.4444444444444444, \"#bd3786\"], [0.5555555555555556, \"#d8576b\"], [0.6666666666666666, \"#ed7953\"], [0.7777777777777778, \"#fb9f3a\"], [0.8888888888888888, \"#fdca26\"], [1.0, \"#f0f921\"]], \"type\": \"surface\"}], \"table\": [{\"cells\": {\"fill\": {\"color\": \"#EBF0F8\"}, \"line\": {\"color\": \"white\"}}, \"header\": {\"fill\": {\"color\": \"#C8D4E3\"}, \"line\": {\"color\": \"white\"}}, \"type\": \"table\"}]}, \"layout\": {\"annotationdefaults\": {\"arrowcolor\": \"#2a3f5f\", \"arrowhead\": 0, \"arrowwidth\": 1}, \"coloraxis\": {\"colorbar\": {\"outlinewidth\": 0, \"ticks\": \"\"}}, \"colorscale\": {\"diverging\": [[0, \"#8e0152\"], [0.1, \"#c51b7d\"], [0.2, \"#de77ae\"], [0.3, \"#f1b6da\"], [0.4, \"#fde0ef\"], [0.5, \"#f7f7f7\"], [0.6, \"#e6f5d0\"], [0.7, \"#b8e186\"], [0.8, \"#7fbc41\"], [0.9, \"#4d9221\"], [1, \"#276419\"]], \"sequential\": [[0.0, \"#0d0887\"], [0.1111111111111111, \"#46039f\"], [0.2222222222222222, \"#7201a8\"], [0.3333333333333333, \"#9c179e\"], [0.4444444444444444, \"#bd3786\"], [0.5555555555555556, \"#d8576b\"], [0.6666666666666666, \"#ed7953\"], [0.7777777777777778, \"#fb9f3a\"], [0.8888888888888888, \"#fdca26\"], [1.0, \"#f0f921\"]], \"sequentialminus\": [[0.0, \"#0d0887\"], [0.1111111111111111, \"#46039f\"], [0.2222222222222222, \"#7201a8\"], [0.3333333333333333, \"#9c179e\"], [0.4444444444444444, \"#bd3786\"], [0.5555555555555556, \"#d8576b\"], [0.6666666666666666, \"#ed7953\"], [0.7777777777777778, \"#fb9f3a\"], [0.8888888888888888, \"#fdca26\"], [1.0, \"#f0f921\"]]}, \"colorway\": [\"#636efa\", \"#EF553B\", \"#00cc96\", \"#ab63fa\", \"#FFA15A\", \"#19d3f3\", \"#FF6692\", \"#B6E880\", \"#FF97FF\", \"#FECB52\"], \"font\": {\"color\": \"#2a3f5f\"}, \"geo\": {\"bgcolor\": \"white\", \"lakecolor\": \"white\", \"landcolor\": \"#E5ECF6\", \"showlakes\": true, \"showland\": true, \"subunitcolor\": \"white\"}, \"hoverlabel\": {\"align\": \"left\"}, \"hovermode\": \"closest\", \"mapbox\": {\"style\": \"light\"}, \"paper_bgcolor\": \"white\", \"plot_bgcolor\": \"#E5ECF6\", \"polar\": {\"angularaxis\": {\"gridcolor\": \"white\", \"linecolor\": \"white\", \"ticks\": \"\"}, \"bgcolor\": \"#E5ECF6\", \"radialaxis\": {\"gridcolor\": \"white\", \"linecolor\": \"white\", \"ticks\": \"\"}}, \"scene\": {\"xaxis\": {\"backgroundcolor\": \"#E5ECF6\", \"gridcolor\": \"white\", \"gridwidth\": 2, \"linecolor\": \"white\", \"showbackground\": true, \"ticks\": \"\", \"zerolinecolor\": \"white\"}, \"yaxis\": {\"backgroundcolor\": \"#E5ECF6\", \"gridcolor\": \"white\", \"gridwidth\": 2, \"linecolor\": \"white\", \"showbackground\": true, \"ticks\": \"\", \"zerolinecolor\": \"white\"}, \"zaxis\": {\"backgroundcolor\": \"#E5ECF6\", \"gridcolor\": \"white\", \"gridwidth\": 2, \"linecolor\": \"white\", \"showbackground\": true, \"ticks\": \"\", \"zerolinecolor\": \"white\"}}, \"shapedefaults\": {\"line\": {\"color\": \"#2a3f5f\"}}, \"ternary\": {\"aaxis\": {\"gridcolor\": \"white\", \"linecolor\": \"white\", \"ticks\": \"\"}, \"baxis\": {\"gridcolor\": \"white\", \"linecolor\": \"white\", \"ticks\": \"\"}, \"bgcolor\": \"#E5ECF6\", \"caxis\": {\"gridcolor\": \"white\", \"linecolor\": \"white\", \"ticks\": \"\"}}, \"title\": {\"x\": 0.05}, \"xaxis\": {\"automargin\": true, \"gridcolor\": \"white\", \"linecolor\": \"white\", \"ticks\": \"\", \"title\": {\"standoff\": 15}, \"zerolinecolor\": \"white\", \"zerolinewidth\": 2}, \"yaxis\": {\"automargin\": true, \"gridcolor\": \"white\", \"linecolor\": \"white\", \"ticks\": \"\", \"title\": {\"standoff\": 15}, \"zerolinecolor\": \"white\", \"zerolinewidth\": 2}}}},\n",
       "                        {\"responsive\": true}\n",
       "                    ).then(function(){\n",
       "                            \n",
       "var gd = document.getElementById('f582d0d7-7d8d-4a85-af49-786b8ef6bd67');\n",
       "var x = new MutationObserver(function (mutations, observer) {{\n",
       "        var display = window.getComputedStyle(gd).display;\n",
       "        if (!display || display === 'none') {{\n",
       "            console.log([gd, 'removed!']);\n",
       "            Plotly.purge(gd);\n",
       "            observer.disconnect();\n",
       "        }}\n",
       "}});\n",
       "\n",
       "// Listen for the removal of the full notebook cells\n",
       "var notebookContainer = gd.closest('#notebook-container');\n",
       "if (notebookContainer) {{\n",
       "    x.observe(notebookContainer, {childList: true});\n",
       "}}\n",
       "\n",
       "// Listen for the clearing of the current output cell\n",
       "var outputEl = gd.closest('.output');\n",
       "if (outputEl) {{\n",
       "    x.observe(outputEl, {childList: true});\n",
       "}}\n",
       "\n",
       "                        })\n",
       "                };\n",
       "                });\n",
       "            </script>\n",
       "        </div>"
      ]
     },
     "metadata": {},
     "output_type": "display_data"
    }
   ],
   "source": [
    "fig = px.scatter_3d(labeled_df, x='rssisd', y='rssis', z='rssic',\n",
    "                color='label', size_max=100,\n",
    "                opacity=0.9)\n",
    "fig.show()"
   ]
  },
  {
   "cell_type": "code",
   "execution_count": 71,
   "metadata": {},
   "outputs": [
    {
     "data": {
      "application/vnd.plotly.v1+json": {
       "config": {
        "plotlyServerURL": "https://plot.ly"
       },
       "data": [
        {
         "hovertemplate": "datr=SF8BW125<br>rssis=%{x}<br>lsnr=%{y}<br>rssic=%{z}<br>FCnt=%{marker.size}<extra></extra>",
         "legendgroup": "SF8BW125",
         "marker": {
          "color": "#636efa",
          "opacity": 1,
          "size": [
           211
          ],
          "sizemode": "area",
          "sizeref": 0.9377777777777778,
          "symbol": "circle"
         },
         "mode": "markers",
         "name": "SF8BW125",
         "scene": "scene",
         "showlegend": true,
         "type": "scatter3d",
         "x": [
          -117
         ],
         "y": [
          -7
         ],
         "z": [
          -108
         ]
        },
        {
         "hovertemplate": "datr=SF7BW125<br>rssis=%{x}<br>lsnr=%{y}<br>rssic=%{z}<br>FCnt=%{marker.size}<extra></extra>",
         "legendgroup": "SF7BW125",
         "marker": {
          "color": "#EF553B",
          "opacity": 1,
          "size": [
           201,
           199,
           205,
           198
          ],
          "sizemode": "area",
          "sizeref": 0.9377777777777778,
          "symbol": "circle"
         },
         "mode": "markers",
         "name": "SF7BW125",
         "scene": "scene",
         "showlegend": true,
         "type": "scatter3d",
         "x": [
          -109,
          -112,
          -116,
          -108
         ],
         "y": [
          -1,
          -3,
          -6,
          0
         ],
         "z": [
          -105,
          -106,
          -108,
          -104
         ]
        },
        {
         "hovertemplate": "datr=SF10BW125<br>rssis=%{x}<br>lsnr=%{y}<br>rssic=%{z}<br>FCnt=%{marker.size}<extra></extra>",
         "legendgroup": "SF10BW125",
         "marker": {
          "color": "#00cc96",
          "opacity": 1,
          "size": [
           202,
           198
          ],
          "sizemode": "area",
          "sizeref": 0.9377777777777778,
          "symbol": "circle"
         },
         "mode": "markers",
         "name": "SF10BW125",
         "scene": "scene",
         "showlegend": true,
         "type": "scatter3d",
         "x": [
          -117,
          -111
         ],
         "y": [
          -8,
          -3
         ],
         "z": [
          -107,
          -105
         ]
        },
        {
         "hovertemplate": "datr=SF9BW125<br>rssis=%{x}<br>lsnr=%{y}<br>rssic=%{z}<br>FCnt=%{marker.size}<extra></extra>",
         "legendgroup": "SF9BW125",
         "marker": {
          "color": "#ab63fa",
          "opacity": 1,
          "size": [
           199
          ],
          "sizemode": "area",
          "sizeref": 0.9377777777777778,
          "symbol": "circle"
         },
         "mode": "markers",
         "name": "SF9BW125",
         "scene": "scene",
         "showlegend": true,
         "type": "scatter3d",
         "x": [
          -117
         ],
         "y": [
          -8
         ],
         "z": [
          -107
         ]
        }
       ],
       "layout": {
        "legend": {
         "itemsizing": "constant",
         "title": {
          "text": "datr"
         },
         "tracegroupgap": 0
        },
        "margin": {
         "t": 60
        },
        "scene": {
         "domain": {
          "x": [
           0,
           1
          ],
          "y": [
           0,
           1
          ]
         },
         "xaxis": {
          "title": {
           "text": "rssis"
          }
         },
         "yaxis": {
          "title": {
           "text": "lsnr"
          }
         },
         "zaxis": {
          "title": {
           "text": "rssic"
          }
         }
        },
        "template": {
         "data": {
          "bar": [
           {
            "error_x": {
             "color": "#2a3f5f"
            },
            "error_y": {
             "color": "#2a3f5f"
            },
            "marker": {
             "line": {
              "color": "#E5ECF6",
              "width": 0.5
             }
            },
            "type": "bar"
           }
          ],
          "barpolar": [
           {
            "marker": {
             "line": {
              "color": "#E5ECF6",
              "width": 0.5
             }
            },
            "type": "barpolar"
           }
          ],
          "carpet": [
           {
            "aaxis": {
             "endlinecolor": "#2a3f5f",
             "gridcolor": "white",
             "linecolor": "white",
             "minorgridcolor": "white",
             "startlinecolor": "#2a3f5f"
            },
            "baxis": {
             "endlinecolor": "#2a3f5f",
             "gridcolor": "white",
             "linecolor": "white",
             "minorgridcolor": "white",
             "startlinecolor": "#2a3f5f"
            },
            "type": "carpet"
           }
          ],
          "choropleth": [
           {
            "colorbar": {
             "outlinewidth": 0,
             "ticks": ""
            },
            "type": "choropleth"
           }
          ],
          "contour": [
           {
            "colorbar": {
             "outlinewidth": 0,
             "ticks": ""
            },
            "colorscale": [
             [
              0,
              "#0d0887"
             ],
             [
              0.1111111111111111,
              "#46039f"
             ],
             [
              0.2222222222222222,
              "#7201a8"
             ],
             [
              0.3333333333333333,
              "#9c179e"
             ],
             [
              0.4444444444444444,
              "#bd3786"
             ],
             [
              0.5555555555555556,
              "#d8576b"
             ],
             [
              0.6666666666666666,
              "#ed7953"
             ],
             [
              0.7777777777777778,
              "#fb9f3a"
             ],
             [
              0.8888888888888888,
              "#fdca26"
             ],
             [
              1,
              "#f0f921"
             ]
            ],
            "type": "contour"
           }
          ],
          "contourcarpet": [
           {
            "colorbar": {
             "outlinewidth": 0,
             "ticks": ""
            },
            "type": "contourcarpet"
           }
          ],
          "heatmap": [
           {
            "colorbar": {
             "outlinewidth": 0,
             "ticks": ""
            },
            "colorscale": [
             [
              0,
              "#0d0887"
             ],
             [
              0.1111111111111111,
              "#46039f"
             ],
             [
              0.2222222222222222,
              "#7201a8"
             ],
             [
              0.3333333333333333,
              "#9c179e"
             ],
             [
              0.4444444444444444,
              "#bd3786"
             ],
             [
              0.5555555555555556,
              "#d8576b"
             ],
             [
              0.6666666666666666,
              "#ed7953"
             ],
             [
              0.7777777777777778,
              "#fb9f3a"
             ],
             [
              0.8888888888888888,
              "#fdca26"
             ],
             [
              1,
              "#f0f921"
             ]
            ],
            "type": "heatmap"
           }
          ],
          "heatmapgl": [
           {
            "colorbar": {
             "outlinewidth": 0,
             "ticks": ""
            },
            "colorscale": [
             [
              0,
              "#0d0887"
             ],
             [
              0.1111111111111111,
              "#46039f"
             ],
             [
              0.2222222222222222,
              "#7201a8"
             ],
             [
              0.3333333333333333,
              "#9c179e"
             ],
             [
              0.4444444444444444,
              "#bd3786"
             ],
             [
              0.5555555555555556,
              "#d8576b"
             ],
             [
              0.6666666666666666,
              "#ed7953"
             ],
             [
              0.7777777777777778,
              "#fb9f3a"
             ],
             [
              0.8888888888888888,
              "#fdca26"
             ],
             [
              1,
              "#f0f921"
             ]
            ],
            "type": "heatmapgl"
           }
          ],
          "histogram": [
           {
            "marker": {
             "colorbar": {
              "outlinewidth": 0,
              "ticks": ""
             }
            },
            "type": "histogram"
           }
          ],
          "histogram2d": [
           {
            "colorbar": {
             "outlinewidth": 0,
             "ticks": ""
            },
            "colorscale": [
             [
              0,
              "#0d0887"
             ],
             [
              0.1111111111111111,
              "#46039f"
             ],
             [
              0.2222222222222222,
              "#7201a8"
             ],
             [
              0.3333333333333333,
              "#9c179e"
             ],
             [
              0.4444444444444444,
              "#bd3786"
             ],
             [
              0.5555555555555556,
              "#d8576b"
             ],
             [
              0.6666666666666666,
              "#ed7953"
             ],
             [
              0.7777777777777778,
              "#fb9f3a"
             ],
             [
              0.8888888888888888,
              "#fdca26"
             ],
             [
              1,
              "#f0f921"
             ]
            ],
            "type": "histogram2d"
           }
          ],
          "histogram2dcontour": [
           {
            "colorbar": {
             "outlinewidth": 0,
             "ticks": ""
            },
            "colorscale": [
             [
              0,
              "#0d0887"
             ],
             [
              0.1111111111111111,
              "#46039f"
             ],
             [
              0.2222222222222222,
              "#7201a8"
             ],
             [
              0.3333333333333333,
              "#9c179e"
             ],
             [
              0.4444444444444444,
              "#bd3786"
             ],
             [
              0.5555555555555556,
              "#d8576b"
             ],
             [
              0.6666666666666666,
              "#ed7953"
             ],
             [
              0.7777777777777778,
              "#fb9f3a"
             ],
             [
              0.8888888888888888,
              "#fdca26"
             ],
             [
              1,
              "#f0f921"
             ]
            ],
            "type": "histogram2dcontour"
           }
          ],
          "mesh3d": [
           {
            "colorbar": {
             "outlinewidth": 0,
             "ticks": ""
            },
            "type": "mesh3d"
           }
          ],
          "parcoords": [
           {
            "line": {
             "colorbar": {
              "outlinewidth": 0,
              "ticks": ""
             }
            },
            "type": "parcoords"
           }
          ],
          "pie": [
           {
            "automargin": true,
            "type": "pie"
           }
          ],
          "scatter": [
           {
            "marker": {
             "colorbar": {
              "outlinewidth": 0,
              "ticks": ""
             }
            },
            "type": "scatter"
           }
          ],
          "scatter3d": [
           {
            "line": {
             "colorbar": {
              "outlinewidth": 0,
              "ticks": ""
             }
            },
            "marker": {
             "colorbar": {
              "outlinewidth": 0,
              "ticks": ""
             }
            },
            "type": "scatter3d"
           }
          ],
          "scattercarpet": [
           {
            "marker": {
             "colorbar": {
              "outlinewidth": 0,
              "ticks": ""
             }
            },
            "type": "scattercarpet"
           }
          ],
          "scattergeo": [
           {
            "marker": {
             "colorbar": {
              "outlinewidth": 0,
              "ticks": ""
             }
            },
            "type": "scattergeo"
           }
          ],
          "scattergl": [
           {
            "marker": {
             "colorbar": {
              "outlinewidth": 0,
              "ticks": ""
             }
            },
            "type": "scattergl"
           }
          ],
          "scattermapbox": [
           {
            "marker": {
             "colorbar": {
              "outlinewidth": 0,
              "ticks": ""
             }
            },
            "type": "scattermapbox"
           }
          ],
          "scatterpolar": [
           {
            "marker": {
             "colorbar": {
              "outlinewidth": 0,
              "ticks": ""
             }
            },
            "type": "scatterpolar"
           }
          ],
          "scatterpolargl": [
           {
            "marker": {
             "colorbar": {
              "outlinewidth": 0,
              "ticks": ""
             }
            },
            "type": "scatterpolargl"
           }
          ],
          "scatterternary": [
           {
            "marker": {
             "colorbar": {
              "outlinewidth": 0,
              "ticks": ""
             }
            },
            "type": "scatterternary"
           }
          ],
          "surface": [
           {
            "colorbar": {
             "outlinewidth": 0,
             "ticks": ""
            },
            "colorscale": [
             [
              0,
              "#0d0887"
             ],
             [
              0.1111111111111111,
              "#46039f"
             ],
             [
              0.2222222222222222,
              "#7201a8"
             ],
             [
              0.3333333333333333,
              "#9c179e"
             ],
             [
              0.4444444444444444,
              "#bd3786"
             ],
             [
              0.5555555555555556,
              "#d8576b"
             ],
             [
              0.6666666666666666,
              "#ed7953"
             ],
             [
              0.7777777777777778,
              "#fb9f3a"
             ],
             [
              0.8888888888888888,
              "#fdca26"
             ],
             [
              1,
              "#f0f921"
             ]
            ],
            "type": "surface"
           }
          ],
          "table": [
           {
            "cells": {
             "fill": {
              "color": "#EBF0F8"
             },
             "line": {
              "color": "white"
             }
            },
            "header": {
             "fill": {
              "color": "#C8D4E3"
             },
             "line": {
              "color": "white"
             }
            },
            "type": "table"
           }
          ]
         },
         "layout": {
          "annotationdefaults": {
           "arrowcolor": "#2a3f5f",
           "arrowhead": 0,
           "arrowwidth": 1
          },
          "coloraxis": {
           "colorbar": {
            "outlinewidth": 0,
            "ticks": ""
           }
          },
          "colorscale": {
           "diverging": [
            [
             0,
             "#8e0152"
            ],
            [
             0.1,
             "#c51b7d"
            ],
            [
             0.2,
             "#de77ae"
            ],
            [
             0.3,
             "#f1b6da"
            ],
            [
             0.4,
             "#fde0ef"
            ],
            [
             0.5,
             "#f7f7f7"
            ],
            [
             0.6,
             "#e6f5d0"
            ],
            [
             0.7,
             "#b8e186"
            ],
            [
             0.8,
             "#7fbc41"
            ],
            [
             0.9,
             "#4d9221"
            ],
            [
             1,
             "#276419"
            ]
           ],
           "sequential": [
            [
             0,
             "#0d0887"
            ],
            [
             0.1111111111111111,
             "#46039f"
            ],
            [
             0.2222222222222222,
             "#7201a8"
            ],
            [
             0.3333333333333333,
             "#9c179e"
            ],
            [
             0.4444444444444444,
             "#bd3786"
            ],
            [
             0.5555555555555556,
             "#d8576b"
            ],
            [
             0.6666666666666666,
             "#ed7953"
            ],
            [
             0.7777777777777778,
             "#fb9f3a"
            ],
            [
             0.8888888888888888,
             "#fdca26"
            ],
            [
             1,
             "#f0f921"
            ]
           ],
           "sequentialminus": [
            [
             0,
             "#0d0887"
            ],
            [
             0.1111111111111111,
             "#46039f"
            ],
            [
             0.2222222222222222,
             "#7201a8"
            ],
            [
             0.3333333333333333,
             "#9c179e"
            ],
            [
             0.4444444444444444,
             "#bd3786"
            ],
            [
             0.5555555555555556,
             "#d8576b"
            ],
            [
             0.6666666666666666,
             "#ed7953"
            ],
            [
             0.7777777777777778,
             "#fb9f3a"
            ],
            [
             0.8888888888888888,
             "#fdca26"
            ],
            [
             1,
             "#f0f921"
            ]
           ]
          },
          "colorway": [
           "#636efa",
           "#EF553B",
           "#00cc96",
           "#ab63fa",
           "#FFA15A",
           "#19d3f3",
           "#FF6692",
           "#B6E880",
           "#FF97FF",
           "#FECB52"
          ],
          "font": {
           "color": "#2a3f5f"
          },
          "geo": {
           "bgcolor": "white",
           "lakecolor": "white",
           "landcolor": "#E5ECF6",
           "showlakes": true,
           "showland": true,
           "subunitcolor": "white"
          },
          "hoverlabel": {
           "align": "left"
          },
          "hovermode": "closest",
          "mapbox": {
           "style": "light"
          },
          "paper_bgcolor": "white",
          "plot_bgcolor": "#E5ECF6",
          "polar": {
           "angularaxis": {
            "gridcolor": "white",
            "linecolor": "white",
            "ticks": ""
           },
           "bgcolor": "#E5ECF6",
           "radialaxis": {
            "gridcolor": "white",
            "linecolor": "white",
            "ticks": ""
           }
          },
          "scene": {
           "xaxis": {
            "backgroundcolor": "#E5ECF6",
            "gridcolor": "white",
            "gridwidth": 2,
            "linecolor": "white",
            "showbackground": true,
            "ticks": "",
            "zerolinecolor": "white"
           },
           "yaxis": {
            "backgroundcolor": "#E5ECF6",
            "gridcolor": "white",
            "gridwidth": 2,
            "linecolor": "white",
            "showbackground": true,
            "ticks": "",
            "zerolinecolor": "white"
           },
           "zaxis": {
            "backgroundcolor": "#E5ECF6",
            "gridcolor": "white",
            "gridwidth": 2,
            "linecolor": "white",
            "showbackground": true,
            "ticks": "",
            "zerolinecolor": "white"
           }
          },
          "shapedefaults": {
           "line": {
            "color": "#2a3f5f"
           }
          },
          "ternary": {
           "aaxis": {
            "gridcolor": "white",
            "linecolor": "white",
            "ticks": ""
           },
           "baxis": {
            "gridcolor": "white",
            "linecolor": "white",
            "ticks": ""
           },
           "bgcolor": "#E5ECF6",
           "caxis": {
            "gridcolor": "white",
            "linecolor": "white",
            "ticks": ""
           }
          },
          "title": {
           "x": 0.05
          },
          "xaxis": {
           "automargin": true,
           "gridcolor": "white",
           "linecolor": "white",
           "ticks": "",
           "title": {
            "standoff": 15
           },
           "zerolinecolor": "white",
           "zerolinewidth": 2
          },
          "yaxis": {
           "automargin": true,
           "gridcolor": "white",
           "linecolor": "white",
           "ticks": "",
           "title": {
            "standoff": 15
           },
           "zerolinecolor": "white",
           "zerolinewidth": 2
          }
         }
        }
       }
      },
      "text/html": [
       "<div>\n",
       "        \n",
       "        \n",
       "            <div id=\"f8965a79-e590-4fe0-8b34-82d317b92a13\" class=\"plotly-graph-div\" style=\"height:525px; width:100%;\"></div>\n",
       "            <script type=\"text/javascript\">\n",
       "                require([\"plotly\"], function(Plotly) {\n",
       "                    window.PLOTLYENV=window.PLOTLYENV || {};\n",
       "                    \n",
       "                if (document.getElementById(\"f8965a79-e590-4fe0-8b34-82d317b92a13\")) {\n",
       "                    Plotly.newPlot(\n",
       "                        'f8965a79-e590-4fe0-8b34-82d317b92a13',\n",
       "                        [{\"hovertemplate\": \"datr=SF8BW125<br>rssis=%{x}<br>lsnr=%{y}<br>rssic=%{z}<br>FCnt=%{marker.size}<extra></extra>\", \"legendgroup\": \"SF8BW125\", \"marker\": {\"color\": \"#636efa\", \"opacity\": 1, \"size\": [211], \"sizemode\": \"area\", \"sizeref\": 0.9377777777777778, \"symbol\": \"circle\"}, \"mode\": \"markers\", \"name\": \"SF8BW125\", \"scene\": \"scene\", \"showlegend\": true, \"type\": \"scatter3d\", \"x\": [-117], \"y\": [-7], \"z\": [-108]}, {\"hovertemplate\": \"datr=SF7BW125<br>rssis=%{x}<br>lsnr=%{y}<br>rssic=%{z}<br>FCnt=%{marker.size}<extra></extra>\", \"legendgroup\": \"SF7BW125\", \"marker\": {\"color\": \"#EF553B\", \"opacity\": 1, \"size\": [201, 199, 205, 198], \"sizemode\": \"area\", \"sizeref\": 0.9377777777777778, \"symbol\": \"circle\"}, \"mode\": \"markers\", \"name\": \"SF7BW125\", \"scene\": \"scene\", \"showlegend\": true, \"type\": \"scatter3d\", \"x\": [-109, -112, -116, -108], \"y\": [-1, -3, -6, 0], \"z\": [-105, -106, -108, -104]}, {\"hovertemplate\": \"datr=SF10BW125<br>rssis=%{x}<br>lsnr=%{y}<br>rssic=%{z}<br>FCnt=%{marker.size}<extra></extra>\", \"legendgroup\": \"SF10BW125\", \"marker\": {\"color\": \"#00cc96\", \"opacity\": 1, \"size\": [202, 198], \"sizemode\": \"area\", \"sizeref\": 0.9377777777777778, \"symbol\": \"circle\"}, \"mode\": \"markers\", \"name\": \"SF10BW125\", \"scene\": \"scene\", \"showlegend\": true, \"type\": \"scatter3d\", \"x\": [-117, -111], \"y\": [-8, -3], \"z\": [-107, -105]}, {\"hovertemplate\": \"datr=SF9BW125<br>rssis=%{x}<br>lsnr=%{y}<br>rssic=%{z}<br>FCnt=%{marker.size}<extra></extra>\", \"legendgroup\": \"SF9BW125\", \"marker\": {\"color\": \"#ab63fa\", \"opacity\": 1, \"size\": [199], \"sizemode\": \"area\", \"sizeref\": 0.9377777777777778, \"symbol\": \"circle\"}, \"mode\": \"markers\", \"name\": \"SF9BW125\", \"scene\": \"scene\", \"showlegend\": true, \"type\": \"scatter3d\", \"x\": [-117], \"y\": [-8], \"z\": [-107]}],\n",
       "                        {\"legend\": {\"itemsizing\": \"constant\", \"title\": {\"text\": \"datr\"}, \"tracegroupgap\": 0}, \"margin\": {\"t\": 60}, \"scene\": {\"domain\": {\"x\": [0.0, 1.0], \"y\": [0.0, 1.0]}, \"xaxis\": {\"title\": {\"text\": \"rssis\"}}, \"yaxis\": {\"title\": {\"text\": \"lsnr\"}}, \"zaxis\": {\"title\": {\"text\": \"rssic\"}}}, \"template\": {\"data\": {\"bar\": [{\"error_x\": {\"color\": \"#2a3f5f\"}, \"error_y\": {\"color\": \"#2a3f5f\"}, \"marker\": {\"line\": {\"color\": \"#E5ECF6\", \"width\": 0.5}}, \"type\": \"bar\"}], \"barpolar\": [{\"marker\": {\"line\": {\"color\": \"#E5ECF6\", \"width\": 0.5}}, \"type\": \"barpolar\"}], \"carpet\": [{\"aaxis\": {\"endlinecolor\": \"#2a3f5f\", \"gridcolor\": \"white\", \"linecolor\": \"white\", \"minorgridcolor\": \"white\", \"startlinecolor\": \"#2a3f5f\"}, \"baxis\": {\"endlinecolor\": \"#2a3f5f\", \"gridcolor\": \"white\", \"linecolor\": \"white\", \"minorgridcolor\": \"white\", \"startlinecolor\": \"#2a3f5f\"}, \"type\": \"carpet\"}], \"choropleth\": [{\"colorbar\": {\"outlinewidth\": 0, \"ticks\": \"\"}, \"type\": \"choropleth\"}], \"contour\": [{\"colorbar\": {\"outlinewidth\": 0, \"ticks\": \"\"}, \"colorscale\": [[0.0, \"#0d0887\"], [0.1111111111111111, \"#46039f\"], [0.2222222222222222, \"#7201a8\"], [0.3333333333333333, \"#9c179e\"], [0.4444444444444444, \"#bd3786\"], [0.5555555555555556, \"#d8576b\"], [0.6666666666666666, \"#ed7953\"], [0.7777777777777778, \"#fb9f3a\"], [0.8888888888888888, \"#fdca26\"], [1.0, \"#f0f921\"]], \"type\": \"contour\"}], \"contourcarpet\": [{\"colorbar\": {\"outlinewidth\": 0, \"ticks\": \"\"}, \"type\": \"contourcarpet\"}], \"heatmap\": [{\"colorbar\": {\"outlinewidth\": 0, \"ticks\": \"\"}, \"colorscale\": [[0.0, \"#0d0887\"], [0.1111111111111111, \"#46039f\"], [0.2222222222222222, \"#7201a8\"], [0.3333333333333333, \"#9c179e\"], [0.4444444444444444, \"#bd3786\"], [0.5555555555555556, \"#d8576b\"], [0.6666666666666666, \"#ed7953\"], [0.7777777777777778, \"#fb9f3a\"], [0.8888888888888888, \"#fdca26\"], [1.0, \"#f0f921\"]], \"type\": \"heatmap\"}], \"heatmapgl\": [{\"colorbar\": {\"outlinewidth\": 0, \"ticks\": \"\"}, \"colorscale\": [[0.0, \"#0d0887\"], [0.1111111111111111, \"#46039f\"], [0.2222222222222222, \"#7201a8\"], [0.3333333333333333, \"#9c179e\"], [0.4444444444444444, \"#bd3786\"], [0.5555555555555556, \"#d8576b\"], [0.6666666666666666, \"#ed7953\"], [0.7777777777777778, \"#fb9f3a\"], [0.8888888888888888, \"#fdca26\"], [1.0, \"#f0f921\"]], \"type\": \"heatmapgl\"}], \"histogram\": [{\"marker\": {\"colorbar\": {\"outlinewidth\": 0, \"ticks\": \"\"}}, \"type\": \"histogram\"}], \"histogram2d\": [{\"colorbar\": {\"outlinewidth\": 0, \"ticks\": \"\"}, \"colorscale\": [[0.0, \"#0d0887\"], [0.1111111111111111, \"#46039f\"], [0.2222222222222222, \"#7201a8\"], [0.3333333333333333, \"#9c179e\"], [0.4444444444444444, \"#bd3786\"], [0.5555555555555556, \"#d8576b\"], [0.6666666666666666, \"#ed7953\"], [0.7777777777777778, \"#fb9f3a\"], [0.8888888888888888, \"#fdca26\"], [1.0, \"#f0f921\"]], \"type\": \"histogram2d\"}], \"histogram2dcontour\": [{\"colorbar\": {\"outlinewidth\": 0, \"ticks\": \"\"}, \"colorscale\": [[0.0, \"#0d0887\"], [0.1111111111111111, \"#46039f\"], [0.2222222222222222, \"#7201a8\"], [0.3333333333333333, \"#9c179e\"], [0.4444444444444444, \"#bd3786\"], [0.5555555555555556, \"#d8576b\"], [0.6666666666666666, \"#ed7953\"], [0.7777777777777778, \"#fb9f3a\"], [0.8888888888888888, \"#fdca26\"], [1.0, \"#f0f921\"]], \"type\": \"histogram2dcontour\"}], \"mesh3d\": [{\"colorbar\": {\"outlinewidth\": 0, \"ticks\": \"\"}, \"type\": \"mesh3d\"}], \"parcoords\": [{\"line\": {\"colorbar\": {\"outlinewidth\": 0, \"ticks\": \"\"}}, \"type\": \"parcoords\"}], \"pie\": [{\"automargin\": true, \"type\": \"pie\"}], \"scatter\": [{\"marker\": {\"colorbar\": {\"outlinewidth\": 0, \"ticks\": \"\"}}, \"type\": \"scatter\"}], \"scatter3d\": [{\"line\": {\"colorbar\": {\"outlinewidth\": 0, \"ticks\": \"\"}}, \"marker\": {\"colorbar\": {\"outlinewidth\": 0, \"ticks\": \"\"}}, \"type\": \"scatter3d\"}], \"scattercarpet\": [{\"marker\": {\"colorbar\": {\"outlinewidth\": 0, \"ticks\": \"\"}}, \"type\": \"scattercarpet\"}], \"scattergeo\": [{\"marker\": {\"colorbar\": {\"outlinewidth\": 0, \"ticks\": \"\"}}, \"type\": \"scattergeo\"}], \"scattergl\": [{\"marker\": {\"colorbar\": {\"outlinewidth\": 0, \"ticks\": \"\"}}, \"type\": \"scattergl\"}], \"scattermapbox\": [{\"marker\": {\"colorbar\": {\"outlinewidth\": 0, \"ticks\": \"\"}}, \"type\": \"scattermapbox\"}], \"scatterpolar\": [{\"marker\": {\"colorbar\": {\"outlinewidth\": 0, \"ticks\": \"\"}}, \"type\": \"scatterpolar\"}], \"scatterpolargl\": [{\"marker\": {\"colorbar\": {\"outlinewidth\": 0, \"ticks\": \"\"}}, \"type\": \"scatterpolargl\"}], \"scatterternary\": [{\"marker\": {\"colorbar\": {\"outlinewidth\": 0, \"ticks\": \"\"}}, \"type\": \"scatterternary\"}], \"surface\": [{\"colorbar\": {\"outlinewidth\": 0, \"ticks\": \"\"}, \"colorscale\": [[0.0, \"#0d0887\"], [0.1111111111111111, \"#46039f\"], [0.2222222222222222, \"#7201a8\"], [0.3333333333333333, \"#9c179e\"], [0.4444444444444444, \"#bd3786\"], [0.5555555555555556, \"#d8576b\"], [0.6666666666666666, \"#ed7953\"], [0.7777777777777778, \"#fb9f3a\"], [0.8888888888888888, \"#fdca26\"], [1.0, \"#f0f921\"]], \"type\": \"surface\"}], \"table\": [{\"cells\": {\"fill\": {\"color\": \"#EBF0F8\"}, \"line\": {\"color\": \"white\"}}, \"header\": {\"fill\": {\"color\": \"#C8D4E3\"}, \"line\": {\"color\": \"white\"}}, \"type\": \"table\"}]}, \"layout\": {\"annotationdefaults\": {\"arrowcolor\": \"#2a3f5f\", \"arrowhead\": 0, \"arrowwidth\": 1}, \"coloraxis\": {\"colorbar\": {\"outlinewidth\": 0, \"ticks\": \"\"}}, \"colorscale\": {\"diverging\": [[0, \"#8e0152\"], [0.1, \"#c51b7d\"], [0.2, \"#de77ae\"], [0.3, \"#f1b6da\"], [0.4, \"#fde0ef\"], [0.5, \"#f7f7f7\"], [0.6, \"#e6f5d0\"], [0.7, \"#b8e186\"], [0.8, \"#7fbc41\"], [0.9, \"#4d9221\"], [1, \"#276419\"]], \"sequential\": [[0.0, \"#0d0887\"], [0.1111111111111111, \"#46039f\"], [0.2222222222222222, \"#7201a8\"], [0.3333333333333333, \"#9c179e\"], [0.4444444444444444, \"#bd3786\"], [0.5555555555555556, \"#d8576b\"], [0.6666666666666666, \"#ed7953\"], [0.7777777777777778, \"#fb9f3a\"], [0.8888888888888888, \"#fdca26\"], [1.0, \"#f0f921\"]], \"sequentialminus\": [[0.0, \"#0d0887\"], [0.1111111111111111, \"#46039f\"], [0.2222222222222222, \"#7201a8\"], [0.3333333333333333, \"#9c179e\"], [0.4444444444444444, \"#bd3786\"], [0.5555555555555556, \"#d8576b\"], [0.6666666666666666, \"#ed7953\"], [0.7777777777777778, \"#fb9f3a\"], [0.8888888888888888, \"#fdca26\"], [1.0, \"#f0f921\"]]}, \"colorway\": [\"#636efa\", \"#EF553B\", \"#00cc96\", \"#ab63fa\", \"#FFA15A\", \"#19d3f3\", \"#FF6692\", \"#B6E880\", \"#FF97FF\", \"#FECB52\"], \"font\": {\"color\": \"#2a3f5f\"}, \"geo\": {\"bgcolor\": \"white\", \"lakecolor\": \"white\", \"landcolor\": \"#E5ECF6\", \"showlakes\": true, \"showland\": true, \"subunitcolor\": \"white\"}, \"hoverlabel\": {\"align\": \"left\"}, \"hovermode\": \"closest\", \"mapbox\": {\"style\": \"light\"}, \"paper_bgcolor\": \"white\", \"plot_bgcolor\": \"#E5ECF6\", \"polar\": {\"angularaxis\": {\"gridcolor\": \"white\", \"linecolor\": \"white\", \"ticks\": \"\"}, \"bgcolor\": \"#E5ECF6\", \"radialaxis\": {\"gridcolor\": \"white\", \"linecolor\": \"white\", \"ticks\": \"\"}}, \"scene\": {\"xaxis\": {\"backgroundcolor\": \"#E5ECF6\", \"gridcolor\": \"white\", \"gridwidth\": 2, \"linecolor\": \"white\", \"showbackground\": true, \"ticks\": \"\", \"zerolinecolor\": \"white\"}, \"yaxis\": {\"backgroundcolor\": \"#E5ECF6\", \"gridcolor\": \"white\", \"gridwidth\": 2, \"linecolor\": \"white\", \"showbackground\": true, \"ticks\": \"\", \"zerolinecolor\": \"white\"}, \"zaxis\": {\"backgroundcolor\": \"#E5ECF6\", \"gridcolor\": \"white\", \"gridwidth\": 2, \"linecolor\": \"white\", \"showbackground\": true, \"ticks\": \"\", \"zerolinecolor\": \"white\"}}, \"shapedefaults\": {\"line\": {\"color\": \"#2a3f5f\"}}, \"ternary\": {\"aaxis\": {\"gridcolor\": \"white\", \"linecolor\": \"white\", \"ticks\": \"\"}, \"baxis\": {\"gridcolor\": \"white\", \"linecolor\": \"white\", \"ticks\": \"\"}, \"bgcolor\": \"#E5ECF6\", \"caxis\": {\"gridcolor\": \"white\", \"linecolor\": \"white\", \"ticks\": \"\"}}, \"title\": {\"x\": 0.05}, \"xaxis\": {\"automargin\": true, \"gridcolor\": \"white\", \"linecolor\": \"white\", \"ticks\": \"\", \"title\": {\"standoff\": 15}, \"zerolinecolor\": \"white\", \"zerolinewidth\": 2}, \"yaxis\": {\"automargin\": true, \"gridcolor\": \"white\", \"linecolor\": \"white\", \"ticks\": \"\", \"title\": {\"standoff\": 15}, \"zerolinecolor\": \"white\", \"zerolinewidth\": 2}}}},\n",
       "                        {\"responsive\": true}\n",
       "                    ).then(function(){\n",
       "                            \n",
       "var gd = document.getElementById('f8965a79-e590-4fe0-8b34-82d317b92a13');\n",
       "var x = new MutationObserver(function (mutations, observer) {{\n",
       "        var display = window.getComputedStyle(gd).display;\n",
       "        if (!display || display === 'none') {{\n",
       "            console.log([gd, 'removed!']);\n",
       "            Plotly.purge(gd);\n",
       "            observer.disconnect();\n",
       "        }}\n",
       "}});\n",
       "\n",
       "// Listen for the removal of the full notebook cells\n",
       "var notebookContainer = gd.closest('#notebook-container');\n",
       "if (notebookContainer) {{\n",
       "    x.observe(notebookContainer, {childList: true});\n",
       "}}\n",
       "\n",
       "// Listen for the clearing of the current output cell\n",
       "var outputEl = gd.closest('.output');\n",
       "if (outputEl) {{\n",
       "    x.observe(outputEl, {childList: true});\n",
       "}}\n",
       "\n",
       "                        })\n",
       "                };\n",
       "                });\n",
       "            </script>\n",
       "        </div>"
      ]
     },
     "metadata": {},
     "output_type": "display_data"
    }
   ],
   "source": [
    "fig = px.scatter_3d(labeled_df[labeled_df['label'] == 0], x='rssis', y='lsnr', z='rssic',size='FCnt',size_max=15,\n",
    "              opacity=1,color='datr')\n",
    "fig.show()"
   ]
  },
  {
   "cell_type": "code",
   "execution_count": 72,
   "metadata": {},
   "outputs": [],
   "source": [
    "color = [\"#ff0000\", \"#0073e6\", \"#ff751a\", \"#00ff00\", \"#e6e600\", \"#ff00ff\",\"#0000e6\",\\\n",
    "         \"#006622\", \"#804000\", \"#6600ff\", \"#b30000\", \"#66ffff\",\"#4d2600\"]"
   ]
  },
  {
   "cell_type": "code",
   "execution_count": 199,
   "metadata": {},
   "outputs": [
    {
     "data": {
      "text/plain": [
       "<matplotlib.legend.Legend at 0x17e0bebfb88>"
      ]
     },
     "execution_count": 199,
     "metadata": {},
     "output_type": "execute_result"
    },
    {
     "data": {
      "image/png": "[encoded data removed]",
      "text/plain": [
       "<Figure size 1008x432 with 1 Axes>"
      ]
     },
     "metadata": {},
     "output_type": "display_data"
    }
   ],
   "source": [
    "fig = plt.figure(figsize=(14,6))\n",
    "sns.set(rc={'axes.facecolor':'lightgrey', 'figure.facecolor':'white','xtick.color':'black','ytick.color':'black'\\\n",
    "          , 'xtick.labelsize':'10', 'ytick.labelsize':'10'})\n",
    "sns.set_palette(\"bright\")\n",
    "for i in labeled_df['label'].unique():\n",
    "    sns.distplot(labeled_df[labeled_df['label']==i]['rssis'],label='label',kde=False,bins=40)\n",
    "fig.legend(labels=np.sort(labeled_df['label'].unique()))"
   ]
  },
  {
   "cell_type": "code",
   "execution_count": 200,
   "metadata": {},
   "outputs": [
    {
     "data": {
      "text/plain": [
       "<matplotlib.legend.Legend at 0x17e0c76e188>"
      ]
     },
     "execution_count": 200,
     "metadata": {},
     "output_type": "execute_result"
    },
    {
     "data": {
      "image/png": "[encoded data removed]",
      "text/plain": [
       "<Figure size 1008x432 with 1 Axes>"
      ]
     },
     "metadata": {},
     "output_type": "display_data"
    }
   ],
   "source": [
    "fig = plt.figure(figsize=(14,6))\n",
    "sns.set(rc={'axes.facecolor':'lightgrey', 'figure.facecolor':'white','xtick.color':'black','ytick.color':'black'\\\n",
    "          , 'xtick.labelsize':'10', 'ytick.labelsize':'10'})\n",
    "sns.set_palette(\"bright\")\n",
    "for i in labeled_df['label'].unique():\n",
    "    sns.distplot(labeled_df[labeled_df['label']==i]['lsnr'],label='label',kde=False,bins=30,norm_hist=True)\n",
    "fig.legend(labels=np.sort(labeled_df['label'].unique()))"
   ]
  },
  {
   "cell_type": "code",
   "execution_count": 74,
   "metadata": {},
   "outputs": [],
   "source": [
    "data = pd.merge(data,pd.DataFrame(labeled_df[['dev_addr','label']]),on = 'dev_addr')"
   ]
  },
  {
   "cell_type": "code",
   "execution_count": 218,
   "metadata": {},
   "outputs": [
    {
     "data": {
      "text/html": [
       "<div>\n",
       "<style scoped>\n",
       "    .dataframe tbody tr th:only-of-type {\n",
       "        vertical-align: middle;\n",
       "    }\n",
       "\n",
       "    .dataframe tbody tr th {\n",
       "        vertical-align: top;\n",
       "    }\n",
       "\n",
       "    .dataframe thead th {\n",
       "        text-align: right;\n",
       "    }\n",
       "</style>\n",
       "<table border=\"1\" class=\"dataframe\">\n",
       "  <thead>\n",
       "    <tr style=\"text-align: right;\">\n",
       "      <th></th>\n",
       "      <th>ant</th>\n",
       "      <th>chan</th>\n",
       "      <th>datr</th>\n",
       "      <th>dev_addr</th>\n",
       "      <th>freq</th>\n",
       "      <th>gateway</th>\n",
       "      <th>lsnr</th>\n",
       "      <th>rssic</th>\n",
       "      <th>rssis</th>\n",
       "      <th>rssisd</th>\n",
       "      <th>FCnt</th>\n",
       "      <th>label</th>\n",
       "    </tr>\n",
       "  </thead>\n",
       "  <tbody>\n",
       "    <tr>\n",
       "      <td>0</td>\n",
       "      <td>1</td>\n",
       "      <td>23</td>\n",
       "      <td>SF12BW125</td>\n",
       "      <td>000000ff</td>\n",
       "      <td>868.5</td>\n",
       "      <td>7276FF002E061495</td>\n",
       "      <td>-18.0</td>\n",
       "      <td>-108</td>\n",
       "      <td>-126.0</td>\n",
       "      <td>0.0</td>\n",
       "      <td>190.0</td>\n",
       "      <td>3.0</td>\n",
       "    </tr>\n",
       "    <tr>\n",
       "      <td>1</td>\n",
       "      <td>1</td>\n",
       "      <td>22</td>\n",
       "      <td>SF12BW125</td>\n",
       "      <td>000000ff</td>\n",
       "      <td>868.3</td>\n",
       "      <td>7276FF002E061495</td>\n",
       "      <td>-23.0</td>\n",
       "      <td>-103</td>\n",
       "      <td>-127.0</td>\n",
       "      <td>1.0</td>\n",
       "      <td>191.0</td>\n",
       "      <td>3.0</td>\n",
       "    </tr>\n",
       "    <tr>\n",
       "      <td>2</td>\n",
       "      <td>1</td>\n",
       "      <td>21</td>\n",
       "      <td>SF12BW125</td>\n",
       "      <td>000000ff</td>\n",
       "      <td>868.1</td>\n",
       "      <td>7276FF002E061495</td>\n",
       "      <td>-18.0</td>\n",
       "      <td>-108</td>\n",
       "      <td>-127.0</td>\n",
       "      <td>0.0</td>\n",
       "      <td>192.0</td>\n",
       "      <td>3.0</td>\n",
       "    </tr>\n",
       "    <tr>\n",
       "      <td>3</td>\n",
       "      <td>1</td>\n",
       "      <td>22</td>\n",
       "      <td>SF12BW125</td>\n",
       "      <td>000000ff</td>\n",
       "      <td>868.3</td>\n",
       "      <td>7276FF002E061495</td>\n",
       "      <td>-18.0</td>\n",
       "      <td>-108</td>\n",
       "      <td>-127.0</td>\n",
       "      <td>0.0</td>\n",
       "      <td>202.0</td>\n",
       "      <td>3.0</td>\n",
       "    </tr>\n",
       "    <tr>\n",
       "      <td>4</td>\n",
       "      <td>1</td>\n",
       "      <td>23</td>\n",
       "      <td>SF12BW125</td>\n",
       "      <td>000000ff</td>\n",
       "      <td>868.5</td>\n",
       "      <td>7276FF002E061495</td>\n",
       "      <td>-23.0</td>\n",
       "      <td>-106</td>\n",
       "      <td>-129.0</td>\n",
       "      <td>0.0</td>\n",
       "      <td>204.0</td>\n",
       "      <td>3.0</td>\n",
       "    </tr>\n",
       "  </tbody>\n",
       "</table>\n",
       "</div>"
      ],
      "text/plain": [
       "   ant  chan       datr  dev_addr   freq           gateway  lsnr  rssic  \\\n",
       "0    1    23  SF12BW125  000000ff  868.5  7276FF002E061495 -18.0   -108   \n",
       "1    1    22  SF12BW125  000000ff  868.3  7276FF002E061495 -23.0   -103   \n",
       "2    1    21  SF12BW125  000000ff  868.1  7276FF002E061495 -18.0   -108   \n",
       "3    1    22  SF12BW125  000000ff  868.3  7276FF002E061495 -18.0   -108   \n",
       "4    1    23  SF12BW125  000000ff  868.5  7276FF002E061495 -23.0   -106   \n",
       "\n",
       "   rssis  rssisd   FCnt  label  \n",
       "0 -126.0     0.0  190.0    3.0  \n",
       "1 -127.0     1.0  191.0    3.0  \n",
       "2 -127.0     0.0  192.0    3.0  \n",
       "3 -127.0     0.0  202.0    3.0  \n",
       "4 -129.0     0.0  204.0    3.0  "
      ]
     },
     "execution_count": 218,
     "metadata": {},
     "output_type": "execute_result"
    }
   ],
   "source": [
    "data.head()"
   ]
  },
  {
   "cell_type": "code",
   "execution_count": 75,
   "metadata": {},
   "outputs": [
    {
     "name": "stdout",
     "output_type": "stream",
     "text": [
      "<class 'pandas.core.frame.DataFrame'>\n",
      "Int64Index: 171198 entries, 0 to 171197\n",
      "Data columns (total 12 columns):\n",
      "ant         171198 non-null int64\n",
      "chan        171198 non-null int64\n",
      "datr        171198 non-null object\n",
      "dev_addr    171198 non-null object\n",
      "freq        171198 non-null float64\n",
      "gateway     171198 non-null object\n",
      "lsnr        171198 non-null float64\n",
      "rssic       171198 non-null int64\n",
      "rssis       171198 non-null float64\n",
      "rssisd      171198 non-null float64\n",
      "FCnt        171198 non-null float64\n",
      "label       171198 non-null float64\n",
      "dtypes: float64(6), int64(3), object(3)\n",
      "memory usage: 17.0+ MB\n"
     ]
    }
   ],
   "source": [
    "data.info()"
   ]
  },
  {
   "cell_type": "markdown",
   "metadata": {},
   "source": [
    "### number of packet sent"
   ]
  },
  {
   "cell_type": "code",
   "execution_count": 211,
   "metadata": {
    "scrolled": true
   },
   "outputs": [],
   "source": [
    "labels_packet_number = data.groupby(['label']).size().to_dict()"
   ]
  },
  {
   "cell_type": "code",
   "execution_count": 239,
   "metadata": {},
   "outputs": [
    {
     "data": {
      "image/png": "[encoded data removed]",
      "text/plain": [
       "<Figure size 432x288 with 1 Axes>"
      ]
     },
     "metadata": {},
     "output_type": "display_data"
    }
   ],
   "source": [
    "x = list(labels_packet_number.keys())\n",
    "y = list(labels_packet_number.values())\n",
    "\n",
    "fig = plt.figure(figsize=(6,4))\n",
    "ax = fig.add_axes([0,0,1,1])\n",
    "ax.barh(x, y,color = color)\n",
    "plt.title('Number of Packet Sent Figure')\n",
    "plt.ylabel('cluster label')\n",
    "plt.xlabel('packets sent')\n",
    "for index, value in enumerate(y):\n",
    "    plt.text(value, index, str(value))"
   ]
  },
  {
   "cell_type": "code",
   "execution_count": 206,
   "metadata": {},
   "outputs": [
    {
     "data": {
      "image/png": "[encoded data removed]",
      "text/plain": [
       "<Figure size 720x288 with 1 Axes>"
      ]
     },
     "metadata": {},
     "output_type": "display_data"
    }
   ],
   "source": [
    "fig = plt.figure(figsize=(10,4))\n",
    "ax = fig.add_axes([0,0,1,1])\n",
    "ax.bar(*zip(*labels_packet_number.items()),color= color, width = 0.5)\n",
    "plt.title('Number of Packet Sent Figure')\n",
    "plt.xlabel('cluster label')\n",
    "plt.ylabel('packets sent')\n",
    "plt.show()"
   ]
  },
  {
   "cell_type": "code",
   "execution_count": 248,
   "metadata": {},
   "outputs": [
    {
     "data": {
      "image/png": "[encoded data removed]",
      "text/plain": [
       "<Figure size 720x288 with 1 Axes>"
      ]
     },
     "metadata": {},
     "output_type": "display_data"
    }
   ],
   "source": [
    "fig = plt.figure(figsize=(10,4))\n",
    "ax = fig.add_axes([0,0,1,1])\n",
    "ax = sns.barplot(x=\"label\", y=\"FCnt\", data=data)\n",
    "plt.title('Error rate Figure')\n",
    "plt.xlabel('cluster label')\n",
    "plt.ylabel('error rate sent')\n",
    "plt.show()"
   ]
  },
  {
   "cell_type": "code",
   "execution_count": 204,
   "metadata": {},
   "outputs": [
    {
     "data": {
      "text/plain": [
       "<matplotlib.legend.Legend at 0x17e12c1fdc8>"
      ]
     },
     "execution_count": 204,
     "metadata": {},
     "output_type": "execute_result"
    },
    {
     "data": {
      "image/png": "[encoded data removed]",
      "text/plain": [
       "<Figure size 1152x288 with 1 Axes>"
      ]
     },
     "metadata": {},
     "output_type": "display_data"
    }
   ],
   "source": [
    "fig = plt.figure(figsize=(16,4))\n",
    "sns.set(rc={'axes.facecolor':'lightgrey', 'figure.facecolor':'grey','xtick.color':'black','ytick.color':'black'\\\n",
    "          , 'xtick.labelsize':'10', 'ytick.labelsize':'10'})\n",
    "\n",
    "sns.set_palette(\"dark\")\n",
    "\n",
    "for i in data['label'].unique():\n",
    "        sns.distplot(data[data['label']==i]['rssic'],label='label',kde=False,bins=120,norm_hist=True)\n",
    "fig.legend(labels=np.sort(data['label'].unique()))"
   ]
  },
  {
   "cell_type": "code",
   "execution_count": 203,
   "metadata": {
    "scrolled": true
   },
   "outputs": [
    {
     "data": {
      "text/plain": [
       "<matplotlib.legend.Legend at 0x17e10ec3048>"
      ]
     },
     "execution_count": 203,
     "metadata": {},
     "output_type": "execute_result"
    },
    {
     "data": {
      "image/png": "[encoded data removed]",
      "text/plain": [
       "<Figure size 1152x288 with 1 Axes>"
      ]
     },
     "metadata": {},
     "output_type": "display_data"
    }
   ],
   "source": [
    "fig = plt.figure(figsize=(16,4))\n",
    "sns.set(rc={'axes.facecolor':'lightgrey','xtick.color':'black','ytick.color':'black'\\\n",
    "          , 'xtick.labelsize':'10', 'ytick.labelsize':'10'})\n",
    "sns.set_palette(\"dark\")\n",
    "for i in data['label'].unique():\n",
    "        sns.distplot(data[data['label']==i]['lsnr'],label='label',kde=False,bins=180,norm_hist=True)\n",
    "fig.legend(labels=np.sort(data['label'].unique()))"
   ]
  },
  {
   "cell_type": "code",
   "execution_count": null,
   "metadata": {},
   "outputs": [],
   "source": []
  },
  {
   "cell_type": "code",
   "execution_count": null,
   "metadata": {},
   "outputs": [],
   "source": []
  },
  {
   "cell_type": "code",
   "execution_count": null,
   "metadata": {},
   "outputs": [],
   "source": []
  },
  {
   "cell_type": "code",
   "execution_count": null,
   "metadata": {},
   "outputs": [],
   "source": []
  },
  {
   "cell_type": "code",
   "execution_count": null,
   "metadata": {},
   "outputs": [],
   "source": []
  },
  {
   "cell_type": "code",
   "execution_count": null,
   "metadata": {},
   "outputs": [],
   "source": []
  },
  {
   "cell_type": "code",
   "execution_count": null,
   "metadata": {},
   "outputs": [],
   "source": []
  },
  {
   "cell_type": "code",
   "execution_count": null,
   "metadata": {},
   "outputs": [],
   "source": []
  },
  {
   "cell_type": "code",
   "execution_count": null,
   "metadata": {},
   "outputs": [],
   "source": []
  },
  {
   "cell_type": "code",
   "execution_count": null,
   "metadata": {},
   "outputs": [],
   "source": []
  },
  {
   "cell_type": "code",
   "execution_count": null,
   "metadata": {},
   "outputs": [],
   "source": []
  },
  {
   "cell_type": "code",
   "execution_count": null,
   "metadata": {},
   "outputs": [],
   "source": []
  },
  {
   "cell_type": "code",
   "execution_count": null,
   "metadata": {},
   "outputs": [],
   "source": []
  }
 ],
 "metadata": {
  "kernelspec": {
   "display_name": "Python 3",
   "language": "python",
   "name": "python3"
  },
  "language_info": {
   "codemirror_mode": {
    "name": "ipython",
    "version": 3
   },
   "file_extension": ".py",
   "mimetype": "text/x-python",
   "name": "python",
   "nbconvert_exporter": "python",
   "pygments_lexer": "ipython3",
   "version": "3.7.4"
  }
 },
 "nbformat": 4,
 "nbformat_minor": 2
}
