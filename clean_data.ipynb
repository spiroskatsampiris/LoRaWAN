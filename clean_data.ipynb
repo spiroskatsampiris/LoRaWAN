{
 "cells": [
  {
   "cell_type": "code",
   "execution_count": 1,
   "metadata": {},
   "outputs": [],
   "source": [
    "data_explanation = {\"CHANNEL\": \"Channel used to send the packet\",\n",
    "\"CODR\" : \"Coding rate packet\",\n",
    "\"CREATED AT\": \"Timestamp indicating the time when the entry has been created inside the database\",\n",
    "\"DATR\" :\"SF and bandwidth of the packet\",\n",
    "\"DEV_ADDR\" :\"Unique identifier of the device inside the network\",\n",
    "\"DEV_EUI\" : \"Unique identifier of the physical device (None if the device is unknown)\",\n",
    "\"FREQUENCY\" : \"Frequency of the sent packet in MHz\",\n",
    "\"GATEWAY\" : \"GW MAC ADDRESS which received the packet\",\n",
    "\"LSNR\" : \"Received signal to noise ratio of the packet\",\n",
    "\"FCNT\" : \"Frame counter: counter increasing for each packet sent from ED;used evaluate error rate\",\n",
    "\"RSSI\" : \"Received packet signal strength\",\n",
    "\"SIZE\" : \"Packet size (bytes)\",\n",
    "\"CRC_STATUS\" : \"result: if 1 = passed if −1 = failed\",\n",
    "\"TMST\" : \"Internal clock timestamp from gateway: used for synchronizing the downlink\\\n",
    "        with the end transmission of the uplink to communicate response to end-device\",\n",
    "\"UID\" : \"Unique identifier of the entry inside the database}\"}"
   ]
  },
  {
   "cell_type": "code",
   "execution_count": 57,
   "metadata": {},
   "outputs": [],
   "source": [
    "import pandas as pd\n",
    "from matplotlib import pyplot as plt\n",
    "import math\n",
    "import numpy as np\n",
    "from scipy import optimize\n",
    "from sklearn.cluster import KMeans\n",
    "from sklearn.metrics import davies_bouldin_score"
   ]
  },
  {
   "cell_type": "code",
   "execution_count": 3,
   "metadata": {},
   "outputs": [],
   "source": [
    "data = pd.read_csv(\"anonymized_spazio_radio_v2.csv\")"
   ]
  },
  {
   "cell_type": "code",
   "execution_count": null,
   "metadata": {},
   "outputs": [],
   "source": []
  },
  {
   "cell_type": "code",
   "execution_count": 4,
   "metadata": {},
   "outputs": [],
   "source": [
    "def countna():\n",
    "    nasdict = {}\n",
    "    for i in data.columns:\n",
    "        nasdict[i] = [('not na', data[i].notna().sum()),('na', data[i].isna().sum())]\n",
    "    return nasdict"
   ]
  },
  {
   "cell_type": "code",
   "execution_count": 5,
   "metadata": {},
   "outputs": [
    {
     "data": {
      "text/plain": [
       "{'ant': [('not na', 186632), ('na', 0)],\n",
       " 'chan': [('not na', 186632), ('na', 0)],\n",
       " 'codr': [('not na', 186632), ('na', 0)],\n",
       " 'created_at': [('not na', 186632), ('na', 0)],\n",
       " 'datr': [('not na', 186632), ('na', 0)],\n",
       " 'dev_addr': [('not na', 186632), ('na', 0)],\n",
       " 'dev_eui': [('not na', 186632), ('na', 0)],\n",
       " 'dev_nonce': [('not na', 5106), ('na', 181526)],\n",
       " 'freq': [('not na', 186632), ('na', 0)],\n",
       " 'gateway': [('not na', 186632), ('na', 0)],\n",
       " 'lsnr': [('not na', 186632), ('na', 0)],\n",
       " 'ns_time': [('not na', 186632), ('na', 0)],\n",
       " 'rssi': [('not na', 181526), ('na', 5106)],\n",
       " 'rssic': [('not na', 186632), ('na', 0)],\n",
       " 'rssis': [('not na', 176025), ('na', 10607)],\n",
       " 'rssisd': [('not na', 176025), ('na', 10607)],\n",
       " 'size': [('not na', 186632), ('na', 0)],\n",
       " 'time': [('not na', 186622), ('na', 10)],\n",
       " 'tmms': [('not na', 186622), ('na', 10)],\n",
       " 'tmst': [('not na', 186632), ('na', 0)],\n",
       " 'FCnt': [('not na', 181526), ('na', 5106)],\n",
       " 'valueRaw': [('not na', 186632), ('na', 0)],\n",
       " 'value_minutes': [('not na', 186632), ('na', 0)]}"
      ]
     },
     "execution_count": 5,
     "metadata": {},
     "output_type": "execute_result"
    }
   ],
   "source": [
    "countna()"
   ]
  },
  {
   "cell_type": "markdown",
   "metadata": {},
   "source": [
    "### It is noticable that the number of rows where rssi and rssic are different is the same number of rows of rssi Na"
   ]
  },
  {
   "cell_type": "code",
   "execution_count": 6,
   "metadata": {},
   "outputs": [
    {
     "data": {
      "text/plain": [
       "array(['4/5'], dtype=object)"
      ]
     },
     "execution_count": 6,
     "metadata": {},
     "output_type": "execute_result"
    }
   ],
   "source": [
    "data.codr.unique() #codr has only one value across the data"
   ]
  },
  {
   "cell_type": "code",
   "execution_count": 7,
   "metadata": {},
   "outputs": [
    {
     "data": {
      "text/plain": [
       "True"
      ]
     },
     "execution_count": 7,
     "metadata": {},
     "output_type": "execute_result"
    }
   ],
   "source": [
    "((data.loc[data['rssi'].notna(),['rssi']]).values ==\\\n",
    " (data.loc[data['rssi'].notna(),['rssic']]).values).all()\n",
    "#validating that rssi and rssic have equal values but rssic has no Na's so we drop rssi"
   ]
  },
  {
   "cell_type": "code",
   "execution_count": 8,
   "metadata": {},
   "outputs": [
    {
     "data": {
      "text/plain": [
       "True"
      ]
     },
     "execution_count": 8,
     "metadata": {},
     "output_type": "execute_result"
    }
   ],
   "source": [
    "len(data.dev_eui.unique()) == len(data.dev_addr.unique())"
   ]
  },
  {
   "cell_type": "code",
   "execution_count": 9,
   "metadata": {},
   "outputs": [],
   "source": [
    "data = data.drop(columns = ['dev_nonce']) # has 181526 NA\n",
    "data = data.drop(columns = ['codr']) #has only one value \n",
    "data = data.drop(columns = ['dev_eui']) #mapping one to one with dev_addr\n",
    "data = data.drop(columns = ['ns_time']) #we drop ns_time because\n",
    "        #the time of inserting the data inside the database is not relavant to our analysis\n",
    "data = data.drop(columns = ['rssi']) #duplicated data from rssic\n",
    "data = data.drop(columns = ['created_at','tmms','value_minutes','tmst',]) \n",
    "#duplicated and irrelevant timestamps"
   ]
  },
  {
   "cell_type": "code",
   "execution_count": 10,
   "metadata": {},
   "outputs": [
    {
     "name": "stdout",
     "output_type": "stream",
     "text": [
      "<class 'pandas.core.frame.DataFrame'>\n",
      "RangeIndex: 186632 entries, 0 to 186631\n",
      "Data columns (total 14 columns):\n",
      " #   Column    Non-Null Count   Dtype  \n",
      "---  ------    --------------   -----  \n",
      " 0   ant       186632 non-null  int64  \n",
      " 1   chan      186632 non-null  int64  \n",
      " 2   datr      186632 non-null  object \n",
      " 3   dev_addr  186632 non-null  object \n",
      " 4   freq      186632 non-null  float64\n",
      " 5   gateway   186632 non-null  object \n",
      " 6   lsnr      186632 non-null  float64\n",
      " 7   rssic     186632 non-null  int64  \n",
      " 8   rssis     176025 non-null  float64\n",
      " 9   rssisd    176025 non-null  float64\n",
      " 10  size      186632 non-null  int64  \n",
      " 11  time      186622 non-null  object \n",
      " 12  FCnt      181526 non-null  float64\n",
      " 13  valueRaw  186632 non-null  int64  \n",
      "dtypes: float64(5), int64(5), object(4)\n",
      "memory usage: 19.9+ MB\n"
     ]
    }
   ],
   "source": [
    "data.info()"
   ]
  },
  {
   "cell_type": "code",
   "execution_count": 11,
   "metadata": {},
   "outputs": [],
   "source": [
    "data['time'] = pd.to_datetime(data['time'])\n",
    "data['time'] = data['time'].dt.tz_convert(None)"
   ]
  },
  {
   "cell_type": "code",
   "execution_count": 15,
   "metadata": {},
   "outputs": [],
   "source": [
    "data.time = data.time.values.astype(np.int64) // 10 ** 9   #convert time to unix timestamp"
   ]
  },
  {
   "cell_type": "code",
   "execution_count": 20,
   "metadata": {},
   "outputs": [],
   "source": [
    "data = data.dropna()"
   ]
  },
  {
   "cell_type": "code",
   "execution_count": 34,
   "metadata": {},
   "outputs": [
    {
     "data": {
      "text/plain": [
       "171208"
      ]
     },
     "execution_count": 34,
     "metadata": {},
     "output_type": "execute_result"
    }
   ],
   "source": [
    "len(data)"
   ]
  },
  {
   "cell_type": "code",
   "execution_count": 35,
   "metadata": {},
   "outputs": [],
   "source": [
    "categorical = ['datr','dev_addr','gateway','chan','ant','freq']"
   ]
  },
  {
   "cell_type": "code",
   "execution_count": 36,
   "metadata": {},
   "outputs": [],
   "source": [
    "datadum = pd.get_dummies(data, columns = categorical)"
   ]
  },
  {
   "cell_type": "code",
   "execution_count": 37,
   "metadata": {},
   "outputs": [],
   "source": [
    "X = datadum.iloc[:,:].values"
   ]
  },
  {
   "cell_type": "code",
   "execution_count": 38,
   "metadata": {},
   "outputs": [
    {
     "data": {
      "text/plain": [
       "(171208, 317)"
      ]
     },
     "execution_count": 38,
     "metadata": {},
     "output_type": "execute_result"
    }
   ],
   "source": [
    "X.shape"
   ]
  },
  {
   "cell_type": "code",
   "execution_count": 55,
   "metadata": {},
   "outputs": [
    {
     "name": "stdout",
     "output_type": "stream",
     "text": [
      "clustering with k = 2 done!\n",
      "clustering with k = 3 done!\n",
      "clustering with k = 4 done!\n",
      "clustering with k = 5 done!\n",
      "clustering with k = 6 done!\n",
      "clustering with k = 7 done!\n",
      "clustering with k = 8 done!\n",
      "clustering with k = 9 done!\n",
      "clustering with k = 10 done!\n"
     ]
    }
   ],
   "source": [
    "wcss=[]\n",
    "dbs=[]\n",
    "for i in range(2,11): \n",
    "    kmeans = KMeans(n_clusters=i, init ='k-means++', max_iter=300,\\\n",
    "                    n_init=10,random_state=0,n_jobs=6 ).fit(X)\n",
    "#inertia_ : Sum of squared distances of samples to their closest cluster center.\n",
    "    wcss.append(kmeans.inertia_)\n",
    "    labels = kmeans.labels_\n",
    "    dbs.append(davies_bouldin_score(X, labels))\n",
    "    print('clustering with k = {} done!'.format(i))"
   ]
  },
  {
   "cell_type": "code",
   "execution_count": 59,
   "metadata": {},
   "outputs": [
    {
     "data": {
      "image/png": "[encoded data removed]",
      "text/plain": [
       "<Figure size 432x288 with 1 Axes>"
      ]
     },
     "metadata": {
      "needs_background": "light"
     },
     "output_type": "display_data"
    }
   ],
   "source": [
    "plt.plot(range(2,11),wcss)\n",
    "plt.title('The Elbow Method Graph')\n",
    "plt.xlabel('Number of clusters')\n",
    "plt.ylabel('WCSS')\n",
    "plt.show()"
   ]
  },
  {
   "cell_type": "code",
   "execution_count": 61,
   "metadata": {},
   "outputs": [
    {
     "data": {
      "text/plain": [
       "<function matplotlib.pyplot.show(*args, **kw)>"
      ]
     },
     "execution_count": 61,
     "metadata": {},
     "output_type": "execute_result"
    },
    {
     "data": {
      "image/png": "[encoded data removed]",
      "text/plain": [
       "<Figure size 432x288 with 1 Axes>"
      ]
     },
     "metadata": {
      "needs_background": "light"
     },
     "output_type": "display_data"
    }
   ],
   "source": [
    "#Plot the Davies-Bouldin graph\n",
    "plt.plot(range(2,11),dbs)\n",
    "plt.title('The Davies-Bouldin Method Graph')\n",
    "plt.xlabel('Number of clusters (K)')\n",
    "plt.ylabel('Davies-Bouldin Index')\n",
    "plt.show"
   ]
  },
  {
   "cell_type": "code",
   "execution_count": 27,
   "metadata": {},
   "outputs": [],
   "source": [
    "from matplotlib import pyplot as plt"
   ]
  },
  {
   "cell_type": "code",
   "execution_count": 42,
   "metadata": {},
   "outputs": [
    {
     "data": {
      "text/plain": [
       "<matplotlib.collections.PathCollection at 0x26802cef688>"
      ]
     },
     "execution_count": 42,
     "metadata": {},
     "output_type": "execute_result"
    },
    {
     "data": {
      "image/png": "[encoded data removed]",
      "text/plain": [
       "<Figure size 432x288 with 1 Axes>"
      ]
     },
     "metadata": {
      "needs_background": "light"
     },
     "output_type": "display_data"
    }
   ],
   "source": [
    "plt.scatter(data[labels==0]['FCnt'],data[labels==0]['chan'], c='blue', label ='Cluster 2')\n",
    "plt.scatter(data[labels==1]['FCnt'],data[labels==1]['chan'], c='green', label ='Cluster 3')\n",
    "plt.scatter(data[labels==2]['FCnt'],data[labels==2]['chan'], c='cyan', label ='Cluster 4')\n",
    "plt.scatter(data[labels==3]['FCnt'],data[labels==3]['chan'],  c='magenta', label ='Cluster 5')\n",
    "plt.scatter(data[labels==4]['FCnt'],data[labels==4]['chan'], c='cyan', label ='Cluster 4')\n",
    "plt.scatter(data[labels==5]['FCnt'],data[labels==5]['chan'], c='magenta', label ='Cluster 5')\n",
    "plt.scatter(data[labels==6]['FCnt'],data[labels==6]['chan'], c='cyan', label ='Cluster 4')"
   ]
  },
  {
   "cell_type": "code",
   "execution_count": 44,
   "metadata": {},
   "outputs": [
    {
     "data": {
      "text/plain": [
       "(array([0.00823024, 0.01481089, 0.01596827, 0.02530712, 0.0470002 ,\n",
       "        0.04828174, 0.04396707, 0.01896149, 0.01480646, 0.01907678]),\n",
       " array([-24. , -20.1, -16.2, -12.3,  -8.4,  -4.5,  -0.6,   3.3,   7.2,\n",
       "         11.1,  15. ]),\n",
       " <a list of 10 Patch objects>)"
      ]
     },
     "execution_count": 44,
     "metadata": {},
     "output_type": "execute_result"
    },
    {
     "data": {
      "image/png": "[encoded data removed]",
      "text/plain": [
       "<Figure size 432x288 with 1 Axes>"
      ]
     },
     "metadata": {
      "needs_background": "light"
     },
     "output_type": "display_data"
    }
   ],
   "source": [
    "plt.hist(data[labels==0]['lsnr'],density=True, color='blue', label ='Cluster 0')\n",
    "plt.hist(data[labels==1]['lsnr'],density=True, color='green', label ='Cluster 1')\n",
    "plt.hist(data[labels==2]['lsnr'],density=True, color='cyan', label ='Cluster 2')\n"
   ]
  },
  {
   "cell_type": "code",
   "execution_count": 69,
   "metadata": {},
   "outputs": [],
   "source": [
    "import seaborn as sns"
   ]
  },
  {
   "cell_type": "code",
   "execution_count": 76,
   "metadata": {},
   "outputs": [
    {
     "data": {
      "image/png": "[encoded data removed]",
      "text/plain": [
       "<Figure size 432x288 with 1 Axes>"
      ]
     },
     "metadata": {
      "needs_background": "light"
     },
     "output_type": "display_data"
    }
   ],
   "source": [
    "for i in np.unique(labels):\n",
    "    sns.distplot(data[labels == i]['lsnr'])"
   ]
  },
  {
   "cell_type": "code",
   "execution_count": 77,
   "metadata": {},
   "outputs": [],
   "source": [
    "from sklearn.cluster import DBSCAN"
   ]
  },
  {
   "cell_type": "code",
   "execution_count": 94,
   "metadata": {},
   "outputs": [],
   "source": [
    "dbmodel = DBSCAN(eps=5,min_samples = 10, n_jobs=6)"
   ]
  },
  {
   "cell_type": "code",
   "execution_count": 95,
   "metadata": {},
   "outputs": [],
   "source": [
    "newmod = dbmodel.fit_predict(datadum)"
   ]
  },
  {
   "cell_type": "code",
   "execution_count": 98,
   "metadata": {},
   "outputs": [],
   "source": [
    "from sklearn.preprocessing import normalize"
   ]
  },
  {
   "cell_type": "code",
   "execution_count": 97,
   "metadata": {},
   "outputs": [
    {
     "data": {
      "text/plain": [
       "array([-1], dtype=int64)"
      ]
     },
     "execution_count": 97,
     "metadata": {},
     "output_type": "execute_result"
    }
   ],
   "source": [
    "datadum"
   ]
  }
 ],
 "metadata": {
  "kernelspec": {
   "display_name": "Python 3",
   "language": "python",
   "name": "python3"
  },
  "language_info": {
   "codemirror_mode": {
    "name": "ipython",
    "version": 3
   },
   "file_extension": ".py",
   "mimetype": "text/x-python",
   "name": "python",
   "nbconvert_exporter": "python",
   "pygments_lexer": "ipython3",
   "version": "3.7.6"
  }
 },
 "nbformat": 4,
 "nbformat_minor": 2
}
